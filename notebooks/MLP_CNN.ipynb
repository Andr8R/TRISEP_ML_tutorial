{
 "cells": [
  {
   "cell_type": "markdown",
   "metadata": {},
   "source": [
    "# TRISEP ML tutorial part II: Building your first fully connected network and a CNN "
   ]
  },
  {
   "cell_type": "markdown",
   "metadata": {},
   "source": [
    "## Building a simple fully connected network (a Multi-Layer Perceptron)"
   ]
  },
  {
   "cell_type": "markdown",
   "metadata": {},
   "source": [
    "Let's set up the paths and make a dataset again:"
   ]
  },
  {
   "cell_type": "code",
   "execution_count": 1,
   "metadata": {},
   "outputs": [],
   "source": [
    "import os,sys\n",
    "currentdir = os.getcwd()\n",
    "parentdir = os.path.dirname(currentdir)\n",
    "sys.path.insert(0,parentdir) "
   ]
  },
  {
   "cell_type": "code",
   "execution_count": 2,
   "metadata": {},
   "outputs": [],
   "source": [
    "from utils.data_handling import WCH5Dataset"
   ]
  },
  {
   "cell_type": "code",
   "execution_count": 3,
   "metadata": {},
   "outputs": [],
   "source": [
    "dset=WCH5Dataset(\"/fast_scratch/TRISEP_data/NUPRISM.h5\",val_split=0.1,test_split=0.1)"
   ]
  },
  {
   "cell_type": "markdown",
   "metadata": {},
   "source": [
    "Now Let's make our model. We'll talk about \n",
    "  - model parameters\n",
    "  - inputs and the forward method\n",
    "  - Modules containing modules\n",
    "  - Sequential Module  \n",
    "  Lets open [simpleMLP](/edit/models/simpleMLP.py)"
   ]
  },
  {
   "cell_type": "code",
   "execution_count": 4,
   "metadata": {},
   "outputs": [],
   "source": [
    "from models.simpleMLP import SimpleMLP"
   ]
  },
  {
   "cell_type": "code",
   "execution_count": 5,
   "metadata": {},
   "outputs": [],
   "source": [
    "model_MLP=SimpleMLP(num_classes=3)"
   ]
  },
  {
   "cell_type": "markdown",
   "metadata": {},
   "source": [
    "Let's look at the parameters:"
   ]
  },
  {
   "cell_type": "code",
   "execution_count": 6,
   "metadata": {},
   "outputs": [
    {
     "name": "stdout",
     "output_type": "stream",
     "text": [
      "name of a parameter: fc1.weight, type: <class 'torch.nn.parameter.Parameter'>, parameter requires a gradient?: True\n",
      "name of a parameter: fc1.bias, type: <class 'torch.nn.parameter.Parameter'>, parameter requires a gradient?: True\n",
      "name of a parameter: fc2.weight, type: <class 'torch.nn.parameter.Parameter'>, parameter requires a gradient?: True\n",
      "name of a parameter: fc2.bias, type: <class 'torch.nn.parameter.Parameter'>, parameter requires a gradient?: True\n",
      "name of a parameter: fc3.weight, type: <class 'torch.nn.parameter.Parameter'>, parameter requires a gradient?: True\n",
      "name of a parameter: fc3.bias, type: <class 'torch.nn.parameter.Parameter'>, parameter requires a gradient?: True\n",
      "name of a parameter: fc4.weight, type: <class 'torch.nn.parameter.Parameter'>, parameter requires a gradient?: True\n",
      "name of a parameter: fc4.bias, type: <class 'torch.nn.parameter.Parameter'>, parameter requires a gradient?: True\n",
      "name of a parameter: fc5.weight, type: <class 'torch.nn.parameter.Parameter'>, parameter requires a gradient?: True\n",
      "name of a parameter: fc5.bias, type: <class 'torch.nn.parameter.Parameter'>, parameter requires a gradient?: True\n"
     ]
    }
   ],
   "source": [
    "for name, param in model_MLP.named_parameters():\n",
    "    print(\"name of a parameter: {}, type: {}, parameter requires a gradient?: {}\".\n",
    "          format(name, type(param),param.requires_grad))"
   ]
  },
  {
   "cell_type": "markdown",
   "metadata": {},
   "source": [
    "As we can see by default the parameters have `requires_grad` set - i.e. we will be able to obtain gradient of the loss function with respect to these parameters."
   ]
  },
  {
   "cell_type": "markdown",
   "metadata": {},
   "source": [
    "Let's quickly look at the [source](https://pytorch.org/docs/stable/_modules/torch/nn/modules/linear.html#Linear) for the linear module"
   ]
  },
  {
   "cell_type": "markdown",
   "metadata": {},
   "source": [
    "The parameters descend from the `Tensor` class. When `Parameter` object is instantiated as a member of a `Module` object class the parameter is added to `Module`s list of parameters automatically. This list and values are captured in the 'state dictionary' of a module:"
   ]
  },
  {
   "cell_type": "code",
   "execution_count": 7,
   "metadata": {
    "scrolled": true
   },
   "outputs": [
    {
     "data": {
      "text/plain": [
       "OrderedDict([('fc1.weight',\n",
       "              tensor([[-0.0045, -0.0028, -0.0042,  ..., -0.0001,  0.0029,  0.0023],\n",
       "                      [-0.0060, -0.0043,  0.0039,  ..., -0.0053,  0.0027, -0.0046],\n",
       "                      [-0.0043,  0.0021, -0.0019,  ..., -0.0028, -0.0027,  0.0033],\n",
       "                      ...,\n",
       "                      [-0.0048, -0.0062,  0.0055,  ...,  0.0046,  0.0015,  0.0060],\n",
       "                      [-0.0040,  0.0017,  0.0054,  ..., -0.0012, -0.0063,  0.0059],\n",
       "                      [-0.0019,  0.0034,  0.0025,  ...,  0.0037, -0.0017, -0.0051]])),\n",
       "             ('fc1.bias',\n",
       "              tensor([-0.0029, -0.0010,  0.0053,  ...,  0.0033, -0.0028,  0.0009])),\n",
       "             ('fc2.weight',\n",
       "              tensor([[ 0.0029, -0.0056,  0.0061,  ...,  0.0054,  0.0079, -0.0072],\n",
       "                      [-0.0007,  0.0011, -0.0098,  ...,  0.0005,  0.0043, -0.0068],\n",
       "                      [ 0.0085, -0.0048,  0.0077,  ...,  0.0064,  0.0007,  0.0038],\n",
       "                      ...,\n",
       "                      [-0.0033, -0.0080, -0.0048,  ..., -0.0100,  0.0049, -0.0084],\n",
       "                      [ 0.0018,  0.0061, -0.0091,  ..., -0.0093, -0.0013, -0.0036],\n",
       "                      [-0.0096, -0.0025,  0.0075,  ...,  0.0021, -0.0101,  0.0092]])),\n",
       "             ('fc2.bias',\n",
       "              tensor([ 0.0015,  0.0053,  0.0081,  ..., -0.0012,  0.0079, -0.0036])),\n",
       "             ('fc3.weight',\n",
       "              tensor([[ 0.0107,  0.0102,  0.0083,  ...,  0.0097, -0.0005,  0.0049],\n",
       "                      [ 0.0133, -0.0010, -0.0080,  ..., -0.0009,  0.0004, -0.0108],\n",
       "                      [-0.0052,  0.0037,  0.0062,  ..., -0.0097,  0.0119,  0.0005],\n",
       "                      ...,\n",
       "                      [ 0.0013,  0.0123,  0.0005,  ...,  0.0048, -0.0013,  0.0004],\n",
       "                      [-0.0009,  0.0017, -0.0113,  ..., -0.0082,  0.0127, -0.0081],\n",
       "                      [ 0.0042, -0.0018, -0.0118,  ...,  0.0118,  0.0141,  0.0017]])),\n",
       "             ('fc3.bias',\n",
       "              tensor([-0.0018,  0.0061,  0.0098,  ...,  0.0094,  0.0099, -0.0128])),\n",
       "             ('fc4.weight',\n",
       "              tensor([[-4.6620e-04,  2.4750e-02, -9.1736e-03,  ...,  1.1887e-02,\n",
       "                        7.8581e-03,  1.0959e-02],\n",
       "                      [ 1.1566e-02,  2.5284e-03,  1.0524e-03,  ...,  4.2907e-03,\n",
       "                        1.2098e-02, -3.7770e-03],\n",
       "                      [ 1.6569e-02,  1.2934e-05, -1.9584e-02,  ...,  7.1625e-03,\n",
       "                        9.8388e-03, -9.0507e-03],\n",
       "                      ...,\n",
       "                      [ 1.3335e-03, -1.3595e-02, -1.1002e-02,  ...,  5.0547e-03,\n",
       "                        1.9480e-02, -9.7490e-03],\n",
       "                      [ 2.4427e-03, -6.3474e-03,  7.5997e-04,  ..., -1.2608e-02,\n",
       "                       -1.9649e-02,  3.1982e-03],\n",
       "                      [-5.1378e-03, -2.0114e-02, -1.5537e-02,  ...,  2.1491e-02,\n",
       "                        1.8817e-02, -1.1302e-03]])),\n",
       "             ('fc4.bias',\n",
       "              tensor([ 1.3933e-02,  3.8389e-03,  2.2585e-02,  1.0839e-02,  1.3843e-02,\n",
       "                       2.3976e-02, -1.0621e-03, -1.4623e-02, -3.2718e-03,  2.3610e-02,\n",
       "                      -4.9106e-03,  9.5634e-03, -2.4636e-02,  1.6854e-02,  1.7767e-02,\n",
       "                      -1.5733e-02, -1.3141e-03,  2.1333e-02,  5.3714e-03,  7.4860e-03,\n",
       "                      -1.0639e-02,  1.6738e-02,  6.6025e-03,  2.0783e-02,  2.4323e-02,\n",
       "                      -2.3281e-02,  2.0626e-02, -2.3155e-02,  7.1968e-03,  1.6742e-02,\n",
       "                      -4.2665e-03, -1.2458e-02, -2.1670e-02,  1.6754e-03,  2.4759e-02,\n",
       "                      -1.2984e-02, -2.1967e-02,  1.5833e-02,  1.7168e-02,  8.8683e-03,\n",
       "                      -7.3129e-03,  1.9368e-02,  1.8738e-02, -2.4878e-02, -3.8331e-03,\n",
       "                      -1.5981e-02, -1.0645e-02, -5.3315e-03, -3.7467e-03,  1.5349e-02,\n",
       "                       2.3129e-02, -1.8312e-03,  7.5474e-04, -7.6130e-03, -4.9457e-04,\n",
       "                      -1.6352e-02,  1.2360e-02, -1.2551e-02,  6.1744e-03, -1.1466e-03,\n",
       "                       8.3014e-03,  1.3844e-02, -2.0389e-02,  8.2886e-03, -9.7874e-03,\n",
       "                      -1.8090e-02, -2.1658e-02, -2.3383e-02,  1.5555e-02,  1.8668e-02,\n",
       "                      -1.0877e-02, -2.0778e-03,  5.2239e-04, -2.1503e-02,  1.0189e-02,\n",
       "                      -9.1738e-04,  2.3989e-02, -8.8558e-03, -5.0857e-03,  3.3953e-03,\n",
       "                       7.9917e-03, -2.0843e-02, -6.4130e-04, -4.1344e-03, -7.0382e-03,\n",
       "                      -1.9167e-06, -2.4044e-03,  5.1842e-03, -2.0091e-02,  1.3925e-02,\n",
       "                       1.5636e-02,  5.8969e-03,  8.3750e-04,  1.6489e-02, -6.9366e-03,\n",
       "                      -2.2106e-02,  7.5454e-03,  2.3380e-02,  3.4877e-03, -2.2480e-02,\n",
       "                      -4.9299e-03,  6.5068e-03,  1.1596e-02, -1.0678e-02,  4.0864e-03,\n",
       "                      -6.9785e-03,  2.2322e-02,  1.4236e-03,  6.7747e-03, -2.0689e-02,\n",
       "                       2.3347e-02, -7.3310e-03, -2.2339e-02, -1.2926e-02,  2.0152e-02,\n",
       "                       1.8634e-02,  1.8068e-02, -2.2102e-02,  1.7939e-03,  4.1978e-03,\n",
       "                      -9.1062e-04, -2.2606e-02, -3.9367e-03,  7.9654e-03,  1.9204e-02,\n",
       "                      -1.4774e-02, -1.3975e-02,  6.7651e-03, -1.5685e-02, -1.5783e-02,\n",
       "                       1.7253e-02, -2.4713e-02, -3.1358e-05,  1.2647e-02,  1.2522e-02,\n",
       "                      -2.2565e-02, -1.5215e-03, -1.6136e-03,  3.5318e-03, -2.3045e-02,\n",
       "                       7.4235e-03,  1.9849e-02, -4.4315e-03, -3.0724e-03, -8.5522e-03,\n",
       "                      -1.7799e-02, -1.2302e-02, -1.1890e-02, -9.2852e-03, -4.9421e-03,\n",
       "                      -1.9408e-02,  2.1600e-02, -5.9557e-03,  2.4907e-02, -1.1256e-02,\n",
       "                      -8.6782e-03,  1.4901e-02,  2.2340e-02, -1.4694e-02, -8.2053e-03,\n",
       "                      -1.0202e-02,  3.0351e-04,  6.2557e-03, -2.3551e-03,  2.3392e-02,\n",
       "                       7.8154e-04, -1.4007e-02, -1.1658e-02, -5.4634e-03, -1.8576e-02,\n",
       "                       1.3631e-02, -2.0742e-02,  3.4059e-03, -3.2982e-03, -2.2493e-03,\n",
       "                       1.4177e-02, -2.4079e-02,  1.0219e-02,  2.4962e-02,  2.1309e-02,\n",
       "                      -1.5822e-02,  1.0895e-03,  1.8157e-02,  4.2794e-03,  2.2456e-02,\n",
       "                       1.3296e-02,  1.7055e-02,  1.9569e-02,  1.3289e-02, -1.2557e-02,\n",
       "                       2.7585e-03,  1.4421e-02, -1.9490e-02,  1.9331e-02,  2.0780e-02,\n",
       "                       1.4295e-02,  7.3634e-04,  2.2652e-02, -1.5723e-03,  6.8180e-03,\n",
       "                       1.0793e-02,  1.8099e-02,  2.3692e-03,  2.3631e-02,  2.4111e-02,\n",
       "                      -3.7641e-03,  2.0812e-02, -1.3376e-02,  1.6721e-02, -7.4442e-03,\n",
       "                       1.0269e-02,  1.0463e-03, -6.4566e-03,  6.6916e-03, -2.1513e-02,\n",
       "                      -1.3507e-02, -3.4379e-03, -1.7843e-02,  1.3661e-02, -1.1323e-02,\n",
       "                      -2.2309e-02, -9.2007e-04, -6.4365e-03, -1.8711e-02, -6.9578e-03,\n",
       "                       1.6409e-02,  1.6972e-02, -5.5097e-03, -2.0578e-02,  7.7934e-03,\n",
       "                      -1.2824e-02, -1.5280e-02, -8.3073e-03, -7.3002e-03, -1.7463e-02,\n",
       "                       1.8133e-02,  2.1814e-02, -1.9773e-02,  2.2712e-02, -9.8540e-03,\n",
       "                      -1.9662e-02, -2.4711e-02,  1.0508e-02,  2.2306e-02, -1.1697e-03,\n",
       "                       5.7849e-03, -1.1972e-02,  1.8061e-02,  1.1300e-02, -2.3303e-02,\n",
       "                       1.4726e-02,  9.8748e-03,  1.3483e-02, -2.0222e-02,  2.5600e-04,\n",
       "                      -2.3399e-02,  1.0422e-02, -2.8330e-03, -1.1936e-02, -3.2528e-03,\n",
       "                       5.9143e-03, -1.7321e-02,  1.2457e-02, -1.8457e-02,  2.0295e-02,\n",
       "                       2.3869e-02,  1.9231e-04, -2.4211e-02, -3.0133e-03, -1.8164e-02,\n",
       "                       2.4234e-02, -1.5970e-02,  2.1692e-02,  1.9449e-02, -8.6051e-03,\n",
       "                       1.8948e-02, -6.1955e-03,  1.8779e-02, -5.0143e-03,  2.3502e-02,\n",
       "                       7.0632e-03,  1.2183e-02,  2.2728e-02, -2.3529e-02,  1.4398e-02,\n",
       "                       1.6735e-02,  1.5117e-02, -2.1914e-02, -2.4595e-02,  2.9822e-03,\n",
       "                       9.8203e-03,  1.0405e-02, -1.3944e-02,  2.1552e-02, -6.3195e-03,\n",
       "                       7.0690e-03, -1.9172e-02, -1.4619e-02, -7.2455e-04, -5.9722e-03,\n",
       "                      -2.4173e-02,  2.3638e-02,  1.5155e-02, -1.4324e-02,  7.5233e-03,\n",
       "                       4.7641e-03, -6.8081e-03, -2.8322e-03,  4.5692e-03, -1.5074e-02,\n",
       "                       9.9602e-03,  3.7473e-03,  1.3816e-02, -2.0596e-03, -1.6443e-02,\n",
       "                      -1.6069e-02,  8.8565e-03, -2.1793e-02, -2.3669e-02,  2.3456e-02,\n",
       "                       5.0943e-03,  9.2477e-03,  1.7719e-02,  5.5140e-03, -2.2106e-02,\n",
       "                       2.1140e-02, -1.7973e-02,  7.2026e-03,  1.0187e-02,  6.2410e-03,\n",
       "                      -1.9475e-02,  2.3037e-02,  1.1796e-02,  3.1491e-03,  2.3474e-02,\n",
       "                       1.3837e-02, -2.4161e-02,  1.9896e-02,  1.7982e-02,  2.3278e-03,\n",
       "                      -5.5113e-03, -1.9921e-02, -3.6807e-03,  6.5852e-03,  2.2565e-02,\n",
       "                       3.9107e-03, -1.3494e-02,  1.0333e-02, -5.2735e-03, -1.4987e-02,\n",
       "                       1.6055e-02, -2.2301e-02,  1.0625e-02,  7.2883e-03,  1.3692e-02,\n",
       "                       2.2430e-02,  1.3567e-02,  1.5942e-02,  1.9158e-02, -7.3025e-03,\n",
       "                       5.9687e-03, -1.3327e-02,  1.1298e-02, -2.1013e-02, -1.1528e-03,\n",
       "                      -4.5120e-03, -6.1397e-03, -1.5275e-02,  5.9438e-03,  1.4476e-02,\n",
       "                      -1.9168e-02, -1.6587e-02, -8.8865e-05, -8.5096e-03, -1.7232e-02,\n",
       "                      -4.4450e-03,  1.5735e-02,  6.5835e-03,  9.1497e-03,  1.7612e-02,\n",
       "                       1.8026e-04, -7.3965e-03,  1.8867e-02,  2.1654e-02, -3.0138e-03,\n",
       "                       2.1626e-02,  1.8109e-02, -1.1873e-02, -8.1449e-03,  6.9547e-03,\n",
       "                      -2.1097e-02, -2.4466e-02, -7.2268e-03, -1.1618e-02, -1.4035e-02,\n",
       "                      -5.7183e-03,  1.3974e-02,  7.9027e-03, -6.0008e-03, -1.0628e-02])),\n",
       "             ('fc5.weight',\n",
       "              tensor([[-0.0406, -0.0261,  0.0444,  ...,  0.0016,  0.0278, -0.0227],\n",
       "                      [ 0.0401,  0.0290,  0.0412,  ...,  0.0208,  0.0333,  0.0222],\n",
       "                      [-0.0237,  0.0495,  0.0107,  ..., -0.0407, -0.0312,  0.0334]])),\n",
       "             ('fc5.bias', tensor([0.0334, 0.0222, 0.0007]))])"
      ]
     },
     "execution_count": 7,
     "metadata": {},
     "output_type": "execute_result"
    }
   ],
   "source": [
    "model_MLP.state_dict()"
   ]
  },
  {
   "cell_type": "markdown",
   "metadata": {},
   "source": [
    "Now let's look at sequential version"
   ]
  },
  {
   "cell_type": "code",
   "execution_count": 8,
   "metadata": {},
   "outputs": [],
   "source": [
    "from models.simpleMLP import SimpleMLPSEQ\n",
    "model_MLPSEQ=SimpleMLPSEQ(num_classes=3)"
   ]
  },
  {
   "cell_type": "code",
   "execution_count": 9,
   "metadata": {},
   "outputs": [
    {
     "name": "stdout",
     "output_type": "stream",
     "text": [
      "name of a parameter: _sequence.0.weight, type: <class 'torch.nn.parameter.Parameter'>, parameter requires a gradient?: True\n",
      "name of a parameter: _sequence.0.bias, type: <class 'torch.nn.parameter.Parameter'>, parameter requires a gradient?: True\n",
      "name of a parameter: _sequence.2.weight, type: <class 'torch.nn.parameter.Parameter'>, parameter requires a gradient?: True\n",
      "name of a parameter: _sequence.2.bias, type: <class 'torch.nn.parameter.Parameter'>, parameter requires a gradient?: True\n",
      "name of a parameter: _sequence.4.weight, type: <class 'torch.nn.parameter.Parameter'>, parameter requires a gradient?: True\n",
      "name of a parameter: _sequence.4.bias, type: <class 'torch.nn.parameter.Parameter'>, parameter requires a gradient?: True\n",
      "name of a parameter: _sequence.6.weight, type: <class 'torch.nn.parameter.Parameter'>, parameter requires a gradient?: True\n",
      "name of a parameter: _sequence.6.bias, type: <class 'torch.nn.parameter.Parameter'>, parameter requires a gradient?: True\n",
      "name of a parameter: _sequence.8.weight, type: <class 'torch.nn.parameter.Parameter'>, parameter requires a gradient?: True\n",
      "name of a parameter: _sequence.8.bias, type: <class 'torch.nn.parameter.Parameter'>, parameter requires a gradient?: True\n"
     ]
    }
   ],
   "source": [
    "for name, param in model_MLPSEQ.named_parameters():\n",
    "    print(\"name of a parameter: {}, type: {}, parameter requires a gradient?: {}\".\n",
    "          format(name, type(param),param.requires_grad))"
   ]
  },
  {
   "cell_type": "code",
   "execution_count": 10,
   "metadata": {
    "scrolled": true
   },
   "outputs": [
    {
     "name": "stdout",
     "output_type": "stream",
     "text": [
      "OrderedDict([('_sequence.0.weight', tensor([[ 0.0023, -0.0034, -0.0022,  ...,  0.0017, -0.0019, -0.0054],\n",
      "        [-0.0053,  0.0005, -0.0049,  ...,  0.0051,  0.0059,  0.0026],\n",
      "        [ 0.0051, -0.0057,  0.0041,  ...,  0.0014, -0.0035,  0.0024],\n",
      "        ...,\n",
      "        [ 0.0052,  0.0059,  0.0046,  ..., -0.0018,  0.0052, -0.0015],\n",
      "        [-0.0034, -0.0053,  0.0006,  ...,  0.0046, -0.0061, -0.0009],\n",
      "        [ 0.0050,  0.0053,  0.0013,  ...,  0.0010,  0.0037,  0.0002]])), ('_sequence.0.bias', tensor([ 0.0043,  0.0025,  0.0041,  ...,  0.0060,  0.0028, -0.0049])), ('_sequence.2.weight', tensor([[ 5.8564e-03,  8.0929e-03,  6.1688e-03,  ..., -9.0157e-03,\n",
      "          4.3661e-03,  1.2096e-03],\n",
      "        [-4.6539e-03, -4.8307e-03, -1.0075e-03,  ...,  5.6614e-03,\n",
      "         -7.6278e-03,  6.7274e-03],\n",
      "        [ 2.1658e-05, -2.2790e-03,  3.9024e-03,  ..., -5.7596e-03,\n",
      "          6.8003e-03, -6.8300e-03],\n",
      "        ...,\n",
      "        [-1.0003e-02, -1.4065e-03,  7.2065e-04,  ...,  1.3054e-03,\n",
      "          5.1605e-03,  3.3102e-05],\n",
      "        [ 5.3244e-03,  9.1243e-03,  2.9946e-03,  ..., -6.4714e-03,\n",
      "         -3.4656e-04, -8.0428e-03],\n",
      "        [ 5.3895e-03,  6.8833e-03,  6.2686e-03,  ..., -7.0808e-03,\n",
      "         -3.9705e-03, -4.3994e-03]])), ('_sequence.2.bias', tensor([ 0.0054, -0.0079, -0.0021,  ..., -0.0063, -0.0036,  0.0066])), ('_sequence.4.weight', tensor([[ 0.0064,  0.0044,  0.0037,  ..., -0.0050, -0.0090,  0.0027],\n",
      "        [ 0.0120,  0.0124, -0.0084,  ...,  0.0126,  0.0118, -0.0027],\n",
      "        [ 0.0103,  0.0114, -0.0041,  ..., -0.0009,  0.0034,  0.0089],\n",
      "        ...,\n",
      "        [-0.0064, -0.0112,  0.0119,  ..., -0.0019,  0.0134, -0.0086],\n",
      "        [-0.0118,  0.0056, -0.0041,  ..., -0.0076, -0.0124,  0.0137],\n",
      "        [ 0.0069,  0.0038,  0.0060,  ..., -0.0033,  0.0001,  0.0019]])), ('_sequence.4.bias', tensor([-0.0069,  0.0100,  0.0080,  ...,  0.0118, -0.0056,  0.0123])), ('_sequence.6.weight', tensor([[-0.0049, -0.0028, -0.0076,  ...,  0.0059,  0.0216,  0.0181],\n",
      "        [ 0.0056,  0.0058,  0.0037,  ..., -0.0219,  0.0089,  0.0121],\n",
      "        [-0.0077,  0.0079, -0.0027,  ...,  0.0027, -0.0110,  0.0046],\n",
      "        ...,\n",
      "        [ 0.0176,  0.0157, -0.0066,  ..., -0.0210,  0.0008, -0.0072],\n",
      "        [-0.0181, -0.0243,  0.0128,  ..., -0.0126, -0.0148, -0.0049],\n",
      "        [ 0.0223, -0.0044,  0.0085,  ...,  0.0119, -0.0009, -0.0041]])), ('_sequence.6.bias', tensor([ 1.2659e-02,  1.9978e-02, -5.6044e-04, -5.5455e-03,  2.3871e-02,\n",
      "        -2.0103e-02,  1.6369e-02,  1.7850e-02, -9.3855e-03, -7.3655e-03,\n",
      "        -8.0511e-03, -1.5545e-02,  2.4794e-02,  2.4258e-02, -1.3409e-02,\n",
      "        -1.7104e-03, -1.3448e-02, -5.4000e-03,  2.2020e-05,  1.6727e-02,\n",
      "        -1.4307e-02,  7.7685e-03, -1.6721e-02, -4.2268e-03, -4.9128e-03,\n",
      "        -1.1085e-02,  8.6408e-03, -7.6033e-03, -1.9617e-03, -2.3085e-02,\n",
      "         1.5963e-03, -2.4868e-02,  2.0353e-02,  1.4657e-02, -2.0058e-02,\n",
      "         1.5614e-03, -2.1357e-02,  4.0185e-04, -9.2464e-03, -1.1960e-02,\n",
      "        -1.9164e-02, -1.1190e-02, -1.9412e-02, -2.0938e-02, -1.6939e-02,\n",
      "         1.2775e-02, -5.6029e-03,  5.1936e-04,  6.0623e-03,  1.3972e-02,\n",
      "        -1.7125e-02, -1.8947e-02,  1.0383e-03, -2.0610e-02,  1.7652e-02,\n",
      "         3.8385e-04, -1.6932e-02,  5.3215e-03, -7.5526e-03,  9.8564e-03,\n",
      "        -1.5954e-02, -2.1878e-02, -2.2547e-02, -2.3016e-02,  4.3139e-04,\n",
      "        -2.1432e-02, -3.0085e-03, -2.2310e-02, -5.1563e-03, -3.1792e-03,\n",
      "        -1.7128e-02,  1.5824e-02, -1.7422e-02,  1.4797e-02,  4.9532e-03,\n",
      "         1.6854e-02,  1.6399e-02,  1.0363e-02,  1.0073e-03, -2.3030e-02,\n",
      "        -3.8071e-03,  1.5700e-02,  1.0491e-02,  1.9963e-02,  4.0549e-03,\n",
      "         1.9144e-02, -8.6130e-03,  2.4216e-02, -2.8564e-04, -4.6864e-04,\n",
      "         4.2829e-03,  3.5557e-03,  2.0570e-03,  4.2569e-03,  1.8787e-02,\n",
      "         3.6772e-03,  6.2489e-04,  5.6613e-03, -2.1705e-02,  9.9518e-03,\n",
      "        -1.5247e-02,  2.4512e-02,  1.7091e-02, -2.4786e-02, -8.6635e-03,\n",
      "        -1.2040e-02, -4.9959e-03, -6.8840e-03, -1.7218e-02,  1.8608e-02,\n",
      "         4.1623e-03, -2.2189e-02, -1.7554e-02, -1.6140e-04, -1.2576e-02,\n",
      "        -2.2251e-02,  1.8546e-02,  6.3025e-03, -1.8612e-02, -1.3617e-02,\n",
      "         1.1075e-02, -1.3252e-02, -5.7191e-03, -1.3822e-02,  1.9465e-02,\n",
      "         8.4105e-03,  1.9504e-02,  1.4965e-02,  1.8044e-02,  1.5047e-02,\n",
      "        -2.0570e-02,  1.0024e-02, -5.9179e-03,  3.5384e-04,  1.5412e-02,\n",
      "         4.5746e-03, -1.6674e-02,  1.8565e-02,  1.1575e-02, -1.4627e-02,\n",
      "        -1.1546e-02, -1.4144e-02, -1.7098e-02,  1.0102e-02,  4.1299e-03,\n",
      "         2.4490e-02, -7.7858e-03,  2.4995e-02, -2.1406e-02, -8.9940e-03,\n",
      "         1.7042e-02,  6.5817e-04, -2.0698e-02,  6.0866e-03, -2.0461e-02,\n",
      "        -1.8480e-02, -5.8413e-03,  6.5791e-03,  3.2080e-03, -3.6067e-03,\n",
      "        -1.1336e-02,  7.7883e-03,  1.5201e-02, -5.9696e-03, -2.4230e-02,\n",
      "        -8.4058e-03,  7.8166e-03,  2.1845e-02, -2.0478e-02,  2.1109e-02,\n",
      "        -1.1024e-02,  1.3782e-02, -2.1085e-02,  1.8528e-02,  5.9075e-03,\n",
      "         1.3223e-02,  1.3844e-02,  1.7671e-02,  1.9419e-02, -2.0420e-02,\n",
      "        -1.7079e-02, -9.7815e-03,  4.6689e-03,  9.5062e-03,  2.1604e-02,\n",
      "         6.5182e-03,  3.3555e-03,  1.7076e-02, -2.3905e-03,  1.6382e-02,\n",
      "         1.8179e-02,  1.2774e-02, -6.7792e-03, -8.4233e-04,  8.4804e-03,\n",
      "         4.2447e-03, -7.2179e-03,  7.3326e-03,  1.8705e-02, -9.2725e-03,\n",
      "         1.3046e-02, -8.6070e-03, -6.8313e-03,  2.0872e-02,  1.3152e-03,\n",
      "         1.7562e-02, -1.5482e-03, -2.2573e-02, -1.9876e-02,  1.3573e-02,\n",
      "        -4.1451e-03,  1.1431e-02,  1.7662e-02, -1.4677e-02,  1.0737e-02,\n",
      "        -1.9803e-02, -7.9157e-03, -1.0279e-04,  1.6213e-02,  1.2670e-02,\n",
      "         9.2633e-03, -1.4102e-02,  1.4361e-02,  1.1576e-02, -1.4671e-02,\n",
      "        -2.3065e-02, -1.1445e-02, -9.1493e-03, -6.5625e-03, -2.4938e-02,\n",
      "         1.6231e-02,  1.7400e-04,  2.4917e-02,  1.0776e-02,  2.4542e-02,\n",
      "        -2.0714e-02, -2.0006e-02,  4.4668e-03,  8.0947e-03,  2.0218e-02,\n",
      "         1.0237e-02,  3.4202e-03,  2.0729e-02,  1.3408e-02,  9.2814e-03,\n",
      "        -2.4630e-02, -3.3199e-03, -1.6479e-02,  1.6543e-03, -1.5530e-02,\n",
      "        -1.6540e-02, -1.4296e-03, -4.4850e-03,  7.1985e-03, -2.4579e-02,\n",
      "         3.4917e-03,  2.0797e-02, -1.3444e-03,  1.5033e-02,  1.5061e-03,\n",
      "        -2.1552e-02,  7.2291e-03,  5.1547e-03, -1.3636e-03, -1.0753e-02,\n",
      "        -1.1106e-02, -2.1664e-02, -1.0640e-02,  1.7427e-02,  1.3139e-03,\n",
      "         2.0161e-02,  1.1495e-02, -1.6750e-02,  1.9518e-02, -1.5279e-02,\n",
      "         2.4192e-02,  1.6175e-02, -3.4108e-03, -2.1869e-03, -8.3402e-03,\n",
      "        -1.8105e-02, -1.2286e-02,  2.5872e-03, -1.8565e-02,  2.6963e-03,\n",
      "         1.3395e-02, -2.5304e-03,  1.8921e-02,  1.3419e-02, -2.3678e-02,\n",
      "        -5.3606e-03,  4.4871e-03,  2.0269e-02,  1.7074e-02,  1.3264e-03,\n",
      "         1.9334e-02,  1.4493e-03, -5.8513e-03, -2.4606e-05,  1.4166e-02,\n",
      "         1.8648e-02, -3.9548e-03,  1.0442e-02, -1.2278e-02,  1.7270e-02,\n",
      "        -2.1328e-03, -1.8627e-02,  5.2128e-03,  2.5960e-03, -1.8723e-02,\n",
      "        -8.0029e-03, -1.2700e-02,  1.4480e-02, -5.9100e-03,  1.0609e-03,\n",
      "         1.2861e-02,  7.8200e-03,  1.7732e-02,  2.2983e-02, -1.7003e-02,\n",
      "         2.2301e-02,  1.5420e-02,  1.9072e-02, -6.2757e-03,  6.1907e-03,\n",
      "         2.0402e-02, -1.7956e-02,  1.4062e-03, -2.1161e-02, -3.1664e-03,\n",
      "         9.6603e-03, -1.5776e-02,  1.5847e-02,  6.9698e-03, -5.4285e-03,\n",
      "         1.3552e-02,  1.8691e-02, -8.9316e-03, -2.3528e-02, -2.0465e-03,\n",
      "         2.7978e-03, -2.1618e-03,  2.4525e-02, -1.6530e-02,  8.1319e-03,\n",
      "        -6.3217e-03, -1.5886e-02, -2.1890e-02, -2.4027e-02,  1.2607e-02,\n",
      "        -1.0280e-02, -6.1661e-03,  1.2729e-02,  7.1806e-03,  1.8181e-02,\n",
      "        -1.0409e-03,  1.1834e-02, -1.0607e-02,  6.3198e-03, -8.4878e-03,\n",
      "        -2.3218e-02,  1.6571e-02,  1.3993e-02,  3.2143e-03, -1.8633e-02,\n",
      "        -1.1729e-02, -1.8831e-02,  1.1735e-02,  2.0188e-02, -9.1202e-03,\n",
      "         2.3539e-02, -1.5033e-02, -1.6122e-04, -1.7767e-03, -4.9507e-03,\n",
      "         2.0243e-02, -7.0734e-03,  8.0548e-03, -7.8367e-03,  2.4874e-02,\n",
      "        -2.1439e-02,  2.2351e-02, -1.9403e-02, -6.4988e-03,  2.0313e-03,\n",
      "         1.0346e-02, -1.0505e-02, -2.0507e-02,  2.2106e-03,  1.0658e-02,\n",
      "        -2.4368e-02, -7.9902e-03,  1.8058e-02, -2.0404e-02, -2.0311e-02,\n",
      "        -6.1791e-03,  2.4189e-02,  7.1729e-03,  6.7883e-03, -1.5963e-02])), ('_sequence.8.weight', tensor([[-0.0058,  0.0056,  0.0264,  ...,  0.0286,  0.0217,  0.0467],\n",
      "        [ 0.0005, -0.0154,  0.0294,  ...,  0.0109,  0.0485,  0.0226],\n",
      "        [-0.0401,  0.0184,  0.0299,  ...,  0.0163,  0.0050,  0.0337]])), ('_sequence.8.bias', tensor([-0.0314,  0.0215,  0.0028]))])\n"
     ]
    }
   ],
   "source": [
    "print(model_MLPSEQ.state_dict())"
   ]
  },
  {
   "cell_type": "markdown",
   "metadata": {},
   "source": [
    "As we can see the parameters look similar but have different names"
   ]
  },
  {
   "cell_type": "markdown",
   "metadata": {},
   "source": [
    "## Training a model"
   ]
  },
  {
   "cell_type": "markdown",
   "metadata": {},
   "source": [
    "First let's make a dataset object"
   ]
  },
  {
   "cell_type": "code",
   "execution_count": 11,
   "metadata": {},
   "outputs": [
    {
     "name": "stdout",
     "output_type": "stream",
     "text": [
      "Reduced size: 50000\n"
     ]
    }
   ],
   "source": [
    "import numpy as np\n",
    "transform=np.ravel\n",
    "dset=WCH5Dataset(\"/fast_scratch/TRISEP_data/NUPRISM.h5\",reduced_dataset_size=50000,val_split=0.1,test_split=0.1,transform=transform)"
   ]
  },
  {
   "cell_type": "markdown",
   "metadata": {},
   "source": [
    "Let's make a dataloader and grab a first batch"
   ]
  },
  {
   "cell_type": "code",
   "execution_count": 12,
   "metadata": {},
   "outputs": [],
   "source": [
    "from torch.utils.data import DataLoader\n",
    "from torch.utils.data.sampler import SubsetRandomSampler\n",
    "\n",
    "train_dldr=DataLoader(dset,\n",
    "                      batch_size=32,\n",
    "                      shuffle=False,\n",
    "                      sampler=SubsetRandomSampler(dset.train_indices))\n",
    "train_iter=iter(train_dldr)"
   ]
  },
  {
   "cell_type": "code",
   "execution_count": 13,
   "metadata": {},
   "outputs": [],
   "source": [
    "batch0=next(train_iter)"
   ]
  },
  {
   "cell_type": "code",
   "execution_count": 14,
   "metadata": {},
   "outputs": [],
   "source": [
    "data=batch0[0]\n",
    "labels=batch0[1]"
   ]
  },
  {
   "cell_type": "markdown",
   "metadata": {},
   "source": [
    "Now compute the model output on the data"
   ]
  },
  {
   "cell_type": "code",
   "execution_count": 15,
   "metadata": {},
   "outputs": [],
   "source": [
    "model_out=model_MLP(data)"
   ]
  },
  {
   "cell_type": "markdown",
   "metadata": {},
   "source": [
    "Now we have model's predictions and we above got 'true' labels from the dataset, so we can now compute the loss - CrossEntropyLoss is the apropropriate one to use here. We will use `CrossEntropyLoss` from `torch.nn` - btw it is also a `Module`. First create it:"
   ]
  },
  {
   "cell_type": "code",
   "execution_count": 16,
   "metadata": {},
   "outputs": [],
   "source": [
    "from torch.nn import CrossEntropyLoss\n",
    "loss_module=CrossEntropyLoss()"
   ]
  },
  {
   "cell_type": "markdown",
   "metadata": {},
   "source": [
    "Now evaluate the loss. "
   ]
  },
  {
   "cell_type": "code",
   "execution_count": 17,
   "metadata": {},
   "outputs": [],
   "source": [
    "loss_tensor=loss_module(model_out,labels)"
   ]
  },
  {
   "cell_type": "markdown",
   "metadata": {},
   "source": [
    "This was a 'forward pass'. We should now have a computational graph available - let's plot it for the kicks..."
   ]
  },
  {
   "cell_type": "code",
   "execution_count": 18,
   "metadata": {},
   "outputs": [
    {
     "data": {
      "image/svg+xml": [
       "<?xml version=\"1.0\" encoding=\"UTF-8\" standalone=\"no\"?>\n",
       "<!DOCTYPE svg PUBLIC \"-//W3C//DTD SVG 1.1//EN\"\n",
       " \"http://www.w3.org/Graphics/SVG/1.1/DTD/svg11.dtd\">\n",
       "<!-- Generated by graphviz version 2.40.1 (20161225.0304)\n",
       " -->\n",
       "<!-- Title: %3 Pages: 1 -->\n",
       "<svg width=\"279pt\" height=\"843pt\"\n",
       " viewBox=\"0.00 0.00 278.50 843.00\" xmlns=\"http://www.w3.org/2000/svg\" xmlns:xlink=\"http://www.w3.org/1999/xlink\">\n",
       "<g id=\"graph0\" class=\"graph\" transform=\"scale(1 1) rotate(0) translate(4 839)\">\n",
       "<title>%3</title>\n",
       "<polygon fill=\"#ffffff\" stroke=\"transparent\" points=\"-4,4 -4,-839 274.5,-839 274.5,4 -4,4\"/>\n",
       "<!-- 139592896058928 -->\n",
       "<g id=\"node1\" class=\"node\">\n",
       "<title>139592896058928</title>\n",
       "<polygon fill=\"#caff70\" stroke=\"#000000\" points=\"175.5,-21 72.5,-21 72.5,0 175.5,0 175.5,-21\"/>\n",
       "<text text-anchor=\"middle\" x=\"124\" y=\"-7.4\" font-family=\"Times,serif\" font-size=\"12.00\" fill=\"#000000\">NllLossBackward</text>\n",
       "</g>\n",
       "<!-- 139592896059096 -->\n",
       "<g id=\"node2\" class=\"node\">\n",
       "<title>139592896059096</title>\n",
       "<polygon fill=\"#d3d3d3\" stroke=\"#000000\" points=\"186.5,-78 61.5,-78 61.5,-57 186.5,-57 186.5,-78\"/>\n",
       "<text text-anchor=\"middle\" x=\"124\" y=\"-64.4\" font-family=\"Times,serif\" font-size=\"12.00\" fill=\"#000000\">LogSoftmaxBackward</text>\n",
       "</g>\n",
       "<!-- 139592896059096&#45;&gt;139592896058928 -->\n",
       "<g id=\"edge1\" class=\"edge\">\n",
       "<title>139592896059096&#45;&gt;139592896058928</title>\n",
       "<path fill=\"none\" stroke=\"#000000\" d=\"M124,-56.7787C124,-49.6134 124,-39.9517 124,-31.3097\"/>\n",
       "<polygon fill=\"#000000\" stroke=\"#000000\" points=\"127.5001,-31.1732 124,-21.1732 120.5001,-31.1732 127.5001,-31.1732\"/>\n",
       "</g>\n",
       "<!-- 139592896059208 -->\n",
       "<g id=\"node3\" class=\"node\">\n",
       "<title>139592896059208</title>\n",
       "<polygon fill=\"#d3d3d3\" stroke=\"#000000\" points=\"176,-135 72,-135 72,-114 176,-114 176,-135\"/>\n",
       "<text text-anchor=\"middle\" x=\"124\" y=\"-121.4\" font-family=\"Times,serif\" font-size=\"12.00\" fill=\"#000000\">AddmmBackward</text>\n",
       "</g>\n",
       "<!-- 139592896059208&#45;&gt;139592896059096 -->\n",
       "<g id=\"edge2\" class=\"edge\">\n",
       "<title>139592896059208&#45;&gt;139592896059096</title>\n",
       "<path fill=\"none\" stroke=\"#000000\" d=\"M124,-113.7787C124,-106.6134 124,-96.9517 124,-88.3097\"/>\n",
       "<polygon fill=\"#000000\" stroke=\"#000000\" points=\"127.5001,-88.1732 124,-78.1732 120.5001,-88.1732 127.5001,-88.1732\"/>\n",
       "</g>\n",
       "<!-- 139592896059432 -->\n",
       "<g id=\"node4\" class=\"node\">\n",
       "<title>139592896059432</title>\n",
       "<polygon fill=\"#add8e6\" stroke=\"#000000\" points=\"59,-205 5,-205 5,-171 59,-171 59,-205\"/>\n",
       "<text text-anchor=\"middle\" x=\"32\" y=\"-191.4\" font-family=\"Times,serif\" font-size=\"12.00\" fill=\"#000000\">fc5.bias</text>\n",
       "<text text-anchor=\"middle\" x=\"32\" y=\"-178.4\" font-family=\"Times,serif\" font-size=\"12.00\" fill=\"#000000\"> (3)</text>\n",
       "</g>\n",
       "<!-- 139592896059432&#45;&gt;139592896059208 -->\n",
       "<g id=\"edge3\" class=\"edge\">\n",
       "<title>139592896059432&#45;&gt;139592896059208</title>\n",
       "<path fill=\"none\" stroke=\"#000000\" d=\"M56.6543,-170.9832C70.1894,-161.641 86.8926,-150.1122 100.278,-140.8734\"/>\n",
       "<polygon fill=\"#000000\" stroke=\"#000000\" points=\"102.2865,-143.7398 108.5283,-135.1788 98.3102,-137.9788 102.2865,-143.7398\"/>\n",
       "</g>\n",
       "<!-- 139592896059712 -->\n",
       "<g id=\"node5\" class=\"node\">\n",
       "<title>139592896059712</title>\n",
       "<polygon fill=\"#d3d3d3\" stroke=\"#000000\" points=\"171,-198.5 77,-198.5 77,-177.5 171,-177.5 171,-198.5\"/>\n",
       "<text text-anchor=\"middle\" x=\"124\" y=\"-184.9\" font-family=\"Times,serif\" font-size=\"12.00\" fill=\"#000000\">ReluBackward0</text>\n",
       "</g>\n",
       "<!-- 139592896059712&#45;&gt;139592896059208 -->\n",
       "<g id=\"edge4\" class=\"edge\">\n",
       "<title>139592896059712&#45;&gt;139592896059208</title>\n",
       "<path fill=\"none\" stroke=\"#000000\" d=\"M124,-177.2281C124,-168.5091 124,-155.9699 124,-145.3068\"/>\n",
       "<polygon fill=\"#000000\" stroke=\"#000000\" points=\"127.5001,-145.1128 124,-135.1128 120.5001,-145.1129 127.5001,-145.1128\"/>\n",
       "</g>\n",
       "<!-- 139592896156336 -->\n",
       "<g id=\"node6\" class=\"node\">\n",
       "<title>139592896156336</title>\n",
       "<polygon fill=\"#d3d3d3\" stroke=\"#000000\" points=\"175,-268.5 71,-268.5 71,-247.5 175,-247.5 175,-268.5\"/>\n",
       "<text text-anchor=\"middle\" x=\"123\" y=\"-254.9\" font-family=\"Times,serif\" font-size=\"12.00\" fill=\"#000000\">AddmmBackward</text>\n",
       "</g>\n",
       "<!-- 139592896156336&#45;&gt;139592896059712 -->\n",
       "<g id=\"edge5\" class=\"edge\">\n",
       "<title>139592896156336&#45;&gt;139592896059712</title>\n",
       "<path fill=\"none\" stroke=\"#000000\" d=\"M123.1519,-247.3685C123.2972,-237.1925 123.5206,-221.5606 123.7016,-208.8912\"/>\n",
       "<polygon fill=\"#000000\" stroke=\"#000000\" points=\"127.2034,-208.7806 123.8467,-198.7315 120.2041,-208.6805 127.2034,-208.7806\"/>\n",
       "</g>\n",
       "<!-- 139592896159080 -->\n",
       "<g id=\"node7\" class=\"node\">\n",
       "<title>139592896159080</title>\n",
       "<polygon fill=\"#add8e6\" stroke=\"#000000\" points=\"58,-345 4,-345 4,-311 58,-311 58,-345\"/>\n",
       "<text text-anchor=\"middle\" x=\"31\" y=\"-331.4\" font-family=\"Times,serif\" font-size=\"12.00\" fill=\"#000000\">fc4.bias</text>\n",
       "<text text-anchor=\"middle\" x=\"31\" y=\"-318.4\" font-family=\"Times,serif\" font-size=\"12.00\" fill=\"#000000\"> (400)</text>\n",
       "</g>\n",
       "<!-- 139592896159080&#45;&gt;139592896156336 -->\n",
       "<g id=\"edge6\" class=\"edge\">\n",
       "<title>139592896159080&#45;&gt;139592896156336</title>\n",
       "<path fill=\"none\" stroke=\"#000000\" d=\"M53.7416,-310.6966C68.1068,-299.7666 86.5787,-285.7119 100.8325,-274.8666\"/>\n",
       "<polygon fill=\"#000000\" stroke=\"#000000\" points=\"103.2491,-277.4258 109.0881,-268.5852 99.0104,-271.855 103.2491,-277.4258\"/>\n",
       "</g>\n",
       "<!-- 139592896157120 -->\n",
       "<g id=\"node8\" class=\"node\">\n",
       "<title>139592896157120</title>\n",
       "<polygon fill=\"#d3d3d3\" stroke=\"#000000\" points=\"170,-338.5 76,-338.5 76,-317.5 170,-317.5 170,-338.5\"/>\n",
       "<text text-anchor=\"middle\" x=\"123\" y=\"-324.9\" font-family=\"Times,serif\" font-size=\"12.00\" fill=\"#000000\">ReluBackward0</text>\n",
       "</g>\n",
       "<!-- 139592896157120&#45;&gt;139592896156336 -->\n",
       "<g id=\"edge7\" class=\"edge\">\n",
       "<title>139592896157120&#45;&gt;139592896156336</title>\n",
       "<path fill=\"none\" stroke=\"#000000\" d=\"M123,-317.3685C123,-307.1925 123,-291.5606 123,-278.8912\"/>\n",
       "<polygon fill=\"#000000\" stroke=\"#000000\" points=\"126.5001,-278.7315 123,-268.7315 119.5001,-278.7316 126.5001,-278.7315\"/>\n",
       "</g>\n",
       "<!-- 139592896158912 -->\n",
       "<g id=\"node9\" class=\"node\">\n",
       "<title>139592896158912</title>\n",
       "<polygon fill=\"#d3d3d3\" stroke=\"#000000\" points=\"173,-408.5 69,-408.5 69,-387.5 173,-387.5 173,-408.5\"/>\n",
       "<text text-anchor=\"middle\" x=\"121\" y=\"-394.9\" font-family=\"Times,serif\" font-size=\"12.00\" fill=\"#000000\">AddmmBackward</text>\n",
       "</g>\n",
       "<!-- 139592896158912&#45;&gt;139592896157120 -->\n",
       "<g id=\"edge8\" class=\"edge\">\n",
       "<title>139592896158912&#45;&gt;139592896157120</title>\n",
       "<path fill=\"none\" stroke=\"#000000\" d=\"M121.3038,-387.3685C121.5945,-377.1925 122.0411,-361.5606 122.4031,-348.8912\"/>\n",
       "<polygon fill=\"#000000\" stroke=\"#000000\" points=\"125.9063,-348.8275 122.6934,-338.7315 118.9091,-348.6275 125.9063,-348.8275\"/>\n",
       "</g>\n",
       "<!-- 139592896246056 -->\n",
       "<g id=\"node10\" class=\"node\">\n",
       "<title>139592896246056</title>\n",
       "<polygon fill=\"#add8e6\" stroke=\"#000000\" points=\"56,-485 2,-485 2,-451 56,-451 56,-485\"/>\n",
       "<text text-anchor=\"middle\" x=\"29\" y=\"-471.4\" font-family=\"Times,serif\" font-size=\"12.00\" fill=\"#000000\">fc3.bias</text>\n",
       "<text text-anchor=\"middle\" x=\"29\" y=\"-458.4\" font-family=\"Times,serif\" font-size=\"12.00\" fill=\"#000000\"> (1600)</text>\n",
       "</g>\n",
       "<!-- 139592896246056&#45;&gt;139592896158912 -->\n",
       "<g id=\"edge9\" class=\"edge\">\n",
       "<title>139592896246056&#45;&gt;139592896158912</title>\n",
       "<path fill=\"none\" stroke=\"#000000\" d=\"M51.7416,-450.6966C66.1068,-439.7666 84.5787,-425.7119 98.8325,-414.8666\"/>\n",
       "<polygon fill=\"#000000\" stroke=\"#000000\" points=\"101.2491,-417.4258 107.0881,-408.5852 97.0104,-411.855 101.2491,-417.4258\"/>\n",
       "</g>\n",
       "<!-- 139592896247848 -->\n",
       "<g id=\"node11\" class=\"node\">\n",
       "<title>139592896247848</title>\n",
       "<polygon fill=\"#d3d3d3\" stroke=\"#000000\" points=\"168,-478.5 74,-478.5 74,-457.5 168,-457.5 168,-478.5\"/>\n",
       "<text text-anchor=\"middle\" x=\"121\" y=\"-464.9\" font-family=\"Times,serif\" font-size=\"12.00\" fill=\"#000000\">ReluBackward0</text>\n",
       "</g>\n",
       "<!-- 139592896247848&#45;&gt;139592896158912 -->\n",
       "<g id=\"edge10\" class=\"edge\">\n",
       "<title>139592896247848&#45;&gt;139592896158912</title>\n",
       "<path fill=\"none\" stroke=\"#000000\" d=\"M121,-457.3685C121,-447.1925 121,-431.5606 121,-418.8912\"/>\n",
       "<polygon fill=\"#000000\" stroke=\"#000000\" points=\"124.5001,-418.7315 121,-408.7315 117.5001,-418.7316 124.5001,-418.7315\"/>\n",
       "</g>\n",
       "<!-- 139592896248016 -->\n",
       "<g id=\"node12\" class=\"node\">\n",
       "<title>139592896248016</title>\n",
       "<polygon fill=\"#d3d3d3\" stroke=\"#000000\" points=\"171,-548.5 67,-548.5 67,-527.5 171,-527.5 171,-548.5\"/>\n",
       "<text text-anchor=\"middle\" x=\"119\" y=\"-534.9\" font-family=\"Times,serif\" font-size=\"12.00\" fill=\"#000000\">AddmmBackward</text>\n",
       "</g>\n",
       "<!-- 139592896248016&#45;&gt;139592896247848 -->\n",
       "<g id=\"edge11\" class=\"edge\">\n",
       "<title>139592896248016&#45;&gt;139592896247848</title>\n",
       "<path fill=\"none\" stroke=\"#000000\" d=\"M119.3038,-527.3685C119.5945,-517.1925 120.0411,-501.5606 120.4031,-488.8912\"/>\n",
       "<polygon fill=\"#000000\" stroke=\"#000000\" points=\"123.9063,-488.8275 120.6934,-478.7315 116.9091,-488.6275 123.9063,-488.8275\"/>\n",
       "</g>\n",
       "<!-- 139592896248128 -->\n",
       "<g id=\"node13\" class=\"node\">\n",
       "<title>139592896248128</title>\n",
       "<polygon fill=\"#add8e6\" stroke=\"#000000\" points=\"54,-625 0,-625 0,-591 54,-591 54,-625\"/>\n",
       "<text text-anchor=\"middle\" x=\"27\" y=\"-611.4\" font-family=\"Times,serif\" font-size=\"12.00\" fill=\"#000000\">fc2.bias</text>\n",
       "<text text-anchor=\"middle\" x=\"27\" y=\"-598.4\" font-family=\"Times,serif\" font-size=\"12.00\" fill=\"#000000\"> (4864)</text>\n",
       "</g>\n",
       "<!-- 139592896248128&#45;&gt;139592896248016 -->\n",
       "<g id=\"edge12\" class=\"edge\">\n",
       "<title>139592896248128&#45;&gt;139592896248016</title>\n",
       "<path fill=\"none\" stroke=\"#000000\" d=\"M49.7416,-590.6966C64.1068,-579.7666 82.5787,-565.7119 96.8325,-554.8666\"/>\n",
       "<polygon fill=\"#000000\" stroke=\"#000000\" points=\"99.2491,-557.4258 105.0881,-548.5852 95.0104,-551.855 99.2491,-557.4258\"/>\n",
       "</g>\n",
       "<!-- 139592896248184 -->\n",
       "<g id=\"node14\" class=\"node\">\n",
       "<title>139592896248184</title>\n",
       "<polygon fill=\"#d3d3d3\" stroke=\"#000000\" points=\"166,-618.5 72,-618.5 72,-597.5 166,-597.5 166,-618.5\"/>\n",
       "<text text-anchor=\"middle\" x=\"119\" y=\"-604.9\" font-family=\"Times,serif\" font-size=\"12.00\" fill=\"#000000\">ReluBackward0</text>\n",
       "</g>\n",
       "<!-- 139592896248184&#45;&gt;139592896248016 -->\n",
       "<g id=\"edge13\" class=\"edge\">\n",
       "<title>139592896248184&#45;&gt;139592896248016</title>\n",
       "<path fill=\"none\" stroke=\"#000000\" d=\"M119,-597.3685C119,-587.1925 119,-571.5606 119,-558.8912\"/>\n",
       "<polygon fill=\"#000000\" stroke=\"#000000\" points=\"122.5001,-558.7315 119,-548.7315 115.5001,-558.7316 122.5001,-558.7315\"/>\n",
       "</g>\n",
       "<!-- 139592896248352 -->\n",
       "<g id=\"node15\" class=\"node\">\n",
       "<title>139592896248352</title>\n",
       "<polygon fill=\"#d3d3d3\" stroke=\"#000000\" points=\"168,-688.5 64,-688.5 64,-667.5 168,-667.5 168,-688.5\"/>\n",
       "<text text-anchor=\"middle\" x=\"116\" y=\"-674.9\" font-family=\"Times,serif\" font-size=\"12.00\" fill=\"#000000\">AddmmBackward</text>\n",
       "</g>\n",
       "<!-- 139592896248352&#45;&gt;139592896248184 -->\n",
       "<g id=\"edge14\" class=\"edge\">\n",
       "<title>139592896248352&#45;&gt;139592896248184</title>\n",
       "<path fill=\"none\" stroke=\"#000000\" d=\"M116.4556,-667.3685C116.8917,-657.1925 117.5617,-641.5606 118.1047,-628.8912\"/>\n",
       "<polygon fill=\"#000000\" stroke=\"#000000\" points=\"121.6086,-628.8723 118.5401,-618.7315 114.615,-628.5725 121.6086,-628.8723\"/>\n",
       "</g>\n",
       "<!-- 139592896248464 -->\n",
       "<g id=\"node16\" class=\"node\">\n",
       "<title>139592896248464</title>\n",
       "<polygon fill=\"#add8e6\" stroke=\"#000000\" points=\"102,-765 48,-765 48,-731 102,-731 102,-765\"/>\n",
       "<text text-anchor=\"middle\" x=\"75\" y=\"-751.4\" font-family=\"Times,serif\" font-size=\"12.00\" fill=\"#000000\">fc1.bias</text>\n",
       "<text text-anchor=\"middle\" x=\"75\" y=\"-738.4\" font-family=\"Times,serif\" font-size=\"12.00\" fill=\"#000000\"> (9728)</text>\n",
       "</g>\n",
       "<!-- 139592896248464&#45;&gt;139592896248352 -->\n",
       "<g id=\"edge15\" class=\"edge\">\n",
       "<title>139592896248464&#45;&gt;139592896248352</title>\n",
       "<path fill=\"none\" stroke=\"#000000\" d=\"M85.1348,-730.6966C91.0172,-720.6535 98.4448,-707.9722 104.5395,-697.5667\"/>\n",
       "<polygon fill=\"#000000\" stroke=\"#000000\" points=\"107.6454,-699.189 109.6794,-688.7913 101.6052,-695.6512 107.6454,-699.189\"/>\n",
       "</g>\n",
       "<!-- 139592896248520 -->\n",
       "<g id=\"node17\" class=\"node\">\n",
       "<title>139592896248520</title>\n",
       "<polygon fill=\"#d3d3d3\" stroke=\"#000000\" points=\"193.5,-758.5 120.5,-758.5 120.5,-737.5 193.5,-737.5 193.5,-758.5\"/>\n",
       "<text text-anchor=\"middle\" x=\"157\" y=\"-744.9\" font-family=\"Times,serif\" font-size=\"12.00\" fill=\"#000000\">TBackward</text>\n",
       "</g>\n",
       "<!-- 139592896248520&#45;&gt;139592896248352 -->\n",
       "<g id=\"edge16\" class=\"edge\">\n",
       "<title>139592896248520&#45;&gt;139592896248352</title>\n",
       "<path fill=\"none\" stroke=\"#000000\" d=\"M150.773,-737.3685C144.5719,-726.7814 134.9119,-710.2886 127.3456,-697.3705\"/>\n",
       "<polygon fill=\"#000000\" stroke=\"#000000\" points=\"130.3598,-695.5915 122.2856,-688.7315 124.3196,-699.1293 130.3598,-695.5915\"/>\n",
       "</g>\n",
       "<!-- 139592896248632 -->\n",
       "<g id=\"node18\" class=\"node\">\n",
       "<title>139592896248632</title>\n",
       "<polygon fill=\"#add8e6\" stroke=\"#000000\" points=\"200.5,-835 113.5,-835 113.5,-801 200.5,-801 200.5,-835\"/>\n",
       "<text text-anchor=\"middle\" x=\"157\" y=\"-821.4\" font-family=\"Times,serif\" font-size=\"12.00\" fill=\"#000000\">fc1.weight</text>\n",
       "<text text-anchor=\"middle\" x=\"157\" y=\"-808.4\" font-family=\"Times,serif\" font-size=\"12.00\" fill=\"#000000\"> (9728, 24320)</text>\n",
       "</g>\n",
       "<!-- 139592896248632&#45;&gt;139592896248520 -->\n",
       "<g id=\"edge17\" class=\"edge\">\n",
       "<title>139592896248632&#45;&gt;139592896248520</title>\n",
       "<path fill=\"none\" stroke=\"#000000\" d=\"M157,-800.6966C157,-791.0634 157,-779.003 157,-768.8518\"/>\n",
       "<polygon fill=\"#000000\" stroke=\"#000000\" points=\"160.5001,-768.7912 157,-758.7913 153.5001,-768.7913 160.5001,-768.7912\"/>\n",
       "</g>\n",
       "<!-- 139592896248240 -->\n",
       "<g id=\"node19\" class=\"node\">\n",
       "<title>139592896248240</title>\n",
       "<polygon fill=\"#d3d3d3\" stroke=\"#000000\" points=\"261.5,-618.5 188.5,-618.5 188.5,-597.5 261.5,-597.5 261.5,-618.5\"/>\n",
       "<text text-anchor=\"middle\" x=\"225\" y=\"-604.9\" font-family=\"Times,serif\" font-size=\"12.00\" fill=\"#000000\">TBackward</text>\n",
       "</g>\n",
       "<!-- 139592896248240&#45;&gt;139592896248016 -->\n",
       "<g id=\"edge18\" class=\"edge\">\n",
       "<title>139592896248240&#45;&gt;139592896248016</title>\n",
       "<path fill=\"none\" stroke=\"#000000\" d=\"M208.9009,-597.3685C191.445,-585.841 163.3871,-567.3123 143.2584,-554.0197\"/>\n",
       "<polygon fill=\"#000000\" stroke=\"#000000\" points=\"145.1767,-551.0922 134.9033,-548.5022 141.3192,-556.9335 145.1767,-551.0922\"/>\n",
       "</g>\n",
       "<!-- 139592896248408 -->\n",
       "<g id=\"node20\" class=\"node\">\n",
       "<title>139592896248408</title>\n",
       "<polygon fill=\"#add8e6\" stroke=\"#000000\" points=\"267.5,-695 186.5,-695 186.5,-661 267.5,-661 267.5,-695\"/>\n",
       "<text text-anchor=\"middle\" x=\"227\" y=\"-681.4\" font-family=\"Times,serif\" font-size=\"12.00\" fill=\"#000000\">fc2.weight</text>\n",
       "<text text-anchor=\"middle\" x=\"227\" y=\"-668.4\" font-family=\"Times,serif\" font-size=\"12.00\" fill=\"#000000\"> (4864, 9728)</text>\n",
       "</g>\n",
       "<!-- 139592896248408&#45;&gt;139592896248240 -->\n",
       "<g id=\"edge19\" class=\"edge\">\n",
       "<title>139592896248408&#45;&gt;139592896248240</title>\n",
       "<path fill=\"none\" stroke=\"#000000\" d=\"M226.5056,-660.6966C226.2304,-651.0634 225.8858,-639.003 225.5958,-628.8518\"/>\n",
       "<polygon fill=\"#000000\" stroke=\"#000000\" points=\"229.0926,-628.6872 225.3083,-618.7913 222.0954,-628.8872 229.0926,-628.6872\"/>\n",
       "</g>\n",
       "<!-- 139592896247904 -->\n",
       "<g id=\"node21\" class=\"node\">\n",
       "<title>139592896247904</title>\n",
       "<polygon fill=\"#d3d3d3\" stroke=\"#000000\" points=\"263.5,-478.5 190.5,-478.5 190.5,-457.5 263.5,-457.5 263.5,-478.5\"/>\n",
       "<text text-anchor=\"middle\" x=\"227\" y=\"-464.9\" font-family=\"Times,serif\" font-size=\"12.00\" fill=\"#000000\">TBackward</text>\n",
       "</g>\n",
       "<!-- 139592896247904&#45;&gt;139592896158912 -->\n",
       "<g id=\"edge20\" class=\"edge\">\n",
       "<title>139592896247904&#45;&gt;139592896158912</title>\n",
       "<path fill=\"none\" stroke=\"#000000\" d=\"M210.9009,-457.3685C193.445,-445.841 165.3871,-427.3123 145.2584,-414.0197\"/>\n",
       "<polygon fill=\"#000000\" stroke=\"#000000\" points=\"147.1767,-411.0922 136.9033,-408.5022 143.3192,-416.9335 147.1767,-411.0922\"/>\n",
       "</g>\n",
       "<!-- 139592896248072 -->\n",
       "<g id=\"node22\" class=\"node\">\n",
       "<title>139592896248072</title>\n",
       "<polygon fill=\"#add8e6\" stroke=\"#000000\" points=\"270.5,-555 189.5,-555 189.5,-521 270.5,-521 270.5,-555\"/>\n",
       "<text text-anchor=\"middle\" x=\"230\" y=\"-541.4\" font-family=\"Times,serif\" font-size=\"12.00\" fill=\"#000000\">fc3.weight</text>\n",
       "<text text-anchor=\"middle\" x=\"230\" y=\"-528.4\" font-family=\"Times,serif\" font-size=\"12.00\" fill=\"#000000\"> (1600, 4864)</text>\n",
       "</g>\n",
       "<!-- 139592896248072&#45;&gt;139592896247904 -->\n",
       "<g id=\"edge21\" class=\"edge\">\n",
       "<title>139592896248072&#45;&gt;139592896247904</title>\n",
       "<path fill=\"none\" stroke=\"#000000\" d=\"M229.2584,-520.6966C228.8456,-511.0634 228.3287,-499.003 227.8937,-488.8518\"/>\n",
       "<polygon fill=\"#000000\" stroke=\"#000000\" points=\"231.3875,-488.6322 227.4625,-478.7913 224.394,-488.932 231.3875,-488.6322\"/>\n",
       "</g>\n",
       "<!-- 139592896158800 -->\n",
       "<g id=\"node23\" class=\"node\">\n",
       "<title>139592896158800</title>\n",
       "<polygon fill=\"#d3d3d3\" stroke=\"#000000\" points=\"264.5,-338.5 191.5,-338.5 191.5,-317.5 264.5,-317.5 264.5,-338.5\"/>\n",
       "<text text-anchor=\"middle\" x=\"228\" y=\"-324.9\" font-family=\"Times,serif\" font-size=\"12.00\" fill=\"#000000\">TBackward</text>\n",
       "</g>\n",
       "<!-- 139592896158800&#45;&gt;139592896156336 -->\n",
       "<g id=\"edge22\" class=\"edge\">\n",
       "<title>139592896158800&#45;&gt;139592896156336</title>\n",
       "<path fill=\"none\" stroke=\"#000000\" d=\"M212.0528,-317.3685C194.8391,-305.8927 167.2174,-287.4783 147.2983,-274.1988\"/>\n",
       "<polygon fill=\"#000000\" stroke=\"#000000\" points=\"149.0153,-271.137 138.7533,-268.5022 145.1323,-276.9614 149.0153,-271.137\"/>\n",
       "</g>\n",
       "<!-- 139680450426080 -->\n",
       "<g id=\"node24\" class=\"node\">\n",
       "<title>139680450426080</title>\n",
       "<polygon fill=\"#add8e6\" stroke=\"#000000\" points=\"266.5,-415 191.5,-415 191.5,-381 266.5,-381 266.5,-415\"/>\n",
       "<text text-anchor=\"middle\" x=\"229\" y=\"-401.4\" font-family=\"Times,serif\" font-size=\"12.00\" fill=\"#000000\">fc4.weight</text>\n",
       "<text text-anchor=\"middle\" x=\"229\" y=\"-388.4\" font-family=\"Times,serif\" font-size=\"12.00\" fill=\"#000000\"> (400, 1600)</text>\n",
       "</g>\n",
       "<!-- 139680450426080&#45;&gt;139592896158800 -->\n",
       "<g id=\"edge23\" class=\"edge\">\n",
       "<title>139680450426080&#45;&gt;139592896158800</title>\n",
       "<path fill=\"none\" stroke=\"#000000\" d=\"M228.7528,-380.6966C228.6152,-371.0634 228.4429,-359.003 228.2979,-348.8518\"/>\n",
       "<polygon fill=\"#000000\" stroke=\"#000000\" points=\"231.7967,-348.7402 228.1542,-338.7913 224.7975,-348.8403 231.7967,-348.7402\"/>\n",
       "</g>\n",
       "<!-- 139592896061280 -->\n",
       "<g id=\"node25\" class=\"node\">\n",
       "<title>139592896061280</title>\n",
       "<polygon fill=\"#d3d3d3\" stroke=\"#000000\" points=\"263.5,-198.5 190.5,-198.5 190.5,-177.5 263.5,-177.5 263.5,-198.5\"/>\n",
       "<text text-anchor=\"middle\" x=\"227\" y=\"-184.9\" font-family=\"Times,serif\" font-size=\"12.00\" fill=\"#000000\">TBackward</text>\n",
       "</g>\n",
       "<!-- 139592896061280&#45;&gt;139592896059208 -->\n",
       "<g id=\"edge24\" class=\"edge\">\n",
       "<title>139592896061280&#45;&gt;139592896059208</title>\n",
       "<path fill=\"none\" stroke=\"#000000\" d=\"M209.5275,-177.2281C193.1519,-167.1325 168.4682,-151.9149 149.8209,-140.4187\"/>\n",
       "<polygon fill=\"#000000\" stroke=\"#000000\" points=\"151.5636,-137.3814 141.2145,-135.1128 147.8901,-143.3401 151.5636,-137.3814\"/>\n",
       "</g>\n",
       "<!-- 139592896156504 -->\n",
       "<g id=\"node26\" class=\"node\">\n",
       "<title>139592896156504</title>\n",
       "<polygon fill=\"#add8e6\" stroke=\"#000000\" points=\"260.5,-275 193.5,-275 193.5,-241 260.5,-241 260.5,-275\"/>\n",
       "<text text-anchor=\"middle\" x=\"227\" y=\"-261.4\" font-family=\"Times,serif\" font-size=\"12.00\" fill=\"#000000\">fc5.weight</text>\n",
       "<text text-anchor=\"middle\" x=\"227\" y=\"-248.4\" font-family=\"Times,serif\" font-size=\"12.00\" fill=\"#000000\"> (3, 400)</text>\n",
       "</g>\n",
       "<!-- 139592896156504&#45;&gt;139592896061280 -->\n",
       "<g id=\"edge25\" class=\"edge\">\n",
       "<title>139592896156504&#45;&gt;139592896061280</title>\n",
       "<path fill=\"none\" stroke=\"#000000\" d=\"M227,-240.6966C227,-231.0634 227,-219.003 227,-208.8518\"/>\n",
       "<polygon fill=\"#000000\" stroke=\"#000000\" points=\"230.5001,-208.7912 227,-198.7913 223.5001,-208.7913 230.5001,-208.7912\"/>\n",
       "</g>\n",
       "</g>\n",
       "</svg>\n"
      ],
      "text/plain": [
       "<graphviz.dot.Digraph at 0x7ef580fb96a0>"
      ]
     },
     "execution_count": 18,
     "metadata": {},
     "output_type": "execute_result"
    }
   ],
   "source": [
    "from torchviz import make_dot\n",
    "make_dot(loss_tensor,params=dict(model_MLP.named_parameters()))"
   ]
  },
  {
   "cell_type": "markdown",
   "metadata": {},
   "source": [
    "Before we calculate the gradients - let's check what they are now..."
   ]
  },
  {
   "cell_type": "code",
   "execution_count": 19,
   "metadata": {},
   "outputs": [
    {
     "name": "stdout",
     "output_type": "stream",
     "text": [
      "name of a parameter: fc1.weight, gradient: None\n",
      "name of a parameter: fc1.bias, gradient: None\n",
      "name of a parameter: fc2.weight, gradient: None\n",
      "name of a parameter: fc2.bias, gradient: None\n",
      "name of a parameter: fc3.weight, gradient: None\n",
      "name of a parameter: fc3.bias, gradient: None\n",
      "name of a parameter: fc4.weight, gradient: None\n",
      "name of a parameter: fc4.bias, gradient: None\n",
      "name of a parameter: fc5.weight, gradient: None\n",
      "name of a parameter: fc5.bias, gradient: None\n"
     ]
    }
   ],
   "source": [
    "for name, param in model_MLP.named_parameters():\n",
    "    print(\"name of a parameter: {}, gradient: {}\".\n",
    "          format(name, param.grad))"
   ]
  },
  {
   "cell_type": "markdown",
   "metadata": {},
   "source": [
    "No wonder - let's calculate them"
   ]
  },
  {
   "cell_type": "code",
   "execution_count": 20,
   "metadata": {},
   "outputs": [],
   "source": [
    "loss_tensor.backward()"
   ]
  },
  {
   "cell_type": "code",
   "execution_count": 21,
   "metadata": {},
   "outputs": [
    {
     "name": "stdout",
     "output_type": "stream",
     "text": [
      "name of a parameter: fc1.weight, gradient: tensor([[-3.6876e-06,  6.3797e-06,  0.0000e+00,  ...,  0.0000e+00,\n",
      "          2.3630e-02,  4.0645e-03],\n",
      "        [-3.0252e-05,  0.0000e+00,  0.0000e+00,  ...,  0.0000e+00,\n",
      "          1.9311e-03,  2.7006e-02],\n",
      "        [-1.4752e-06,  0.0000e+00,  0.0000e+00,  ...,  0.0000e+00,\n",
      "          1.5044e-02,  3.7976e-02],\n",
      "        ...,\n",
      "        [ 0.0000e+00,  0.0000e+00,  0.0000e+00,  ...,  0.0000e+00,\n",
      "         -1.6996e-02, -1.7023e-02],\n",
      "        [-7.3983e-07,  0.0000e+00,  0.0000e+00,  ...,  0.0000e+00,\n",
      "          0.0000e+00, -2.0938e-02],\n",
      "        [ 4.5751e-06,  0.0000e+00,  0.0000e+00,  ...,  0.0000e+00,\n",
      "          0.0000e+00,  1.1034e-02]])\n",
      "name of a parameter: fc1.bias, gradient: tensor([ 1.1356e-05, -3.5885e-05,  6.1519e-05,  ..., -2.0004e-05,\n",
      "        -2.5737e-05,  1.3268e-06])\n",
      "name of a parameter: fc2.weight, gradient: tensor([[ 0.0000e+00,  1.7807e-03,  2.4970e-03,  ...,  2.3788e-03,\n",
      "          3.6255e-04,  1.9051e-03],\n",
      "        [ 1.5994e-02,  9.4621e-03,  1.6595e-02,  ...,  2.1817e-03,\n",
      "          2.0948e-02, -1.4766e-03],\n",
      "        [ 4.3044e-02,  3.3502e-02,  1.1529e-02,  ...,  6.0889e-05,\n",
      "          1.4057e-02,  1.0584e-02],\n",
      "        ...,\n",
      "        [-7.8366e-05, -7.2906e-05,  1.9603e-04,  ...,  6.5878e-05,\n",
      "          0.0000e+00,  5.3120e-05],\n",
      "        [ 1.4406e-03, -3.0041e-03,  0.0000e+00,  ...,  0.0000e+00,\n",
      "         -8.4184e-04, -2.8735e-04],\n",
      "        [ 6.6689e-02,  3.3747e-02,  4.5605e-02,  ...,  1.1167e-02,\n",
      "          6.0547e-02,  3.5420e-02]])\n",
      "name of a parameter: fc2.bias, gradient: tensor([5.1436e-05, 1.2674e-04, 1.4538e-04,  ..., 3.7777e-06, 6.7768e-05,\n",
      "        4.7266e-04])\n",
      "name of a parameter: fc3.weight, gradient: tensor([[ 0.0000,  0.1002,  0.0053,  ...,  0.0055,  0.0000,  0.0433],\n",
      "        [ 0.0024,  0.1178,  0.0190,  ...,  0.0262,  0.0054,  0.0889],\n",
      "        [ 0.0005, -0.0306,  0.0007,  ...,  0.0003,  0.0029, -0.0224],\n",
      "        ...,\n",
      "        [ 0.0020,  0.0207,  0.0019,  ..., -0.0184, -0.0007,  0.0169],\n",
      "        [ 0.0051,  0.0272,  0.0058,  ..., -0.0003,  0.0000,  0.0248],\n",
      "        [ 0.0031,  0.0298,  0.0090,  ...,  0.0151,  0.0000,  0.0284]])\n",
      "name of a parameter: fc3.bias, gradient: tensor([ 0.0018,  0.0036, -0.0005,  ...,  0.0007,  0.0008,  0.0008])\n",
      "name of a parameter: fc4.weight, gradient: tensor([[-2.5293e-02, -1.1004e-01,  3.6432e-02,  ..., -6.7210e-02,\n",
      "          0.0000e+00, -9.2428e-02],\n",
      "        [ 4.6022e-02,  4.6659e-01,  6.6866e-02,  ...,  1.8444e-01,\n",
      "          2.0855e-02,  1.8163e-01],\n",
      "        [ 0.0000e+00,  0.0000e+00,  0.0000e+00,  ...,  0.0000e+00,\n",
      "          0.0000e+00,  0.0000e+00],\n",
      "        ...,\n",
      "        [-8.2070e-05, -6.4821e-02, -2.0757e-02,  ..., -2.0730e-02,\n",
      "          0.0000e+00,  0.0000e+00],\n",
      "        [ 0.0000e+00,  1.9536e-02,  5.5861e-03,  ...,  3.4417e-03,\n",
      "          0.0000e+00,  1.1659e-03],\n",
      "        [ 6.6676e-02,  4.5219e-01,  1.5596e-01,  ...,  2.2124e-01,\n",
      "          2.0796e-02,  2.3130e-01]])\n",
      "name of a parameter: fc4.bias, gradient: tensor([-2.3069e-03,  8.9763e-03,  0.0000e+00, -3.5050e-03, -7.3675e-03,\n",
      "        -3.7253e-04,  4.3793e-03, -4.3412e-03, -8.1582e-03,  1.6850e-02,\n",
      "         4.3161e-03,  8.1947e-03, -4.2935e-03, -5.1912e-04,  1.5427e-02,\n",
      "        -6.4378e-03,  6.4014e-03, -8.5385e-03, -8.3154e-03, -4.3548e-04,\n",
      "        -1.6828e-05,  2.4758e-02, -4.4495e-03, -5.8784e-03,  2.3741e-03,\n",
      "         2.4922e-03,  3.5295e-03,  3.7228e-03,  0.0000e+00,  0.0000e+00,\n",
      "         0.0000e+00, -1.9850e-03,  0.0000e+00, -7.3842e-04, -1.0854e-02,\n",
      "         4.0983e-04, -5.2261e-03,  1.9769e-03,  1.2325e-03,  6.9828e-03,\n",
      "         7.6354e-03,  3.5882e-03,  0.0000e+00,  8.9018e-04,  1.0308e-03,\n",
      "        -3.2695e-03, -1.1897e-03,  6.7550e-03,  5.2716e-03, -9.1582e-03,\n",
      "         6.2193e-05,  1.6626e-02,  0.0000e+00, -5.7304e-04, -1.1665e-03,\n",
      "        -1.7265e-03,  1.0096e-03, -3.8128e-03, -5.3085e-03, -6.8394e-04,\n",
      "         5.3395e-03, -2.7021e-03, -1.8622e-03,  2.4896e-03,  1.7506e-03,\n",
      "        -7.9303e-04, -2.0266e-02,  8.1132e-04, -2.3776e-03, -2.2784e-03,\n",
      "        -1.4538e-02,  2.1975e-02,  4.2467e-03, -7.1714e-03,  2.0808e-03,\n",
      "         1.0999e-03,  7.7809e-03, -8.0881e-04,  8.0362e-03, -3.0516e-03,\n",
      "         4.5652e-06,  3.6336e-03,  3.9331e-03, -1.6937e-04,  0.0000e+00,\n",
      "         9.2416e-04, -4.0477e-05, -7.8540e-04, -3.3813e-03,  6.7833e-03,\n",
      "        -3.1973e-03, -5.9479e-03, -2.5112e-03, -1.6015e-03,  3.2097e-03,\n",
      "        -9.9124e-03,  9.9345e-03,  1.3383e-03, -1.2769e-02,  1.5126e-03,\n",
      "         0.0000e+00, -8.7614e-03,  9.5161e-03,  1.1075e-03,  7.7529e-04,\n",
      "        -6.5901e-03, -8.4366e-04, -1.4413e-03, -9.4855e-04, -2.5011e-03,\n",
      "         1.5531e-05,  0.0000e+00,  4.3228e-03,  3.3370e-03, -1.5309e-02,\n",
      "         4.7952e-03, -6.7286e-03,  4.9001e-04, -1.5191e-02, -4.2803e-03,\n",
      "         0.0000e+00, -1.1537e-03,  3.7928e-03, -1.8434e-04,  2.2378e-04,\n",
      "        -8.9337e-04,  4.3538e-03,  4.9932e-03,  0.0000e+00,  8.8446e-03,\n",
      "         0.0000e+00,  7.4455e-04,  3.4282e-04, -9.7634e-03,  2.4377e-03,\n",
      "        -5.3311e-03, -4.4707e-04, -3.5214e-03,  2.0154e-02, -4.0895e-03,\n",
      "        -1.5890e-02,  2.3799e-03, -1.1528e-02,  0.0000e+00,  9.3187e-04,\n",
      "        -1.3039e-02,  1.2217e-03,  3.4514e-03,  1.5328e-04, -1.0840e-03,\n",
      "         1.6544e-02, -4.0670e-03,  4.0184e-03, -7.2366e-03,  1.7705e-03,\n",
      "         3.3441e-04, -4.1746e-03, -3.5736e-03,  0.0000e+00, -1.8690e-03,\n",
      "         1.1666e-04,  0.0000e+00, -1.2203e-03, -5.1671e-04,  0.0000e+00,\n",
      "         4.9817e-03,  2.2032e-03,  2.7432e-03, -8.3971e-05,  9.2124e-03,\n",
      "         4.2402e-03,  5.0088e-03,  0.0000e+00,  0.0000e+00,  2.0038e-02,\n",
      "        -2.8319e-04,  2.2660e-03, -4.6690e-03, -6.7999e-04, -4.8241e-04,\n",
      "        -1.7180e-02,  1.0101e-02,  2.2713e-02,  0.0000e+00, -5.0673e-04,\n",
      "         2.0318e-03,  0.0000e+00,  1.0387e-02, -1.1467e-02,  1.3616e-03,\n",
      "         2.7934e-05, -5.3231e-04, -1.0733e-02,  1.0862e-03,  9.8180e-03,\n",
      "         4.3468e-03,  1.4335e-02,  1.5477e-02,  5.6609e-03,  2.1531e-03,\n",
      "         6.6374e-04,  6.5695e-03, -1.5074e-03,  6.5098e-03, -2.1274e-03,\n",
      "         0.0000e+00,  1.8081e-03, -2.5042e-03, -2.5080e-03,  7.4965e-06,\n",
      "         6.6908e-03,  1.2217e-02,  7.2786e-04,  4.5306e-03,  1.1470e-03,\n",
      "         4.8747e-03,  8.1826e-03, -8.8372e-03,  5.3679e-04,  1.3158e-02,\n",
      "        -1.3482e-02, -7.7151e-03,  1.1779e-02,  1.1647e-02,  2.7407e-03,\n",
      "         8.9785e-03, -9.3741e-04, -3.2723e-04,  8.1271e-03, -8.6116e-03,\n",
      "         1.9475e-03, -1.2450e-05,  1.4059e-02, -1.5498e-03,  6.5986e-03,\n",
      "         5.9325e-03, -5.9923e-06,  6.0746e-03, -4.1948e-04, -9.3282e-03,\n",
      "         5.8513e-03, -8.1069e-03, -1.5092e-03,  1.8178e-03, -1.5057e-03,\n",
      "         1.0388e-03, -6.7362e-03, -1.0990e-03,  6.3978e-03, -2.4945e-04,\n",
      "         8.5105e-04,  2.9025e-03, -4.5248e-03,  5.7990e-03,  1.2818e-02,\n",
      "        -5.2986e-03,  1.3848e-03, -9.6980e-03, -7.2157e-03, -1.3002e-02,\n",
      "        -4.3792e-05, -2.3099e-03,  5.6139e-03, -4.0514e-04,  8.8082e-04,\n",
      "         8.2154e-04, -3.3098e-03, -6.9455e-03,  0.0000e+00,  1.1619e-02,\n",
      "        -3.1967e-03, -6.3703e-03,  0.0000e+00,  7.3722e-03, -2.4351e-03,\n",
      "         7.6780e-04,  0.0000e+00, -4.6314e-04, -1.3624e-03, -2.8510e-03,\n",
      "         2.5646e-03, -1.1760e-02,  3.9439e-03,  5.4417e-03,  9.8698e-04,\n",
      "         0.0000e+00,  0.0000e+00, -6.5440e-03,  4.0051e-03,  1.3211e-03,\n",
      "         5.5776e-03,  3.0128e-04, -1.2189e-04,  4.5810e-03, -3.8190e-03,\n",
      "        -2.6564e-03, -1.7322e-04, -1.2853e-02,  3.7710e-03, -5.5944e-03,\n",
      "         2.0240e-04, -8.6900e-04,  1.2081e-05, -1.0307e-02,  0.0000e+00,\n",
      "        -2.6399e-05,  3.7759e-03,  3.6000e-04,  7.2942e-03,  1.7173e-02,\n",
      "         1.0575e-02,  9.6515e-03, -2.7634e-03, -1.0170e-04, -6.0944e-03,\n",
      "        -4.0017e-03,  5.0009e-03, -1.2810e-02,  1.0450e-04, -1.4923e-03,\n",
      "         4.6252e-03,  6.2205e-03, -1.2455e-03, -5.9917e-03, -1.8295e-02,\n",
      "         1.1048e-02, -2.2326e-02, -2.9313e-03, -3.6569e-03,  7.7133e-04,\n",
      "        -1.1032e-02, -2.3299e-03,  1.9708e-03, -4.1653e-03, -2.2904e-03,\n",
      "        -2.2825e-03, -1.0910e-03, -2.7241e-04,  1.1037e-02,  3.9097e-03,\n",
      "        -3.5623e-03,  3.8909e-03, -1.3493e-02,  1.1265e-02,  0.0000e+00,\n",
      "         2.4885e-02,  1.3296e-02, -1.5624e-02,  0.0000e+00,  3.3093e-03,\n",
      "         1.1375e-02,  4.9879e-04,  1.5266e-02,  1.9216e-03,  0.0000e+00,\n",
      "        -1.1852e-02,  3.7273e-03,  5.2453e-03,  1.2339e-03, -4.2005e-04,\n",
      "        -5.9808e-04, -1.6020e-03, -3.4177e-03,  3.8907e-03,  0.0000e+00,\n",
      "         0.0000e+00,  2.8808e-04,  4.9657e-03,  2.4968e-03,  1.0205e-03,\n",
      "         0.0000e+00, -9.1619e-03, -1.1598e-03, -6.2555e-04,  6.3929e-03,\n",
      "         1.2276e-03,  6.2595e-03,  4.0644e-03, -6.5467e-03,  3.3558e-03,\n",
      "        -2.2951e-05, -7.2153e-03,  1.1029e-02, -1.2950e-02,  1.2318e-02,\n",
      "         9.1585e-03,  1.3601e-02, -2.6405e-02, -8.7164e-03,  6.9381e-03,\n",
      "        -8.0846e-03, -4.9623e-03, -4.2702e-03,  3.0642e-03, -3.7622e-04,\n",
      "         2.7971e-03,  4.7081e-08, -1.5740e-03,  2.0039e-03,  1.0471e-02])\n",
      "name of a parameter: fc5.weight, gradient: tensor([[-0.4926, -0.3949,  0.0000,  ...,  0.0297,  0.0310, -1.0821],\n",
      "        [-0.1892, -2.1188,  0.0000,  ..., -0.1520,  0.0092, -0.9514],\n",
      "        [ 0.6818,  2.5137,  0.0000,  ...,  0.1223, -0.0402,  2.0335]])\n",
      "name of a parameter: fc5.bias, gradient: tensor([-0.1650, -0.1630,  0.3281])\n"
     ]
    }
   ],
   "source": [
    "for name, param in model_MLP.named_parameters():\n",
    "    print(\"name of a parameter: {}, gradient: {}\".\n",
    "          format(name, param.grad))"
   ]
  },
  {
   "cell_type": "markdown",
   "metadata": {},
   "source": [
    "All we have to do now is subtract the gradient of a given parameter from the parameter tensor itself and do it for all parameters of the model - that should decrease the loss. Normally the gradient is multiplied by a learning rate parameter $\\lambda$ so we don't go too far in the loss landscape"
   ]
  },
  {
   "cell_type": "code",
   "execution_count": 22,
   "metadata": {},
   "outputs": [],
   "source": [
    "lr=0.0001\n",
    "for param in model_MLP.parameters():\n",
    "    param.data.add_(-lr*param.grad.data)"
   ]
  },
  {
   "cell_type": "markdown",
   "metadata": {},
   "source": [
    "call to backward **accumulates** gradients - so we also need to zero the gradient tensors if we want to keep going"
   ]
  },
  {
   "cell_type": "code",
   "execution_count": 23,
   "metadata": {},
   "outputs": [],
   "source": [
    "for param in model_MLP.parameters():\n",
    "    param.grad.data.zero_()"
   ]
  },
  {
   "cell_type": "markdown",
   "metadata": {},
   "source": [
    "There is a much simpler way of doing this - we can use the pytorch [optim](https://pytorch.org/docs/stable/optim.html) classes. This allows us to easily use more advanced optimization options (like momentum or adaptive optimizers like [Adam](https://arxiv.org/abs/1412.6980)):"
   ]
  },
  {
   "cell_type": "code",
   "execution_count": 24,
   "metadata": {},
   "outputs": [],
   "source": [
    "from torch import optim\n",
    "optimizer = optim.SGD(model_MLP.parameters(), lr=0.0001)"
   ]
  },
  {
   "cell_type": "markdown",
   "metadata": {},
   "source": [
    "Lets get a new batch of events"
   ]
  },
  {
   "cell_type": "code",
   "execution_count": 25,
   "metadata": {},
   "outputs": [],
   "source": [
    "batch1=next(train_iter)"
   ]
  },
  {
   "cell_type": "code",
   "execution_count": 26,
   "metadata": {},
   "outputs": [],
   "source": [
    "data=batch0[0]\n",
    "labels=batch0[1]"
   ]
  },
  {
   "cell_type": "code",
   "execution_count": 27,
   "metadata": {},
   "outputs": [],
   "source": [
    "model_out=model_MLP(data)\n",
    "loss_tensor=loss_module(model_out,labels)\n",
    "loss_tensor.backward()\n",
    "optimizer.step()"
   ]
  },
  {
   "cell_type": "markdown",
   "metadata": {},
   "source": [
    "We could just put the code above in a loop and be done with it, but the usual practice would be to wrap this functionality in a training object. Here we'll use the [engine](/edit/utils/engine.py) class. Let's examine it. We'll talk about:\n",
    "  1. Implementation of the training loop\n",
    "  2. Evaluation on validation set and training and test modes.\n",
    "  3. Turning evaluation of gradients on and off.\n",
    "  4. Saving and retrieving the model and optimizer state."
   ]
  },
  {
   "cell_type": "code",
   "execution_count": 28,
   "metadata": {},
   "outputs": [],
   "source": [
    "from utils.engine import Engine"
   ]
  },
  {
   "cell_type": "markdown",
   "metadata": {},
   "source": [
    "Let's first create a configuration object -we'll use this to set up our training engine"
   ]
  },
  {
   "cell_type": "code",
   "execution_count": 29,
   "metadata": {},
   "outputs": [],
   "source": [
    "class CONFIG:\n",
    "    pass\n",
    "config=CONFIG()\n",
    "config.batch_size_test = 1024\n",
    "config.batch_size_train = 32\n",
    "config.batch_size_val = 2048\n",
    "config.lr=0.001\n",
    "config.device = 'gpu'\n",
    "config.num_workers_train=3\n",
    "config.num_workers_val=2\n",
    "config.num_workers_test=2\n",
    "config.dump_path = '../model_state_dumps'\n"
   ]
  },
  {
   "cell_type": "code",
   "execution_count": 30,
   "metadata": {},
   "outputs": [
    {
     "name": "stdout",
     "output_type": "stream",
     "text": [
      "Requesting a GPU\n",
      "CUDA is available\n",
      "Creating a directory for run dump: ../model_state_dumps/20190731_110950/\n"
     ]
    }
   ],
   "source": [
    "engine=Engine(model_MLP,dset,config)"
   ]
  },
  {
   "cell_type": "code",
   "execution_count": 31,
   "metadata": {},
   "outputs": [
    {
     "name": "stdout",
     "output_type": "stream",
     "text": [
      "{'batch_size_test': 1024, 'batch_size_train': 32, 'batch_size_val': 2048, 'lr': 0.001, 'device': 'gpu', 'num_workers_train': 3, 'num_workers_val': 2, 'num_workers_test': 2, 'dump_path': '../model_state_dumps'}\n"
     ]
    }
   ],
   "source": [
    "print(vars(config))"
   ]
  },
  {
   "cell_type": "code",
   "execution_count": null,
   "metadata": {
    "scrolled": true
   },
   "outputs": [
    {
     "name": "stdout",
     "output_type": "stream",
     "text": [
      "Epoch 0 Starting @ 2019-07-31 11:09:50\n",
      "... Iteration 0 ... Epoch 0.00 ... Validation Loss 3.564 ... Validation Accuracy 0.359\n",
      "Saved checkpoint as: ../model_state_dumps/20190731_110950/SimpleMLP.pth\n",
      "best validation loss so far!: 3.5640761852264404\n",
      "Saved checkpoint as: ../model_state_dumps/20190731_110950/SimpleMLPBEST.pth\n",
      "... Iteration 1 ... Epoch 0.00 ... Loss 3.322 ... Accuracy 0.344\n",
      "... Iteration 11 ... Epoch 0.01 ... Loss 1.169 ... Accuracy 0.406\n",
      "... Iteration 21 ... Epoch 0.02 ... Loss 1.043 ... Accuracy 0.406\n",
      "... Iteration 31 ... Epoch 0.02 ... Loss 0.985 ... Accuracy 0.656\n",
      "... Iteration 41 ... Epoch 0.03 ... Loss 0.913 ... Accuracy 0.531\n",
      "... Iteration 51 ... Epoch 0.04 ... Loss 0.886 ... Accuracy 0.562\n",
      "... Iteration 61 ... Epoch 0.05 ... Loss 1.015 ... Accuracy 0.469\n",
      "... Iteration 71 ... Epoch 0.06 ... Loss 0.803 ... Accuracy 0.594\n",
      "... Iteration 81 ... Epoch 0.06 ... Loss 0.888 ... Accuracy 0.469\n",
      "... Iteration 91 ... Epoch 0.07 ... Loss 1.024 ... Accuracy 0.469\n",
      "... Iteration 100 ... Epoch 0.08 ... Validation Loss 0.820 ... Validation Accuracy 0.581\n",
      "Saved checkpoint as: ../model_state_dumps/20190731_110950/SimpleMLP.pth\n",
      "best validation loss so far!: 0.8199948668479919\n",
      "Saved checkpoint as: ../model_state_dumps/20190731_110950/SimpleMLPBEST.pth\n",
      "... Iteration 101 ... Epoch 0.08 ... Loss 0.781 ... Accuracy 0.656\n",
      "... Iteration 111 ... Epoch 0.09 ... Loss 0.687 ... Accuracy 0.625\n",
      "... Iteration 121 ... Epoch 0.10 ... Loss 0.874 ... Accuracy 0.594\n",
      "... Iteration 131 ... Epoch 0.10 ... Loss 0.758 ... Accuracy 0.594\n",
      "... Iteration 141 ... Epoch 0.11 ... Loss 0.825 ... Accuracy 0.594\n",
      "... Iteration 151 ... Epoch 0.12 ... Loss 0.763 ... Accuracy 0.625\n",
      "... Iteration 161 ... Epoch 0.13 ... Loss 0.642 ... Accuracy 0.688\n",
      "... Iteration 171 ... Epoch 0.14 ... Loss 0.606 ... Accuracy 0.562\n",
      "... Iteration 181 ... Epoch 0.14 ... Loss 0.683 ... Accuracy 0.688\n",
      "... Iteration 191 ... Epoch 0.15 ... Loss 0.652 ... Accuracy 0.625\n",
      "... Iteration 200 ... Epoch 0.16 ... Validation Loss 0.676 ... Validation Accuracy 0.637\n",
      "Saved checkpoint as: ../model_state_dumps/20190731_110950/SimpleMLP.pth\n",
      "best validation loss so far!: 0.6756434440612793\n",
      "Saved checkpoint as: ../model_state_dumps/20190731_110950/SimpleMLPBEST.pth\n",
      "... Iteration 201 ... Epoch 0.16 ... Loss 0.552 ... Accuracy 0.781\n",
      "... Iteration 211 ... Epoch 0.17 ... Loss 0.594 ... Accuracy 0.719\n",
      "... Iteration 221 ... Epoch 0.18 ... Loss 0.532 ... Accuracy 0.656\n",
      "... Iteration 231 ... Epoch 0.18 ... Loss 0.563 ... Accuracy 0.688\n",
      "... Iteration 241 ... Epoch 0.19 ... Loss 0.758 ... Accuracy 0.438\n",
      "... Iteration 251 ... Epoch 0.20 ... Loss 0.620 ... Accuracy 0.719\n",
      "... Iteration 261 ... Epoch 0.21 ... Loss 0.740 ... Accuracy 0.562\n",
      "... Iteration 271 ... Epoch 0.22 ... Loss 0.571 ... Accuracy 0.688\n",
      "... Iteration 281 ... Epoch 0.22 ... Loss 0.572 ... Accuracy 0.719\n",
      "... Iteration 291 ... Epoch 0.23 ... Loss 0.425 ... Accuracy 0.812\n",
      "starting over on the validation set\n",
      "... Iteration 300 ... Epoch 0.24 ... Validation Loss 0.561 ... Validation Accuracy 0.681\n",
      "Saved checkpoint as: ../model_state_dumps/20190731_110950/SimpleMLP.pth\n",
      "best validation loss so far!: 0.5606921911239624\n",
      "Saved checkpoint as: ../model_state_dumps/20190731_110950/SimpleMLPBEST.pth\n",
      "... Iteration 301 ... Epoch 0.24 ... Loss 0.518 ... Accuracy 0.656\n",
      "... Iteration 311 ... Epoch 0.25 ... Loss 0.596 ... Accuracy 0.656\n",
      "... Iteration 321 ... Epoch 0.26 ... Loss 0.540 ... Accuracy 0.625\n",
      "... Iteration 331 ... Epoch 0.26 ... Loss 0.601 ... Accuracy 0.656\n",
      "... Iteration 341 ... Epoch 0.27 ... Loss 0.643 ... Accuracy 0.719\n",
      "... Iteration 351 ... Epoch 0.28 ... Loss 0.541 ... Accuracy 0.719\n",
      "... Iteration 361 ... Epoch 0.29 ... Loss 0.607 ... Accuracy 0.594\n",
      "... Iteration 371 ... Epoch 0.30 ... Loss 0.515 ... Accuracy 0.688\n",
      "... Iteration 381 ... Epoch 0.30 ... Loss 0.464 ... Accuracy 0.844\n",
      "... Iteration 391 ... Epoch 0.31 ... Loss 0.454 ... Accuracy 0.750\n",
      "... Iteration 400 ... Epoch 0.32 ... Validation Loss 0.511 ... Validation Accuracy 0.713\n",
      "Saved checkpoint as: ../model_state_dumps/20190731_110950/SimpleMLP.pth\n",
      "best validation loss so far!: 0.5114637017250061\n",
      "Saved checkpoint as: ../model_state_dumps/20190731_110950/SimpleMLPBEST.pth\n",
      "... Iteration 401 ... Epoch 0.32 ... Loss 0.425 ... Accuracy 0.750\n",
      "... Iteration 411 ... Epoch 0.33 ... Loss 0.517 ... Accuracy 0.625\n",
      "... Iteration 421 ... Epoch 0.34 ... Loss 0.543 ... Accuracy 0.625\n",
      "... Iteration 431 ... Epoch 0.34 ... Loss 0.603 ... Accuracy 0.594\n",
      "... Iteration 441 ... Epoch 0.35 ... Loss 0.541 ... Accuracy 0.688\n",
      "... Iteration 451 ... Epoch 0.36 ... Loss 0.461 ... Accuracy 0.875\n",
      "... Iteration 461 ... Epoch 0.37 ... Loss 0.389 ... Accuracy 0.812\n",
      "... Iteration 471 ... Epoch 0.38 ... Loss 0.673 ... Accuracy 0.594\n",
      "... Iteration 481 ... Epoch 0.38 ... Loss 0.489 ... Accuracy 0.781\n",
      "... Iteration 491 ... Epoch 0.39 ... Loss 0.615 ... Accuracy 0.656\n",
      "... Iteration 500 ... Epoch 0.40 ... Validation Loss 0.485 ... Validation Accuracy 0.732\n",
      "Saved checkpoint as: ../model_state_dumps/20190731_110950/SimpleMLP.pth\n",
      "best validation loss so far!: 0.4847427010536194\n",
      "Saved checkpoint as: ../model_state_dumps/20190731_110950/SimpleMLPBEST.pth\n",
      "... Iteration 501 ... Epoch 0.40 ... Loss 0.624 ... Accuracy 0.562\n",
      "... Iteration 511 ... Epoch 0.41 ... Loss 0.564 ... Accuracy 0.719\n",
      "... Iteration 521 ... Epoch 0.42 ... Loss 0.484 ... Accuracy 0.750\n",
      "... Iteration 531 ... Epoch 0.42 ... Loss 0.481 ... Accuracy 0.750\n",
      "... Iteration 541 ... Epoch 0.43 ... Loss 0.584 ... Accuracy 0.750\n",
      "... Iteration 551 ... Epoch 0.44 ... Loss 0.480 ... Accuracy 0.656\n",
      "... Iteration 561 ... Epoch 0.45 ... Loss 0.505 ... Accuracy 0.719\n",
      "... Iteration 571 ... Epoch 0.46 ... Loss 0.406 ... Accuracy 0.750\n",
      "... Iteration 581 ... Epoch 0.46 ... Loss 0.299 ... Accuracy 0.812\n",
      "... Iteration 591 ... Epoch 0.47 ... Loss 0.417 ... Accuracy 0.812\n",
      "starting over on the validation set\n",
      "... Iteration 600 ... Epoch 0.48 ... Validation Loss 0.494 ... Validation Accuracy 0.699\n",
      "Saved checkpoint as: ../model_state_dumps/20190731_110950/SimpleMLP.pth\n",
      "... Iteration 601 ... Epoch 0.48 ... Loss 0.485 ... Accuracy 0.688\n",
      "... Iteration 611 ... Epoch 0.49 ... Loss 0.366 ... Accuracy 0.750\n",
      "... Iteration 621 ... Epoch 0.50 ... Loss 0.478 ... Accuracy 0.688\n",
      "... Iteration 631 ... Epoch 0.50 ... Loss 0.441 ... Accuracy 0.812\n",
      "... Iteration 641 ... Epoch 0.51 ... Loss 0.438 ... Accuracy 0.719\n",
      "... Iteration 651 ... Epoch 0.52 ... Loss 0.570 ... Accuracy 0.688\n",
      "... Iteration 661 ... Epoch 0.53 ... Loss 0.479 ... Accuracy 0.656\n",
      "... Iteration 671 ... Epoch 0.54 ... Loss 0.419 ... Accuracy 0.750\n",
      "... Iteration 681 ... Epoch 0.54 ... Loss 0.438 ... Accuracy 0.750\n",
      "... Iteration 691 ... Epoch 0.55 ... Loss 0.520 ... Accuracy 0.750\n",
      "... Iteration 700 ... Epoch 0.56 ... Validation Loss 0.480 ... Validation Accuracy 0.723\n",
      "Saved checkpoint as: ../model_state_dumps/20190731_110950/SimpleMLP.pth\n",
      "best validation loss so far!: 0.4804569184780121\n",
      "Saved checkpoint as: ../model_state_dumps/20190731_110950/SimpleMLPBEST.pth\n",
      "... Iteration 701 ... Epoch 0.56 ... Loss 0.463 ... Accuracy 0.750\n",
      "... Iteration 711 ... Epoch 0.57 ... Loss 0.650 ... Accuracy 0.688\n",
      "... Iteration 721 ... Epoch 0.58 ... Loss 0.673 ... Accuracy 0.625\n",
      "... Iteration 731 ... Epoch 0.58 ... Loss 0.456 ... Accuracy 0.719\n",
      "... Iteration 741 ... Epoch 0.59 ... Loss 0.559 ... Accuracy 0.688\n",
      "... Iteration 751 ... Epoch 0.60 ... Loss 0.499 ... Accuracy 0.656\n",
      "... Iteration 761 ... Epoch 0.61 ... Loss 0.779 ... Accuracy 0.781\n",
      "... Iteration 771 ... Epoch 0.62 ... Loss 0.415 ... Accuracy 0.812\n",
      "... Iteration 781 ... Epoch 0.62 ... Loss 0.479 ... Accuracy 0.750\n",
      "... Iteration 791 ... Epoch 0.63 ... Loss 0.550 ... Accuracy 0.719\n",
      "... Iteration 800 ... Epoch 0.64 ... Validation Loss 0.469 ... Validation Accuracy 0.739\n",
      "Saved checkpoint as: ../model_state_dumps/20190731_110950/SimpleMLP.pth\n",
      "best validation loss so far!: 0.46868690848350525\n",
      "Saved checkpoint as: ../model_state_dumps/20190731_110950/SimpleMLPBEST.pth\n",
      "... Iteration 801 ... Epoch 0.64 ... Loss 0.421 ... Accuracy 0.719\n",
      "... Iteration 811 ... Epoch 0.65 ... Loss 0.420 ... Accuracy 0.719\n",
      "... Iteration 821 ... Epoch 0.66 ... Loss 0.511 ... Accuracy 0.656\n",
      "... Iteration 831 ... Epoch 0.66 ... Loss 0.376 ... Accuracy 0.844\n",
      "... Iteration 841 ... Epoch 0.67 ... Loss 0.512 ... Accuracy 0.781\n"
     ]
    },
    {
     "name": "stdout",
     "output_type": "stream",
     "text": [
      "... Iteration 851 ... Epoch 0.68 ... Loss 0.488 ... Accuracy 0.688\n",
      "... Iteration 861 ... Epoch 0.69 ... Loss 0.571 ... Accuracy 0.719\n",
      "... Iteration 871 ... Epoch 0.70 ... Loss 0.459 ... Accuracy 0.688\n",
      "... Iteration 881 ... Epoch 0.70 ... Loss 0.482 ... Accuracy 0.719\n",
      "... Iteration 891 ... Epoch 0.71 ... Loss 0.357 ... Accuracy 0.875\n",
      "starting over on the validation set\n",
      "... Iteration 900 ... Epoch 0.72 ... Validation Loss 0.485 ... Validation Accuracy 0.705\n",
      "Saved checkpoint as: ../model_state_dumps/20190731_110950/SimpleMLP.pth\n",
      "... Iteration 901 ... Epoch 0.72 ... Loss 0.667 ... Accuracy 0.656\n",
      "... Iteration 911 ... Epoch 0.73 ... Loss 0.362 ... Accuracy 0.875\n",
      "... Iteration 921 ... Epoch 0.74 ... Loss 0.371 ... Accuracy 0.781\n",
      "... Iteration 931 ... Epoch 0.74 ... Loss 0.439 ... Accuracy 0.719\n",
      "... Iteration 941 ... Epoch 0.75 ... Loss 0.326 ... Accuracy 0.844\n",
      "... Iteration 951 ... Epoch 0.76 ... Loss 0.491 ... Accuracy 0.719\n",
      "... Iteration 961 ... Epoch 0.77 ... Loss 0.625 ... Accuracy 0.562\n",
      "... Iteration 971 ... Epoch 0.78 ... Loss 0.580 ... Accuracy 0.625\n",
      "... Iteration 981 ... Epoch 0.78 ... Loss 0.439 ... Accuracy 0.750\n",
      "... Iteration 991 ... Epoch 0.79 ... Loss 0.426 ... Accuracy 0.812\n",
      "... Iteration 1000 ... Epoch 0.80 ... Validation Loss 0.503 ... Validation Accuracy 0.705\n",
      "Saved checkpoint as: ../model_state_dumps/20190731_110950/SimpleMLP.pth\n",
      "... Iteration 1001 ... Epoch 0.80 ... Loss 0.537 ... Accuracy 0.625\n",
      "... Iteration 1011 ... Epoch 0.81 ... Loss 0.515 ... Accuracy 0.656\n",
      "... Iteration 1021 ... Epoch 0.82 ... Loss 0.393 ... Accuracy 0.781\n",
      "... Iteration 1031 ... Epoch 0.82 ... Loss 0.467 ... Accuracy 0.719\n",
      "... Iteration 1041 ... Epoch 0.83 ... Loss 0.472 ... Accuracy 0.750\n",
      "... Iteration 1051 ... Epoch 0.84 ... Loss 0.546 ... Accuracy 0.656\n",
      "... Iteration 1061 ... Epoch 0.85 ... Loss 0.431 ... Accuracy 0.781\n"
     ]
    }
   ],
   "source": [
    "%%time\n",
    "engine.train(epochs=2.5,report_interval=10,valid_interval=100)"
   ]
  },
  {
   "cell_type": "markdown",
   "metadata": {},
   "source": [
    "Is the model training?"
   ]
  },
  {
   "cell_type": "markdown",
   "metadata": {},
   "source": [
    "## Defining a simple Convolutional Network"
   ]
  },
  {
   "cell_type": "code",
   "execution_count": null,
   "metadata": {},
   "outputs": [],
   "source": [
    "from models.simpleCNN import SimpleCNN\n",
    "model_CNN=SimpleCNN(num_input_channels=38,num_classes=3)"
   ]
  },
  {
   "cell_type": "code",
   "execution_count": null,
   "metadata": {},
   "outputs": [],
   "source": [
    "def rotate_chan(x):\n",
    "    return np.transpose(x,(2,0,1))"
   ]
  },
  {
   "cell_type": "code",
   "execution_count": null,
   "metadata": {},
   "outputs": [],
   "source": [
    "dset=WCH5Dataset(\"/fast_scratch/TRISEP_data/NUPRISM.h5\",val_split=0.1,test_split=0.1,transform=rotate_chan)"
   ]
  },
  {
   "cell_type": "code",
   "execution_count": null,
   "metadata": {},
   "outputs": [],
   "source": [
    "engine=Engine(model_CNN,dset,config)"
   ]
  },
  {
   "cell_type": "code",
   "execution_count": null,
   "metadata": {},
   "outputs": [],
   "source": [
    "for name, param in model_CNN.named_parameters():\n",
    "    print(\"name of a parameter: {}, type: {}, parameter requires a gradient?: {}\".\n",
    "          format(name, type(param),param.requires_grad))"
   ]
  },
  {
   "cell_type": "code",
   "execution_count": null,
   "metadata": {
    "scrolled": true
   },
   "outputs": [],
   "source": [
    "%%time\n",
    "engine.train(epochs=5,report_interval=10,valid_interval=100)"
   ]
  },
  {
   "cell_type": "code",
   "execution_count": null,
   "metadata": {},
   "outputs": [],
   "source": []
  }
 ],
 "metadata": {
  "kernelspec": {
   "display_name": "Python 3",
   "language": "python",
   "name": "python3"
  },
  "language_info": {
   "codemirror_mode": {
    "name": "ipython",
    "version": 3
   },
   "file_extension": ".py",
   "mimetype": "text/x-python",
   "name": "python",
   "nbconvert_exporter": "python",
   "pygments_lexer": "ipython3",
   "version": "3.6.5"
  }
 },
 "nbformat": 4,
 "nbformat_minor": 2
}
