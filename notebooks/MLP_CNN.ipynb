{
 "cells": [
  {
   "cell_type": "markdown",
   "metadata": {},
   "source": [
    "# TRISEP ML tutorial part II: Building your first fully connected network and a CNN "
   ]
  },
  {
   "cell_type": "markdown",
   "metadata": {},
   "source": [
    "## Building a simple fully connected network (a Multi-Layer Perceptron)"
   ]
  },
  {
   "cell_type": "markdown",
   "metadata": {},
   "source": [
    "Let's set up the paths and make a dataset again:"
   ]
  },
  {
   "cell_type": "code",
   "execution_count": 1,
   "metadata": {},
   "outputs": [],
   "source": [
    "import os,sys\n",
    "currentdir = os.getcwd()\n",
    "parentdir = os.path.dirname(currentdir)\n",
    "sys.path.insert(0,parentdir) "
   ]
  },
  {
   "cell_type": "code",
   "execution_count": 2,
   "metadata": {},
   "outputs": [],
   "source": [
    "from utils.data_handling import WCH5Dataset"
   ]
  },
  {
   "cell_type": "code",
   "execution_count": 4,
   "metadata": {},
   "outputs": [],
   "source": [
    "dset=WCH5Dataset(\"/fast_scratch/TRISEP_data/NUPRISM.h5\",val_split=0.1,test_split=0.1)"
   ]
  },
  {
   "cell_type": "markdown",
   "metadata": {},
   "source": [
    "Now Let's make our model. We'll talk about \n",
    "  - model parameters\n",
    "  - inputs and the forward method\n",
    "  - Modules containing modules\n",
    "  - Sequential Module  \n",
    "  Lets open [simpleMLP](/edit/models/simpleMLP.py)"
   ]
  },
  {
   "cell_type": "code",
   "execution_count": 5,
   "metadata": {},
   "outputs": [],
   "source": [
    "from models.simpleMLP import SimpleMLP"
   ]
  },
  {
   "cell_type": "code",
   "execution_count": 6,
   "metadata": {},
   "outputs": [],
   "source": [
    "model_MLP=SimpleMLP(num_classes=3)"
   ]
  },
  {
   "cell_type": "markdown",
   "metadata": {},
   "source": [
    "Let's look at the parameters:"
   ]
  },
  {
   "cell_type": "code",
   "execution_count": 7,
   "metadata": {},
   "outputs": [
    {
     "name": "stdout",
     "output_type": "stream",
     "text": [
      "name of a parameter: fc1.weight, type: <class 'torch.nn.parameter.Parameter'>, parameter requires a gradient?: True\n",
      "name of a parameter: fc1.bias, type: <class 'torch.nn.parameter.Parameter'>, parameter requires a gradient?: True\n",
      "name of a parameter: fc2.weight, type: <class 'torch.nn.parameter.Parameter'>, parameter requires a gradient?: True\n",
      "name of a parameter: fc2.bias, type: <class 'torch.nn.parameter.Parameter'>, parameter requires a gradient?: True\n",
      "name of a parameter: fc3.weight, type: <class 'torch.nn.parameter.Parameter'>, parameter requires a gradient?: True\n",
      "name of a parameter: fc3.bias, type: <class 'torch.nn.parameter.Parameter'>, parameter requires a gradient?: True\n",
      "name of a parameter: fc4.weight, type: <class 'torch.nn.parameter.Parameter'>, parameter requires a gradient?: True\n",
      "name of a parameter: fc4.bias, type: <class 'torch.nn.parameter.Parameter'>, parameter requires a gradient?: True\n",
      "name of a parameter: fc5.weight, type: <class 'torch.nn.parameter.Parameter'>, parameter requires a gradient?: True\n",
      "name of a parameter: fc5.bias, type: <class 'torch.nn.parameter.Parameter'>, parameter requires a gradient?: True\n"
     ]
    }
   ],
   "source": [
    "for name, param in model_MLP.named_parameters():\n",
    "    print(\"name of a parameter: {}, type: {}, parameter requires a gradient?: {}\".\n",
    "          format(name, type(param),param.requires_grad))"
   ]
  },
  {
   "cell_type": "markdown",
   "metadata": {},
   "source": [
    "As we can see by default the parameters have `requires_grad` set - i.e. we will be able to obtain gradient of the loss function with respect to these parameters."
   ]
  },
  {
   "cell_type": "markdown",
   "metadata": {},
   "source": [
    "Let's quickly look at the [source](https://pytorch.org/docs/stable/_modules/torch/nn/modules/linear.html#Linear) for the linear module"
   ]
  },
  {
   "cell_type": "markdown",
   "metadata": {},
   "source": [
    "The parameters descend from the `Tensor` class. When `Parameter` object is instantiated as a member of a `Module` object class the parameter is added to `Module`s list of parameters automatically. This list and values are captured in the 'state dictionary' of a module:"
   ]
  },
  {
   "cell_type": "code",
   "execution_count": 8,
   "metadata": {
    "scrolled": true
   },
   "outputs": [
    {
     "data": {
      "text/plain": [
       "OrderedDict([('fc1.weight',\n",
       "              tensor([[-4.8268e-03, -2.5681e-03,  6.3394e-04,  ...,  6.2965e-04,\n",
       "                       -4.8394e-03,  5.8600e-03],\n",
       "                      [ 1.7244e-03,  5.6430e-03, -5.5260e-03,  ...,  1.0390e-03,\n",
       "                        5.5448e-03,  5.8260e-03],\n",
       "                      [-6.2970e-03, -5.0266e-03,  1.9589e-03,  ..., -2.1675e-04,\n",
       "                        6.2352e-03, -3.6170e-03],\n",
       "                      ...,\n",
       "                      [ 5.4421e-03, -5.4430e-03,  5.1751e-03,  ..., -5.7674e-03,\n",
       "                        4.7338e-03, -1.1420e-03],\n",
       "                      [-5.2340e-03,  4.5352e-03,  2.6759e-03,  ..., -3.4441e-04,\n",
       "                        4.7086e-03, -3.6193e-03],\n",
       "                      [-1.6901e-03,  2.4813e-03,  6.2599e-03,  ...,  7.9344e-06,\n",
       "                       -2.4185e-03,  4.7303e-03]])),\n",
       "             ('fc1.bias',\n",
       "              tensor([-0.0038, -0.0026, -0.0050,  ...,  0.0017,  0.0046,  0.0052])),\n",
       "             ('fc2.weight',\n",
       "              tensor([[ 5.8875e-03,  9.3415e-03, -3.9625e-04,  ..., -5.8056e-03,\n",
       "                       -6.4758e-04, -6.7842e-03],\n",
       "                      [ 3.7286e-03,  2.4111e-04, -5.7514e-03,  ..., -8.8154e-03,\n",
       "                        3.6756e-03,  4.4179e-03],\n",
       "                      [-5.7838e-03,  6.1852e-03,  2.1402e-03,  ..., -5.6372e-03,\n",
       "                       -9.3148e-03,  1.0050e-02],\n",
       "                      ...,\n",
       "                      [ 7.4060e-03,  9.0776e-03, -8.3144e-03,  ..., -4.4557e-03,\n",
       "                       -8.6548e-03,  3.1967e-03],\n",
       "                      [-2.2117e-04, -2.6347e-03,  3.3563e-03,  ..., -1.6977e-03,\n",
       "                        5.1707e-03, -5.4958e-05],\n",
       "                      [-7.0231e-03, -2.3019e-03,  9.6524e-03,  ...,  5.3345e-03,\n",
       "                       -6.3903e-03, -1.5685e-03]])),\n",
       "             ('fc2.bias',\n",
       "              tensor([-0.0061, -0.0048, -0.0026,  ..., -0.0009, -0.0043, -0.0017])),\n",
       "             ('fc3.weight',\n",
       "              tensor([[-0.0076, -0.0006, -0.0041,  ..., -0.0007,  0.0060,  0.0120],\n",
       "                      [-0.0037,  0.0121, -0.0117,  ...,  0.0102, -0.0101, -0.0021],\n",
       "                      [ 0.0097,  0.0032, -0.0136,  ...,  0.0002, -0.0024, -0.0125],\n",
       "                      ...,\n",
       "                      [ 0.0070,  0.0113, -0.0074,  ..., -0.0093, -0.0134, -0.0010],\n",
       "                      [ 0.0027,  0.0032, -0.0131,  ...,  0.0038, -0.0039, -0.0063],\n",
       "                      [-0.0132, -0.0022,  0.0079,  ...,  0.0003, -0.0115, -0.0069]])),\n",
       "             ('fc3.bias',\n",
       "              tensor([ 0.0047,  0.0133,  0.0096,  ..., -0.0012,  0.0068, -0.0015])),\n",
       "             ('fc4.weight',\n",
       "              tensor([[ 0.0180, -0.0250,  0.0107,  ..., -0.0234, -0.0059, -0.0013],\n",
       "                      [ 0.0121, -0.0016,  0.0235,  ..., -0.0082, -0.0243, -0.0195],\n",
       "                      [ 0.0194,  0.0015, -0.0188,  ..., -0.0198,  0.0071,  0.0055],\n",
       "                      ...,\n",
       "                      [-0.0069,  0.0126,  0.0019,  ...,  0.0031,  0.0133,  0.0101],\n",
       "                      [-0.0035, -0.0150,  0.0214,  ...,  0.0048,  0.0214,  0.0141],\n",
       "                      [-0.0078,  0.0211, -0.0069,  ...,  0.0225,  0.0216,  0.0143]])),\n",
       "             ('fc4.bias',\n",
       "              tensor([-2.1970e-02, -4.6684e-03, -9.8445e-03, -6.5136e-03, -1.4200e-02,\n",
       "                      -2.0425e-02, -7.9926e-03,  1.2525e-03,  1.3584e-02,  1.8301e-02,\n",
       "                       1.5931e-03,  1.6080e-02, -1.8857e-02,  1.1319e-02, -1.6870e-02,\n",
       "                      -1.4760e-03,  1.0099e-02,  1.9367e-02, -2.2014e-02, -1.6836e-02,\n",
       "                       1.9329e-02, -1.3057e-02, -2.0931e-02, -1.7601e-02,  2.4327e-02,\n",
       "                       6.9908e-03,  1.2515e-02,  1.4592e-02,  7.1319e-03,  7.5410e-03,\n",
       "                       1.1536e-02,  1.0940e-02,  7.7400e-03,  2.4578e-03, -3.4290e-03,\n",
       "                      -1.9795e-02, -1.4808e-02, -7.6663e-03,  4.7442e-03, -6.1251e-03,\n",
       "                       1.6111e-02, -2.1658e-02, -6.6593e-03,  1.6735e-02, -2.2162e-02,\n",
       "                      -6.4023e-03, -6.0139e-03, -1.9960e-02, -9.9134e-03, -9.6488e-03,\n",
       "                       7.0017e-03,  2.0139e-03, -2.0826e-02,  1.6222e-02, -7.2395e-03,\n",
       "                       2.2080e-02,  1.5644e-03, -1.8619e-03,  2.1904e-02,  1.8907e-03,\n",
       "                      -2.3555e-02,  2.1099e-02, -2.4529e-02, -2.4265e-02, -6.9992e-04,\n",
       "                      -9.7619e-03,  2.1034e-03, -1.8476e-02,  2.2698e-02,  2.2885e-02,\n",
       "                       8.6032e-03, -1.4029e-03,  9.4317e-04, -9.6379e-03,  1.9600e-02,\n",
       "                       3.1673e-03,  1.2379e-02,  1.5214e-02, -8.0649e-03,  2.1960e-02,\n",
       "                       1.7262e-02,  1.7020e-02, -1.7292e-02,  6.6122e-04, -1.9842e-02,\n",
       "                      -5.4789e-03,  7.5848e-04,  1.0511e-02, -3.2641e-03, -1.9625e-03,\n",
       "                      -1.3682e-02,  3.7853e-03,  1.6625e-02,  8.6221e-03, -1.4556e-02,\n",
       "                       2.0993e-02,  7.1510e-03,  1.7950e-03, -2.4936e-02,  1.7484e-02,\n",
       "                       2.2935e-02,  1.9625e-02, -1.8490e-02,  4.0621e-03, -8.4230e-03,\n",
       "                       9.6347e-05,  1.0395e-02, -4.4036e-04,  3.0966e-03,  2.7236e-03,\n",
       "                       2.3213e-02, -7.2261e-03,  1.9852e-02,  2.0917e-02,  8.1012e-03,\n",
       "                      -6.9600e-03, -1.8936e-02, -1.5299e-02, -1.0878e-02,  5.8867e-03,\n",
       "                       1.0429e-03, -4.7059e-03,  1.3193e-02, -1.2158e-04, -9.2850e-03,\n",
       "                       1.5531e-02, -1.5905e-02,  8.9868e-03, -1.0247e-02,  9.1048e-03,\n",
       "                       2.2149e-02, -2.7483e-03,  9.5806e-03,  4.2678e-03, -6.8331e-03,\n",
       "                       1.0480e-02,  1.9175e-02,  8.9811e-03, -2.0963e-02,  2.3921e-02,\n",
       "                       1.2919e-02,  4.7010e-03, -2.4635e-02,  1.5659e-02, -6.6053e-03,\n",
       "                       3.0043e-03, -1.8373e-02,  1.7297e-02,  1.6409e-02,  4.9820e-03,\n",
       "                       1.5266e-02,  8.5307e-03, -2.4664e-03,  2.2426e-02,  2.4644e-03,\n",
       "                      -8.5491e-03,  8.2305e-03,  1.9476e-03, -1.8122e-02,  3.0945e-03,\n",
       "                       2.2597e-03, -1.1955e-02, -7.1958e-03,  1.7789e-02,  2.3054e-02,\n",
       "                       1.7692e-02, -1.7784e-02,  2.0349e-02,  3.3917e-03,  5.2550e-03,\n",
       "                       1.2364e-03,  1.7621e-02, -2.7628e-03, -2.8002e-03, -1.9670e-02,\n",
       "                      -1.3216e-02,  7.4121e-03,  1.0506e-02,  1.7735e-02,  2.3971e-02,\n",
       "                      -9.0181e-03,  3.9289e-03,  2.3265e-02,  1.8397e-02,  1.1317e-02,\n",
       "                       2.2347e-02, -3.5616e-03, -1.2133e-02,  1.3757e-02, -4.4238e-04,\n",
       "                      -1.1750e-02, -1.1871e-02, -1.8389e-02,  1.4757e-02,  3.8291e-03,\n",
       "                       8.8223e-04, -2.2712e-02,  1.0567e-02, -1.6072e-02,  1.6564e-02,\n",
       "                      -1.6202e-02,  4.5958e-04, -1.5032e-02,  4.9928e-03, -4.0262e-03,\n",
       "                       7.5451e-04,  9.5658e-03, -1.8176e-02,  1.7667e-02, -2.2850e-02,\n",
       "                      -1.7906e-02, -7.9494e-03,  1.7925e-02, -6.1596e-03, -1.6019e-02,\n",
       "                       1.2947e-03,  9.7785e-03, -2.0779e-02, -2.1760e-02,  2.0123e-02,\n",
       "                       9.5916e-03,  1.6217e-02, -2.1292e-03,  2.5376e-03, -1.2161e-02,\n",
       "                       1.4088e-02, -1.3553e-02, -8.5599e-03,  1.9661e-02, -9.5785e-03,\n",
       "                       1.0250e-02, -1.6174e-02, -1.3822e-02, -2.3912e-03,  2.2735e-02,\n",
       "                      -2.4507e-02, -1.5373e-02, -1.5391e-02, -2.2454e-03, -1.8885e-02,\n",
       "                      -1.8858e-02,  3.8101e-03, -1.5520e-02, -1.1937e-02, -2.1313e-02,\n",
       "                       1.1413e-02, -1.5558e-02,  1.2617e-02,  4.2580e-03,  1.2673e-03,\n",
       "                      -1.6330e-02, -4.6838e-03,  1.6530e-02, -2.4687e-02, -6.4526e-03,\n",
       "                       1.9443e-02, -4.0727e-03, -1.9918e-02, -1.7466e-02, -6.2842e-03,\n",
       "                       2.0082e-02,  1.6512e-03, -1.6344e-02, -1.2417e-02,  2.1031e-02,\n",
       "                      -2.2132e-02, -2.3584e-02, -5.0646e-03, -1.4631e-02,  2.0828e-02,\n",
       "                       2.0114e-02, -7.3979e-05, -2.1041e-03,  2.2882e-02,  1.2921e-02,\n",
       "                       1.9817e-02,  1.5541e-02,  8.5668e-03, -1.6360e-02,  1.1815e-02,\n",
       "                      -1.6864e-02,  1.8658e-02,  1.9835e-02,  2.9146e-03,  8.0748e-03,\n",
       "                       1.5035e-02,  1.2658e-02, -1.0587e-02,  1.8603e-02,  1.7575e-02,\n",
       "                       1.4075e-02, -1.9073e-02,  2.2998e-02, -1.1709e-02, -3.2707e-03,\n",
       "                      -2.2300e-02,  2.0950e-02, -2.2770e-02,  4.7541e-03,  2.4001e-02,\n",
       "                       1.8150e-02, -1.0023e-02, -4.8261e-03, -4.6638e-03,  2.2298e-02,\n",
       "                      -2.0163e-02, -5.8625e-03, -1.9133e-02, -1.0140e-02, -1.0219e-02,\n",
       "                       1.9494e-02, -1.9718e-02, -2.0160e-02,  9.7233e-03,  9.7512e-03,\n",
       "                      -2.4615e-02, -4.1678e-03,  2.7072e-05, -1.0960e-02,  8.0792e-03,\n",
       "                      -2.1684e-02,  9.8386e-03, -1.0805e-02,  1.0102e-02, -1.6137e-02,\n",
       "                      -1.2273e-02, -3.0618e-03,  1.3393e-02, -4.2114e-04, -2.6937e-03,\n",
       "                      -8.4411e-04, -1.7210e-02,  1.5223e-02, -1.0784e-02,  6.4326e-03,\n",
       "                      -1.8043e-02, -2.0197e-02,  8.8118e-03,  5.4716e-04,  1.1433e-02,\n",
       "                       1.9134e-02, -1.6821e-02,  2.3223e-02,  1.3543e-02,  2.0841e-02,\n",
       "                      -1.5562e-02, -4.0461e-03, -7.2688e-04,  1.8671e-02, -4.4867e-04,\n",
       "                      -1.3390e-02, -1.6288e-02, -1.1435e-02,  1.3447e-02, -1.4604e-03,\n",
       "                       2.1329e-02,  1.4307e-02, -8.4051e-03,  1.2114e-02,  5.9975e-04,\n",
       "                      -1.6258e-02, -1.1076e-02, -1.7075e-02,  1.2559e-02, -1.6323e-02,\n",
       "                       1.4407e-02, -2.8632e-03, -3.2846e-03, -1.7042e-02,  1.7968e-02,\n",
       "                       1.4649e-02,  1.4477e-02,  2.3964e-02,  1.5601e-02,  1.0686e-02,\n",
       "                       1.6105e-02,  9.6610e-03, -8.9665e-03,  2.3974e-02, -2.6084e-03,\n",
       "                       8.2151e-03,  1.7662e-02,  1.5576e-02, -1.2104e-02,  2.4743e-02,\n",
       "                      -2.2236e-02,  1.4726e-02,  1.8727e-02,  2.3628e-02,  4.1149e-03,\n",
       "                       4.0128e-03,  2.0945e-02,  5.4008e-03, -2.0508e-02,  5.8559e-03,\n",
       "                       1.0549e-02,  1.3806e-02,  9.3743e-03,  1.2006e-02,  7.2974e-03])),\n",
       "             ('fc5.weight',\n",
       "              tensor([[-0.0432,  0.0444, -0.0089,  ..., -0.0084,  0.0136,  0.0267],\n",
       "                      [-0.0021, -0.0245,  0.0228,  ...,  0.0440,  0.0399,  0.0102],\n",
       "                      [-0.0394, -0.0446, -0.0119,  ...,  0.0198, -0.0313, -0.0229]])),\n",
       "             ('fc5.bias', tensor([ 0.0214, -0.0282, -0.0034]))])"
      ]
     },
     "execution_count": 8,
     "metadata": {},
     "output_type": "execute_result"
    }
   ],
   "source": [
    "model_MLP.state_dict()"
   ]
  },
  {
   "cell_type": "markdown",
   "metadata": {},
   "source": [
    "Now let's look at sequential version"
   ]
  },
  {
   "cell_type": "code",
   "execution_count": 9,
   "metadata": {},
   "outputs": [],
   "source": [
    "from models.simpleMLP import SimpleMLPSEQ\n",
    "model_MLPSEQ=SimpleMLPSEQ(num_classes=3)"
   ]
  },
  {
   "cell_type": "code",
   "execution_count": 10,
   "metadata": {},
   "outputs": [
    {
     "name": "stdout",
     "output_type": "stream",
     "text": [
      "name of a parameter: _sequence.0.weight, type: <class 'torch.nn.parameter.Parameter'>, parameter requires a gradient?: True\n",
      "name of a parameter: _sequence.0.bias, type: <class 'torch.nn.parameter.Parameter'>, parameter requires a gradient?: True\n",
      "name of a parameter: _sequence.2.weight, type: <class 'torch.nn.parameter.Parameter'>, parameter requires a gradient?: True\n",
      "name of a parameter: _sequence.2.bias, type: <class 'torch.nn.parameter.Parameter'>, parameter requires a gradient?: True\n",
      "name of a parameter: _sequence.4.weight, type: <class 'torch.nn.parameter.Parameter'>, parameter requires a gradient?: True\n",
      "name of a parameter: _sequence.4.bias, type: <class 'torch.nn.parameter.Parameter'>, parameter requires a gradient?: True\n",
      "name of a parameter: _sequence.6.weight, type: <class 'torch.nn.parameter.Parameter'>, parameter requires a gradient?: True\n",
      "name of a parameter: _sequence.6.bias, type: <class 'torch.nn.parameter.Parameter'>, parameter requires a gradient?: True\n",
      "name of a parameter: _sequence.8.weight, type: <class 'torch.nn.parameter.Parameter'>, parameter requires a gradient?: True\n",
      "name of a parameter: _sequence.8.bias, type: <class 'torch.nn.parameter.Parameter'>, parameter requires a gradient?: True\n"
     ]
    }
   ],
   "source": [
    "for name, param in model_MLPSEQ.named_parameters():\n",
    "    print(\"name of a parameter: {}, type: {}, parameter requires a gradient?: {}\".\n",
    "          format(name, type(param),param.requires_grad))"
   ]
  },
  {
   "cell_type": "code",
   "execution_count": 11,
   "metadata": {
    "scrolled": true
   },
   "outputs": [
    {
     "name": "stdout",
     "output_type": "stream",
     "text": [
      "OrderedDict([('_sequence.0.weight', tensor([[-0.0060,  0.0039, -0.0043,  ..., -0.0011,  0.0007,  0.0016],\n",
      "        [-0.0041,  0.0002, -0.0034,  ..., -0.0002,  0.0051,  0.0015],\n",
      "        [ 0.0003,  0.0019,  0.0004,  ...,  0.0049,  0.0035,  0.0010],\n",
      "        ...,\n",
      "        [-0.0020,  0.0025,  0.0063,  ...,  0.0006,  0.0060,  0.0008],\n",
      "        [-0.0052, -0.0025, -0.0007,  ...,  0.0031,  0.0030, -0.0047],\n",
      "        [ 0.0042, -0.0041,  0.0030,  ...,  0.0060, -0.0046, -0.0031]])), ('_sequence.0.bias', tensor([ 0.0027, -0.0051,  0.0053,  ...,  0.0015,  0.0025,  0.0014])), ('_sequence.2.weight', tensor([[-0.0040,  0.0042,  0.0070,  ..., -0.0054,  0.0027, -0.0023],\n",
      "        [ 0.0017,  0.0086,  0.0026,  ..., -0.0082, -0.0076, -0.0034],\n",
      "        [ 0.0021,  0.0072,  0.0022,  ...,  0.0021, -0.0062, -0.0002],\n",
      "        ...,\n",
      "        [-0.0030,  0.0063, -0.0055,  ..., -0.0031,  0.0087, -0.0019],\n",
      "        [ 0.0083,  0.0009, -0.0064,  ...,  0.0042, -0.0047,  0.0026],\n",
      "        [ 0.0099,  0.0063,  0.0009,  ..., -0.0033, -0.0007, -0.0069]])), ('_sequence.2.bias', tensor([-0.0032, -0.0064, -0.0058,  ...,  0.0025, -0.0083,  0.0092])), ('_sequence.4.weight', tensor([[ 2.0372e-03,  1.7454e-03, -8.8117e-03,  ...,  2.5032e-04,\n",
      "          2.8346e-03,  1.4254e-02],\n",
      "        [-1.5075e-03, -9.5514e-03,  8.7887e-03,  ..., -4.3594e-04,\n",
      "         -9.9567e-04, -1.4157e-02],\n",
      "        [ 1.3759e-03,  1.8557e-03, -6.6205e-03,  ...,  1.2532e-02,\n",
      "          6.1428e-03, -4.6316e-03],\n",
      "        ...,\n",
      "        [-3.0427e-03,  4.2799e-03, -8.0438e-03,  ...,  3.7843e-04,\n",
      "         -1.8804e-03,  1.3519e-02],\n",
      "        [-1.1108e-02,  4.3833e-03,  3.7012e-03,  ..., -1.3094e-02,\n",
      "          1.0600e-02,  9.5516e-03],\n",
      "        [ 1.1920e-02, -7.7197e-03, -5.3029e-05,  ..., -1.3162e-02,\n",
      "          8.4514e-03,  8.5404e-03]])), ('_sequence.4.bias', tensor([ 0.0076, -0.0039, -0.0124,  ...,  0.0022, -0.0140, -0.0112])), ('_sequence.6.weight', tensor([[-0.0207, -0.0155, -0.0181,  ..., -0.0186,  0.0013,  0.0013],\n",
      "        [ 0.0192,  0.0203, -0.0077,  ..., -0.0161,  0.0056, -0.0143],\n",
      "        [-0.0156, -0.0224,  0.0043,  ...,  0.0197, -0.0157, -0.0177],\n",
      "        ...,\n",
      "        [-0.0203, -0.0114,  0.0209,  ..., -0.0091, -0.0080, -0.0157],\n",
      "        [ 0.0124, -0.0029,  0.0211,  ...,  0.0225, -0.0190,  0.0048],\n",
      "        [-0.0144, -0.0100, -0.0181,  ..., -0.0190, -0.0241,  0.0097]])), ('_sequence.6.bias', tensor([-1.7472e-02, -7.4864e-03,  6.3856e-03, -2.0516e-02, -1.9577e-02,\n",
      "        -3.4812e-03,  1.4715e-04, -5.9358e-03, -1.4490e-02, -3.1842e-03,\n",
      "        -1.2473e-02,  1.2162e-02,  1.4246e-02, -1.6789e-02, -2.3513e-02,\n",
      "        -6.3242e-03, -1.0750e-02, -2.4881e-02,  7.9631e-03,  9.9972e-03,\n",
      "         1.9194e-02, -4.4161e-03, -8.5190e-03,  2.4664e-02,  1.6607e-02,\n",
      "        -1.6690e-02, -1.5571e-03, -2.2836e-02,  2.7912e-03, -1.5408e-02,\n",
      "         2.0902e-02,  6.6791e-03, -5.8192e-03, -2.4070e-02, -1.8717e-02,\n",
      "         2.0034e-02, -4.7890e-03,  1.4948e-02,  2.3852e-02,  2.3129e-02,\n",
      "        -1.9602e-02, -1.7568e-02,  2.1125e-02, -5.8905e-03,  3.5557e-03,\n",
      "        -1.7846e-02, -6.2709e-03, -2.0450e-02,  2.2236e-02, -1.7430e-02,\n",
      "         3.7119e-03,  6.1011e-04, -9.6276e-03,  1.1971e-02,  7.8027e-03,\n",
      "        -8.6989e-03,  3.7454e-03, -3.0203e-03,  1.5999e-02,  1.0144e-02,\n",
      "         2.3843e-03, -4.1817e-03,  9.8691e-03, -8.7104e-04,  1.8677e-02,\n",
      "        -1.2048e-02, -5.4819e-03, -9.6430e-03,  1.8750e-02, -1.2478e-02,\n",
      "        -2.3944e-02, -5.4532e-03, -1.6063e-02,  1.7652e-02,  1.3505e-02,\n",
      "        -1.5646e-02,  1.5173e-02, -1.5291e-02,  1.8273e-02,  1.0737e-02,\n",
      "         1.0056e-02, -3.6211e-03,  1.9555e-02, -7.8825e-04,  7.2566e-04,\n",
      "        -1.7310e-02,  2.5373e-03,  2.0347e-02, -5.2947e-03,  1.2883e-02,\n",
      "         9.0350e-03,  1.2860e-02,  4.2348e-03,  1.8292e-02, -4.2574e-03,\n",
      "         1.4910e-02, -1.5113e-02,  2.5378e-03,  2.2615e-02, -2.3497e-02,\n",
      "         6.9499e-03,  2.1617e-02,  9.2468e-03,  4.9545e-03,  1.8906e-03,\n",
      "        -1.1071e-02, -1.3402e-02,  3.0431e-03,  1.6605e-02,  1.5237e-02,\n",
      "         1.7476e-02,  2.4693e-02,  4.7399e-03,  1.7239e-02,  2.2357e-02,\n",
      "        -6.9196e-03, -1.7013e-02,  1.9518e-02, -2.1487e-02,  2.7172e-03,\n",
      "         2.3820e-02, -6.9039e-03, -3.5871e-03, -2.4554e-02, -1.8415e-03,\n",
      "         2.3488e-02, -1.2075e-02,  9.3556e-03, -1.7853e-02, -2.3231e-02,\n",
      "        -2.2149e-02, -1.7031e-02,  1.8850e-03,  2.3726e-02, -4.4666e-03,\n",
      "         4.3621e-04, -1.0746e-02, -1.1198e-02, -1.0945e-02,  7.6582e-03,\n",
      "        -2.4269e-02, -1.5754e-02, -1.0608e-02,  1.4489e-02, -2.9363e-03,\n",
      "        -1.7181e-02, -2.7604e-03,  2.3039e-02, -2.1213e-02, -2.0638e-02,\n",
      "         2.0965e-02, -1.1724e-02, -9.0060e-03, -2.9793e-03, -1.4977e-02,\n",
      "        -9.9818e-03,  2.3396e-02, -2.2796e-02, -1.9418e-02,  1.6890e-02,\n",
      "        -7.6379e-04,  6.1534e-03,  1.5530e-02,  2.1800e-02,  1.2901e-02,\n",
      "         1.5921e-02,  1.0167e-02,  1.1388e-03,  1.1154e-03,  1.6469e-02,\n",
      "         1.2725e-02,  1.9295e-02, -2.4636e-02,  4.4025e-03, -1.7838e-02,\n",
      "        -7.0896e-03, -1.9387e-02,  1.0894e-02, -1.7205e-02,  1.7445e-02,\n",
      "        -8.3036e-03,  6.3086e-03, -9.6745e-04,  1.3941e-02, -7.4522e-03,\n",
      "        -1.1275e-02, -1.7025e-02, -6.6856e-03, -1.7657e-02, -1.6829e-02,\n",
      "         1.2070e-02, -1.2012e-02,  6.4480e-03, -1.7438e-02,  6.8803e-03,\n",
      "        -2.0439e-02, -2.2992e-02, -1.8449e-02,  1.1243e-02, -1.0699e-02,\n",
      "        -1.1131e-02, -2.4769e-02,  7.0065e-03,  1.4070e-02, -1.6696e-02,\n",
      "        -1.3751e-02, -2.3477e-02, -1.8521e-02, -2.2525e-02, -1.8238e-03,\n",
      "        -1.7435e-02, -1.5494e-02,  2.0214e-02, -1.2014e-03, -1.3515e-03,\n",
      "         1.1438e-02,  1.7019e-02, -2.3013e-02,  1.6765e-02,  7.9237e-03,\n",
      "         1.6445e-02, -2.3307e-02, -5.0433e-03, -1.5122e-02, -7.2008e-03,\n",
      "         4.2709e-03, -1.5213e-02,  9.1384e-03,  1.6997e-02,  2.3312e-03,\n",
      "        -4.1562e-03,  1.4394e-03, -2.4331e-02, -1.6243e-04, -1.4419e-02,\n",
      "         3.1492e-04,  8.3969e-03, -1.9804e-02, -1.1615e-02, -9.9288e-03,\n",
      "        -1.8266e-02,  2.0250e-02, -2.2517e-02, -1.2229e-02,  1.3683e-02,\n",
      "        -1.7479e-03, -1.5467e-02, -8.2736e-03, -1.3661e-02, -1.2009e-02,\n",
      "        -2.1218e-02, -1.9788e-02, -4.1482e-03, -1.3774e-02, -2.1130e-02,\n",
      "         1.0109e-02, -5.5090e-03, -1.4725e-02, -2.0596e-02,  1.3709e-02,\n",
      "        -1.9968e-03, -6.0214e-04, -2.1610e-02,  6.7819e-03, -2.7117e-03,\n",
      "        -1.0231e-02, -2.0656e-02, -7.9140e-03, -1.0855e-03,  3.2844e-03,\n",
      "         1.8944e-02,  8.9575e-03, -1.4400e-02, -2.8099e-03, -1.3730e-02,\n",
      "         1.9725e-02, -1.6594e-02,  6.2913e-04,  1.8133e-02, -3.1328e-03,\n",
      "         1.6355e-02, -2.2570e-02,  6.3317e-03, -7.2779e-03,  1.3139e-02,\n",
      "        -4.4716e-03, -1.1806e-02, -5.7919e-04, -2.1980e-02,  8.7095e-04,\n",
      "         9.4669e-03, -1.2756e-02,  2.3192e-02, -6.1278e-03, -1.2161e-02,\n",
      "         2.0823e-02,  6.6850e-03, -1.2170e-02,  2.4384e-02, -2.3944e-02,\n",
      "         1.7452e-02, -1.9607e-03,  7.6662e-03,  1.4009e-02,  2.1522e-03,\n",
      "        -1.8413e-02,  1.3334e-02, -2.4591e-02, -1.8955e-03,  1.1287e-02,\n",
      "         4.1717e-03, -9.1910e-03, -1.4325e-02, -7.9102e-03, -5.7785e-03,\n",
      "         1.0752e-02,  3.9943e-03,  2.4695e-02,  2.5834e-03, -9.8583e-03,\n",
      "         1.3220e-02, -4.2427e-03,  1.0800e-02,  1.9259e-02,  1.9074e-02,\n",
      "         1.4959e-02,  1.8555e-02, -3.1300e-03,  2.7258e-03,  1.1170e-02,\n",
      "         1.2411e-02, -5.8219e-03, -1.9403e-03, -2.2036e-02, -1.5634e-02,\n",
      "        -1.0069e-02, -1.7410e-02,  1.2503e-02,  3.4909e-03,  1.1662e-02,\n",
      "         1.3750e-02,  1.6343e-02,  1.4669e-02,  1.8562e-02, -1.8438e-02,\n",
      "         2.1050e-02,  7.4639e-03,  5.7899e-03,  1.7774e-02, -2.1328e-02,\n",
      "         1.3931e-02,  2.0469e-02, -1.8256e-02, -1.3738e-02, -7.5215e-03,\n",
      "        -1.1184e-02, -1.1501e-02,  1.8876e-03,  1.3398e-02, -7.3340e-03,\n",
      "        -2.1546e-02,  1.6508e-02,  1.7973e-02,  4.4855e-03,  1.9129e-02,\n",
      "        -6.5401e-05, -1.1973e-02,  1.8337e-02, -1.9885e-03,  2.0168e-02,\n",
      "        -5.7294e-03, -8.5100e-04, -4.3667e-03, -1.0836e-02,  9.8501e-03,\n",
      "         2.4981e-02,  1.7100e-03, -9.5600e-03,  7.4438e-03, -1.2122e-02,\n",
      "        -6.8696e-03,  7.6624e-03, -1.8184e-02,  1.7909e-02, -6.6438e-03,\n",
      "        -1.8352e-02, -8.7789e-03, -7.7422e-03, -2.1833e-02, -2.4664e-03,\n",
      "         1.2715e-02, -2.3883e-02, -1.4853e-02, -5.2677e-04,  2.1823e-02,\n",
      "        -1.1180e-02,  2.1907e-02,  5.6674e-03,  6.6871e-03,  1.0941e-02])), ('_sequence.8.weight', tensor([[-0.0280, -0.0438,  0.0180,  ..., -0.0460, -0.0035, -0.0291],\n",
      "        [-0.0014, -0.0354, -0.0295,  ...,  0.0052,  0.0428,  0.0152],\n",
      "        [ 0.0121, -0.0460, -0.0232,  ...,  0.0214,  0.0422, -0.0415]])), ('_sequence.8.bias', tensor([0.0301, 0.0399, 0.0215]))])\n"
     ]
    }
   ],
   "source": [
    "print(model_MLPSEQ.state_dict())"
   ]
  },
  {
   "cell_type": "markdown",
   "metadata": {},
   "source": [
    "As we can see the parameters look similar but have different names"
   ]
  },
  {
   "cell_type": "markdown",
   "metadata": {},
   "source": [
    "## Training a model"
   ]
  },
  {
   "cell_type": "markdown",
   "metadata": {},
   "source": [
    "First let's make a dataset object"
   ]
  },
  {
   "cell_type": "code",
   "execution_count": 12,
   "metadata": {},
   "outputs": [
    {
     "name": "stdout",
     "output_type": "stream",
     "text": [
      "Reduced size: 50000\n"
     ]
    }
   ],
   "source": [
    "import numpy as np\n",
    "transform=np.ravel\n",
    "dset=WCH5Dataset(\"/fast_scratch/TRISEP_data/NUPRISM.h5\",reduced_dataset_size=50000,val_split=0.1,test_split=0.1,transform=transform)"
   ]
  },
  {
   "cell_type": "markdown",
   "metadata": {},
   "source": [
    "Let's make a dataloader and grab a first batch"
   ]
  },
  {
   "cell_type": "code",
   "execution_count": 13,
   "metadata": {},
   "outputs": [],
   "source": [
    "from torch.utils.data import DataLoader\n",
    "from torch.utils.data.sampler import SubsetRandomSampler\n",
    "\n",
    "train_dldr=DataLoader(dset,\n",
    "                      batch_size=32,\n",
    "                      shuffle=False,\n",
    "                      sampler=SubsetRandomSampler(dset.train_indices))\n",
    "train_iter=iter(train_dldr)"
   ]
  },
  {
   "cell_type": "code",
   "execution_count": 14,
   "metadata": {},
   "outputs": [],
   "source": [
    "batch0=next(train_iter)"
   ]
  },
  {
   "cell_type": "code",
   "execution_count": 15,
   "metadata": {},
   "outputs": [],
   "source": [
    "data=batch0[0]\n",
    "labels=batch0[1]"
   ]
  },
  {
   "cell_type": "markdown",
   "metadata": {},
   "source": [
    "Now compute the model output on the data"
   ]
  },
  {
   "cell_type": "code",
   "execution_count": 16,
   "metadata": {},
   "outputs": [],
   "source": [
    "model_out=model_MLP(data)"
   ]
  },
  {
   "cell_type": "markdown",
   "metadata": {},
   "source": [
    "Now we have model's predictions and we above got 'true' labels from the dataset, so we can now compute the loss - CrossEntropyLoss is the apropropriate one to use here. We will use `CrossEntropyLoss` from `torch.nn` - btw it is also a `Module`. First create it:"
   ]
  },
  {
   "cell_type": "code",
   "execution_count": 17,
   "metadata": {},
   "outputs": [],
   "source": [
    "from torch.nn import CrossEntropyLoss\n",
    "loss_module=CrossEntropyLoss()"
   ]
  },
  {
   "cell_type": "markdown",
   "metadata": {},
   "source": [
    "Now evaluate the loss. "
   ]
  },
  {
   "cell_type": "code",
   "execution_count": 18,
   "metadata": {},
   "outputs": [],
   "source": [
    "loss_tensor=loss_module(model_out,labels)"
   ]
  },
  {
   "cell_type": "markdown",
   "metadata": {},
   "source": [
    "This was a 'forward pass'. We should now have a computational graph available - let's plot it for the kicks..."
   ]
  },
  {
   "cell_type": "code",
   "execution_count": 19,
   "metadata": {},
   "outputs": [
    {
     "data": {
      "image/svg+xml": [
       "<?xml version=\"1.0\" encoding=\"UTF-8\" standalone=\"no\"?>\n",
       "<!DOCTYPE svg PUBLIC \"-//W3C//DTD SVG 1.1//EN\"\n",
       " \"http://www.w3.org/Graphics/SVG/1.1/DTD/svg11.dtd\">\n",
       "<!-- Generated by graphviz version 2.40.1 (20161225.0304)\n",
       " -->\n",
       "<!-- Title: %3 Pages: 1 -->\n",
       "<svg width=\"279pt\" height=\"843pt\"\n",
       " viewBox=\"0.00 0.00 278.50 843.00\" xmlns=\"http://www.w3.org/2000/svg\" xmlns:xlink=\"http://www.w3.org/1999/xlink\">\n",
       "<g id=\"graph0\" class=\"graph\" transform=\"scale(1 1) rotate(0) translate(4 839)\">\n",
       "<title>%3</title>\n",
       "<polygon fill=\"#ffffff\" stroke=\"transparent\" points=\"-4,4 -4,-839 274.5,-839 274.5,4 -4,4\"/>\n",
       "<!-- 140358851113144 -->\n",
       "<g id=\"node1\" class=\"node\">\n",
       "<title>140358851113144</title>\n",
       "<polygon fill=\"#caff70\" stroke=\"#000000\" points=\"175.5,-21 72.5,-21 72.5,0 175.5,0 175.5,-21\"/>\n",
       "<text text-anchor=\"middle\" x=\"124\" y=\"-7.4\" font-family=\"Times,serif\" font-size=\"12.00\" fill=\"#000000\">NllLossBackward</text>\n",
       "</g>\n",
       "<!-- 140358851113200 -->\n",
       "<g id=\"node2\" class=\"node\">\n",
       "<title>140358851113200</title>\n",
       "<polygon fill=\"#d3d3d3\" stroke=\"#000000\" points=\"186.5,-78 61.5,-78 61.5,-57 186.5,-57 186.5,-78\"/>\n",
       "<text text-anchor=\"middle\" x=\"124\" y=\"-64.4\" font-family=\"Times,serif\" font-size=\"12.00\" fill=\"#000000\">LogSoftmaxBackward</text>\n",
       "</g>\n",
       "<!-- 140358851113200&#45;&gt;140358851113144 -->\n",
       "<g id=\"edge1\" class=\"edge\">\n",
       "<title>140358851113200&#45;&gt;140358851113144</title>\n",
       "<path fill=\"none\" stroke=\"#000000\" d=\"M124,-56.7787C124,-49.6134 124,-39.9517 124,-31.3097\"/>\n",
       "<polygon fill=\"#000000\" stroke=\"#000000\" points=\"127.5001,-31.1732 124,-21.1732 120.5001,-31.1732 127.5001,-31.1732\"/>\n",
       "</g>\n",
       "<!-- 140358851113592 -->\n",
       "<g id=\"node3\" class=\"node\">\n",
       "<title>140358851113592</title>\n",
       "<polygon fill=\"#d3d3d3\" stroke=\"#000000\" points=\"176,-135 72,-135 72,-114 176,-114 176,-135\"/>\n",
       "<text text-anchor=\"middle\" x=\"124\" y=\"-121.4\" font-family=\"Times,serif\" font-size=\"12.00\" fill=\"#000000\">AddmmBackward</text>\n",
       "</g>\n",
       "<!-- 140358851113592&#45;&gt;140358851113200 -->\n",
       "<g id=\"edge2\" class=\"edge\">\n",
       "<title>140358851113592&#45;&gt;140358851113200</title>\n",
       "<path fill=\"none\" stroke=\"#000000\" d=\"M124,-113.7787C124,-106.6134 124,-96.9517 124,-88.3097\"/>\n",
       "<polygon fill=\"#000000\" stroke=\"#000000\" points=\"127.5001,-88.1732 124,-78.1732 120.5001,-88.1732 127.5001,-88.1732\"/>\n",
       "</g>\n",
       "<!-- 140358851113704 -->\n",
       "<g id=\"node4\" class=\"node\">\n",
       "<title>140358851113704</title>\n",
       "<polygon fill=\"#add8e6\" stroke=\"#000000\" points=\"59,-205 5,-205 5,-171 59,-171 59,-205\"/>\n",
       "<text text-anchor=\"middle\" x=\"32\" y=\"-191.4\" font-family=\"Times,serif\" font-size=\"12.00\" fill=\"#000000\">fc5.bias</text>\n",
       "<text text-anchor=\"middle\" x=\"32\" y=\"-178.4\" font-family=\"Times,serif\" font-size=\"12.00\" fill=\"#000000\"> (3)</text>\n",
       "</g>\n",
       "<!-- 140358851113704&#45;&gt;140358851113592 -->\n",
       "<g id=\"edge3\" class=\"edge\">\n",
       "<title>140358851113704&#45;&gt;140358851113592</title>\n",
       "<path fill=\"none\" stroke=\"#000000\" d=\"M56.6543,-170.9832C70.1894,-161.641 86.8926,-150.1122 100.278,-140.8734\"/>\n",
       "<polygon fill=\"#000000\" stroke=\"#000000\" points=\"102.2865,-143.7398 108.5283,-135.1788 98.3102,-137.9788 102.2865,-143.7398\"/>\n",
       "</g>\n",
       "<!-- 140358851113536 -->\n",
       "<g id=\"node5\" class=\"node\">\n",
       "<title>140358851113536</title>\n",
       "<polygon fill=\"#d3d3d3\" stroke=\"#000000\" points=\"171,-198.5 77,-198.5 77,-177.5 171,-177.5 171,-198.5\"/>\n",
       "<text text-anchor=\"middle\" x=\"124\" y=\"-184.9\" font-family=\"Times,serif\" font-size=\"12.00\" fill=\"#000000\">ReluBackward0</text>\n",
       "</g>\n",
       "<!-- 140358851113536&#45;&gt;140358851113592 -->\n",
       "<g id=\"edge4\" class=\"edge\">\n",
       "<title>140358851113536&#45;&gt;140358851113592</title>\n",
       "<path fill=\"none\" stroke=\"#000000\" d=\"M124,-177.2281C124,-168.5091 124,-155.9699 124,-145.3068\"/>\n",
       "<polygon fill=\"#000000\" stroke=\"#000000\" points=\"127.5001,-145.1128 124,-135.1128 120.5001,-145.1129 127.5001,-145.1128\"/>\n",
       "</g>\n",
       "<!-- 140358851115552 -->\n",
       "<g id=\"node6\" class=\"node\">\n",
       "<title>140358851115552</title>\n",
       "<polygon fill=\"#d3d3d3\" stroke=\"#000000\" points=\"175,-268.5 71,-268.5 71,-247.5 175,-247.5 175,-268.5\"/>\n",
       "<text text-anchor=\"middle\" x=\"123\" y=\"-254.9\" font-family=\"Times,serif\" font-size=\"12.00\" fill=\"#000000\">AddmmBackward</text>\n",
       "</g>\n",
       "<!-- 140358851115552&#45;&gt;140358851113536 -->\n",
       "<g id=\"edge5\" class=\"edge\">\n",
       "<title>140358851115552&#45;&gt;140358851113536</title>\n",
       "<path fill=\"none\" stroke=\"#000000\" d=\"M123.1519,-247.3685C123.2972,-237.1925 123.5206,-221.5606 123.7016,-208.8912\"/>\n",
       "<polygon fill=\"#000000\" stroke=\"#000000\" points=\"127.2034,-208.7806 123.8467,-198.7315 120.2041,-208.6805 127.2034,-208.7806\"/>\n",
       "</g>\n",
       "<!-- 140358851117008 -->\n",
       "<g id=\"node7\" class=\"node\">\n",
       "<title>140358851117008</title>\n",
       "<polygon fill=\"#add8e6\" stroke=\"#000000\" points=\"58,-345 4,-345 4,-311 58,-311 58,-345\"/>\n",
       "<text text-anchor=\"middle\" x=\"31\" y=\"-331.4\" font-family=\"Times,serif\" font-size=\"12.00\" fill=\"#000000\">fc4.bias</text>\n",
       "<text text-anchor=\"middle\" x=\"31\" y=\"-318.4\" font-family=\"Times,serif\" font-size=\"12.00\" fill=\"#000000\"> (400)</text>\n",
       "</g>\n",
       "<!-- 140358851117008&#45;&gt;140358851115552 -->\n",
       "<g id=\"edge6\" class=\"edge\">\n",
       "<title>140358851117008&#45;&gt;140358851115552</title>\n",
       "<path fill=\"none\" stroke=\"#000000\" d=\"M53.7416,-310.6966C68.1068,-299.7666 86.5787,-285.7119 100.8325,-274.8666\"/>\n",
       "<polygon fill=\"#000000\" stroke=\"#000000\" points=\"103.2491,-277.4258 109.0881,-268.5852 99.0104,-271.855 103.2491,-277.4258\"/>\n",
       "</g>\n",
       "<!-- 140358851116168 -->\n",
       "<g id=\"node8\" class=\"node\">\n",
       "<title>140358851116168</title>\n",
       "<polygon fill=\"#d3d3d3\" stroke=\"#000000\" points=\"170,-338.5 76,-338.5 76,-317.5 170,-317.5 170,-338.5\"/>\n",
       "<text text-anchor=\"middle\" x=\"123\" y=\"-324.9\" font-family=\"Times,serif\" font-size=\"12.00\" fill=\"#000000\">ReluBackward0</text>\n",
       "</g>\n",
       "<!-- 140358851116168&#45;&gt;140358851115552 -->\n",
       "<g id=\"edge7\" class=\"edge\">\n",
       "<title>140358851116168&#45;&gt;140358851115552</title>\n",
       "<path fill=\"none\" stroke=\"#000000\" d=\"M123,-317.3685C123,-307.1925 123,-291.5606 123,-278.8912\"/>\n",
       "<polygon fill=\"#000000\" stroke=\"#000000\" points=\"126.5001,-278.7315 123,-268.7315 119.5001,-278.7316 126.5001,-278.7315\"/>\n",
       "</g>\n",
       "<!-- 140358851116896 -->\n",
       "<g id=\"node9\" class=\"node\">\n",
       "<title>140358851116896</title>\n",
       "<polygon fill=\"#d3d3d3\" stroke=\"#000000\" points=\"173,-408.5 69,-408.5 69,-387.5 173,-387.5 173,-408.5\"/>\n",
       "<text text-anchor=\"middle\" x=\"121\" y=\"-394.9\" font-family=\"Times,serif\" font-size=\"12.00\" fill=\"#000000\">AddmmBackward</text>\n",
       "</g>\n",
       "<!-- 140358851116896&#45;&gt;140358851116168 -->\n",
       "<g id=\"edge8\" class=\"edge\">\n",
       "<title>140358851116896&#45;&gt;140358851116168</title>\n",
       "<path fill=\"none\" stroke=\"#000000\" d=\"M121.3038,-387.3685C121.5945,-377.1925 122.0411,-361.5606 122.4031,-348.8912\"/>\n",
       "<polygon fill=\"#000000\" stroke=\"#000000\" points=\"125.9063,-348.8275 122.6934,-338.7315 118.9091,-348.6275 125.9063,-348.8275\"/>\n",
       "</g>\n",
       "<!-- 140271296586584 -->\n",
       "<g id=\"node10\" class=\"node\">\n",
       "<title>140271296586584</title>\n",
       "<polygon fill=\"#add8e6\" stroke=\"#000000\" points=\"56,-485 2,-485 2,-451 56,-451 56,-485\"/>\n",
       "<text text-anchor=\"middle\" x=\"29\" y=\"-471.4\" font-family=\"Times,serif\" font-size=\"12.00\" fill=\"#000000\">fc3.bias</text>\n",
       "<text text-anchor=\"middle\" x=\"29\" y=\"-458.4\" font-family=\"Times,serif\" font-size=\"12.00\" fill=\"#000000\"> (1600)</text>\n",
       "</g>\n",
       "<!-- 140271296586584&#45;&gt;140358851116896 -->\n",
       "<g id=\"edge9\" class=\"edge\">\n",
       "<title>140271296586584&#45;&gt;140358851116896</title>\n",
       "<path fill=\"none\" stroke=\"#000000\" d=\"M51.7416,-450.6966C66.1068,-439.7666 84.5787,-425.7119 98.8325,-414.8666\"/>\n",
       "<polygon fill=\"#000000\" stroke=\"#000000\" points=\"101.2491,-417.4258 107.0881,-408.5852 97.0104,-411.855 101.2491,-417.4258\"/>\n",
       "</g>\n",
       "<!-- 140271296586640 -->\n",
       "<g id=\"node11\" class=\"node\">\n",
       "<title>140271296586640</title>\n",
       "<polygon fill=\"#d3d3d3\" stroke=\"#000000\" points=\"168,-478.5 74,-478.5 74,-457.5 168,-457.5 168,-478.5\"/>\n",
       "<text text-anchor=\"middle\" x=\"121\" y=\"-464.9\" font-family=\"Times,serif\" font-size=\"12.00\" fill=\"#000000\">ReluBackward0</text>\n",
       "</g>\n",
       "<!-- 140271296586640&#45;&gt;140358851116896 -->\n",
       "<g id=\"edge10\" class=\"edge\">\n",
       "<title>140271296586640&#45;&gt;140358851116896</title>\n",
       "<path fill=\"none\" stroke=\"#000000\" d=\"M121,-457.3685C121,-447.1925 121,-431.5606 121,-418.8912\"/>\n",
       "<polygon fill=\"#000000\" stroke=\"#000000\" points=\"124.5001,-418.7315 121,-408.7315 117.5001,-418.7316 124.5001,-418.7315\"/>\n",
       "</g>\n",
       "<!-- 140271296586808 -->\n",
       "<g id=\"node12\" class=\"node\">\n",
       "<title>140271296586808</title>\n",
       "<polygon fill=\"#d3d3d3\" stroke=\"#000000\" points=\"171,-548.5 67,-548.5 67,-527.5 171,-527.5 171,-548.5\"/>\n",
       "<text text-anchor=\"middle\" x=\"119\" y=\"-534.9\" font-family=\"Times,serif\" font-size=\"12.00\" fill=\"#000000\">AddmmBackward</text>\n",
       "</g>\n",
       "<!-- 140271296586808&#45;&gt;140271296586640 -->\n",
       "<g id=\"edge11\" class=\"edge\">\n",
       "<title>140271296586808&#45;&gt;140271296586640</title>\n",
       "<path fill=\"none\" stroke=\"#000000\" d=\"M119.3038,-527.3685C119.5945,-517.1925 120.0411,-501.5606 120.4031,-488.8912\"/>\n",
       "<polygon fill=\"#000000\" stroke=\"#000000\" points=\"123.9063,-488.8275 120.6934,-478.7315 116.9091,-488.6275 123.9063,-488.8275\"/>\n",
       "</g>\n",
       "<!-- 140271296586920 -->\n",
       "<g id=\"node13\" class=\"node\">\n",
       "<title>140271296586920</title>\n",
       "<polygon fill=\"#add8e6\" stroke=\"#000000\" points=\"54,-625 0,-625 0,-591 54,-591 54,-625\"/>\n",
       "<text text-anchor=\"middle\" x=\"27\" y=\"-611.4\" font-family=\"Times,serif\" font-size=\"12.00\" fill=\"#000000\">fc2.bias</text>\n",
       "<text text-anchor=\"middle\" x=\"27\" y=\"-598.4\" font-family=\"Times,serif\" font-size=\"12.00\" fill=\"#000000\"> (4864)</text>\n",
       "</g>\n",
       "<!-- 140271296586920&#45;&gt;140271296586808 -->\n",
       "<g id=\"edge12\" class=\"edge\">\n",
       "<title>140271296586920&#45;&gt;140271296586808</title>\n",
       "<path fill=\"none\" stroke=\"#000000\" d=\"M49.7416,-590.6966C64.1068,-579.7666 82.5787,-565.7119 96.8325,-554.8666\"/>\n",
       "<polygon fill=\"#000000\" stroke=\"#000000\" points=\"99.2491,-557.4258 105.0881,-548.5852 95.0104,-551.855 99.2491,-557.4258\"/>\n",
       "</g>\n",
       "<!-- 140271296586976 -->\n",
       "<g id=\"node14\" class=\"node\">\n",
       "<title>140271296586976</title>\n",
       "<polygon fill=\"#d3d3d3\" stroke=\"#000000\" points=\"166,-618.5 72,-618.5 72,-597.5 166,-597.5 166,-618.5\"/>\n",
       "<text text-anchor=\"middle\" x=\"119\" y=\"-604.9\" font-family=\"Times,serif\" font-size=\"12.00\" fill=\"#000000\">ReluBackward0</text>\n",
       "</g>\n",
       "<!-- 140271296586976&#45;&gt;140271296586808 -->\n",
       "<g id=\"edge13\" class=\"edge\">\n",
       "<title>140271296586976&#45;&gt;140271296586808</title>\n",
       "<path fill=\"none\" stroke=\"#000000\" d=\"M119,-597.3685C119,-587.1925 119,-571.5606 119,-558.8912\"/>\n",
       "<polygon fill=\"#000000\" stroke=\"#000000\" points=\"122.5001,-558.7315 119,-548.7315 115.5001,-558.7316 122.5001,-558.7315\"/>\n",
       "</g>\n",
       "<!-- 140271296587144 -->\n",
       "<g id=\"node15\" class=\"node\">\n",
       "<title>140271296587144</title>\n",
       "<polygon fill=\"#d3d3d3\" stroke=\"#000000\" points=\"168,-688.5 64,-688.5 64,-667.5 168,-667.5 168,-688.5\"/>\n",
       "<text text-anchor=\"middle\" x=\"116\" y=\"-674.9\" font-family=\"Times,serif\" font-size=\"12.00\" fill=\"#000000\">AddmmBackward</text>\n",
       "</g>\n",
       "<!-- 140271296587144&#45;&gt;140271296586976 -->\n",
       "<g id=\"edge14\" class=\"edge\">\n",
       "<title>140271296587144&#45;&gt;140271296586976</title>\n",
       "<path fill=\"none\" stroke=\"#000000\" d=\"M116.4556,-667.3685C116.8917,-657.1925 117.5617,-641.5606 118.1047,-628.8912\"/>\n",
       "<polygon fill=\"#000000\" stroke=\"#000000\" points=\"121.6086,-628.8723 118.5401,-618.7315 114.615,-628.5725 121.6086,-628.8723\"/>\n",
       "</g>\n",
       "<!-- 140271296587256 -->\n",
       "<g id=\"node16\" class=\"node\">\n",
       "<title>140271296587256</title>\n",
       "<polygon fill=\"#add8e6\" stroke=\"#000000\" points=\"102,-765 48,-765 48,-731 102,-731 102,-765\"/>\n",
       "<text text-anchor=\"middle\" x=\"75\" y=\"-751.4\" font-family=\"Times,serif\" font-size=\"12.00\" fill=\"#000000\">fc1.bias</text>\n",
       "<text text-anchor=\"middle\" x=\"75\" y=\"-738.4\" font-family=\"Times,serif\" font-size=\"12.00\" fill=\"#000000\"> (9728)</text>\n",
       "</g>\n",
       "<!-- 140271296587256&#45;&gt;140271296587144 -->\n",
       "<g id=\"edge15\" class=\"edge\">\n",
       "<title>140271296587256&#45;&gt;140271296587144</title>\n",
       "<path fill=\"none\" stroke=\"#000000\" d=\"M85.1348,-730.6966C91.0172,-720.6535 98.4448,-707.9722 104.5395,-697.5667\"/>\n",
       "<polygon fill=\"#000000\" stroke=\"#000000\" points=\"107.6454,-699.189 109.6794,-688.7913 101.6052,-695.6512 107.6454,-699.189\"/>\n",
       "</g>\n",
       "<!-- 140271296587312 -->\n",
       "<g id=\"node17\" class=\"node\">\n",
       "<title>140271296587312</title>\n",
       "<polygon fill=\"#d3d3d3\" stroke=\"#000000\" points=\"193.5,-758.5 120.5,-758.5 120.5,-737.5 193.5,-737.5 193.5,-758.5\"/>\n",
       "<text text-anchor=\"middle\" x=\"157\" y=\"-744.9\" font-family=\"Times,serif\" font-size=\"12.00\" fill=\"#000000\">TBackward</text>\n",
       "</g>\n",
       "<!-- 140271296587312&#45;&gt;140271296587144 -->\n",
       "<g id=\"edge16\" class=\"edge\">\n",
       "<title>140271296587312&#45;&gt;140271296587144</title>\n",
       "<path fill=\"none\" stroke=\"#000000\" d=\"M150.773,-737.3685C144.5719,-726.7814 134.9119,-710.2886 127.3456,-697.3705\"/>\n",
       "<polygon fill=\"#000000\" stroke=\"#000000\" points=\"130.3598,-695.5915 122.2856,-688.7315 124.3196,-699.1293 130.3598,-695.5915\"/>\n",
       "</g>\n",
       "<!-- 140271296587424 -->\n",
       "<g id=\"node18\" class=\"node\">\n",
       "<title>140271296587424</title>\n",
       "<polygon fill=\"#add8e6\" stroke=\"#000000\" points=\"200.5,-835 113.5,-835 113.5,-801 200.5,-801 200.5,-835\"/>\n",
       "<text text-anchor=\"middle\" x=\"157\" y=\"-821.4\" font-family=\"Times,serif\" font-size=\"12.00\" fill=\"#000000\">fc1.weight</text>\n",
       "<text text-anchor=\"middle\" x=\"157\" y=\"-808.4\" font-family=\"Times,serif\" font-size=\"12.00\" fill=\"#000000\"> (9728, 24320)</text>\n",
       "</g>\n",
       "<!-- 140271296587424&#45;&gt;140271296587312 -->\n",
       "<g id=\"edge17\" class=\"edge\">\n",
       "<title>140271296587424&#45;&gt;140271296587312</title>\n",
       "<path fill=\"none\" stroke=\"#000000\" d=\"M157,-800.6966C157,-791.0634 157,-779.003 157,-768.8518\"/>\n",
       "<polygon fill=\"#000000\" stroke=\"#000000\" points=\"160.5001,-768.7912 157,-758.7913 153.5001,-768.7913 160.5001,-768.7912\"/>\n",
       "</g>\n",
       "<!-- 140271296587032 -->\n",
       "<g id=\"node19\" class=\"node\">\n",
       "<title>140271296587032</title>\n",
       "<polygon fill=\"#d3d3d3\" stroke=\"#000000\" points=\"261.5,-618.5 188.5,-618.5 188.5,-597.5 261.5,-597.5 261.5,-618.5\"/>\n",
       "<text text-anchor=\"middle\" x=\"225\" y=\"-604.9\" font-family=\"Times,serif\" font-size=\"12.00\" fill=\"#000000\">TBackward</text>\n",
       "</g>\n",
       "<!-- 140271296587032&#45;&gt;140271296586808 -->\n",
       "<g id=\"edge18\" class=\"edge\">\n",
       "<title>140271296587032&#45;&gt;140271296586808</title>\n",
       "<path fill=\"none\" stroke=\"#000000\" d=\"M208.9009,-597.3685C191.445,-585.841 163.3871,-567.3123 143.2584,-554.0197\"/>\n",
       "<polygon fill=\"#000000\" stroke=\"#000000\" points=\"145.1767,-551.0922 134.9033,-548.5022 141.3192,-556.9335 145.1767,-551.0922\"/>\n",
       "</g>\n",
       "<!-- 140271296587200 -->\n",
       "<g id=\"node20\" class=\"node\">\n",
       "<title>140271296587200</title>\n",
       "<polygon fill=\"#add8e6\" stroke=\"#000000\" points=\"267.5,-695 186.5,-695 186.5,-661 267.5,-661 267.5,-695\"/>\n",
       "<text text-anchor=\"middle\" x=\"227\" y=\"-681.4\" font-family=\"Times,serif\" font-size=\"12.00\" fill=\"#000000\">fc2.weight</text>\n",
       "<text text-anchor=\"middle\" x=\"227\" y=\"-668.4\" font-family=\"Times,serif\" font-size=\"12.00\" fill=\"#000000\"> (4864, 9728)</text>\n",
       "</g>\n",
       "<!-- 140271296587200&#45;&gt;140271296587032 -->\n",
       "<g id=\"edge19\" class=\"edge\">\n",
       "<title>140271296587200&#45;&gt;140271296587032</title>\n",
       "<path fill=\"none\" stroke=\"#000000\" d=\"M226.5056,-660.6966C226.2304,-651.0634 225.8858,-639.003 225.5958,-628.8518\"/>\n",
       "<polygon fill=\"#000000\" stroke=\"#000000\" points=\"229.0926,-628.6872 225.3083,-618.7913 222.0954,-628.8872 229.0926,-628.6872\"/>\n",
       "</g>\n",
       "<!-- 140271296586696 -->\n",
       "<g id=\"node21\" class=\"node\">\n",
       "<title>140271296586696</title>\n",
       "<polygon fill=\"#d3d3d3\" stroke=\"#000000\" points=\"263.5,-478.5 190.5,-478.5 190.5,-457.5 263.5,-457.5 263.5,-478.5\"/>\n",
       "<text text-anchor=\"middle\" x=\"227\" y=\"-464.9\" font-family=\"Times,serif\" font-size=\"12.00\" fill=\"#000000\">TBackward</text>\n",
       "</g>\n",
       "<!-- 140271296586696&#45;&gt;140358851116896 -->\n",
       "<g id=\"edge20\" class=\"edge\">\n",
       "<title>140271296586696&#45;&gt;140358851116896</title>\n",
       "<path fill=\"none\" stroke=\"#000000\" d=\"M210.9009,-457.3685C193.445,-445.841 165.3871,-427.3123 145.2584,-414.0197\"/>\n",
       "<polygon fill=\"#000000\" stroke=\"#000000\" points=\"147.1767,-411.0922 136.9033,-408.5022 143.3192,-416.9335 147.1767,-411.0922\"/>\n",
       "</g>\n",
       "<!-- 140271296586864 -->\n",
       "<g id=\"node22\" class=\"node\">\n",
       "<title>140271296586864</title>\n",
       "<polygon fill=\"#add8e6\" stroke=\"#000000\" points=\"270.5,-555 189.5,-555 189.5,-521 270.5,-521 270.5,-555\"/>\n",
       "<text text-anchor=\"middle\" x=\"230\" y=\"-541.4\" font-family=\"Times,serif\" font-size=\"12.00\" fill=\"#000000\">fc3.weight</text>\n",
       "<text text-anchor=\"middle\" x=\"230\" y=\"-528.4\" font-family=\"Times,serif\" font-size=\"12.00\" fill=\"#000000\"> (1600, 4864)</text>\n",
       "</g>\n",
       "<!-- 140271296586864&#45;&gt;140271296586696 -->\n",
       "<g id=\"edge21\" class=\"edge\">\n",
       "<title>140271296586864&#45;&gt;140271296586696</title>\n",
       "<path fill=\"none\" stroke=\"#000000\" d=\"M229.2584,-520.6966C228.8456,-511.0634 228.3287,-499.003 227.8937,-488.8518\"/>\n",
       "<polygon fill=\"#000000\" stroke=\"#000000\" points=\"231.3875,-488.6322 227.4625,-478.7913 224.394,-488.932 231.3875,-488.6322\"/>\n",
       "</g>\n",
       "<!-- 140358851116840 -->\n",
       "<g id=\"node23\" class=\"node\">\n",
       "<title>140358851116840</title>\n",
       "<polygon fill=\"#d3d3d3\" stroke=\"#000000\" points=\"264.5,-338.5 191.5,-338.5 191.5,-317.5 264.5,-317.5 264.5,-338.5\"/>\n",
       "<text text-anchor=\"middle\" x=\"228\" y=\"-324.9\" font-family=\"Times,serif\" font-size=\"12.00\" fill=\"#000000\">TBackward</text>\n",
       "</g>\n",
       "<!-- 140358851116840&#45;&gt;140358851115552 -->\n",
       "<g id=\"edge22\" class=\"edge\">\n",
       "<title>140358851116840&#45;&gt;140358851115552</title>\n",
       "<path fill=\"none\" stroke=\"#000000\" d=\"M212.0528,-317.3685C194.8391,-305.8927 167.2174,-287.4783 147.2983,-274.1988\"/>\n",
       "<polygon fill=\"#000000\" stroke=\"#000000\" points=\"149.0153,-271.137 138.7533,-268.5022 145.1323,-276.9614 149.0153,-271.137\"/>\n",
       "</g>\n",
       "<!-- 140271296576536 -->\n",
       "<g id=\"node24\" class=\"node\">\n",
       "<title>140271296576536</title>\n",
       "<polygon fill=\"#add8e6\" stroke=\"#000000\" points=\"266.5,-415 191.5,-415 191.5,-381 266.5,-381 266.5,-415\"/>\n",
       "<text text-anchor=\"middle\" x=\"229\" y=\"-401.4\" font-family=\"Times,serif\" font-size=\"12.00\" fill=\"#000000\">fc4.weight</text>\n",
       "<text text-anchor=\"middle\" x=\"229\" y=\"-388.4\" font-family=\"Times,serif\" font-size=\"12.00\" fill=\"#000000\"> (400, 1600)</text>\n",
       "</g>\n",
       "<!-- 140271296576536&#45;&gt;140358851116840 -->\n",
       "<g id=\"edge23\" class=\"edge\">\n",
       "<title>140271296576536&#45;&gt;140358851116840</title>\n",
       "<path fill=\"none\" stroke=\"#000000\" d=\"M228.7528,-380.6966C228.6152,-371.0634 228.4429,-359.003 228.2979,-348.8518\"/>\n",
       "<polygon fill=\"#000000\" stroke=\"#000000\" points=\"231.7967,-348.7402 228.1542,-338.7913 224.7975,-348.8403 231.7967,-348.7402\"/>\n",
       "</g>\n",
       "<!-- 140358851114936 -->\n",
       "<g id=\"node25\" class=\"node\">\n",
       "<title>140358851114936</title>\n",
       "<polygon fill=\"#d3d3d3\" stroke=\"#000000\" points=\"263.5,-198.5 190.5,-198.5 190.5,-177.5 263.5,-177.5 263.5,-198.5\"/>\n",
       "<text text-anchor=\"middle\" x=\"227\" y=\"-184.9\" font-family=\"Times,serif\" font-size=\"12.00\" fill=\"#000000\">TBackward</text>\n",
       "</g>\n",
       "<!-- 140358851114936&#45;&gt;140358851113592 -->\n",
       "<g id=\"edge24\" class=\"edge\">\n",
       "<title>140358851114936&#45;&gt;140358851113592</title>\n",
       "<path fill=\"none\" stroke=\"#000000\" d=\"M209.5275,-177.2281C193.1519,-167.1325 168.4682,-151.9149 149.8209,-140.4187\"/>\n",
       "<polygon fill=\"#000000\" stroke=\"#000000\" points=\"151.5636,-137.3814 141.2145,-135.1128 147.8901,-143.3401 151.5636,-137.3814\"/>\n",
       "</g>\n",
       "<!-- 140358851115720 -->\n",
       "<g id=\"node26\" class=\"node\">\n",
       "<title>140358851115720</title>\n",
       "<polygon fill=\"#add8e6\" stroke=\"#000000\" points=\"260.5,-275 193.5,-275 193.5,-241 260.5,-241 260.5,-275\"/>\n",
       "<text text-anchor=\"middle\" x=\"227\" y=\"-261.4\" font-family=\"Times,serif\" font-size=\"12.00\" fill=\"#000000\">fc5.weight</text>\n",
       "<text text-anchor=\"middle\" x=\"227\" y=\"-248.4\" font-family=\"Times,serif\" font-size=\"12.00\" fill=\"#000000\"> (3, 400)</text>\n",
       "</g>\n",
       "<!-- 140358851115720&#45;&gt;140358851114936 -->\n",
       "<g id=\"edge25\" class=\"edge\">\n",
       "<title>140358851115720&#45;&gt;140358851114936</title>\n",
       "<path fill=\"none\" stroke=\"#000000\" d=\"M227,-240.6966C227,-231.0634 227,-219.003 227,-208.8518\"/>\n",
       "<polygon fill=\"#000000\" stroke=\"#000000\" points=\"230.5001,-208.7912 227,-198.7913 223.5001,-208.7913 230.5001,-208.7912\"/>\n",
       "</g>\n",
       "</g>\n",
       "</svg>\n"
      ],
      "text/plain": [
       "<graphviz.dot.Digraph at 0x7fa7d7763198>"
      ]
     },
     "execution_count": 19,
     "metadata": {},
     "output_type": "execute_result"
    }
   ],
   "source": [
    "from torchviz import make_dot\n",
    "make_dot(loss_tensor,params=dict(model_MLP.named_parameters()))"
   ]
  },
  {
   "cell_type": "markdown",
   "metadata": {},
   "source": [
    "Before we calculate the gradients - let's check what they are now..."
   ]
  },
  {
   "cell_type": "code",
   "execution_count": 20,
   "metadata": {},
   "outputs": [
    {
     "name": "stdout",
     "output_type": "stream",
     "text": [
      "name of a parameter: fc1.weight, gradient: None\n",
      "name of a parameter: fc1.bias, gradient: None\n",
      "name of a parameter: fc2.weight, gradient: None\n",
      "name of a parameter: fc2.bias, gradient: None\n",
      "name of a parameter: fc3.weight, gradient: None\n",
      "name of a parameter: fc3.bias, gradient: None\n",
      "name of a parameter: fc4.weight, gradient: None\n",
      "name of a parameter: fc4.bias, gradient: None\n",
      "name of a parameter: fc5.weight, gradient: None\n",
      "name of a parameter: fc5.bias, gradient: None\n"
     ]
    }
   ],
   "source": [
    "for name, param in model_MLP.named_parameters():\n",
    "    print(\"name of a parameter: {}, gradient: {}\".\n",
    "          format(name, param.grad))"
   ]
  },
  {
   "cell_type": "markdown",
   "metadata": {},
   "source": [
    "No wonder - let's calculate them"
   ]
  },
  {
   "cell_type": "code",
   "execution_count": 21,
   "metadata": {},
   "outputs": [],
   "source": [
    "loss_tensor.backward()"
   ]
  },
  {
   "cell_type": "code",
   "execution_count": 22,
   "metadata": {},
   "outputs": [
    {
     "name": "stdout",
     "output_type": "stream",
     "text": [
      "name of a parameter: fc1.weight, gradient: tensor([[ 0.0000e+00,  5.6639e-06,  0.0000e+00,  ...,  1.0911e-02,\n",
      "         -1.8366e-02,  0.0000e+00],\n",
      "        [ 0.0000e+00,  0.0000e+00,  0.0000e+00,  ...,  0.0000e+00,\n",
      "          1.4879e-02, -1.3311e-02],\n",
      "        [ 0.0000e+00,  0.0000e+00,  0.0000e+00,  ..., -1.0404e-03,\n",
      "          4.4902e-04,  8.2220e-03],\n",
      "        ...,\n",
      "        [ 0.0000e+00,  0.0000e+00,  0.0000e+00,  ..., -7.3045e-03,\n",
      "          1.3841e-02, -3.8464e-02],\n",
      "        [ 0.0000e+00, -2.3524e-06,  0.0000e+00,  ...,  0.0000e+00,\n",
      "         -1.3035e-03,  7.5817e-03],\n",
      "        [ 0.0000e+00, -1.0375e-06,  1.2887e-05,  ..., -1.6205e-02,\n",
      "          3.7972e-03,  3.2544e-02]])\n",
      "name of a parameter: fc1.bias, gradient: tensor([ 2.9592e-05, -3.5657e-05,  3.6079e-05,  ...,  2.1673e-05,\n",
      "         6.7579e-05,  9.3080e-05])\n",
      "name of a parameter: fc2.weight, gradient: tensor([[-2.1476e-02, -3.7446e-03, -1.7137e-02,  ..., -1.3852e-02,\n",
      "         -7.8416e-03, -1.7617e-02],\n",
      "        [ 4.2862e-04, -2.8542e-03, -3.5827e-06,  ...,  0.0000e+00,\n",
      "         -1.1293e-03,  4.9068e-03],\n",
      "        [ 0.0000e+00,  7.3893e-04,  8.1161e-04,  ...,  3.0954e-05,\n",
      "          8.3337e-05,  5.1727e-03],\n",
      "        ...,\n",
      "        [-6.3102e-04, -2.9841e-03, -1.0539e-02,  ..., -5.4204e-03,\n",
      "         -7.3801e-03, -1.8567e-02],\n",
      "        [ 1.4974e-02,  3.0777e-03,  1.9153e-02,  ...,  1.5460e-02,\n",
      "          9.8930e-03,  1.6670e-02],\n",
      "        [-1.0598e-02, -6.1257e-03, -1.2778e-03,  ..., -5.0734e-03,\n",
      "         -1.1580e-02, -1.1074e-02]])\n",
      "name of a parameter: fc2.bias, gradient: tensor([-3.8480e-04,  3.5638e-05,  7.3393e-05,  ..., -7.0279e-05,\n",
      "         1.5153e-04, -2.1573e-04])\n",
      "name of a parameter: fc3.weight, gradient: tensor([[ 4.9017e-02,  1.3980e-02,  1.0608e-03,  ...,  3.5455e-02,\n",
      "         -3.4578e-04,  2.6767e-02],\n",
      "        [-7.1076e-02, -7.2807e-03, -2.1475e-05,  ...,  1.1984e-02,\n",
      "         -9.3005e-03, -3.4638e-02],\n",
      "        [ 2.8163e-02,  1.7919e-02, -4.1271e-04,  ...,  2.7477e-02,\n",
      "          1.7737e-02,  1.3466e-04],\n",
      "        ...,\n",
      "        [ 4.8013e-03,  0.0000e+00, -1.1462e-04,  ...,  6.0615e-02,\n",
      "          5.9295e-03,  1.4743e-02],\n",
      "        [ 4.7168e-03,  7.3147e-03,  8.6635e-04,  ...,  7.8577e-02,\n",
      "          1.8364e-03,  4.0279e-02],\n",
      "        [-6.4572e-02, -4.0579e-02, -1.1241e-03,  ..., -1.4337e-01,\n",
      "         -1.1581e-02, -2.5694e-02]])\n",
      "name of a parameter: fc3.bias, gradient: tensor([ 0.0011, -0.0011,  0.0008,  ...,  0.0013,  0.0011, -0.0014])\n",
      "name of a parameter: fc4.weight, gradient: tensor([[-0.0306, -0.0083, -0.0087,  ...,  0.0024, -0.0364, -0.0235],\n",
      "        [-0.0306, -0.2581, -0.2438,  ..., -0.1005, -0.4608, -0.0780],\n",
      "        [-0.0792, -0.0074, -0.0862,  ..., -0.0192, -0.1662, -0.0608],\n",
      "        ...,\n",
      "        [-0.0576,  0.0592,  0.0013,  ..., -0.0017, -0.0340, -0.0359],\n",
      "        [ 0.0143,  0.0000, -0.0254,  ...,  0.0069,  0.0007, -0.0034],\n",
      "        [-0.0710, -0.1473, -0.1910,  ..., -0.0739, -0.3650, -0.0814]])\n",
      "name of a parameter: fc4.bias, gradient: tensor([-1.4366e-03, -2.0533e-02, -7.0224e-03, -1.9314e-03, -5.0774e-03,\n",
      "         1.0275e-03, -1.5109e-02,  1.8757e-02,  5.5355e-03,  8.4318e-03,\n",
      "         4.5933e-03, -8.0051e-03, -1.4929e-02,  1.3796e-02, -1.0915e-03,\n",
      "        -8.4906e-04, -1.2332e-02,  2.3049e-02, -1.3355e-04, -2.0269e-05,\n",
      "         0.0000e+00,  1.4711e-02, -3.8970e-04, -5.4397e-03, -1.1846e-03,\n",
      "        -8.0934e-03,  8.4426e-03,  9.1493e-03,  1.8621e-02, -4.8085e-04,\n",
      "        -1.7041e-02,  9.5787e-03,  0.0000e+00,  1.5664e-03,  1.2808e-02,\n",
      "        -1.7411e-03, -8.0188e-03, -8.8623e-04,  1.0740e-02, -1.5177e-02,\n",
      "        -3.6247e-03,  8.9226e-03, -1.7197e-02, -8.3874e-03,  9.9451e-04,\n",
      "        -1.4028e-03, -1.0642e-02, -8.5929e-03, -1.2102e-02,  1.6288e-02,\n",
      "         9.9147e-04,  1.7703e-02,  3.4319e-03, -2.3575e-02,  1.4160e-02,\n",
      "        -8.7635e-06,  1.0252e-02,  0.0000e+00,  3.9714e-03, -1.1855e-02,\n",
      "         8.7274e-03, -8.4096e-04, -1.8547e-02, -1.6811e-04,  7.1311e-03,\n",
      "         9.3910e-03, -2.8207e-04,  2.2166e-03,  2.6002e-04,  1.3076e-03,\n",
      "         2.1845e-03,  3.1662e-03, -1.9141e-03,  0.0000e+00, -2.6029e-03,\n",
      "         5.3711e-03,  2.2074e-03,  1.0332e-03, -3.9103e-03, -3.7483e-05,\n",
      "         7.7613e-03, -1.7588e-04,  8.0179e-03,  0.0000e+00,  8.2043e-03,\n",
      "         1.2748e-02,  1.2384e-02, -2.6172e-03,  8.9417e-03,  2.9597e-03,\n",
      "        -1.1106e-02,  8.3006e-03,  3.0205e-04, -3.5194e-03,  1.8530e-03,\n",
      "        -6.4528e-03, -1.5807e-02, -2.3480e-03,  6.5274e-03,  1.1537e-02,\n",
      "         1.0447e-02, -1.3494e-05,  7.6356e-03, -3.1811e-03,  8.2376e-04,\n",
      "         1.8778e-04, -8.4825e-03, -2.1638e-02,  2.1072e-02,  1.3531e-03,\n",
      "         7.9817e-03,  9.2443e-03, -5.4616e-03,  1.4691e-03, -8.4254e-03,\n",
      "        -1.0672e-03, -1.9623e-03, -6.1274e-04, -9.1386e-03,  0.0000e+00,\n",
      "         1.0190e-03, -4.1834e-03, -5.3918e-03,  3.9250e-03,  1.6550e-03,\n",
      "         6.7717e-05, -1.1738e-02, -3.4609e-03, -5.8069e-03,  2.3689e-03,\n",
      "         1.1058e-02,  7.3370e-03,  0.0000e+00, -4.7841e-05, -3.8466e-03,\n",
      "         1.3501e-03,  1.6793e-02, -1.3395e-03, -3.4312e-03, -1.8967e-03,\n",
      "        -1.6950e-02,  3.9103e-03,  3.8222e-03, -1.4239e-03, -3.2880e-04,\n",
      "         0.0000e+00, -3.7415e-03, -4.7711e-03, -3.7145e-04, -6.1770e-04,\n",
      "        -2.1964e-02,  2.5415e-04,  0.0000e+00,  0.0000e+00,  1.9806e-02,\n",
      "         1.5304e-02,  2.0072e-02, -4.8767e-03,  1.4730e-02, -4.9107e-03,\n",
      "         9.8218e-04,  1.1406e-03,  0.0000e+00, -1.2044e-02, -2.0926e-03,\n",
      "         6.3084e-03, -9.5321e-03, -6.1921e-03, -1.0312e-03,  1.0281e-02,\n",
      "        -5.9328e-03, -4.2178e-03, -1.3702e-03,  5.8044e-04,  1.0315e-03,\n",
      "        -1.9907e-03, -9.4242e-03,  1.9922e-02, -1.3587e-02,  2.2073e-02,\n",
      "        -2.2238e-03,  4.0833e-03, -1.3602e-03,  5.6689e-04,  9.0992e-03,\n",
      "        -5.9585e-03, -3.9316e-03, -1.6771e-03, -2.0473e-03, -3.1673e-03,\n",
      "        -9.5903e-03, -4.2036e-03,  0.0000e+00, -1.2548e-02,  1.3805e-04,\n",
      "         1.1239e-02,  7.6439e-04,  1.2490e-02,  0.0000e+00,  3.3058e-03,\n",
      "        -5.4882e-04,  1.0481e-02, -2.6352e-03,  4.6321e-04, -4.6048e-03,\n",
      "         1.4692e-03,  2.5042e-05,  0.0000e+00,  0.0000e+00,  2.2031e-03,\n",
      "         6.6579e-03,  1.4244e-02, -2.9469e-03,  4.1559e-06, -5.0296e-03,\n",
      "         6.2178e-03, -1.1342e-03, -5.0408e-03,  5.6280e-03, -1.3463e-03,\n",
      "         6.8935e-03, -5.1797e-03, -7.8544e-03,  2.0007e-02,  1.9852e-04,\n",
      "        -2.5504e-02,  3.8306e-03,  1.6277e-02, -7.4908e-03,  1.3164e-02,\n",
      "         9.5619e-03,  1.1135e-03,  7.2472e-03,  2.1777e-03, -4.0977e-03,\n",
      "         5.8310e-03, -4.9602e-03,  2.4905e-03,  1.8293e-03,  4.5866e-03,\n",
      "         0.0000e+00,  0.0000e+00, -5.2151e-03,  0.0000e+00,  2.0542e-03,\n",
      "        -7.3856e-03, -1.6978e-03, -7.3096e-03,  7.6816e-03, -2.2467e-03,\n",
      "         1.5868e-02, -8.0432e-03,  8.9386e-04, -7.0720e-03,  2.2960e-03,\n",
      "         1.6433e-03, -1.4022e-03, -4.3390e-03,  1.1875e-02,  7.5851e-03,\n",
      "        -9.1367e-03,  5.0027e-04,  0.0000e+00, -2.8861e-03,  1.3024e-02,\n",
      "        -3.7011e-03,  1.0953e-03, -2.6028e-04, -6.3058e-05,  6.5880e-03,\n",
      "        -2.5974e-03, -1.1344e-02,  4.9761e-03, -1.5762e-02,  1.7759e-03,\n",
      "         4.2961e-03,  3.9730e-03,  1.8579e-03,  1.1901e-02,  7.1602e-04,\n",
      "         1.1212e-03, -3.0046e-03, -1.9486e-04, -7.0452e-03,  2.4234e-03,\n",
      "        -8.5310e-03, -4.9339e-03, -3.6539e-04,  6.4363e-03,  0.0000e+00,\n",
      "        -8.1247e-03, -4.0744e-03,  6.2442e-03,  2.8696e-07,  5.7951e-03,\n",
      "        -8.4914e-04, -2.4622e-03,  4.1609e-04,  0.0000e+00, -4.2694e-03,\n",
      "        -1.9099e-02,  2.3755e-03, -3.1007e-03,  8.1144e-03,  8.5589e-03,\n",
      "         1.0435e-02, -3.7836e-03,  0.0000e+00, -7.9578e-03, -5.2537e-03,\n",
      "         0.0000e+00, -2.2184e-03, -2.0677e-03, -4.5069e-03,  3.0421e-04,\n",
      "         9.4997e-03, -9.5552e-03,  1.1635e-02,  0.0000e+00,  1.2239e-02,\n",
      "         7.0898e-03, -7.0463e-03,  7.0812e-03,  2.0710e-04, -4.1787e-03,\n",
      "        -3.7846e-03, -4.5958e-04, -2.1686e-03, -4.0201e-05, -4.2230e-03,\n",
      "         3.7128e-03, -1.5753e-02,  6.2642e-04, -1.3545e-02,  7.7132e-03,\n",
      "         1.2612e-02,  3.3361e-03,  1.8477e-03, -6.3332e-03,  1.9666e-03,\n",
      "         2.3025e-03,  8.1850e-03,  8.6529e-03,  1.2976e-03,  0.0000e+00,\n",
      "         5.3659e-03,  3.0126e-03, -9.3785e-03,  2.1586e-04,  0.0000e+00,\n",
      "         4.6586e-03,  1.1493e-02,  0.0000e+00,  2.6517e-04, -1.8937e-03,\n",
      "        -6.1125e-03, -3.5740e-04,  3.7818e-03,  8.9021e-03, -2.0606e-05,\n",
      "        -3.3943e-03,  3.0245e-04,  2.2468e-04,  2.2870e-05, -3.9535e-03,\n",
      "         1.8020e-03, -4.2486e-04,  0.0000e+00, -5.8287e-03,  6.7197e-07,\n",
      "        -3.7433e-04, -1.7711e-03,  0.0000e+00,  4.0126e-03,  2.9595e-03,\n",
      "        -7.1487e-03,  2.3175e-03, -4.4517e-04,  1.4112e-02, -8.7063e-04,\n",
      "        -4.3869e-04,  7.2693e-04, -1.5096e-02,  1.4769e-03, -1.9435e-02,\n",
      "        -8.1917e-03, -7.4754e-03,  0.0000e+00, -1.3168e-02, -7.4441e-03,\n",
      "         1.6428e-02,  1.5250e-03, -2.6365e-03, -9.0426e-03, -1.2602e-03,\n",
      "         2.1268e-03,  6.9396e-03, -9.1312e-04,  1.9768e-04, -1.5688e-02])\n",
      "name of a parameter: fc5.weight, gradient: tensor([[-1.5026, -1.2625, -0.9533,  ..., -2.6027, -0.2506, -1.6407],\n",
      "        [-0.1692, -2.1627, -0.2816,  ..., -2.2823,  0.1095, -2.7467],\n",
      "        [ 1.6719,  3.4251,  1.2349,  ...,  4.8850,  0.1412,  4.3874]])\n",
      "name of a parameter: fc5.bias, gradient: tensor([-0.1968, -0.1789,  0.3757])\n"
     ]
    }
   ],
   "source": [
    "for name, param in model_MLP.named_parameters():\n",
    "    print(\"name of a parameter: {}, gradient: {}\".\n",
    "          format(name, param.grad))"
   ]
  },
  {
   "cell_type": "markdown",
   "metadata": {},
   "source": [
    "All we have to do now is subtract the gradient of a given parameter from the parameter tensor itself and do it for all parameters of the model - that should decrease the loss. Normally the gradient is multiplied by a learning rate parameter $\\lambda$ so we don't go too far in the loss landscape"
   ]
  },
  {
   "cell_type": "code",
   "execution_count": 23,
   "metadata": {},
   "outputs": [],
   "source": [
    "lr=0.0001\n",
    "for param in model_MLP.parameters():\n",
    "    param.data.add_(-lr*param.grad.data)"
   ]
  },
  {
   "cell_type": "markdown",
   "metadata": {},
   "source": [
    "call to backward **accumulates** gradients - so we also need to zero the gradient tensors if we want to keep going"
   ]
  },
  {
   "cell_type": "code",
   "execution_count": 24,
   "metadata": {},
   "outputs": [],
   "source": [
    "for param in model_MLP.parameters():\n",
    "    param.grad.data.zero_()"
   ]
  },
  {
   "cell_type": "markdown",
   "metadata": {},
   "source": [
    "There is a much simpler way of doing this - we can use the pytorch [optim](https://pytorch.org/docs/stable/optim.html) classes. This allows us to easily use more advanced optimization options (like momentum or adaptive optimizers like [Adam](https://arxiv.org/abs/1412.6980)):"
   ]
  },
  {
   "cell_type": "code",
   "execution_count": 25,
   "metadata": {},
   "outputs": [],
   "source": [
    "from torch import optim\n",
    "optimizer = optim.SGD(model_MLP.parameters(), lr=0.0001)"
   ]
  },
  {
   "cell_type": "markdown",
   "metadata": {},
   "source": [
    "Lets get a new batch of events"
   ]
  },
  {
   "cell_type": "code",
   "execution_count": 26,
   "metadata": {},
   "outputs": [],
   "source": [
    "batch1=next(train_iter)"
   ]
  },
  {
   "cell_type": "code",
   "execution_count": 27,
   "metadata": {},
   "outputs": [],
   "source": [
    "data=batch0[0]\n",
    "labels=batch0[1]"
   ]
  },
  {
   "cell_type": "code",
   "execution_count": 28,
   "metadata": {},
   "outputs": [],
   "source": [
    "model_out=model_MLP(data)\n",
    "loss_tensor=loss_module(model_out,labels)\n",
    "loss_tensor.backward()\n",
    "optimizer.step()"
   ]
  },
  {
   "cell_type": "markdown",
   "metadata": {},
   "source": [
    "We could just put the code above in a loop and be done with it, but the usual practice would be to wrap this functionality in a training object. Here we'll use the [engine](/edit/utils/engine.py) class. Let's examine it. We'll talk about:\n",
    "  1. Implementation of the training loop\n",
    "  2. Evaluation on validation set and training and test modes.\n",
    "  3. Turning evaluation of gradients on and off.\n",
    "  4. Saving and retrieving the model and optimizer state."
   ]
  },
  {
   "cell_type": "code",
   "execution_count": 29,
   "metadata": {},
   "outputs": [],
   "source": [
    "from utils.engine import Engine"
   ]
  },
  {
   "cell_type": "markdown",
   "metadata": {},
   "source": [
    "Let's first create a configuration object -we'll use this to set up our training engine"
   ]
  },
  {
   "cell_type": "code",
   "execution_count": 30,
   "metadata": {},
   "outputs": [],
   "source": [
    "class CONFIG:\n",
    "    pass\n",
    "config=CONFIG()\n",
    "config.batch_size_test = 1024\n",
    "config.batch_size_train = 32\n",
    "config.batch_size_val = 2048\n",
    "config.lr=0.001\n",
    "config.device = 'gpu'\n",
    "config.num_workers_train=3\n",
    "config.num_workers_val=2\n",
    "config.num_workers_test=2\n",
    "config.dump_path = '../model_state_dumps'\n"
   ]
  },
  {
   "cell_type": "code",
   "execution_count": 31,
   "metadata": {},
   "outputs": [
    {
     "name": "stdout",
     "output_type": "stream",
     "text": [
      "Requesting a GPU\n",
      "CUDA is available\n",
      "Creating a directory for run dump: ../model_state_dumps/20190731_110226/\n"
     ]
    },
    {
     "ename": "FileNotFoundError",
     "evalue": "[Errno 2] No such file or directory: '../model_state_dumps/20190731_110226/'",
     "output_type": "error",
     "traceback": [
      "\u001b[0;31m---------------------------------------------------------------------------\u001b[0m",
      "\u001b[0;31mFileNotFoundError\u001b[0m                         Traceback (most recent call last)",
      "\u001b[0;32m~/TRISEP_ML_tutorial/utils/engine.py\u001b[0m in \u001b[0;36m__init__\u001b[0;34m(self, model, dataset, config)\u001b[0m\n\u001b[1;32m     82\u001b[0m         \u001b[0;32mtry\u001b[0m\u001b[0;34m:\u001b[0m\u001b[0;34m\u001b[0m\u001b[0m\n\u001b[0;32m---> 83\u001b[0;31m             \u001b[0mos\u001b[0m\u001b[0;34m.\u001b[0m\u001b[0mstat\u001b[0m\u001b[0;34m(\u001b[0m\u001b[0mself\u001b[0m\u001b[0;34m.\u001b[0m\u001b[0mdirpath\u001b[0m\u001b[0;34m)\u001b[0m\u001b[0;34m\u001b[0m\u001b[0m\n\u001b[0m\u001b[1;32m     84\u001b[0m         \u001b[0;32mexcept\u001b[0m\u001b[0;34m:\u001b[0m\u001b[0;34m\u001b[0m\u001b[0m\n",
      "\u001b[0;31mFileNotFoundError\u001b[0m: [Errno 2] No such file or directory: '../model_state_dumps/20190731_110226/'",
      "\nDuring handling of the above exception, another exception occurred:\n",
      "\u001b[0;31mFileNotFoundError\u001b[0m                         Traceback (most recent call last)",
      "\u001b[0;32m<ipython-input-31-7aada11e1faf>\u001b[0m in \u001b[0;36m<module>\u001b[0;34m()\u001b[0m\n\u001b[0;32m----> 1\u001b[0;31m \u001b[0mengine\u001b[0m\u001b[0;34m=\u001b[0m\u001b[0mEngine\u001b[0m\u001b[0;34m(\u001b[0m\u001b[0mmodel_MLP\u001b[0m\u001b[0;34m,\u001b[0m\u001b[0mdset\u001b[0m\u001b[0;34m,\u001b[0m\u001b[0mconfig\u001b[0m\u001b[0;34m)\u001b[0m\u001b[0;34m\u001b[0m\u001b[0m\n\u001b[0m",
      "\u001b[0;32m~/TRISEP_ML_tutorial/utils/engine.py\u001b[0m in \u001b[0;36m__init__\u001b[0;34m(self, model, dataset, config)\u001b[0m\n\u001b[1;32m     84\u001b[0m         \u001b[0;32mexcept\u001b[0m\u001b[0;34m:\u001b[0m\u001b[0;34m\u001b[0m\u001b[0m\n\u001b[1;32m     85\u001b[0m             \u001b[0mprint\u001b[0m\u001b[0;34m(\u001b[0m\u001b[0;34m\"Creating a directory for run dump: {}\"\u001b[0m\u001b[0;34m.\u001b[0m\u001b[0mformat\u001b[0m\u001b[0;34m(\u001b[0m\u001b[0mself\u001b[0m\u001b[0;34m.\u001b[0m\u001b[0mdirpath\u001b[0m\u001b[0;34m)\u001b[0m\u001b[0;34m)\u001b[0m\u001b[0;34m\u001b[0m\u001b[0m\n\u001b[0;32m---> 86\u001b[0;31m             \u001b[0mos\u001b[0m\u001b[0;34m.\u001b[0m\u001b[0mmkdir\u001b[0m\u001b[0;34m(\u001b[0m\u001b[0mself\u001b[0m\u001b[0;34m.\u001b[0m\u001b[0mdirpath\u001b[0m\u001b[0;34m)\u001b[0m\u001b[0;34m\u001b[0m\u001b[0m\n\u001b[0m\u001b[1;32m     87\u001b[0m \u001b[0;34m\u001b[0m\u001b[0m\n\u001b[1;32m     88\u001b[0m         \u001b[0mself\u001b[0m\u001b[0;34m.\u001b[0m\u001b[0mconfig\u001b[0m\u001b[0;34m=\u001b[0m\u001b[0mconfig\u001b[0m\u001b[0;34m\u001b[0m\u001b[0m\n",
      "\u001b[0;31mFileNotFoundError\u001b[0m: [Errno 2] No such file or directory: '../model_state_dumps/20190731_110226/'"
     ]
    }
   ],
   "source": [
    "engine=Engine(model_MLP,dset,config)"
   ]
  },
  {
   "cell_type": "code",
   "execution_count": null,
   "metadata": {},
   "outputs": [],
   "source": [
    "print(vars(config))"
   ]
  },
  {
   "cell_type": "code",
   "execution_count": null,
   "metadata": {
    "scrolled": true
   },
   "outputs": [],
   "source": [
    "%%time\n",
    "engine.train(epochs=2.5,report_interval=10,valid_interval=100)"
   ]
  },
  {
   "cell_type": "markdown",
   "metadata": {},
   "source": [
    "Is the model training?"
   ]
  },
  {
   "cell_type": "markdown",
   "metadata": {},
   "source": [
    "## Defining a simple Convolutional Network"
   ]
  },
  {
   "cell_type": "code",
   "execution_count": null,
   "metadata": {},
   "outputs": [],
   "source": [
    "from models.simpleCNN import SimpleCNN\n",
    "model_CNN=SimpleCNN(num_input_channels=38,num_classes=3)"
   ]
  },
  {
   "cell_type": "code",
   "execution_count": null,
   "metadata": {},
   "outputs": [],
   "source": [
    "def rotate_chan(x):\n",
    "    return np.transpose(x,(2,0,1))"
   ]
  },
  {
   "cell_type": "code",
   "execution_count": null,
   "metadata": {},
   "outputs": [],
   "source": [
    "dset=WCH5Dataset(\"/fast_scratch/TRISEP_data/NUPRISM.h5\",val_split=0.1,test_split=0.1,transform=rotate_chan)"
   ]
  },
  {
   "cell_type": "code",
   "execution_count": null,
   "metadata": {},
   "outputs": [],
   "source": [
    "engine=Engine(model_CNN,dset,config)"
   ]
  },
  {
   "cell_type": "code",
   "execution_count": null,
   "metadata": {},
   "outputs": [],
   "source": [
    "for name, param in model_CNN.named_parameters():\n",
    "    print(\"name of a parameter: {}, type: {}, parameter requires a gradient?: {}\".\n",
    "          format(name, type(param),param.requires_grad))"
   ]
  },
  {
   "cell_type": "code",
   "execution_count": null,
   "metadata": {
    "scrolled": true
   },
   "outputs": [],
   "source": [
    "%%time\n",
    "engine.train(epochs=5,report_interval=10,valid_interval=100)"
   ]
  },
  {
   "cell_type": "code",
   "execution_count": null,
   "metadata": {},
   "outputs": [],
   "source": []
  }
 ],
 "metadata": {
  "kernelspec": {
   "display_name": "Python 3",
   "language": "python",
   "name": "python3"
  },
  "language_info": {
   "codemirror_mode": {
    "name": "ipython",
    "version": 3
   },
   "file_extension": ".py",
   "mimetype": "text/x-python",
   "name": "python",
   "nbconvert_exporter": "python",
   "pygments_lexer": "ipython3",
   "version": "3.6.5"
  }
 },
 "nbformat": 4,
 "nbformat_minor": 2
}
