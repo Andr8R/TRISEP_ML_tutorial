{
 "cells": [
  {
   "cell_type": "markdown",
   "metadata": {},
   "source": [
    "# TRISEP ML tutorial part II: Building your first fully connected network and a CNN "
   ]
  },
  {
   "cell_type": "markdown",
   "metadata": {},
   "source": [
    "## Building a simple fully connected network (a Multi-Layer Perceptron)"
   ]
  },
  {
   "cell_type": "markdown",
   "metadata": {},
   "source": [
    "Let's set up the paths and make a dataset again:"
   ]
  },
  {
   "cell_type": "code",
   "execution_count": 1,
   "metadata": {},
   "outputs": [],
   "source": [
    "import os,sys\n",
    "currentdir = os.getcwd()\n",
    "parentdir = os.path.dirname(currentdir)\n",
    "sys.path.insert(0,parentdir) "
   ]
  },
  {
   "cell_type": "code",
   "execution_count": 2,
   "metadata": {},
   "outputs": [],
   "source": [
    "from utils.data_handling import WCH5Dataset"
   ]
  },
  {
   "cell_type": "code",
   "execution_count": 3,
   "metadata": {},
   "outputs": [],
   "source": [
    "dset=WCH5Dataset(\"/data/TRISEP_data/NUPRISM.h5\",val_split=0.1,test_split=0.1)"
   ]
  },
  {
   "cell_type": "markdown",
   "metadata": {},
   "source": [
    "Now Let's make our model. We'll talk about \n",
    "  - model parameters\n",
    "  - inputs and the forward method\n",
    "  - Modules containing modules\n",
    "  - Sequential Module  \n",
    "  Lets open [simpleMLP](/edit/models/simpleMLP.py)"
   ]
  },
  {
   "cell_type": "code",
   "execution_count": 4,
   "metadata": {},
   "outputs": [],
   "source": [
    "from models.simpleMLP import SimpleMLP"
   ]
  },
  {
   "cell_type": "code",
   "execution_count": 5,
   "metadata": {},
   "outputs": [],
   "source": [
    "model_MLP=SimpleMLP(num_classes=3)"
   ]
  },
  {
   "cell_type": "markdown",
   "metadata": {},
   "source": [
    "Let's look at the parameters:"
   ]
  },
  {
   "cell_type": "code",
   "execution_count": 6,
   "metadata": {},
   "outputs": [
    {
     "name": "stdout",
     "output_type": "stream",
     "text": [
      "name of a parameter: fc1.weight, type: <class 'torch.nn.parameter.Parameter'>, parameter requires a gradient?: True\n",
      "name of a parameter: fc1.bias, type: <class 'torch.nn.parameter.Parameter'>, parameter requires a gradient?: True\n",
      "name of a parameter: fc2.weight, type: <class 'torch.nn.parameter.Parameter'>, parameter requires a gradient?: True\n",
      "name of a parameter: fc2.bias, type: <class 'torch.nn.parameter.Parameter'>, parameter requires a gradient?: True\n",
      "name of a parameter: fc3.weight, type: <class 'torch.nn.parameter.Parameter'>, parameter requires a gradient?: True\n",
      "name of a parameter: fc3.bias, type: <class 'torch.nn.parameter.Parameter'>, parameter requires a gradient?: True\n",
      "name of a parameter: fc4.weight, type: <class 'torch.nn.parameter.Parameter'>, parameter requires a gradient?: True\n",
      "name of a parameter: fc4.bias, type: <class 'torch.nn.parameter.Parameter'>, parameter requires a gradient?: True\n",
      "name of a parameter: fc5.weight, type: <class 'torch.nn.parameter.Parameter'>, parameter requires a gradient?: True\n",
      "name of a parameter: fc5.bias, type: <class 'torch.nn.parameter.Parameter'>, parameter requires a gradient?: True\n"
     ]
    }
   ],
   "source": [
    "for name, param in model_MLP.named_parameters():\n",
    "    print(\"name of a parameter: {}, type: {}, parameter requires a gradient?: {}\".\n",
    "          format(name, type(param),param.requires_grad))"
   ]
  },
  {
   "cell_type": "markdown",
   "metadata": {},
   "source": [
    "As we can see by default the parameters have `requires_grad` set - i.e. we will be able to obtain gradient of the loss function with respect to these parameters."
   ]
  },
  {
   "cell_type": "markdown",
   "metadata": {},
   "source": [
    "Let's quickly look at the [source](https://pytorch.org/docs/stable/_modules/torch/nn/modules/linear.html#Linear) for the linear module"
   ]
  },
  {
   "cell_type": "markdown",
   "metadata": {},
   "source": [
    "The parameters descend from the `Tensor` class. When `Parameter` object is instantiated as a member of a `Module` object class the parameter is added to `Module`s list of parameters automatically. This list and values are captured in the 'state dictionary' of a module:"
   ]
  },
  {
   "cell_type": "code",
   "execution_count": 7,
   "metadata": {},
   "outputs": [
    {
     "data": {
      "text/plain": [
       "OrderedDict([('fc1.weight',\n",
       "              tensor([[ 0.0054, -0.0058, -0.0051,  ...,  0.0046,  0.0031, -0.0048],\n",
       "                      [-0.0063,  0.0056,  0.0024,  ...,  0.0058,  0.0018, -0.0010],\n",
       "                      [ 0.0013, -0.0045, -0.0029,  ..., -0.0062,  0.0038, -0.0017],\n",
       "                      ...,\n",
       "                      [ 0.0048, -0.0030,  0.0003,  ...,  0.0031,  0.0052,  0.0043],\n",
       "                      [ 0.0050, -0.0021,  0.0047,  ...,  0.0020, -0.0011,  0.0059],\n",
       "                      [ 0.0048, -0.0045, -0.0029,  ..., -0.0027, -0.0034, -0.0017]])),\n",
       "             ('fc1.bias',\n",
       "              tensor([-0.0030,  0.0004, -0.0036,  ...,  0.0033,  0.0046, -0.0026])),\n",
       "             ('fc2.weight',\n",
       "              tensor([[-0.0044,  0.0055,  0.0056,  ..., -0.0034,  0.0097,  0.0081],\n",
       "                      [ 0.0050,  0.0051, -0.0008,  ...,  0.0020,  0.0031, -0.0077],\n",
       "                      [-0.0093,  0.0099, -0.0008,  ..., -0.0088,  0.0013, -0.0056],\n",
       "                      ...,\n",
       "                      [-0.0031, -0.0100,  0.0018,  ...,  0.0001,  0.0005,  0.0080],\n",
       "                      [-0.0031, -0.0032, -0.0097,  ...,  0.0009, -0.0041,  0.0047],\n",
       "                      [-0.0038, -0.0046,  0.0095,  ...,  0.0068, -0.0060, -0.0084]])),\n",
       "             ('fc2.bias',\n",
       "              tensor([-0.0046, -0.0042,  0.0075,  ...,  0.0088, -0.0099,  0.0018])),\n",
       "             ('fc3.weight',\n",
       "              tensor([[ 0.0026, -0.0023, -0.0001,  ...,  0.0035, -0.0071, -0.0116],\n",
       "                      [ 0.0067, -0.0048, -0.0042,  ...,  0.0115,  0.0117,  0.0001],\n",
       "                      [-0.0042, -0.0003,  0.0086,  ..., -0.0025, -0.0054,  0.0113],\n",
       "                      ...,\n",
       "                      [-0.0081, -0.0034, -0.0117,  ..., -0.0042,  0.0015,  0.0049],\n",
       "                      [-0.0047, -0.0046, -0.0142,  ..., -0.0066, -0.0055, -0.0015],\n",
       "                      [ 0.0100, -0.0003,  0.0039,  ..., -0.0058,  0.0054, -0.0050]])),\n",
       "             ('fc3.bias',\n",
       "              tensor([ 0.0052,  0.0126, -0.0012,  ...,  0.0087,  0.0061, -0.0009])),\n",
       "             ('fc4.weight',\n",
       "              tensor([[-0.0116,  0.0150,  0.0157,  ..., -0.0024, -0.0171,  0.0074],\n",
       "                      [ 0.0236,  0.0235,  0.0134,  ...,  0.0117, -0.0086, -0.0039],\n",
       "                      [ 0.0066, -0.0103,  0.0008,  ...,  0.0031, -0.0101,  0.0073],\n",
       "                      ...,\n",
       "                      [-0.0217, -0.0194, -0.0132,  ...,  0.0212,  0.0136,  0.0018],\n",
       "                      [ 0.0011, -0.0103,  0.0072,  ...,  0.0018,  0.0124, -0.0096],\n",
       "                      [-0.0180, -0.0195, -0.0242,  ...,  0.0021, -0.0119, -0.0032]])),\n",
       "             ('fc4.bias',\n",
       "              tensor([ 6.8746e-03, -1.8312e-02, -5.2589e-03,  1.2431e-02,  1.0373e-02,\n",
       "                       8.9256e-03, -8.8739e-03, -1.0443e-02,  2.2950e-02,  7.2155e-03,\n",
       "                      -2.0874e-02, -1.1896e-02, -8.1736e-03, -9.8798e-03,  1.3455e-02,\n",
       "                       1.5142e-02, -1.5705e-02, -1.6670e-02,  9.6964e-03, -4.6890e-03,\n",
       "                      -3.6938e-03,  2.3295e-02,  2.0431e-02, -7.6368e-03,  1.5812e-02,\n",
       "                      -1.2908e-02, -2.3670e-02, -1.2665e-02, -1.8410e-02,  3.3818e-03,\n",
       "                      -5.1497e-03,  1.8768e-02,  1.0835e-02, -1.4696e-02, -4.6048e-03,\n",
       "                      -7.7663e-03, -2.3067e-02,  1.4295e-02,  4.0084e-05,  2.3053e-02,\n",
       "                      -1.1203e-02, -1.4732e-02, -1.1968e-02,  1.3841e-02,  2.0589e-02,\n",
       "                       2.3051e-03,  1.1698e-02,  1.7297e-03, -1.4680e-02, -2.1499e-03,\n",
       "                      -1.8399e-02, -4.9252e-03, -5.6245e-03, -3.5364e-03,  2.2996e-02,\n",
       "                       4.6766e-03,  2.0830e-02, -9.8613e-03,  1.1096e-03,  1.9611e-02,\n",
       "                      -2.9303e-03, -4.8681e-03,  5.9351e-03, -4.6411e-03, -9.3490e-03,\n",
       "                       4.4001e-03,  2.2127e-03, -1.8830e-02,  2.4475e-02, -1.3459e-02,\n",
       "                       2.3016e-02,  1.2884e-02,  1.6005e-02, -1.7541e-02,  1.3981e-02,\n",
       "                       1.1858e-02,  2.1741e-02,  1.0574e-02,  1.1019e-02, -1.3572e-02,\n",
       "                       2.0481e-03,  3.2759e-03, -6.7099e-03,  2.1514e-02, -1.7499e-02,\n",
       "                       1.4645e-02,  1.0193e-02,  1.9576e-02,  1.5736e-02, -6.8133e-03,\n",
       "                       1.3545e-02, -1.2307e-02, -2.1143e-02,  1.5299e-02,  2.4009e-02,\n",
       "                      -1.1954e-02,  4.0759e-03,  7.6957e-04, -1.8039e-02,  2.4330e-02,\n",
       "                      -4.3648e-03, -1.0839e-02, -2.2184e-02,  2.0896e-02,  2.3618e-02,\n",
       "                       2.2763e-02,  1.3730e-02, -7.4677e-03, -1.4818e-02, -1.7349e-03,\n",
       "                       1.8697e-02, -2.2306e-02,  5.2065e-03,  1.7640e-02,  1.7898e-02,\n",
       "                      -1.8702e-02, -2.2928e-02, -1.0120e-02, -1.7363e-03, -1.0769e-02,\n",
       "                      -1.0414e-03, -2.0445e-02, -2.4134e-02,  1.3481e-02,  8.3431e-03,\n",
       "                       1.3576e-02,  1.5392e-02,  2.2338e-02, -2.1418e-02, -2.2247e-02,\n",
       "                      -6.5550e-03, -1.7850e-02,  1.8996e-02,  2.0324e-02,  4.9405e-03,\n",
       "                       1.9964e-03, -4.7143e-03, -1.5190e-02, -1.6081e-02, -7.8009e-04,\n",
       "                      -1.6961e-02, -1.0801e-02,  8.2917e-03, -2.3425e-02, -1.2476e-02,\n",
       "                      -1.0701e-02,  2.1922e-02,  2.1949e-02,  2.4871e-02,  2.3317e-02,\n",
       "                      -3.7708e-03,  2.6470e-03,  1.0110e-02, -6.7613e-04,  4.3001e-03,\n",
       "                      -2.0457e-02,  1.5665e-02, -8.6380e-03,  2.1587e-03, -2.3245e-02,\n",
       "                      -1.8510e-02,  1.4066e-02,  2.3146e-02, -1.2782e-02, -1.2875e-02,\n",
       "                      -1.8478e-02, -1.0434e-02, -1.7830e-02,  2.4193e-02,  9.4908e-03,\n",
       "                      -7.9657e-03,  2.5417e-03,  1.6016e-02, -2.0796e-02,  2.2187e-02,\n",
       "                      -8.2734e-03, -9.4614e-03,  8.8948e-03, -1.5136e-02,  2.0726e-03,\n",
       "                      -1.1058e-02, -1.4407e-02,  2.3611e-02,  1.1188e-02,  1.4430e-02,\n",
       "                       2.2307e-02,  1.2252e-02,  1.2174e-02, -9.8743e-03, -8.6392e-03,\n",
       "                      -2.4186e-02,  1.8018e-03,  4.8731e-03, -1.8289e-02,  2.5446e-03,\n",
       "                       1.3126e-02, -1.0360e-02, -8.6744e-03,  9.9037e-03, -7.9833e-03,\n",
       "                       4.9969e-03, -1.9007e-03,  3.5852e-03,  8.4315e-03,  1.5866e-02,\n",
       "                      -2.9022e-03,  2.4731e-02,  3.9914e-03,  1.3839e-02, -6.9142e-03,\n",
       "                       2.3927e-02, -1.8400e-04,  5.3639e-03,  2.0622e-02, -1.8170e-02,\n",
       "                      -1.4369e-02, -1.8513e-03,  9.8211e-03,  1.6015e-02, -1.4622e-02,\n",
       "                       2.4182e-02,  2.0233e-03, -1.4620e-02,  1.9172e-02, -1.0561e-02,\n",
       "                       4.0380e-03,  2.3831e-02, -1.1823e-02,  2.4287e-03,  7.3207e-03,\n",
       "                      -3.1035e-03,  3.2034e-03,  2.2260e-02,  2.2471e-03, -1.0596e-02,\n",
       "                       5.0035e-04, -1.1275e-02, -8.8592e-03, -1.9401e-02,  3.8443e-03,\n",
       "                      -7.7871e-03, -1.9306e-02,  2.1266e-02, -2.2869e-02,  1.3342e-02,\n",
       "                      -8.0424e-03, -2.1473e-02, -2.2890e-02,  2.1300e-02, -5.1494e-03,\n",
       "                      -2.7640e-03, -1.4658e-02,  1.8863e-02,  1.1947e-02, -1.6103e-03,\n",
       "                      -1.8058e-03, -2.0698e-02,  6.7846e-03,  7.9384e-03, -3.6949e-03,\n",
       "                       8.5098e-03, -7.1297e-03,  3.0260e-03,  5.9011e-03, -7.8813e-03,\n",
       "                      -2.2834e-02, -2.0839e-02, -5.6615e-04,  1.8102e-02,  2.1558e-02,\n",
       "                      -1.1068e-02,  1.2329e-02, -2.4867e-02, -2.2954e-02,  7.0316e-03,\n",
       "                      -9.8019e-03,  1.0217e-02, -2.3417e-02,  5.4246e-03, -1.3475e-02,\n",
       "                       1.0364e-02, -1.7639e-02, -9.2875e-03, -1.0463e-02, -8.5830e-03,\n",
       "                      -6.6374e-03,  5.8183e-03,  1.1532e-02, -9.4479e-04, -1.5930e-02,\n",
       "                       1.7246e-02, -1.5153e-02,  1.4313e-02, -1.2796e-02, -2.4926e-02,\n",
       "                       4.3232e-03,  2.0950e-02,  6.5018e-03, -1.0379e-02, -2.2982e-03,\n",
       "                      -1.6987e-02,  1.6306e-02,  1.7027e-02,  6.0853e-03, -2.0475e-02,\n",
       "                      -7.4386e-03,  2.0729e-02, -2.5142e-03,  1.2039e-02, -1.1205e-02,\n",
       "                      -1.9279e-02, -1.4144e-02, -2.3124e-03,  1.0367e-02,  2.0846e-02,\n",
       "                       2.4984e-02,  2.4211e-02,  7.5852e-03,  5.7240e-03, -1.7763e-02,\n",
       "                      -1.1520e-02, -2.4489e-03, -1.8445e-02, -2.2645e-02,  1.8078e-02,\n",
       "                       2.0561e-03,  1.6796e-02,  9.6390e-03,  1.3975e-02,  1.7154e-02,\n",
       "                       4.9696e-03, -6.2777e-04,  3.5465e-04, -9.9699e-03, -1.5126e-02,\n",
       "                      -2.0874e-02,  2.4838e-02, -4.4075e-03, -3.8221e-03, -1.7068e-02,\n",
       "                       6.5364e-03,  8.2353e-03, -4.2870e-03,  9.6084e-03, -7.8386e-03,\n",
       "                       8.4483e-03, -2.0786e-02,  3.3724e-03,  1.2163e-02,  1.0032e-03,\n",
       "                      -1.4393e-02,  1.0761e-03,  8.5884e-03, -1.4150e-04, -4.3974e-04,\n",
       "                      -6.5923e-03,  1.6197e-02, -2.1275e-02, -2.0303e-02,  1.4555e-03,\n",
       "                      -2.4604e-02, -1.5619e-02,  1.9179e-02, -8.9751e-03, -2.0405e-02,\n",
       "                      -6.3775e-04,  6.9758e-03,  7.9986e-03,  1.5286e-02, -1.2544e-03,\n",
       "                      -1.5855e-02,  1.4150e-03,  1.4057e-02,  1.9841e-04, -5.8640e-03,\n",
       "                       1.8725e-02, -2.1588e-02,  2.4959e-02,  5.9145e-03, -2.2491e-03,\n",
       "                      -2.2760e-02,  2.1568e-02, -1.0682e-02, -7.8698e-03,  8.6795e-04,\n",
       "                      -1.5744e-02,  1.3129e-02, -1.5661e-02, -9.5210e-03, -5.7889e-04,\n",
       "                       2.0826e-02,  1.0085e-02,  2.1647e-02,  2.4444e-02, -6.4740e-05,\n",
       "                      -3.5589e-04,  2.0847e-02,  9.1328e-04, -2.4689e-02, -1.2944e-02])),\n",
       "             ('fc5.weight',\n",
       "              tensor([[ 0.0203,  0.0057, -0.0258,  ...,  0.0474, -0.0098, -0.0489],\n",
       "                      [-0.0485, -0.0457,  0.0340,  ..., -0.0117,  0.0249, -0.0055],\n",
       "                      [ 0.0200,  0.0298, -0.0021,  ..., -0.0042,  0.0173,  0.0220]])),\n",
       "             ('fc5.bias', tensor([ 0.0285, -0.0356, -0.0263]))])"
      ]
     },
     "execution_count": 7,
     "metadata": {},
     "output_type": "execute_result"
    }
   ],
   "source": [
    "model_MLP.state_dict()"
   ]
  },
  {
   "cell_type": "markdown",
   "metadata": {},
   "source": [
    "Now let's look at sequential version"
   ]
  },
  {
   "cell_type": "code",
   "execution_count": 8,
   "metadata": {},
   "outputs": [],
   "source": [
    "from models.simpleMLP import SimpleMLPSEQ\n",
    "model_MLPSEQ=SimpleMLPSEQ(num_classes=3)"
   ]
  },
  {
   "cell_type": "code",
   "execution_count": 9,
   "metadata": {},
   "outputs": [
    {
     "name": "stdout",
     "output_type": "stream",
     "text": [
      "name of a parameter: _sequence.0.weight, type: <class 'torch.nn.parameter.Parameter'>, parameter requires a gradient?: True\n",
      "name of a parameter: _sequence.0.bias, type: <class 'torch.nn.parameter.Parameter'>, parameter requires a gradient?: True\n",
      "name of a parameter: _sequence.2.weight, type: <class 'torch.nn.parameter.Parameter'>, parameter requires a gradient?: True\n",
      "name of a parameter: _sequence.2.bias, type: <class 'torch.nn.parameter.Parameter'>, parameter requires a gradient?: True\n",
      "name of a parameter: _sequence.4.weight, type: <class 'torch.nn.parameter.Parameter'>, parameter requires a gradient?: True\n",
      "name of a parameter: _sequence.4.bias, type: <class 'torch.nn.parameter.Parameter'>, parameter requires a gradient?: True\n",
      "name of a parameter: _sequence.6.weight, type: <class 'torch.nn.parameter.Parameter'>, parameter requires a gradient?: True\n",
      "name of a parameter: _sequence.6.bias, type: <class 'torch.nn.parameter.Parameter'>, parameter requires a gradient?: True\n",
      "name of a parameter: _sequence.8.weight, type: <class 'torch.nn.parameter.Parameter'>, parameter requires a gradient?: True\n",
      "name of a parameter: _sequence.8.bias, type: <class 'torch.nn.parameter.Parameter'>, parameter requires a gradient?: True\n"
     ]
    }
   ],
   "source": [
    "for name, param in model_MLPSEQ.named_parameters():\n",
    "    print(\"name of a parameter: {}, type: {}, parameter requires a gradient?: {}\".\n",
    "          format(name, type(param),param.requires_grad))"
   ]
  },
  {
   "cell_type": "code",
   "execution_count": 10,
   "metadata": {
    "scrolled": true
   },
   "outputs": [
    {
     "name": "stdout",
     "output_type": "stream",
     "text": [
      "OrderedDict([('_sequence.0.weight', tensor([[ 0.0032, -0.0050, -0.0031,  ..., -0.0045, -0.0046,  0.0055],\n",
      "        [ 0.0036, -0.0037,  0.0061,  ...,  0.0063, -0.0015, -0.0021],\n",
      "        [ 0.0006,  0.0035, -0.0003,  ...,  0.0012, -0.0033,  0.0062],\n",
      "        ...,\n",
      "        [ 0.0010, -0.0024, -0.0051,  ...,  0.0025, -0.0047, -0.0034],\n",
      "        [ 0.0053,  0.0035, -0.0058,  ..., -0.0059,  0.0055,  0.0054],\n",
      "        [-0.0015, -0.0051, -0.0025,  ...,  0.0026, -0.0023,  0.0035]])), ('_sequence.0.bias', tensor([-6.8265e-05, -1.7591e-03, -3.8521e-03,  ..., -2.1804e-03,\n",
      "         6.3318e-04,  1.2940e-03])), ('_sequence.2.weight', tensor([[-0.0029, -0.0075,  0.0025,  ..., -0.0008, -0.0069,  0.0002],\n",
      "        [ 0.0063, -0.0079, -0.0031,  ...,  0.0092,  0.0011,  0.0092],\n",
      "        [ 0.0032, -0.0101, -0.0040,  ...,  0.0016, -0.0048,  0.0091],\n",
      "        ...,\n",
      "        [ 0.0077,  0.0040,  0.0023,  ...,  0.0071, -0.0001, -0.0074],\n",
      "        [ 0.0011, -0.0078, -0.0038,  ..., -0.0013, -0.0034, -0.0005],\n",
      "        [ 0.0061, -0.0074,  0.0044,  ...,  0.0088, -0.0029, -0.0100]])), ('_sequence.2.bias', tensor([-0.0076, -0.0012, -0.0033,  ..., -0.0098,  0.0093, -0.0055])), ('_sequence.4.weight', tensor([[-0.0020, -0.0079,  0.0127,  ..., -0.0132, -0.0105,  0.0073],\n",
      "        [-0.0051,  0.0091, -0.0010,  ..., -0.0117,  0.0065, -0.0015],\n",
      "        [-0.0114, -0.0129, -0.0064,  ..., -0.0008, -0.0041,  0.0109],\n",
      "        ...,\n",
      "        [-0.0090, -0.0021,  0.0143,  ...,  0.0065, -0.0127,  0.0134],\n",
      "        [ 0.0131,  0.0104,  0.0070,  ..., -0.0140, -0.0064, -0.0141],\n",
      "        [-0.0073, -0.0088,  0.0016,  ...,  0.0068, -0.0002,  0.0118]])), ('_sequence.4.bias', tensor([-0.0067, -0.0063,  0.0062,  ..., -0.0044,  0.0082, -0.0076])), ('_sequence.6.weight', tensor([[ 4.6923e-03,  1.3649e-02, -4.4047e-03,  ...,  2.0950e-02,\n",
      "          2.2534e-02,  1.4573e-02],\n",
      "        [-1.4256e-02,  6.5979e-03, -2.4088e-02,  ..., -3.1732e-03,\n",
      "          1.2026e-02,  1.4214e-02],\n",
      "        [ 1.3098e-02, -1.5860e-03,  1.2348e-02,  ..., -1.9565e-02,\n",
      "          1.9221e-02,  9.6086e-03],\n",
      "        ...,\n",
      "        [ 1.4456e-02,  3.7779e-04,  2.1556e-02,  ...,  3.1400e-05,\n",
      "         -2.1354e-02,  1.0127e-02],\n",
      "        [-2.1670e-02, -1.7438e-02,  9.0438e-03,  ..., -6.9596e-03,\n",
      "         -3.3310e-03,  8.4893e-03],\n",
      "        [ 6.2484e-03,  2.0273e-02,  1.4883e-02,  ..., -1.7485e-03,\n",
      "          5.2239e-03,  1.7686e-02]])), ('_sequence.6.bias', tensor([ 9.8255e-03, -1.9812e-02,  3.2502e-03, -5.8125e-03,  8.7235e-03,\n",
      "         2.4386e-02,  2.2157e-02, -2.3226e-02, -7.8409e-03,  1.8901e-03,\n",
      "        -1.3062e-02,  1.7677e-02,  1.1649e-02,  6.4269e-03,  1.2874e-02,\n",
      "         1.6037e-02,  1.7696e-02, -5.5183e-03,  1.0624e-02, -4.3302e-04,\n",
      "         3.5781e-03,  1.2226e-02, -2.3718e-02,  2.1321e-02, -1.7520e-02,\n",
      "        -1.0098e-02, -2.3395e-02, -8.5610e-03, -3.9195e-03, -2.3660e-02,\n",
      "         2.0079e-02,  1.7608e-02,  2.1505e-02, -8.9313e-03, -1.9309e-02,\n",
      "        -1.6752e-02,  1.0453e-02, -2.4472e-02,  1.3722e-02,  9.1077e-03,\n",
      "         5.9687e-03,  5.0834e-03, -1.7709e-02,  1.6178e-02,  1.1308e-02,\n",
      "        -7.1919e-03,  2.4447e-02, -2.2706e-05, -3.9563e-04,  1.9928e-03,\n",
      "         8.7917e-03,  2.4087e-02,  9.0802e-03,  2.2695e-02,  1.6273e-02,\n",
      "        -2.3038e-02, -3.6324e-03, -1.2048e-02,  1.9149e-02,  2.1270e-02,\n",
      "         1.4512e-02, -2.2556e-02, -1.6667e-02, -1.1781e-02,  2.2296e-03,\n",
      "         5.2558e-03, -4.9441e-03,  4.7725e-03,  1.8317e-02,  1.7720e-02,\n",
      "        -1.4872e-02, -1.4505e-02, -9.8488e-03, -3.8763e-03,  2.3351e-02,\n",
      "         8.0995e-03,  1.8719e-02,  1.2320e-02, -1.0708e-02,  1.3678e-02,\n",
      "         1.6928e-02, -6.1094e-03,  1.4243e-02, -3.9573e-03, -2.0278e-02,\n",
      "         9.3771e-03,  1.5305e-03,  1.7263e-02,  7.8665e-04, -6.4879e-03,\n",
      "         1.3089e-02, -1.8889e-02,  2.1784e-03,  1.8581e-03, -1.7479e-02,\n",
      "         5.8378e-03, -2.1618e-03,  1.4742e-02,  2.3913e-02,  1.7108e-02,\n",
      "         2.0812e-02,  5.8697e-03,  7.2866e-03, -3.7028e-03, -1.9484e-02,\n",
      "         7.3341e-03,  1.3974e-02,  7.0643e-03,  1.2353e-02,  3.0144e-03,\n",
      "         1.9784e-02, -5.0334e-03,  1.3269e-02, -2.4012e-02, -2.4842e-02,\n",
      "         5.0282e-03, -1.7724e-02,  2.2478e-02, -1.6642e-02, -2.0842e-02,\n",
      "        -1.2428e-02, -2.0921e-02, -1.7263e-02, -1.7529e-02, -3.9492e-03,\n",
      "         1.0404e-02, -5.6344e-03, -1.1961e-02,  1.5680e-02, -2.1725e-02,\n",
      "        -1.9855e-02, -6.9548e-03,  5.4099e-03,  4.7883e-03,  6.9008e-03,\n",
      "        -2.2600e-02, -1.6619e-02,  5.0929e-03,  8.1750e-03,  3.2464e-04,\n",
      "        -6.3548e-03,  1.0471e-02,  1.6366e-02,  4.9680e-03,  1.0591e-02,\n",
      "         7.0907e-04,  1.7219e-03, -1.5814e-02,  6.5964e-03, -1.9797e-03,\n",
      "         3.4599e-03, -4.7915e-03, -5.2935e-04, -1.0192e-02,  6.7138e-03,\n",
      "        -1.8070e-02,  1.6612e-03, -7.7355e-03,  2.4052e-02, -2.3069e-02,\n",
      "        -2.2278e-02, -2.2556e-02, -2.3037e-02,  1.7588e-02,  1.8822e-02,\n",
      "         1.6108e-02,  2.0813e-03,  9.9548e-03,  4.7970e-03, -4.1076e-03,\n",
      "         1.5806e-02, -2.1208e-02, -1.0386e-02, -1.2412e-02,  1.1500e-02,\n",
      "         8.7745e-03, -9.6486e-03,  2.2482e-02, -6.0978e-03, -1.2602e-02,\n",
      "         2.4987e-02, -1.2128e-02, -1.3515e-03,  2.4418e-02, -1.9623e-02,\n",
      "         2.6259e-03,  2.0884e-02, -4.7727e-03,  1.5661e-02, -6.4495e-04,\n",
      "        -7.7975e-03,  1.1445e-02, -8.6199e-03,  1.2074e-03, -7.1869e-03,\n",
      "         6.8294e-03,  1.7202e-02,  7.1923e-03,  1.5800e-02,  2.2176e-02,\n",
      "         4.1078e-03, -1.9622e-02,  3.8170e-03, -2.0857e-02, -1.4679e-02,\n",
      "         2.2552e-02,  8.1517e-03,  9.2070e-03,  6.0966e-03, -1.0072e-02,\n",
      "        -1.3781e-02,  6.9519e-03,  1.2880e-02, -1.2967e-02,  6.4318e-04,\n",
      "         2.2085e-02,  5.8337e-04, -2.2177e-02,  1.7100e-03,  2.1980e-02,\n",
      "        -1.5527e-02,  8.3268e-03,  1.8352e-02,  1.4124e-03, -3.6114e-03,\n",
      "         5.2949e-04,  8.4263e-03, -1.3690e-02, -1.7012e-03, -2.3037e-02,\n",
      "         1.2619e-02, -7.1264e-03, -1.1986e-03, -1.4676e-02, -3.2904e-03,\n",
      "         5.8926e-03,  1.8710e-02, -1.2798e-02,  6.9855e-03,  1.5301e-02,\n",
      "        -2.0199e-02, -2.1117e-03,  1.4673e-02, -2.5148e-03,  2.4020e-02,\n",
      "        -1.7856e-02,  1.5684e-03, -2.3088e-02,  2.0983e-02, -1.3344e-02,\n",
      "         8.3213e-03,  2.3057e-02,  1.9633e-02, -1.9854e-02,  2.3935e-02,\n",
      "        -8.2405e-03,  1.5480e-03, -2.7852e-04, -6.5594e-03,  9.9667e-03,\n",
      "        -8.8609e-03, -2.3560e-03,  1.4617e-02,  4.7997e-03, -3.5387e-03,\n",
      "         2.1195e-02,  2.1570e-02,  1.7783e-02, -2.1731e-02, -1.5556e-02,\n",
      "         1.6854e-02, -9.7663e-03,  7.1409e-03,  1.3770e-02, -1.1546e-03,\n",
      "        -6.3105e-03,  2.3698e-02,  2.0498e-02,  6.5969e-03, -2.2911e-07,\n",
      "        -2.3227e-02,  1.5730e-03, -3.2874e-03, -8.8580e-03,  2.1430e-03,\n",
      "        -1.6474e-02,  1.8774e-02, -2.4565e-02, -5.3251e-03,  1.1369e-02,\n",
      "        -3.3380e-03,  1.9771e-02,  1.2967e-02, -1.8170e-02, -9.1828e-03,\n",
      "         1.3363e-02, -1.8989e-02,  4.7944e-03,  4.5515e-03, -2.3408e-03,\n",
      "        -1.8530e-02, -1.5212e-02,  2.0264e-02,  9.2386e-03,  1.3807e-02,\n",
      "         1.3935e-02, -2.1336e-02,  1.7987e-02,  2.3597e-02, -5.5362e-03,\n",
      "         2.1496e-02, -3.2886e-03,  9.4187e-04,  8.9764e-04, -2.1237e-02,\n",
      "         2.2757e-02,  2.3765e-02,  6.5608e-03,  1.5696e-02, -1.9140e-02,\n",
      "        -4.2458e-03, -1.9525e-02, -1.0513e-02,  1.7417e-02,  1.2436e-02,\n",
      "        -1.2065e-02,  4.5754e-03,  1.9148e-03, -8.4689e-03,  1.0383e-02,\n",
      "         2.2820e-02,  1.6859e-03,  2.3354e-02, -3.8822e-03,  1.5837e-02,\n",
      "         8.6901e-03,  1.4116e-02, -1.7601e-02,  1.1418e-02,  1.0066e-03,\n",
      "         2.3902e-02, -1.0299e-02,  1.5126e-02,  1.1293e-02,  1.7776e-02,\n",
      "        -1.4521e-02,  6.5894e-03,  3.4193e-03,  4.5153e-03, -1.5622e-02,\n",
      "        -1.2063e-02, -3.9293e-04,  3.1257e-03,  8.4930e-03,  1.0110e-02,\n",
      "        -1.1111e-02,  2.3421e-02, -4.2929e-03, -2.3095e-02, -1.0085e-04,\n",
      "        -4.9379e-03, -4.4441e-03, -6.1139e-03, -1.9622e-02, -1.4313e-02,\n",
      "         1.3487e-02,  2.1097e-02,  7.9230e-03, -5.2599e-03,  1.8168e-02,\n",
      "         1.3489e-02, -1.5969e-02, -3.5974e-03, -2.1368e-02, -2.3732e-02,\n",
      "         1.9891e-03,  1.7185e-03, -2.4658e-02,  2.1123e-03, -2.0005e-02,\n",
      "         8.2639e-03, -3.9812e-03, -2.3841e-02, -2.0468e-02, -2.1025e-02,\n",
      "         2.4104e-02, -1.9086e-02,  9.5644e-03,  1.8281e-03,  5.9995e-03,\n",
      "        -1.0960e-03, -2.4239e-02,  2.0615e-02, -4.6227e-03,  1.4748e-02,\n",
      "         1.3380e-02,  7.9860e-03, -7.6285e-03,  2.2583e-02, -1.3131e-02])), ('_sequence.8.weight', tensor([[ 0.0472, -0.0219, -0.0387,  ...,  0.0118,  0.0002,  0.0139],\n",
      "        [-0.0178,  0.0369,  0.0280,  ..., -0.0207, -0.0466,  0.0211],\n",
      "        [-0.0284,  0.0499,  0.0372,  ..., -0.0446, -0.0086, -0.0211]])), ('_sequence.8.bias', tensor([-0.0142, -0.0042,  0.0098]))])\n"
     ]
    }
   ],
   "source": [
    "print(model_MLPSEQ.state_dict())"
   ]
  },
  {
   "cell_type": "markdown",
   "metadata": {},
   "source": [
    "As we can see the parameters look similar but have different names"
   ]
  },
  {
   "cell_type": "code",
   "execution_count": 11,
   "metadata": {},
   "outputs": [],
   "source": [
    "import numpy as np\n",
    "transform=np.ravel\n",
    "dset=WCH5Dataset(\"/fast_scratch/TRISEP_data/NUPRISM.h5\",val_split=0.1,test_split=0.1,transform=transform)"
   ]
  },
  {
   "cell_type": "code",
   "execution_count": 12,
   "metadata": {},
   "outputs": [],
   "source": [
    "from utils.engine import Engine"
   ]
  },
  {
   "cell_type": "markdown",
   "metadata": {},
   "source": [
    "Let's first create a configuration object -we'll use this to set up our training engine"
   ]
  },
  {
   "cell_type": "code",
   "execution_count": 13,
   "metadata": {},
   "outputs": [],
   "source": [
    "class CONFIG:\n",
    "    pass\n",
    "config=CONFIG()\n",
    "config.batch_size_test = 1024\n",
    "config.batch_size_train = 32\n",
    "config.batch_size_val = 2048\n",
    "config.lr=0.001\n",
    "config.device = 'gpu'\n",
    "config.num_workers_train=3\n",
    "config.num_workers_val=2\n",
    "config.num_workers_test=2\n",
    "config.dump_path = '../model_state_dumps'\n"
   ]
  },
  {
   "cell_type": "code",
   "execution_count": 14,
   "metadata": {},
   "outputs": [
    {
     "name": "stdout",
     "output_type": "stream",
     "text": [
      "Requesting a GPU\n",
      "CUDA is available\n",
      "Creating a directory for run dump: ../model_state_dumps/20190727_003326/\n"
     ]
    }
   ],
   "source": [
    "engine=Engine(model_MLP,dset,config)"
   ]
  },
  {
   "cell_type": "code",
   "execution_count": 15,
   "metadata": {},
   "outputs": [
    {
     "name": "stdout",
     "output_type": "stream",
     "text": [
      "{'batch_size_test': 1024, 'batch_size_train': 32, 'batch_size_val': 2048, 'lr': 0.001, 'device': 'gpu', 'num_workers_train': 3, 'num_workers_val': 2, 'num_workers_test': 2, 'dump_path': '../model_state_dumps'}\n"
     ]
    }
   ],
   "source": [
    "print(vars(config))"
   ]
  },
  {
   "cell_type": "code",
   "execution_count": null,
   "metadata": {
    "scrolled": true
   },
   "outputs": [
    {
     "name": "stdout",
     "output_type": "stream",
     "text": [
      "Epoch 0 Starting @ 2019-07-27 00:33:26\n",
      "... Iteration 1 ... Epoch 0.00 ... Loss 4.277 ... Accuracy 0.188\n",
      "... Iteration 1 ... Epoch 0.00 ... Validation Loss 63.753 ... Validation Accuracy 0.376\n",
      "Saved checkpoint as: ../model_state_dumps/20190727_003326/SimpleMLP.pth\n",
      "best validation loss so far!: 63.7532958984375\n",
      "Saved checkpoint as: ../model_state_dumps/20190727_003326/SimpleMLPBEST.pth\n",
      "... Iteration 11 ... Epoch 0.00 ... Loss 1.154 ... Accuracy 0.469\n",
      "... Iteration 21 ... Epoch 0.00 ... Loss 1.012 ... Accuracy 0.500\n",
      "... Iteration 31 ... Epoch 0.00 ... Loss 1.071 ... Accuracy 0.438\n",
      "... Iteration 41 ... Epoch 0.00 ... Loss 1.097 ... Accuracy 0.469\n",
      "... Iteration 51 ... Epoch 0.00 ... Loss 0.841 ... Accuracy 0.562\n",
      "... Iteration 61 ... Epoch 0.00 ... Loss 0.979 ... Accuracy 0.531\n",
      "... Iteration 71 ... Epoch 0.00 ... Loss 0.696 ... Accuracy 0.750\n",
      "... Iteration 81 ... Epoch 0.00 ... Loss 0.851 ... Accuracy 0.625\n",
      "... Iteration 91 ... Epoch 0.00 ... Loss 0.740 ... Accuracy 0.594\n",
      "... Iteration 101 ... Epoch 0.00 ... Loss 0.644 ... Accuracy 0.688\n",
      "... Iteration 101 ... Epoch 0.00 ... Validation Loss 0.796 ... Validation Accuracy 0.597\n",
      "Saved checkpoint as: ../model_state_dumps/20190727_003326/SimpleMLP.pth\n",
      "best validation loss so far!: 0.7956969141960144\n",
      "Saved checkpoint as: ../model_state_dumps/20190727_003326/SimpleMLPBEST.pth\n",
      "... Iteration 111 ... Epoch 0.00 ... Loss 0.759 ... Accuracy 0.625\n",
      "... Iteration 121 ... Epoch 0.01 ... Loss 0.954 ... Accuracy 0.406\n",
      "... Iteration 131 ... Epoch 0.01 ... Loss 0.603 ... Accuracy 0.719\n",
      "... Iteration 141 ... Epoch 0.01 ... Loss 0.718 ... Accuracy 0.656\n",
      "... Iteration 151 ... Epoch 0.01 ... Loss 0.699 ... Accuracy 0.625\n",
      "... Iteration 161 ... Epoch 0.01 ... Loss 0.526 ... Accuracy 0.688\n",
      "... Iteration 171 ... Epoch 0.01 ... Loss 0.667 ... Accuracy 0.719\n",
      "... Iteration 181 ... Epoch 0.01 ... Loss 0.629 ... Accuracy 0.719\n",
      "... Iteration 191 ... Epoch 0.01 ... Loss 0.899 ... Accuracy 0.500\n",
      "... Iteration 201 ... Epoch 0.01 ... Loss 0.458 ... Accuracy 0.719\n",
      "... Iteration 201 ... Epoch 0.01 ... Validation Loss 0.640 ... Validation Accuracy 0.662\n",
      "Saved checkpoint as: ../model_state_dumps/20190727_003326/SimpleMLP.pth\n",
      "best validation loss so far!: 0.6404972672462463\n",
      "Saved checkpoint as: ../model_state_dumps/20190727_003326/SimpleMLPBEST.pth\n",
      "... Iteration 211 ... Epoch 0.01 ... Loss 0.597 ... Accuracy 0.531\n",
      "... Iteration 221 ... Epoch 0.01 ... Loss 0.672 ... Accuracy 0.531\n",
      "... Iteration 231 ... Epoch 0.01 ... Loss 0.605 ... Accuracy 0.656\n",
      "... Iteration 241 ... Epoch 0.01 ... Loss 0.577 ... Accuracy 0.719\n",
      "... Iteration 251 ... Epoch 0.01 ... Loss 0.534 ... Accuracy 0.625\n",
      "... Iteration 261 ... Epoch 0.01 ... Loss 0.487 ... Accuracy 0.719\n",
      "... Iteration 271 ... Epoch 0.01 ... Loss 0.468 ... Accuracy 0.781\n",
      "... Iteration 281 ... Epoch 0.01 ... Loss 0.669 ... Accuracy 0.688\n",
      "... Iteration 291 ... Epoch 0.01 ... Loss 0.570 ... Accuracy 0.594\n",
      "... Iteration 301 ... Epoch 0.01 ... Loss 0.489 ... Accuracy 0.844\n",
      "... Iteration 301 ... Epoch 0.01 ... Validation Loss 0.532 ... Validation Accuracy 0.699\n",
      "Saved checkpoint as: ../model_state_dumps/20190727_003326/SimpleMLP.pth\n",
      "best validation loss so far!: 0.5323777198791504\n",
      "Saved checkpoint as: ../model_state_dumps/20190727_003326/SimpleMLPBEST.pth\n",
      "... Iteration 311 ... Epoch 0.01 ... Loss 0.418 ... Accuracy 0.812\n",
      "... Iteration 321 ... Epoch 0.01 ... Loss 0.518 ... Accuracy 0.656\n",
      "... Iteration 331 ... Epoch 0.01 ... Loss 0.499 ... Accuracy 0.594\n",
      "... Iteration 341 ... Epoch 0.02 ... Loss 0.798 ... Accuracy 0.531\n",
      "... Iteration 351 ... Epoch 0.02 ... Loss 0.636 ... Accuracy 0.656\n",
      "... Iteration 361 ... Epoch 0.02 ... Loss 0.504 ... Accuracy 0.781\n",
      "... Iteration 371 ... Epoch 0.02 ... Loss 0.672 ... Accuracy 0.656\n",
      "... Iteration 381 ... Epoch 0.02 ... Loss 0.368 ... Accuracy 0.750\n",
      "... Iteration 391 ... Epoch 0.02 ... Loss 0.461 ... Accuracy 0.781\n",
      "... Iteration 401 ... Epoch 0.02 ... Loss 0.501 ... Accuracy 0.750\n",
      "... Iteration 401 ... Epoch 0.02 ... Validation Loss 0.523 ... Validation Accuracy 0.707\n",
      "Saved checkpoint as: ../model_state_dumps/20190727_003326/SimpleMLP.pth\n",
      "best validation loss so far!: 0.522613525390625\n",
      "Saved checkpoint as: ../model_state_dumps/20190727_003326/SimpleMLPBEST.pth\n",
      "... Iteration 411 ... Epoch 0.02 ... Loss 0.681 ... Accuracy 0.625\n",
      "... Iteration 421 ... Epoch 0.02 ... Loss 0.506 ... Accuracy 0.688\n",
      "... Iteration 431 ... Epoch 0.02 ... Loss 0.529 ... Accuracy 0.781\n",
      "... Iteration 441 ... Epoch 0.02 ... Loss 0.488 ... Accuracy 0.688\n",
      "... Iteration 451 ... Epoch 0.02 ... Loss 0.465 ... Accuracy 0.812\n",
      "... Iteration 461 ... Epoch 0.02 ... Loss 0.486 ... Accuracy 0.719\n",
      "... Iteration 471 ... Epoch 0.02 ... Loss 0.502 ... Accuracy 0.750\n",
      "... Iteration 481 ... Epoch 0.02 ... Loss 0.537 ... Accuracy 0.688\n",
      "... Iteration 491 ... Epoch 0.02 ... Loss 0.476 ... Accuracy 0.719\n",
      "... Iteration 501 ... Epoch 0.02 ... Loss 0.426 ... Accuracy 0.812\n",
      "... Iteration 501 ... Epoch 0.02 ... Validation Loss 0.510 ... Validation Accuracy 0.716\n",
      "Saved checkpoint as: ../model_state_dumps/20190727_003326/SimpleMLP.pth\n",
      "best validation loss so far!: 0.510199785232544\n"
     ]
    }
   ],
   "source": [
    "%%time\n",
    "engine.train(epochs=2.5,report_interval=10,valid_interval=100)"
   ]
  },
  {
   "cell_type": "code",
   "execution_count": null,
   "metadata": {},
   "outputs": [],
   "source": [
    "model_MLP._get_name()"
   ]
  },
  {
   "cell_type": "code",
   "execution_count": null,
   "metadata": {},
   "outputs": [],
   "source": [
    "from models.simpleCNN import SimpleCNN\n",
    "model_CNN=SimpleCNN(num_input_channels=38,num_classes=3)"
   ]
  },
  {
   "cell_type": "code",
   "execution_count": null,
   "metadata": {},
   "outputs": [],
   "source": [
    "def rotate_chan(x):\n",
    "    return np.transpose(x,(2,0,1))"
   ]
  },
  {
   "cell_type": "code",
   "execution_count": null,
   "metadata": {},
   "outputs": [],
   "source": [
    "dset=WCH5Dataset(\"/fast_scratch/TRISEP_data/NUPRISM.h5\",val_split=0.1,test_split=0.1,transform=rotate_chan)"
   ]
  },
  {
   "cell_type": "code",
   "execution_count": null,
   "metadata": {},
   "outputs": [],
   "source": [
    "engine=Engine(model_CNN,dset,config)"
   ]
  },
  {
   "cell_type": "code",
   "execution_count": null,
   "metadata": {},
   "outputs": [],
   "source": [
    "for name, param in model_CNN.named_parameters():\n",
    "    print(\"name of a parameter: {}, type: {}, parameter requires a gradient?: {}\".\n",
    "          format(name, type(param),param.requires_grad))"
   ]
  },
  {
   "cell_type": "code",
   "execution_count": null,
   "metadata": {
    "scrolled": true
   },
   "outputs": [],
   "source": [
    "%%time\n",
    "engine.train(epochs=5,report_interval=10,valid_interval=100)"
   ]
  },
  {
   "cell_type": "code",
   "execution_count": null,
   "metadata": {},
   "outputs": [],
   "source": []
  }
 ],
 "metadata": {
  "kernelspec": {
   "display_name": "Python 3",
   "language": "python",
   "name": "python3"
  },
  "language_info": {
   "codemirror_mode": {
    "name": "ipython",
    "version": 3
   },
   "file_extension": ".py",
   "mimetype": "text/x-python",
   "name": "python",
   "nbconvert_exporter": "python",
   "pygments_lexer": "ipython3",
   "version": "3.6.8"
  }
 },
 "nbformat": 4,
 "nbformat_minor": 2
}
