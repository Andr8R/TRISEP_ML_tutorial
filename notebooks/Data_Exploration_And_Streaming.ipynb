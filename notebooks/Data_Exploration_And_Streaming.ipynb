{
 "cells": [
  {
   "cell_type": "markdown",
   "metadata": {},
   "source": [
    "# TRISEP ML Tutorial Part 1: Project overview and data visualization and streaming tutorial\n"
   ]
  },
  {
   "cell_type": "markdown",
   "metadata": {},
   "source": [
    "## Project Overview\n",
    "I will assume everybody here is roughly familiar with physics of neutrinos and Water Cherenkov detectors.\n",
    "In this project we will tackle the task of classification of neutrino type ($\\nu_e$ or $\\nu_\\mu$) or rather the charged leptons resulting from the nuclear scatter ($e$ and  $\\mu$) as well as an irreducible background from neutral current $\\gamma$ production. The dataset comes from simulated Water Cherenkov detector called NuPRISM. NuPRISM is a proposed 'intermediate' detector for the Hyper-Kamiokande project. The detector has a cylindrical geometry and can be lowered and raised in a shaft to sample different energy distribution of incoming neutrinos! ![NUPRISM](../img/NUPRISM_diag.png)"
   ]
  },
  {
   "cell_type": "markdown",
   "metadata": {},
   "source": [
    "The cylinder wall or 'barrel' and end-caps are lined with 'multi-PMT' or 'mPMT' modules arranged in a rectangular grid. Each mPMT is a dome with 19 PMTs arranged in two rings and one at the center:![mPMT](../img/mPMT.png)"
   ]
  },
  {
   "cell_type": "markdown",
   "metadata": {},
   "source": [
    "Here is an event display where the barrel was 'unrolled':\n",
    "![eventdisp](../img/ev_disp.png) - you can clearly see a Cherenkov ring appearing\n",
    "The 'brightness' corresponds to charge collected by each PMT. Each PMT also tells us the arrival time of the signal."
   ]
  },
  {
   "cell_type": "markdown",
   "metadata": {},
   "source": [
    "In this part of the we will take a look at the data and how to organize streaming it in batches so that we can feed it to our neural model"
   ]
  },
  {
   "cell_type": "markdown",
   "metadata": {},
   "source": [
    "Ok! now that you are back lets see if we can see the dataset:"
   ]
  },
  {
   "cell_type": "code",
   "execution_count": 1,
   "metadata": {},
   "outputs": [
    {
     "name": "stdout",
     "output_type": "stream",
     "text": [
      "-rw-r--r-- 1 ubuntu ubuntu 82G Jul 31 08:38 /fast_scratch/TRISEP_data/NUPRISM.h5\r\n"
     ]
    }
   ],
   "source": [
    "!ls /fast_scratch/TRISEP_data/NUPRISM.h5 -lh"
   ]
  },
  {
   "cell_type": "markdown",
   "metadata": {},
   "source": [
    "Let's quickly look what's inside... - import h5py, numpy etc and open for reading"
   ]
  },
  {
   "cell_type": "code",
   "execution_count": 2,
   "metadata": {},
   "outputs": [],
   "source": [
    "import numpy as np\n",
    "import os, time\n",
    "import h5py"
   ]
  },
  {
   "cell_type": "code",
   "execution_count": 3,
   "metadata": {},
   "outputs": [],
   "source": [
    "f=h5py.File(\"/fast_scratch/TRISEP_data/NUPRISM.h5\",\"r\")"
   ]
  },
  {
   "cell_type": "markdown",
   "metadata": {},
   "source": [
    "`keys()` will give us all the hdf5 datasets stored in the file"
   ]
  },
  {
   "cell_type": "code",
   "execution_count": 4,
   "metadata": {},
   "outputs": [
    {
     "data": {
      "text/plain": [
       "KeysView(<HDF5 file \"NUPRISM.h5\" (mode r)>)"
      ]
     },
     "execution_count": 4,
     "metadata": {},
     "output_type": "execute_result"
    }
   ],
   "source": [
    "f.keys()"
   ]
  },
  {
   "cell_type": "markdown",
   "metadata": {},
   "source": [
    "Let's look at the shapes of the data:"
   ]
  },
  {
   "cell_type": "code",
   "execution_count": 5,
   "metadata": {},
   "outputs": [
    {
     "data": {
      "text/plain": [
       "(900000,)"
      ]
     },
     "execution_count": 5,
     "metadata": {},
     "output_type": "execute_result"
    }
   ],
   "source": [
    "f['labels'].shape"
   ]
  },
  {
   "cell_type": "code",
   "execution_count": 6,
   "metadata": {},
   "outputs": [
    {
     "data": {
      "text/plain": [
       "(900000, 16, 40, 38)"
      ]
     },
     "execution_count": 6,
     "metadata": {},
     "output_type": "execute_result"
    }
   ],
   "source": [
    "f['event_data'].shape"
   ]
  },
  {
   "cell_type": "markdown",
   "metadata": {},
   "source": [
    "We have 900k simulated scattering events here! labels are 0, 1, 2 for $\\gamma$,$e$ and $\\mu$ respectively. The 'event_data' contains only the barrel portion of the tank which has been 'unrolled'. The first dimension (900k) enumerates over the events, the second two dimensions (16,40) enumerate over the row and column in the module 'grid'. Finally last two dimensions enumerate over the PMT within the module (again there are 19 in each mPMT module) first 19 entries correspond to charge collected on a given PMT and last 19 correspond to the time.\n",
    "\n"
   ]
  },
  {
   "cell_type": "markdown",
   "metadata": {},
   "source": [
    "Note that the object returned by the subscript looks like an array - we can subscript it and even do fancy indexing:"
   ]
  },
  {
   "cell_type": "code",
   "execution_count": 7,
   "metadata": {},
   "outputs": [
    {
     "data": {
      "text/plain": [
       "array([[[[0.0000000e+00, 0.0000000e+00, 0.0000000e+00, ...,\n",
       "          0.0000000e+00, 0.0000000e+00, 0.0000000e+00],\n",
       "         [0.0000000e+00, 0.0000000e+00, 0.0000000e+00, ...,\n",
       "          0.0000000e+00, 0.0000000e+00, 0.0000000e+00],\n",
       "         [1.0128782e+00, 0.0000000e+00, 7.9039353e-01, ...,\n",
       "          0.0000000e+00, 0.0000000e+00, 0.0000000e+00],\n",
       "         ...,\n",
       "         [8.0274928e-01, 0.0000000e+00, 0.0000000e+00, ...,\n",
       "          9.8659998e+02, 0.0000000e+00, 0.0000000e+00],\n",
       "         [0.0000000e+00, 0.0000000e+00, 0.0000000e+00, ...,\n",
       "          0.0000000e+00, 0.0000000e+00, 0.0000000e+00],\n",
       "         [0.0000000e+00, 0.0000000e+00, 0.0000000e+00, ...,\n",
       "          0.0000000e+00, 9.8229999e+02, 0.0000000e+00]],\n",
       "\n",
       "        [[0.0000000e+00, 0.0000000e+00, 0.0000000e+00, ...,\n",
       "          0.0000000e+00, 1.0651000e+03, 0.0000000e+00],\n",
       "         [4.4163281e-01, 0.0000000e+00, 0.0000000e+00, ...,\n",
       "          0.0000000e+00, 0.0000000e+00, 0.0000000e+00],\n",
       "         [0.0000000e+00, 0.0000000e+00, 0.0000000e+00, ...,\n",
       "          0.0000000e+00, 0.0000000e+00, 0.0000000e+00],\n",
       "         ...,\n",
       "         [0.0000000e+00, 0.0000000e+00, 0.0000000e+00, ...,\n",
       "          0.0000000e+00, 0.0000000e+00, 0.0000000e+00],\n",
       "         [3.7118652e-01, 0.0000000e+00, 0.0000000e+00, ...,\n",
       "          9.8529999e+02, 0.0000000e+00, 0.0000000e+00],\n",
       "         [0.0000000e+00, 0.0000000e+00, 0.0000000e+00, ...,\n",
       "          0.0000000e+00, 0.0000000e+00, 9.6490002e+02]],\n",
       "\n",
       "        [[0.0000000e+00, 0.0000000e+00, 0.0000000e+00, ...,\n",
       "          9.6340002e+02, 0.0000000e+00, 9.6709998e+02],\n",
       "         [0.0000000e+00, 0.0000000e+00, 0.0000000e+00, ...,\n",
       "          0.0000000e+00, 0.0000000e+00, 9.9220001e+02],\n",
       "         [0.0000000e+00, 0.0000000e+00, 1.5310415e+00, ...,\n",
       "          0.0000000e+00, 0.0000000e+00, 0.0000000e+00],\n",
       "         ...,\n",
       "         [0.0000000e+00, 0.0000000e+00, 0.0000000e+00, ...,\n",
       "          0.0000000e+00, 0.0000000e+00, 0.0000000e+00],\n",
       "         [0.0000000e+00, 0.0000000e+00, 0.0000000e+00, ...,\n",
       "          0.0000000e+00, 0.0000000e+00, 0.0000000e+00],\n",
       "         [0.0000000e+00, 0.0000000e+00, 0.0000000e+00, ...,\n",
       "          0.0000000e+00, 0.0000000e+00, 0.0000000e+00]],\n",
       "\n",
       "        ...,\n",
       "\n",
       "        [[0.0000000e+00, 0.0000000e+00, 0.0000000e+00, ...,\n",
       "          0.0000000e+00, 0.0000000e+00, 0.0000000e+00],\n",
       "         [1.0919875e+00, 0.0000000e+00, 0.0000000e+00, ...,\n",
       "          0.0000000e+00, 0.0000000e+00, 0.0000000e+00],\n",
       "         [0.0000000e+00, 0.0000000e+00, 0.0000000e+00, ...,\n",
       "          0.0000000e+00, 0.0000000e+00, 0.0000000e+00],\n",
       "         ...,\n",
       "         [0.0000000e+00, 0.0000000e+00, 0.0000000e+00, ...,\n",
       "          0.0000000e+00, 0.0000000e+00, 0.0000000e+00],\n",
       "         [0.0000000e+00, 0.0000000e+00, 0.0000000e+00, ...,\n",
       "          0.0000000e+00, 0.0000000e+00, 0.0000000e+00],\n",
       "         [0.0000000e+00, 1.3688321e+00, 1.3129321e+00, ...,\n",
       "          0.0000000e+00, 0.0000000e+00, 0.0000000e+00]],\n",
       "\n",
       "        [[6.6636193e-01, 0.0000000e+00, 2.3644729e+00, ...,\n",
       "          0.0000000e+00, 9.9150000e+02, 9.6659998e+02],\n",
       "         [1.2039759e+00, 1.0671629e+00, 0.0000000e+00, ...,\n",
       "          0.0000000e+00, 0.0000000e+00, 0.0000000e+00],\n",
       "         [0.0000000e+00, 0.0000000e+00, 0.0000000e+00, ...,\n",
       "          0.0000000e+00, 0.0000000e+00, 0.0000000e+00],\n",
       "         ...,\n",
       "         [0.0000000e+00, 0.0000000e+00, 0.0000000e+00, ...,\n",
       "          0.0000000e+00, 0.0000000e+00, 0.0000000e+00],\n",
       "         [0.0000000e+00, 0.0000000e+00, 0.0000000e+00, ...,\n",
       "          0.0000000e+00, 0.0000000e+00, 0.0000000e+00],\n",
       "         [0.0000000e+00, 0.0000000e+00, 0.0000000e+00, ...,\n",
       "          0.0000000e+00, 0.0000000e+00, 0.0000000e+00]],\n",
       "\n",
       "        [[1.1869018e+00, 0.0000000e+00, 0.0000000e+00, ...,\n",
       "          0.0000000e+00, 0.0000000e+00, 0.0000000e+00],\n",
       "         [1.4877930e+00, 0.0000000e+00, 0.0000000e+00, ...,\n",
       "          0.0000000e+00, 0.0000000e+00, 0.0000000e+00],\n",
       "         [0.0000000e+00, 0.0000000e+00, 0.0000000e+00, ...,\n",
       "          0.0000000e+00, 0.0000000e+00, 0.0000000e+00],\n",
       "         ...,\n",
       "         [0.0000000e+00, 0.0000000e+00, 0.0000000e+00, ...,\n",
       "          0.0000000e+00, 0.0000000e+00, 0.0000000e+00],\n",
       "         [0.0000000e+00, 0.0000000e+00, 1.1192518e+00, ...,\n",
       "          0.0000000e+00, 0.0000000e+00, 0.0000000e+00],\n",
       "         [4.1829556e-01, 0.0000000e+00, 0.0000000e+00, ...,\n",
       "          0.0000000e+00, 0.0000000e+00, 0.0000000e+00]]],\n",
       "\n",
       "\n",
       "       [[[0.0000000e+00, 0.0000000e+00, 0.0000000e+00, ...,\n",
       "          0.0000000e+00, 0.0000000e+00, 0.0000000e+00],\n",
       "         [0.0000000e+00, 0.0000000e+00, 0.0000000e+00, ...,\n",
       "          0.0000000e+00, 0.0000000e+00, 0.0000000e+00],\n",
       "         [0.0000000e+00, 0.0000000e+00, 0.0000000e+00, ...,\n",
       "          0.0000000e+00, 0.0000000e+00, 0.0000000e+00],\n",
       "         ...,\n",
       "         [0.0000000e+00, 0.0000000e+00, 0.0000000e+00, ...,\n",
       "          0.0000000e+00, 0.0000000e+00, 0.0000000e+00],\n",
       "         [0.0000000e+00, 0.0000000e+00, 0.0000000e+00, ...,\n",
       "          0.0000000e+00, 0.0000000e+00, 0.0000000e+00],\n",
       "         [0.0000000e+00, 0.0000000e+00, 0.0000000e+00, ...,\n",
       "          0.0000000e+00, 0.0000000e+00, 0.0000000e+00]],\n",
       "\n",
       "        [[0.0000000e+00, 0.0000000e+00, 0.0000000e+00, ...,\n",
       "          0.0000000e+00, 0.0000000e+00, 0.0000000e+00],\n",
       "         [0.0000000e+00, 0.0000000e+00, 0.0000000e+00, ...,\n",
       "          0.0000000e+00, 0.0000000e+00, 0.0000000e+00],\n",
       "         [0.0000000e+00, 0.0000000e+00, 0.0000000e+00, ...,\n",
       "          0.0000000e+00, 0.0000000e+00, 0.0000000e+00],\n",
       "         ...,\n",
       "         [0.0000000e+00, 0.0000000e+00, 0.0000000e+00, ...,\n",
       "          0.0000000e+00, 0.0000000e+00, 9.5970001e+02],\n",
       "         [0.0000000e+00, 0.0000000e+00, 0.0000000e+00, ...,\n",
       "          0.0000000e+00, 0.0000000e+00, 9.5959998e+02],\n",
       "         [0.0000000e+00, 0.0000000e+00, 0.0000000e+00, ...,\n",
       "          0.0000000e+00, 0.0000000e+00, 0.0000000e+00]],\n",
       "\n",
       "        [[0.0000000e+00, 0.0000000e+00, 0.0000000e+00, ...,\n",
       "          0.0000000e+00, 0.0000000e+00, 0.0000000e+00],\n",
       "         [0.0000000e+00, 0.0000000e+00, 0.0000000e+00, ...,\n",
       "          0.0000000e+00, 0.0000000e+00, 0.0000000e+00],\n",
       "         [0.0000000e+00, 0.0000000e+00, 0.0000000e+00, ...,\n",
       "          0.0000000e+00, 0.0000000e+00, 0.0000000e+00],\n",
       "         ...,\n",
       "         [0.0000000e+00, 0.0000000e+00, 0.0000000e+00, ...,\n",
       "          0.0000000e+00, 0.0000000e+00, 0.0000000e+00],\n",
       "         [0.0000000e+00, 0.0000000e+00, 0.0000000e+00, ...,\n",
       "          0.0000000e+00, 0.0000000e+00, 0.0000000e+00],\n",
       "         [0.0000000e+00, 0.0000000e+00, 0.0000000e+00, ...,\n",
       "          0.0000000e+00, 0.0000000e+00, 0.0000000e+00]],\n",
       "\n",
       "        ...,\n",
       "\n",
       "        [[0.0000000e+00, 0.0000000e+00, 0.0000000e+00, ...,\n",
       "          0.0000000e+00, 0.0000000e+00, 0.0000000e+00],\n",
       "         [0.0000000e+00, 0.0000000e+00, 0.0000000e+00, ...,\n",
       "          0.0000000e+00, 0.0000000e+00, 0.0000000e+00],\n",
       "         [0.0000000e+00, 0.0000000e+00, 0.0000000e+00, ...,\n",
       "          0.0000000e+00, 0.0000000e+00, 0.0000000e+00],\n",
       "         ...,\n",
       "         [0.0000000e+00, 0.0000000e+00, 0.0000000e+00, ...,\n",
       "          0.0000000e+00, 0.0000000e+00, 0.0000000e+00],\n",
       "         [0.0000000e+00, 0.0000000e+00, 0.0000000e+00, ...,\n",
       "          0.0000000e+00, 0.0000000e+00, 0.0000000e+00],\n",
       "         [0.0000000e+00, 0.0000000e+00, 0.0000000e+00, ...,\n",
       "          0.0000000e+00, 0.0000000e+00, 0.0000000e+00]],\n",
       "\n",
       "        [[0.0000000e+00, 0.0000000e+00, 0.0000000e+00, ...,\n",
       "          0.0000000e+00, 0.0000000e+00, 0.0000000e+00],\n",
       "         [0.0000000e+00, 0.0000000e+00, 0.0000000e+00, ...,\n",
       "          0.0000000e+00, 0.0000000e+00, 0.0000000e+00],\n",
       "         [0.0000000e+00, 0.0000000e+00, 0.0000000e+00, ...,\n",
       "          0.0000000e+00, 0.0000000e+00, 0.0000000e+00],\n",
       "         ...,\n",
       "         [0.0000000e+00, 0.0000000e+00, 0.0000000e+00, ...,\n",
       "          0.0000000e+00, 0.0000000e+00, 0.0000000e+00],\n",
       "         [0.0000000e+00, 0.0000000e+00, 0.0000000e+00, ...,\n",
       "          0.0000000e+00, 0.0000000e+00, 0.0000000e+00],\n",
       "         [0.0000000e+00, 0.0000000e+00, 0.0000000e+00, ...,\n",
       "          0.0000000e+00, 0.0000000e+00, 0.0000000e+00]],\n",
       "\n",
       "        [[0.0000000e+00, 0.0000000e+00, 0.0000000e+00, ...,\n",
       "          0.0000000e+00, 0.0000000e+00, 0.0000000e+00],\n",
       "         [0.0000000e+00, 0.0000000e+00, 0.0000000e+00, ...,\n",
       "          0.0000000e+00, 0.0000000e+00, 0.0000000e+00],\n",
       "         [0.0000000e+00, 0.0000000e+00, 0.0000000e+00, ...,\n",
       "          0.0000000e+00, 0.0000000e+00, 0.0000000e+00],\n",
       "         ...,\n",
       "         [0.0000000e+00, 0.0000000e+00, 0.0000000e+00, ...,\n",
       "          0.0000000e+00, 0.0000000e+00, 0.0000000e+00],\n",
       "         [0.0000000e+00, 0.0000000e+00, 0.0000000e+00, ...,\n",
       "          0.0000000e+00, 0.0000000e+00, 0.0000000e+00],\n",
       "         [0.0000000e+00, 0.0000000e+00, 0.0000000e+00, ...,\n",
       "          0.0000000e+00, 0.0000000e+00, 0.0000000e+00]]]], dtype=float32)"
      ]
     },
     "execution_count": 7,
     "metadata": {},
     "output_type": "execute_result"
    }
   ],
   "source": [
    "f['event_data'][[42,1984],:,:,:]"
   ]
  },
  {
   "cell_type": "markdown",
   "metadata": {},
   "source": [
    " In fact the object is not a numpy array -it is a hdf5 `Dataset` object - the data itself lives on disk until we request it"
   ]
  },
  {
   "cell_type": "code",
   "execution_count": 8,
   "metadata": {},
   "outputs": [
    {
     "data": {
      "text/plain": [
       "h5py._hl.dataset.Dataset"
      ]
     },
     "execution_count": 8,
     "metadata": {},
     "output_type": "execute_result"
    }
   ],
   "source": [
    "type(f['event_data'])"
   ]
  },
  {
   "cell_type": "markdown",
   "metadata": {},
   "source": [
    "The size of the dataset will make it difficult to load all at once into memory on many systems"
   ]
  },
  {
   "cell_type": "code",
   "execution_count": 9,
   "metadata": {},
   "outputs": [
    {
     "name": "stdout",
     "output_type": "stream",
     "text": [
      "Size of the bulk of the data is 81.5 GB\n"
     ]
    }
   ],
   "source": [
    "print(\"Size of the bulk of the data is {:.1f} GB\".format( (f['event_data'].size * 4 / (1024**3)) ))"
   ]
  },
  {
   "cell_type": "markdown",
   "metadata": {},
   "source": [
    "One important feature of the dataset it is uncompressed and contiguous or 'unchunked':"
   ]
  },
  {
   "cell_type": "code",
   "execution_count": 10,
   "metadata": {},
   "outputs": [
    {
     "name": "stdout",
     "output_type": "stream",
     "text": [
      "dataset chunks: None compression: None\n"
     ]
    }
   ],
   "source": [
    "print(\"dataset chunks: {} compression: {}\".format(f['event_data'].chunks,f['event_data'].compression))"
   ]
  },
  {
   "cell_type": "markdown",
   "metadata": {},
   "source": [
    "The dataset has been prepared as contiguous and uncompressed so that we are not obliged to load it all in memory but we can access it very fast. BUT it will take more spave on disk. In the next section we will see an example of how to deal with datasets with these sizes."
   ]
  },
  {
   "cell_type": "markdown",
   "metadata": {},
   "source": [
    "## Pytorch Dataset object"
   ]
  },
  {
   "cell_type": "markdown",
   "metadata": {},
   "source": [
    "Let's import and create a Dataset object - you are welcome to look at the [source](/edit/utils/data_handling.py)"
   ]
  },
  {
   "cell_type": "markdown",
   "metadata": {},
   "source": [
    "First we need to include the sources in the python search path"
   ]
  },
  {
   "cell_type": "code",
   "execution_count": 11,
   "metadata": {},
   "outputs": [],
   "source": [
    "import os,sys\n",
    "currentdir = os.getcwd()\n",
    "parentdir = os.path.dirname(currentdir)\n",
    "sys.path.insert(0,parentdir) "
   ]
  },
  {
   "cell_type": "code",
   "execution_count": 12,
   "metadata": {},
   "outputs": [],
   "source": [
    "from utils.data_handling import WCH5Dataset"
   ]
  },
  {
   "cell_type": "markdown",
   "metadata": {},
   "source": [
    "The class derives from the torch Dataset object. The two heavy lifters are the __init__ function and __getitem__ function.\n",
    "Let's look at what init does:  \n",
    "       \n",
    "```python\n",
    "        self.f=h5py.File(path,'r')\n",
    "        hdf5_event_data = self.f[\"event_data\"]\n",
    "        hdf5_labels=self.f[\"labels\"]\n",
    "        hdf5_energies=self.f[\"energies\"]\n",
    "\n",
    "        event_data_shape = hdf5_event_data.shape\n",
    "        event_data_offset = hdf5_event_data.id.get_offset()\n",
    "        event_data_dtype = hdf5_event_data.dtype         \n",
    "```\n",
    "      \n",
    "-here we opened the file and got the offsets, shapes, and data types of the datasets. Why are we doing this? This is because the hdf5 file is uncompressed and the datasets within are contiguous - this allows us to do memory mapping of the file. This is important with large datasets like this - where we are most like not going to be able to load everything into memory. Withh memory map we can only load what we need, when we need it\n"
   ]
  },
  {
   "cell_type": "markdown",
   "metadata": {},
   "source": [
    "The memory map itself happens here:\n",
    "\n",
    "```python\n",
    "        self.event_data = np.memmap(path, mode='r', \n",
    "                                    shape=event_data_shape, \n",
    "                                    offset=event_data_offset, \n",
    "                                    dtype=event_data_dtype) \n",
    "```\n",
    "We will just load the labels and energies into memory - this is only several MB\n",
    "```python\n",
    "        self.labels = np.array(hdf5_labels)\n",
    "        self.energies = np.array(hdf5_energies)\n",
    "```"
   ]
  },
  {
   "cell_type": "markdown",
   "metadata": {},
   "source": [
    "The rest of __init__ function computes indices for training, validation and testing sets, based on a random (but consistent) shuffle of events - this will be useful later when trainnig our model. We also provide a facility to only use a subset of the dataset. Why may we want to access the records in the file in randomized order. This really depends on how the dataset was created - for instance here we just concatenated a bunch of simulation files in order - so the examples are in blocks:"
   ]
  },
  {
   "cell_type": "code",
   "execution_count": 13,
   "metadata": {},
   "outputs": [
    {
     "data": {
      "text/plain": [
       "array([0, 0, 0, 0, 0, 0, 0, 0, 0, 0, 0, 0, 0, 0, 0, 0, 0, 0, 0, 0, 0, 0,\n",
       "       0, 0, 0, 0, 0, 0, 0, 0, 0, 0, 0, 0, 0, 0, 0, 0, 0, 0, 0, 0, 0, 0,\n",
       "       0, 0, 0, 0, 0, 0, 0, 0, 0, 0, 0, 0, 0, 0, 0, 0, 0, 0, 0, 0, 0, 0,\n",
       "       0, 0, 0, 0, 0, 0, 0, 0, 0, 0, 0, 0, 0, 0, 0, 0, 0, 0, 0, 0, 0, 0,\n",
       "       0, 0, 0, 0, 0, 0, 0, 0, 0, 0, 0, 0, 0, 0, 0, 0, 0, 0, 0, 0, 0, 0,\n",
       "       0, 0, 0, 0, 0, 0, 0, 0, 0, 0, 0, 0, 0, 0, 0, 0, 0, 0, 0, 0, 0, 0,\n",
       "       0, 0, 0, 0, 0, 0, 0, 0, 0, 0, 0, 0, 0, 0, 0, 0, 0, 0, 0, 0, 0, 0,\n",
       "       0, 0, 0, 0, 0, 0, 0, 0, 0, 0, 0, 0, 0, 0, 0, 0, 0, 0, 0, 0, 0, 0,\n",
       "       0, 0, 0, 0, 0, 0, 0, 0, 0, 0, 0, 0, 0, 0, 0, 0, 0, 0, 0, 0, 0, 0,\n",
       "       0, 0, 0, 0, 0, 0, 0, 0, 0, 0, 0, 0, 0, 0, 0, 0, 0, 0, 0, 0, 0, 0,\n",
       "       0, 0, 0, 0, 0, 0, 0, 0, 0, 0, 0, 0, 0, 0, 0, 0, 0, 0, 0, 0, 0, 0,\n",
       "       0, 0, 0, 0, 0, 0, 0, 0, 0, 0, 0, 0, 0, 0, 0, 0, 0, 0, 0, 0, 0, 0,\n",
       "       0, 0, 0, 0, 0, 0, 0, 0, 0, 0, 0, 0, 0, 0, 0, 0, 0, 0, 0, 0, 0, 0,\n",
       "       0, 0, 0, 0, 0, 0, 0, 0, 0, 0, 0, 0, 0, 0, 1, 1, 1, 1, 1, 1, 1, 1,\n",
       "       1, 1, 1, 1, 1, 1, 1, 1, 1, 1, 1, 1, 1, 1, 1, 1, 1, 1, 1, 1, 1, 1,\n",
       "       1, 1, 1, 1, 1, 1, 1, 1, 1, 1, 1, 1, 1, 1, 1, 1, 1, 1, 1, 1, 1, 1,\n",
       "       1, 1, 1, 1, 1, 1, 1, 1, 1, 1, 1, 1, 1, 1, 1, 1, 1, 1, 1, 1, 1, 1,\n",
       "       1, 1, 1, 1, 1, 1, 1, 1, 1, 1, 1, 1, 1, 1, 1, 1, 1, 1, 1, 1, 1, 1,\n",
       "       1, 1, 1, 1, 1, 1, 1, 1, 1, 1, 1, 1, 1, 1, 1, 1, 1, 1, 1, 1, 1, 1,\n",
       "       1, 1, 1, 1, 1, 1, 1, 1, 1, 1, 1, 1, 1, 1, 1, 1, 1, 1, 1, 1, 1, 1,\n",
       "       1, 1, 1, 1, 1, 1, 1, 1, 1, 1, 1, 1, 1, 1, 1, 1, 1, 1, 1, 1, 1, 1,\n",
       "       1, 1, 1, 1, 1, 1, 1, 1, 1, 1, 1, 1, 1, 1, 1, 1, 1, 1, 1, 1, 1, 1,\n",
       "       1, 1, 1, 1, 1, 1, 1, 1, 1, 1, 1, 1, 1, 1, 1, 1, 1, 1, 1, 1, 1, 1,\n",
       "       1, 1, 1, 1, 1, 1, 1, 1, 1, 1, 1, 1, 1, 1, 1, 1, 1, 1, 1, 1, 1, 1,\n",
       "       1, 1, 1, 1, 1, 1, 1, 1, 1, 1, 1, 1, 1, 1, 1, 1, 1, 1, 1, 1, 1, 1,\n",
       "       1, 1, 1, 1, 1, 1, 1, 1, 1, 1, 1, 1, 1, 1, 1, 1, 1, 1, 1, 1, 1, 1,\n",
       "       1, 1, 1, 1, 1, 1, 1, 1, 1, 1, 1, 1, 1, 1, 1, 1, 1, 1, 1, 1, 1, 1,\n",
       "       1, 1, 1, 1, 1, 1, 2, 2, 2, 2, 2, 2, 2, 2, 2, 2, 2, 2, 2, 2, 2, 2,\n",
       "       2, 2, 2, 2, 2, 2, 2, 2, 2, 2, 2, 2, 2, 2, 2, 2, 2, 2, 2, 2, 2, 2,\n",
       "       2, 2, 2, 2, 2, 2, 2, 2, 2, 2, 2, 2, 2, 2, 2, 2, 2, 2, 2, 2, 2, 2,\n",
       "       2, 2, 2, 2, 2, 2, 2, 2, 2, 2, 2, 2, 2, 2, 2, 2, 2, 2, 2, 2, 2, 2,\n",
       "       2, 2, 2, 2, 2, 2, 2, 2, 2, 2, 2, 2, 2, 2, 2, 2, 2, 2, 2, 2, 2, 2,\n",
       "       2, 2, 2, 2, 2, 2, 2, 2, 2, 2, 2, 2, 2, 2, 2, 2, 2, 2, 2, 2, 2, 2,\n",
       "       2, 2, 2, 2, 2, 2, 2, 2, 2, 2, 2, 2, 2, 2, 2, 2, 2, 2, 2, 2, 2, 2,\n",
       "       2, 2, 2, 2, 2, 2, 2, 2, 2, 2, 2, 2, 2, 2, 2, 2, 2, 2, 2, 2, 2, 2,\n",
       "       2, 2, 2, 2, 2, 2, 2, 2, 2, 2, 2, 2, 2, 2, 2, 2, 2, 2, 2, 2, 2, 2,\n",
       "       2, 2, 2, 2, 2, 2, 2, 2, 2, 2, 2, 2, 2, 2, 2, 2, 2, 2, 2, 2, 2, 2,\n",
       "       2, 2, 2, 2, 2, 2, 2, 2, 2, 2, 2, 2, 2, 2, 2, 2, 2, 2, 2, 2, 2, 2,\n",
       "       2, 2, 2, 2, 2, 2, 2, 2, 2, 2, 2, 2, 2, 2, 2, 2, 2, 2, 2, 2, 2, 2,\n",
       "       2, 2, 2, 2, 2, 2, 2, 2, 2, 2, 2, 2, 2, 2, 2, 2, 2, 2, 2, 2, 2, 2,\n",
       "       2, 2, 2, 2, 2, 2, 2, 2, 2, 2, 2, 2, 2, 2, 2, 2, 2, 2, 2, 2])"
      ]
     },
     "execution_count": 13,
     "metadata": {},
     "output_type": "execute_result"
    }
   ],
   "source": [
    "f['labels'][0::1000]"
   ]
  },
  {
   "cell_type": "markdown",
   "metadata": {},
   "source": [
    "We will definitelly want to avoid showing the model only photons then only electrons and then only muons - hence the index \n",
    "shuffling:\n",
    "```python\n",
    "    np.random.shuffle(indices)\n",
    "\n",
    "    self.train_indices = indices[:-n_val-n_test]\n",
    "    self.val_indices = indices[-n_test-n_val:-n_test]\n",
    "    self.test_indices = indices[-n_test:]\n",
    "````"
   ]
  },
  {
   "cell_type": "markdown",
   "metadata": {},
   "source": [
    "Finally we have the __getitem__ method - this provides functionality for the subscript [] operator. Only here we actually load the event_data that was requested:  \n",
    "```python\n",
    "        return np.array(self.event_data[index,:]),  self.labels[index], self.energies[index][0]       \n",
    "```\n",
    "-we return a tuple with three elements - first is the event 'image', second is the label, and third is the 'true' energy of the generated particle. If you look at the code you will notice that there is also a provision for providing a transform. This is very useful if you want to do data augmentation on-the-fly. E.g. we could flip the images to 'populate' the dataset to reflect the variability we expect in the dataset we will want to apply the model. We could also use it to pre-process the data on-the fly as well.\n"
   ]
  },
  {
   "cell_type": "markdown",
   "metadata": {},
   "source": [
    "finally we need the len method - this just needs to return how many exmples we have in the dataset"
   ]
  },
  {
   "cell_type": "markdown",
   "metadata": {},
   "source": [
    "Ok let's instantiate the dataset and ask it for a few examples:"
   ]
  },
  {
   "cell_type": "code",
   "execution_count": 14,
   "metadata": {},
   "outputs": [],
   "source": [
    "dset=WCH5Dataset(\"/fast_scratch/TRISEP_data/NUPRISM.h5\",val_split=0.1,test_split=0.1)"
   ]
  },
  {
   "cell_type": "code",
   "execution_count": 15,
   "metadata": {},
   "outputs": [
    {
     "data": {
      "text/plain": [
       "900000"
      ]
     },
     "execution_count": 15,
     "metadata": {},
     "output_type": "execute_result"
    }
   ],
   "source": [
    "len(dset)"
   ]
  },
  {
   "cell_type": "markdown",
   "metadata": {},
   "source": [
    "Let's import matplotlib and tell it to plot inline in the jupyter notebook"
   ]
  },
  {
   "cell_type": "code",
   "execution_count": 16,
   "metadata": {},
   "outputs": [],
   "source": [
    "import matplotlib.pyplot as plt\n",
    "%matplotlib inline\n",
    "import matplotlib"
   ]
  },
  {
   "cell_type": "markdown",
   "metadata": {},
   "source": [
    "Let's get some random event and label from the training dataset:"
   ]
  },
  {
   "cell_type": "code",
   "execution_count": 17,
   "metadata": {},
   "outputs": [],
   "source": [
    "event, label, energy=dset[dset.train_indices[1984]]"
   ]
  },
  {
   "cell_type": "code",
   "execution_count": 18,
   "metadata": {},
   "outputs": [
    {
     "name": "stdout",
     "output_type": "stream",
     "text": [
      "Label 0 and energy: 483.4703063964844 (MeV) \n"
     ]
    }
   ],
   "source": [
    "print(\"Label {} and energy: {} (MeV) \".format(label,energy))"
   ]
  },
  {
   "cell_type": "code",
   "execution_count": 19,
   "metadata": {},
   "outputs": [
    {
     "data": {
      "text/plain": [
       "'/fast_scratch/TRISEP_data/NUPRISM.h5'"
      ]
     },
     "execution_count": 19,
     "metadata": {},
     "output_type": "execute_result"
    }
   ],
   "source": [
    "f.filename"
   ]
  },
  {
   "cell_type": "markdown",
   "metadata": {},
   "source": [
    "We are going to plot only the PMT charge for the 'center' PMT in mPMT modules - i believe this is at channel 18"
   ]
  },
  {
   "cell_type": "code",
   "execution_count": 20,
   "metadata": {
    "scrolled": false
   },
   "outputs": [
    {
     "name": "stdout",
     "output_type": "stream",
     "text": [
      "class is 0\n"
     ]
    },
    {
     "data": {
      "image/png": "[encoded data removed]",
      "text/plain": [
       "<Figure size 1152x576 with 1 Axes>"
      ]
     },
     "metadata": {},
     "output_type": "display_data"
    }
   ],
   "source": [
    "fig, ax = plt.subplots(figsize=(16,8),facecolor='w')\n",
    "plt.imshow(event[:,:,18],cmap='jet',origin='lower')\n",
    "ax.set_title('Event Data, center PMT',fontsize=20,fontweight='bold')\n",
    "print('class is {}'.format(label))\n",
    "plt.show()"
   ]
  },
  {
   "cell_type": "markdown",
   "metadata": {},
   "source": [
    "We can also display the sum charge in the PMT"
   ]
  },
  {
   "cell_type": "code",
   "execution_count": 21,
   "metadata": {
    "scrolled": false
   },
   "outputs": [
    {
     "data": {
      "image/png": "[encoded data removed]",
      "text/plain": [
       "<Figure size 1152x576 with 1 Axes>"
      ]
     },
     "metadata": {},
     "output_type": "display_data"
    }
   ],
   "source": [
    "fig, ax = plt.subplots(figsize=(16,8),facecolor='w')\n",
    "plt.imshow(np.sum(event[:,:,0:19],axis=-1),cmap='jet',origin='lower')\n",
    "ax.set_title('Event Data, charge sum in mPMT',fontsize=20,fontweight='bold')\n",
    "plt.show()"
   ]
  },
  {
   "cell_type": "markdown",
   "metadata": {},
   "source": [
    "Let's plot this in a slightly nicer way - this is not 100% eact - we will put each PMT on a grid and display that"
   ]
  },
  {
   "cell_type": "code",
   "execution_count": 22,
   "metadata": {},
   "outputs": [],
   "source": [
    "from utils.plot_utils import get_plot_array"
   ]
  },
  {
   "cell_type": "code",
   "execution_count": 23,
   "metadata": {},
   "outputs": [
    {
     "data": {
      "text/plain": [
       "(16, 40, 19)"
      ]
     },
     "execution_count": 23,
     "metadata": {},
     "output_type": "execute_result"
    }
   ],
   "source": [
    "event[:,:,0:19].shape"
   ]
  },
  {
   "cell_type": "code",
   "execution_count": 24,
   "metadata": {},
   "outputs": [
    {
     "data": {
      "image/png": "[encoded data removed]",
      "text/plain": [
       "<Figure size 1152x576 with 1 Axes>"
      ]
     },
     "metadata": {},
     "output_type": "display_data"
    }
   ],
   "source": [
    "fig, ax = plt.subplots(figsize=(16,8),facecolor='w')\n",
    "plt.imshow(get_plot_array(event[:,:,0:19]),\n",
    "           origin=\"upper\",\n",
    "           cmap=\"jet\",\n",
    "           norm=matplotlib.colors.LogNorm(vmax=np.amax(event),\n",
    "                                          clip=True))\n",
    "ax.set_title('Event Data, charge in mPMT',fontsize=20,fontweight='bold')\n",
    "plt.show()"
   ]
  },
  {
   "cell_type": "markdown",
   "metadata": {},
   "source": [
    "Always try to learn as much as possible about the dataset before throwing ML at it. Let's quickly histogram the charges. We won't load the full dataset but taking few thousand should be fine (since we have 12k PMTs)"
   ]
  },
  {
   "cell_type": "code",
   "execution_count": 27,
   "metadata": {},
   "outputs": [
    {
     "name": "stdout",
     "output_type": "stream",
     "text": [
      "CPU times: user 104 ms, sys: 404 ms, total: 508 ms\n",
      "Wall time: 319 ms\n"
     ]
    }
   ],
   "source": [
    "%%time\n",
    "data_to_plot=dset[dset.train_indices[0:2000]]"
   ]
  },
  {
   "cell_type": "code",
   "execution_count": 28,
   "metadata": {},
   "outputs": [],
   "source": [
    "data_to_plot_events=data_to_plot[0]\n",
    "data_to_plot_labels=data_to_plot[1]\n",
    "data_to_plot_energies=data_to_plot[2]"
   ]
  },
  {
   "cell_type": "markdown",
   "metadata": {},
   "source": [
    "Let's plot the charge distributions"
   ]
  },
  {
   "cell_type": "code",
   "execution_count": 28,
   "metadata": {},
   "outputs": [
    {
     "data": {
      "image/png": "[encoded data removed]",
      "text/plain": [
       "<Figure size 864x576 with 1 Axes>"
      ]
     },
     "metadata": {},
     "output_type": "display_data"
    }
   ],
   "source": [
    "fig, ax = plt.subplots(figsize=(12,8),facecolor=\"w\")\n",
    "\n",
    "ax.tick_params(axis=\"both\", labelsize=20)\n",
    "\n",
    "bins=np.linspace(0.0,20.0,51)\n",
    "values, bins, patches = ax.hist(data_to_plot_events[np.where(data_to_plot_labels==0)][:,:,:,0:19].flatten(),\n",
    "                                bins=bins, \n",
    "                                label= 'photon', color='blue', linestyle='--', linewidth=2,\n",
    "                                log=True,\n",
    "                                histtype='step')\n",
    "\n",
    "values, bins, patches = ax.hist(data_to_plot_events[np.where(data_to_plot_labels==1)][:,:,:,0:19].flatten(),\n",
    "                                bins=bins, \n",
    "                                label= 'electron', color='red', linestyle='-.', linewidth=2,\n",
    "                                log=True,\n",
    "                                histtype='step')\n",
    "\n",
    "values, bins, patches = ax.hist(data_to_plot_events[np.where(data_to_plot_labels==2)][:,:,:,0:19].flatten(),\n",
    "                                bins=bins, \n",
    "                                label= 'muon', color='green', linewidth=2,\n",
    "                                log=True,\n",
    "                                histtype='step')\n",
    "ax.set_xlabel('PMT Energy (photo electrons)',fontweight='bold',fontsize=24,color='black')\n",
    "\n",
    "ax.legend(prop={'size': 16})\n",
    "\n",
    "plt.show()"
   ]
  },
  {
   "cell_type": "markdown",
   "metadata": {},
   "source": [
    "Now plot the time histogram -notice anything strange?"
   ]
  },
  {
   "cell_type": "markdown",
   "metadata": {},
   "source": [
    "Let's also plot the total energy in the event and also the true particle energy"
   ]
  },
  {
   "cell_type": "code",
   "execution_count": 30,
   "metadata": {},
   "outputs": [
    {
     "data": {
      "image/png": "[encoded data removed]",
      "text/plain": [
       "<Figure size 864x576 with 1 Axes>"
      ]
     },
     "metadata": {},
     "output_type": "display_data"
    }
   ],
   "source": [
    "e_sum_gamma=np.sum(data_to_plot_events[np.where(data_to_plot_labels==0)][:,:,:,19:],axis=(1,2,3))/1000.0\n",
    "e_sum_e=np.sum(data_to_plot_events[np.where(data_to_plot_labels==1)][:,:,:,19:],axis=(1,2,3))/1000.0\n",
    "e_sum_mu=np.sum(data_to_plot_events[np.where(data_to_plot_labels==2)][:,:,:,19:],axis=(1,2,3))/1000.0\n",
    "\n",
    "\n",
    "fig, ax = plt.subplots(figsize=(12,8),facecolor=\"w\")\n",
    "\n",
    "max_bin=max(np.amax(e_sum_gamma),np.amax(e_sum_e),np.amax(e_sum_mu))\n",
    "bins_esum=np.linspace(0.0,max_bin,20)\n",
    "\n",
    "\n",
    "ax.tick_params(axis=\"both\", labelsize=20)\n",
    "\n",
    "\n",
    "values, bins, patches = ax.hist(e_sum_gamma,\n",
    "                                bins=bins_esum, \n",
    "                                label= 'photon', color='blue', linestyle='--', linewidth=2,\n",
    "                                histtype='step')\n",
    "values, bins, patches = ax.hist(e_sum_e,\n",
    "                                bins=bins_esum, \n",
    "                                label= 'electron', color='red', linestyle='-.', linewidth=2,\n",
    "                                histtype='step')\n",
    "values, bins, patches = ax.hist(e_sum_mu,\n",
    "                                bins=bins_esum, \n",
    "                                label= 'muon', color='green', linewidth=2,\n",
    "                                histtype='step')\n",
    "\n",
    "ax.set_xlabel('Total charge collected in an event /1000 (AU)',fontweight='bold',fontsize=24,color='black')\n",
    "\n",
    "ax.legend(prop={'size': 16})\n",
    "\n",
    "plt.show()\n",
    "\n"
   ]
  },
  {
   "cell_type": "markdown",
   "metadata": {},
   "source": [
    "Muons seem to look very different - but is that expected?"
   ]
  },
  {
   "cell_type": "markdown",
   "metadata": {},
   "source": [
    "## DataLoader objects and streaming the data"
   ]
  },
  {
   "cell_type": "markdown",
   "metadata": {},
   "source": [
    "Now lets actually create DataLoader objects - one for each training, validation and testing set - but each DataLoader uses the same dataset -that way we keep only one open file (this is the 'standard' pytorch way)"
   ]
  },
  {
   "cell_type": "code",
   "execution_count": 31,
   "metadata": {},
   "outputs": [],
   "source": [
    "from torch.utils.data import DataLoader\n",
    "from torch.utils.data.sampler import SubsetRandomSampler\n",
    "train_iter=DataLoader(dset,batch_size=64,shuffle=False,sampler=SubsetRandomSampler(dset.train_indices),num_workers=4)\n",
    "val_iter=DataLoader(dset,batch_size=64,shuffle=False,sampler=SubsetRandomSampler(dset.val_indices),num_workers=4)\n",
    "test_iter=DataLoader(dset,batch_size=64,shuffle=False,sampler=SubsetRandomSampler(dset.test_indices),num_workers=4)"
   ]
  },
  {
   "cell_type": "markdown",
   "metadata": {},
   "source": [
    "For illustration purposes we will also create a dataset based on a copy of our dataset that lives on a network mounted file system"
   ]
  },
  {
   "cell_type": "code",
   "execution_count": 32,
   "metadata": {},
   "outputs": [],
   "source": [
    "dset_nfs=WCH5Dataset(\"/data/TRISEP_data/NUPRISM.h5\",val_split=0.1,test_split=0.1)"
   ]
  },
  {
   "cell_type": "code",
   "execution_count": 33,
   "metadata": {},
   "outputs": [],
   "source": [
    "train_iter_nfs=DataLoader(dset_nfs,batch_size=64,shuffle=False,sampler=SubsetRandomSampler(dset.train_indices),num_workers=4)\n",
    "val_iter_nfs=DataLoader(dset_nfs,batch_size=64,shuffle=False,sampler=SubsetRandomSampler(dset.val_indices),num_workers=4)\n",
    "test_iter_nfs=DataLoader(dset_nfs,batch_size=64,shuffle=False,sampler=SubsetRandomSampler(dset.test_indices),num_workers=4)"
   ]
  },
  {
   "cell_type": "markdown",
   "metadata": {},
   "source": [
    "You see the parameters - like batch_size and sampler - the sampler uses the indices we computed for the training, validation and testing set - if you use a sampler shuffle has to be False. On each iteration the DataLoader object will ask the dataset for a bunch of indices (calling the __getitem__ function we coded earlier) and then collate the data into a batch tensor. The collating can also be customized by providing collate_fn - but for now we will leave it with a default behavior. Did you notice the `num_workers` argument? if >0 this will enable multiprocessing - several processes will be reading examples (if supplied applying the augmentation transformation) and putting the data on queue that would be than 'consumed' by your training/evaluation process. We requested 4 CPUs for the job so we will use that. We are beating on the same storage with all threads - so if we aren't doing much preprocessing it doesn't make sense to make this too high..."
   ]
  },
  {
   "cell_type": "markdown",
   "metadata": {},
   "source": [
    "Here is how you would iterate over several batches:"
   ]
  },
  {
   "cell_type": "code",
   "execution_count": 34,
   "metadata": {},
   "outputs": [],
   "source": [
    "def loop_over_set(loader,loop_limit=3):\n",
    "\n",
    "    # Let's measure time that takes in each loop\n",
    "    trecord = np.zeros([loop_limit],dtype=np.float32)\n",
    "    t = time.time()\n",
    "    for iteration, batch in enumerate(loader):\n",
    "\n",
    "        data,labels,energies = batch\n",
    "\n",
    "        # Print out some content info\n",
    "        print('Iteration',iteration,'... time:',time.time()-t,'[s]')\n",
    "        print('    Labels:',labels)\n",
    "\n",
    "        trecord[iteration] = time.time() - t\n",
    "        t = time.time()\n",
    "\n",
    "        # break when reaching the loop limit\n",
    "        if (iteration+1) == loop_limit:\n",
    "            break\n",
    "    return trecord"
   ]
  },
  {
   "cell_type": "markdown",
   "metadata": {},
   "source": [
    "Convince yourself that the `data` and `labels` are already tensors - which we could plug into our future model. Now let's iterate over first 12 batches using the network drive"
   ]
  },
  {
   "cell_type": "code",
   "execution_count": 36,
   "metadata": {},
   "outputs": [
    {
     "name": "stdout",
     "output_type": "stream",
     "text": [
      "Iteration 0 ... time: 29.29806399345398 [s]\n",
      "    Labels: tensor([2, 0, 1, 1, 2, 2, 1, 1, 1, 0, 2, 1, 0, 2, 2, 1, 1, 0, 1, 0, 2, 0, 0, 1,\n",
      "        1, 0, 1, 1, 2, 2, 0, 1, 2, 1, 2, 2, 2, 1, 1, 1, 0, 0, 2, 1, 1, 1, 1, 1,\n",
      "        1, 0, 0, 1, 2, 0, 0, 0, 1, 1, 1, 2, 1, 1, 1, 0])\n",
      "Iteration 1 ... time: 0.3015785217285156 [s]\n",
      "    Labels: tensor([2, 1, 0, 0, 1, 2, 2, 1, 0, 0, 2, 2, 0, 0, 0, 1, 1, 0, 1, 0, 2, 2, 2, 2,\n",
      "        2, 0, 0, 0, 0, 2, 1, 0, 1, 0, 2, 0, 0, 2, 2, 2, 1, 2, 0, 1, 2, 0, 1, 0,\n",
      "        2, 2, 0, 1, 2, 1, 1, 1, 1, 0, 1, 0, 2, 0, 1, 2])\n",
      "Iteration 2 ... time: 3.3042731285095215 [s]\n",
      "    Labels: tensor([2, 1, 1, 2, 2, 0, 1, 1, 2, 2, 1, 0, 0, 0, 0, 2, 2, 0, 0, 2, 0, 0, 1, 1,\n",
      "        2, 1, 2, 2, 1, 2, 1, 2, 1, 0, 2, 0, 0, 1, 0, 1, 2, 1, 2, 0, 2, 1, 1, 0,\n",
      "        2, 1, 1, 1, 1, 1, 0, 2, 2, 1, 2, 2, 0, 0, 0, 0])\n",
      "Iteration 3 ... time: 0.0012965202331542969 [s]\n",
      "    Labels: tensor([1, 2, 1, 1, 2, 0, 0, 2, 1, 0, 1, 0, 2, 0, 2, 0, 2, 2, 0, 2, 2, 2, 0, 0,\n",
      "        1, 0, 0, 1, 2, 0, 1, 2, 2, 1, 1, 1, 0, 1, 0, 2, 0, 2, 0, 1, 0, 2, 1, 1,\n",
      "        1, 0, 1, 0, 1, 2, 1, 2, 0, 0, 2, 0, 0, 0, 1, 0])\n",
      "Iteration 4 ... time: 28.915084838867188 [s]\n",
      "    Labels: tensor([0, 0, 1, 0, 2, 2, 0, 1, 1, 2, 1, 2, 0, 2, 0, 1, 0, 2, 0, 1, 1, 1, 1, 1,\n",
      "        1, 1, 0, 0, 0, 1, 1, 1, 0, 2, 2, 0, 2, 2, 0, 0, 1, 0, 1, 1, 1, 1, 2, 2,\n",
      "        0, 2, 2, 2, 1, 0, 2, 2, 1, 1, 0, 1, 1, 1, 0, 1])\n",
      "Iteration 5 ... time: 0.0010972023010253906 [s]\n",
      "    Labels: tensor([2, 0, 0, 2, 2, 2, 2, 1, 1, 0, 2, 1, 1, 0, 0, 2, 1, 1, 2, 1, 0, 0, 1, 0,\n",
      "        0, 2, 2, 2, 1, 0, 1, 2, 2, 0, 1, 2, 2, 2, 2, 0, 2, 0, 2, 1, 2, 1, 2, 1,\n",
      "        1, 0, 1, 0, 0, 2, 0, 1, 1, 0, 2, 0, 0, 2, 2, 1])\n",
      "Iteration 6 ... time: 1.0431041717529297 [s]\n",
      "    Labels: tensor([0, 1, 0, 0, 1, 0, 0, 0, 0, 1, 0, 1, 0, 2, 1, 2, 2, 2, 2, 0, 0, 0, 2, 1,\n",
      "        2, 0, 2, 2, 1, 2, 2, 1, 0, 1, 1, 2, 1, 2, 0, 2, 0, 0, 0, 2, 0, 2, 2, 2,\n",
      "        2, 2, 0, 1, 0, 1, 0, 2, 2, 2, 1, 2, 2, 2, 1, 1])\n",
      "Iteration 7 ... time: 0.2885150909423828 [s]\n",
      "    Labels: tensor([0, 0, 1, 2, 1, 1, 1, 2, 2, 1, 2, 1, 2, 1, 2, 0, 2, 2, 1, 0, 0, 1, 2, 1,\n",
      "        1, 0, 2, 0, 1, 2, 1, 0, 1, 2, 2, 1, 2, 1, 1, 0, 1, 0, 2, 0, 2, 1, 1, 1,\n",
      "        1, 2, 2, 0, 2, 2, 0, 0, 2, 2, 1, 0, 1, 1, 0, 0])\n",
      "Iteration 8 ... time: 27.402042388916016 [s]\n",
      "    Labels: tensor([2, 1, 0, 2, 2, 2, 1, 0, 0, 0, 1, 0, 2, 0, 1, 0, 0, 2, 1, 0, 2, 0, 1, 0,\n",
      "        1, 0, 2, 2, 2, 0, 1, 1, 1, 1, 0, 2, 1, 2, 0, 2, 2, 0, 0, 2, 1, 2, 1, 2,\n",
      "        1, 1, 0, 1, 1, 1, 1, 2, 1, 1, 0, 2, 2, 1, 2, 1])\n",
      "Iteration 9 ... time: 0.0011196136474609375 [s]\n",
      "    Labels: tensor([0, 0, 1, 1, 2, 1, 1, 0, 1, 2, 0, 0, 1, 0, 2, 1, 1, 2, 1, 2, 0, 0, 1, 1,\n",
      "        2, 0, 2, 2, 0, 1, 1, 2, 0, 0, 2, 2, 2, 1, 2, 2, 0, 0, 0, 1, 2, 2, 2, 1,\n",
      "        2, 1, 1, 2, 1, 2, 0, 0, 2, 2, 0, 2, 0, 1, 0, 1])\n",
      "Iteration 10 ... time: 3.2427031993865967 [s]\n",
      "    Labels: tensor([2, 1, 2, 0, 2, 2, 2, 0, 1, 0, 2, 1, 1, 1, 1, 1, 1, 0, 2, 1, 2, 2, 2, 2,\n",
      "        0, 1, 0, 0, 0, 2, 0, 0, 0, 1, 2, 2, 0, 0, 2, 2, 2, 0, 1, 0, 2, 1, 2, 1,\n",
      "        2, 1, 0, 1, 2, 1, 0, 2, 0, 1, 0, 0, 0, 1, 0, 2])\n",
      "Iteration 11 ... time: 0.0010924339294433594 [s]\n",
      "    Labels: tensor([0, 2, 1, 1, 1, 0, 0, 0, 2, 1, 2, 0, 2, 0, 2, 0, 1, 0, 0, 1, 1, 2, 0, 0,\n",
      "        0, 0, 1, 0, 1, 1, 2, 2, 1, 2, 0, 2, 2, 1, 1, 2, 0, 0, 1, 2, 1, 2, 0, 2,\n",
      "        1, 0, 1, 0, 2, 0, 0, 1, 0, 0, 0, 2, 1, 0, 0, 0])\n"
     ]
    },
    {
     "data": {
      "text/plain": [
       "array([2.9302465e+01, 3.0501771e-01, 3.3074725e+00, 4.2073727e-03,\n",
       "       2.8917973e+01, 3.5357475e-03, 1.0465317e+00, 2.9136252e-01,\n",
       "       2.7404940e+01, 3.5865307e-03, 3.2453818e+00, 3.4918785e-03],\n",
       "      dtype=float32)"
      ]
     },
     "execution_count": 36,
     "metadata": {},
     "output_type": "execute_result"
    }
   ],
   "source": [
    "loop_over_set(train_iter_nfs, 12)"
   ]
  },
  {
   "cell_type": "markdown",
   "metadata": {},
   "source": [
    "OMG that was slow... and we aren't even oing anything with the data- do you notice that roughly every 4th iteration the time it takes to give a batch is huge? Why?"
   ]
  },
  {
   "cell_type": "markdown",
   "metadata": {},
   "source": [
    "Let's repeat the exercise but accessing a local SSD drive"
   ]
  },
  {
   "cell_type": "code",
   "execution_count": 37,
   "metadata": {},
   "outputs": [
    {
     "name": "stdout",
     "output_type": "stream",
     "text": [
      "Iteration 0 ... time: 0.20235610008239746 [s]\n",
      "    Labels: tensor([2, 0, 0, 2, 2, 0, 2, 2, 0, 2, 2, 2, 0, 1, 2, 0, 1, 2, 2, 0, 2, 0, 1, 0,\n",
      "        1, 2, 2, 1, 2, 2, 0, 1, 2, 0, 0, 1, 1, 1, 0, 0, 0, 1, 2, 0, 0, 0, 1, 0,\n",
      "        0, 0, 1, 1, 0, 0, 1, 2, 1, 0, 2, 2, 1, 2, 2, 0])\n",
      "Iteration 1 ... time: 0.007973432540893555 [s]\n",
      "    Labels: tensor([1, 0, 1, 2, 0, 1, 1, 0, 0, 1, 0, 1, 2, 0, 0, 0, 0, 1, 0, 1, 0, 0, 1, 1,\n",
      "        1, 2, 1, 0, 2, 2, 2, 1, 2, 2, 2, 1, 0, 0, 2, 2, 1, 0, 0, 1, 0, 1, 2, 1,\n",
      "        2, 1, 0, 2, 1, 0, 2, 0, 0, 2, 0, 0, 1, 0, 0, 0])\n",
      "Iteration 2 ... time: 0.0015850067138671875 [s]\n",
      "    Labels: tensor([0, 2, 2, 2, 2, 0, 1, 0, 2, 2, 1, 0, 0, 0, 0, 0, 1, 2, 0, 1, 0, 1, 0, 1,\n",
      "        2, 2, 2, 0, 1, 2, 2, 1, 0, 2, 2, 2, 2, 2, 0, 0, 2, 0, 1, 1, 2, 2, 1, 2,\n",
      "        1, 0, 2, 2, 0, 0, 2, 1, 2, 0, 1, 1, 2, 0, 0, 2])\n",
      "Iteration 3 ... time: 0.0011053085327148438 [s]\n",
      "    Labels: tensor([1, 2, 2, 1, 2, 1, 1, 0, 0, 0, 1, 0, 0, 2, 2, 0, 1, 2, 0, 1, 2, 1, 0, 2,\n",
      "        1, 2, 1, 2, 1, 1, 2, 1, 2, 0, 2, 2, 2, 2, 2, 1, 2, 2, 1, 2, 2, 1, 1, 0,\n",
      "        1, 0, 1, 0, 1, 1, 1, 0, 0, 0, 2, 1, 2, 1, 0, 1])\n",
      "Iteration 4 ... time: 0.08848023414611816 [s]\n",
      "    Labels: tensor([1, 2, 2, 0, 1, 0, 0, 1, 2, 1, 0, 0, 1, 2, 0, 2, 0, 1, 0, 1, 2, 2, 0, 2,\n",
      "        2, 1, 1, 1, 0, 0, 1, 0, 0, 0, 0, 2, 2, 2, 1, 1, 0, 0, 2, 2, 0, 0, 0, 0,\n",
      "        0, 0, 2, 1, 0, 2, 0, 0, 0, 0, 0, 2, 0, 1, 0, 1])\n",
      "Iteration 5 ... time: 0.00911402702331543 [s]\n",
      "    Labels: tensor([1, 2, 0, 1, 0, 0, 2, 1, 1, 0, 1, 1, 2, 1, 0, 2, 0, 1, 2, 2, 2, 2, 1, 1,\n",
      "        1, 2, 1, 1, 1, 2, 2, 0, 1, 1, 1, 0, 1, 0, 2, 2, 1, 1, 1, 2, 1, 2, 0, 2,\n",
      "        1, 1, 0, 0, 1, 1, 2, 0, 1, 1, 1, 0, 0, 0, 1, 1])\n",
      "Iteration 6 ... time: 0.0027701854705810547 [s]\n",
      "    Labels: tensor([2, 2, 2, 2, 1, 1, 1, 1, 1, 0, 2, 2, 1, 0, 0, 0, 1, 1, 0, 1, 1, 0, 0, 1,\n",
      "        0, 1, 0, 1, 1, 2, 2, 2, 0, 1, 1, 1, 2, 1, 0, 0, 1, 1, 0, 2, 1, 2, 1, 0,\n",
      "        1, 1, 2, 0, 2, 0, 1, 1, 0, 0, 2, 2, 1, 0, 2, 2])\n",
      "Iteration 7 ... time: 0.012743949890136719 [s]\n",
      "    Labels: tensor([1, 1, 1, 0, 2, 1, 2, 1, 2, 2, 0, 2, 2, 0, 2, 2, 2, 2, 0, 2, 0, 1, 0, 2,\n",
      "        2, 0, 0, 1, 0, 0, 0, 1, 0, 1, 2, 0, 1, 2, 2, 2, 0, 1, 0, 0, 1, 1, 2, 1,\n",
      "        0, 2, 1, 0, 1, 0, 0, 0, 0, 0, 1, 1, 0, 1, 2, 0])\n",
      "Iteration 8 ... time: 0.3185114860534668 [s]\n",
      "    Labels: tensor([1, 1, 1, 2, 1, 1, 0, 0, 1, 0, 2, 0, 1, 1, 1, 0, 2, 2, 2, 1, 1, 1, 1, 2,\n",
      "        1, 1, 1, 2, 1, 2, 1, 0, 0, 2, 2, 0, 2, 0, 1, 0, 2, 2, 1, 1, 0, 1, 1, 0,\n",
      "        1, 0, 2, 2, 1, 1, 2, 0, 0, 1, 1, 1, 0, 0, 0, 1])\n",
      "Iteration 9 ... time: 0.11717867851257324 [s]\n",
      "    Labels: tensor([1, 1, 1, 1, 2, 0, 1, 1, 1, 2, 0, 1, 0, 0, 2, 2, 1, 0, 1, 1, 0, 0, 2, 0,\n",
      "        2, 0, 0, 0, 0, 1, 0, 0, 2, 1, 2, 2, 0, 0, 0, 2, 1, 1, 0, 2, 2, 0, 2, 0,\n",
      "        0, 2, 0, 2, 2, 0, 2, 1, 0, 2, 0, 2, 2, 0, 2, 2])\n",
      "Iteration 10 ... time: 0.08330893516540527 [s]\n",
      "    Labels: tensor([0, 2, 0, 1, 1, 1, 1, 2, 1, 1, 0, 0, 2, 1, 1, 1, 0, 1, 1, 1, 0, 1, 1, 0,\n",
      "        2, 0, 1, 2, 1, 0, 0, 0, 0, 0, 0, 1, 0, 1, 1, 1, 0, 0, 2, 1, 1, 0, 2, 0,\n",
      "        0, 1, 0, 2, 2, 1, 0, 1, 0, 0, 2, 2, 2, 1, 0, 0])\n",
      "Iteration 11 ... time: 0.06942510604858398 [s]\n",
      "    Labels: tensor([1, 2, 1, 2, 2, 0, 1, 0, 0, 2, 2, 1, 2, 1, 1, 0, 0, 2, 0, 1, 0, 0, 0, 2,\n",
      "        0, 2, 2, 2, 2, 2, 1, 0, 0, 2, 2, 2, 1, 0, 1, 1, 1, 1, 2, 2, 2, 0, 2, 1,\n",
      "        1, 1, 2, 1, 1, 2, 2, 1, 1, 0, 2, 0, 1, 2, 0, 2])\n",
      "Iteration 12 ... time: 0.26889657974243164 [s]\n",
      "    Labels: tensor([0, 2, 0, 2, 0, 0, 2, 2, 0, 0, 1, 0, 1, 2, 0, 2, 2, 1, 2, 0, 2, 1, 2, 0,\n",
      "        2, 1, 1, 2, 1, 0, 2, 2, 0, 2, 2, 2, 1, 1, 0, 0, 2, 2, 0, 0, 2, 2, 2, 2,\n",
      "        0, 2, 2, 0, 1, 2, 2, 0, 0, 0, 0, 1, 1, 0, 2, 0])\n",
      "Iteration 13 ... time: 0.14400696754455566 [s]\n",
      "    Labels: tensor([0, 2, 2, 0, 2, 1, 2, 2, 2, 2, 1, 0, 0, 2, 1, 2, 0, 0, 1, 1, 1, 2, 2, 2,\n",
      "        2, 2, 1, 2, 2, 1, 0, 0, 0, 0, 0, 1, 2, 0, 1, 0, 0, 0, 1, 0, 1, 2, 1, 1,\n",
      "        0, 1, 0, 0, 2, 2, 0, 0, 0, 1, 0, 2, 0, 2, 0, 0])\n",
      "Iteration 14 ... time: 0.09978485107421875 [s]\n",
      "    Labels: tensor([1, 0, 2, 2, 0, 0, 2, 1, 0, 2, 1, 0, 0, 2, 1, 2, 2, 2, 0, 1, 1, 1, 1, 1,\n",
      "        1, 1, 1, 2, 1, 0, 0, 0, 1, 1, 2, 1, 1, 2, 1, 2, 1, 1, 2, 1, 2, 0, 0, 2,\n",
      "        1, 2, 1, 1, 0, 2, 1, 2, 1, 1, 0, 0, 2, 2, 0, 2])\n",
      "Iteration 15 ... time: 0.08014059066772461 [s]\n",
      "    Labels: tensor([2, 0, 2, 1, 1, 1, 1, 2, 1, 1, 0, 0, 1, 0, 1, 0, 0, 1, 1, 2, 1, 0, 2, 2,\n",
      "        0, 2, 0, 2, 1, 1, 2, 2, 2, 2, 1, 1, 2, 2, 2, 1, 1, 2, 2, 0, 1, 2, 1, 1,\n",
      "        2, 2, 1, 2, 0, 1, 1, 1, 0, 1, 0, 1, 2, 0, 0, 1])\n",
      "Iteration 16 ... time: 0.21788430213928223 [s]\n",
      "    Labels: tensor([0, 0, 0, 0, 0, 2, 1, 1, 1, 0, 2, 0, 1, 2, 1, 0, 1, 1, 2, 2, 2, 1, 2, 2,\n",
      "        0, 2, 1, 1, 2, 2, 0, 2, 0, 2, 1, 1, 1, 2, 0, 0, 1, 1, 2, 2, 2, 0, 0, 0,\n",
      "        1, 2, 1, 1, 0, 2, 1, 2, 2, 2, 2, 0, 2, 0, 1, 2])\n",
      "Iteration 17 ... time: 0.14021611213684082 [s]\n",
      "    Labels: tensor([0, 1, 2, 1, 2, 2, 0, 2, 0, 0, 2, 2, 2, 1, 0, 1, 1, 1, 1, 2, 2, 0, 2, 1,\n",
      "        1, 2, 0, 1, 1, 1, 1, 2, 1, 1, 0, 1, 1, 2, 0, 1, 2, 2, 1, 2, 1, 2, 2, 1,\n",
      "        2, 1, 0, 1, 1, 2, 2, 2, 2, 1, 2, 1, 0, 0, 1, 0])\n",
      "Iteration 18 ... time: 0.09596920013427734 [s]\n",
      "    Labels: tensor([1, 2, 2, 1, 0, 1, 1, 2, 2, 0, 1, 0, 1, 1, 1, 1, 2, 2, 1, 0, 0, 0, 1, 2,\n",
      "        2, 0, 1, 2, 1, 2, 2, 1, 0, 0, 1, 0, 1, 2, 2, 0, 2, 0, 2, 0, 1, 1, 2, 0,\n",
      "        1, 0, 0, 2, 0, 1, 0, 0, 2, 1, 1, 1, 0, 2, 2, 0])\n",
      "Iteration 19 ... time: 0.06596660614013672 [s]\n",
      "    Labels: tensor([0, 0, 1, 1, 1, 2, 1, 2, 1, 1, 1, 0, 2, 0, 0, 2, 0, 0, 1, 0, 0, 1, 1, 2,\n",
      "        1, 1, 1, 2, 1, 1, 2, 0, 1, 1, 0, 2, 2, 0, 0, 2, 1, 0, 1, 2, 0, 2, 2, 1,\n",
      "        0, 2, 1, 2, 0, 0, 2, 0, 0, 1, 2, 2, 2, 2, 1, 0])\n",
      "Iteration 20 ... time: 0.3309457302093506 [s]\n",
      "    Labels: tensor([2, 1, 2, 2, 2, 2, 1, 2, 1, 1, 2, 1, 1, 0, 1, 1, 2, 1, 1, 1, 0, 1, 0, 2,\n",
      "        0, 0, 0, 2, 1, 1, 0, 0, 2, 1, 1, 2, 2, 2, 1, 0, 2, 1, 0, 1, 0, 1, 1, 2,\n",
      "        1, 2, 1, 1, 0, 1, 1, 2, 0, 1, 0, 2, 2, 2, 2, 0])\n",
      "Iteration 21 ... time: 0.08774304389953613 [s]\n",
      "    Labels: tensor([0, 1, 1, 0, 1, 0, 1, 0, 2, 1, 2, 0, 1, 1, 2, 0, 2, 1, 2, 2, 2, 2, 2, 2,\n",
      "        1, 0, 0, 0, 2, 2, 1, 0, 2, 1, 1, 0, 2, 0, 2, 1, 2, 1, 1, 0, 1, 2, 0, 1,\n",
      "        2, 2, 2, 2, 2, 2, 0, 2, 1, 2, 0, 1, 0, 0, 0, 1])\n",
      "Iteration 22 ... time: 0.12243390083312988 [s]\n",
      "    Labels: tensor([1, 0, 1, 1, 2, 1, 0, 1, 2, 0, 0, 0, 1, 2, 1, 0, 2, 0, 2, 2, 2, 1, 1, 1,\n",
      "        0, 2, 0, 2, 1, 0, 0, 0, 1, 0, 1, 1, 1, 2, 0, 0, 2, 2, 1, 0, 0, 0, 1, 0,\n",
      "        0, 2, 0, 2, 1, 1, 1, 0, 0, 0, 2, 2, 2, 1, 2, 2])\n",
      "Iteration 23 ... time: 0.0031156539916992188 [s]\n",
      "    Labels: tensor([0, 2, 2, 0, 1, 0, 2, 1, 1, 0, 1, 1, 0, 1, 1, 0, 1, 2, 0, 1, 1, 2, 2, 2,\n",
      "        2, 0, 1, 1, 2, 1, 2, 1, 2, 2, 1, 2, 0, 1, 0, 1, 1, 1, 1, 1, 0, 2, 2, 0,\n",
      "        2, 2, 2, 0, 0, 0, 0, 2, 1, 0, 2, 1, 0, 1, 1, 0])\n",
      "Iteration 24 ... time: 0.4078235626220703 [s]\n",
      "    Labels: tensor([1, 1, 1, 0, 1, 2, 1, 0, 1, 1, 2, 0, 2, 0, 0, 0, 1, 1, 1, 0, 2, 1, 2, 1,\n",
      "        1, 1, 1, 1, 2, 2, 0, 1, 1, 2, 2, 1, 2, 1, 1, 0, 2, 2, 2, 0, 0, 1, 2, 0,\n",
      "        0, 1, 1, 0, 1, 0, 1, 0, 2, 2, 2, 0, 0, 1, 1, 0])\n",
      "Iteration 25 ... time: 0.018698453903198242 [s]\n",
      "    Labels: tensor([1, 1, 2, 1, 1, 1, 1, 1, 0, 0, 2, 1, 0, 0, 0, 1, 1, 2, 2, 1, 0, 0, 0, 1,\n",
      "        1, 1, 1, 0, 2, 2, 1, 1, 1, 0, 1, 2, 2, 2, 0, 0, 1, 1, 2, 2, 0, 1, 1, 1,\n",
      "        0, 2, 1, 1, 1, 1, 0, 2, 1, 0, 1, 2, 2, 0, 0, 0])\n",
      "Iteration 26 ... time: 0.16975140571594238 [s]\n",
      "    Labels: tensor([1, 0, 0, 0, 2, 2, 2, 2, 1, 2, 1, 1, 2, 1, 0, 1, 1, 2, 1, 0, 1, 2, 0, 0,\n",
      "        0, 1, 2, 0, 0, 0, 1, 2, 2, 2, 1, 1, 2, 2, 2, 1, 1, 0, 2, 0, 0, 0, 2, 1,\n",
      "        2, 1, 2, 2, 1, 1, 2, 2, 2, 1, 2, 0, 1, 2, 1, 2])\n",
      "Iteration 27 ... time: 0.0011067390441894531 [s]\n",
      "    Labels: tensor([1, 0, 1, 1, 0, 1, 1, 2, 1, 0, 1, 0, 1, 2, 0, 1, 2, 1, 2, 2, 1, 2, 2, 1,\n",
      "        2, 2, 0, 0, 1, 2, 1, 2, 1, 0, 2, 1, 1, 0, 0, 2, 2, 0, 0, 0, 1, 1, 2, 2,\n",
      "        2, 2, 0, 1, 2, 1, 2, 2, 1, 1, 1, 1, 1, 1, 0, 1])\n",
      "Iteration 28 ... time: 0.36801791191101074 [s]\n",
      "    Labels: tensor([0, 0, 0, 2, 2, 2, 2, 0, 0, 0, 1, 1, 0, 0, 1, 2, 2, 2, 1, 2, 1, 1, 1, 1,\n",
      "        1, 0, 1, 0, 0, 0, 0, 0, 0, 0, 1, 1, 1, 0, 2, 0, 0, 2, 1, 1, 0, 0, 0, 2,\n",
      "        0, 2, 0, 0, 2, 2, 0, 2, 0, 2, 1, 0, 2, 1, 2, 2])\n",
      "Iteration 29 ... time: 0.0011050701141357422 [s]\n",
      "    Labels: tensor([1, 1, 1, 0, 0, 2, 1, 0, 1, 2, 0, 0, 0, 1, 2, 0, 1, 2, 1, 0, 1, 1, 1, 2,\n",
      "        1, 0, 1, 0, 0, 1, 0, 1, 2, 1, 0, 1, 0, 2, 1, 1, 0, 2, 1, 1, 0, 2, 2, 2,\n",
      "        2, 1, 1, 0, 0, 0, 1, 2, 1, 0, 2, 2, 2, 2, 1, 0])\n",
      "Iteration 30 ... time: 0.14932823181152344 [s]\n",
      "    Labels: tensor([2, 2, 0, 0, 0, 1, 1, 0, 0, 2, 1, 1, 2, 2, 1, 0, 1, 1, 2, 2, 2, 2, 2, 2,\n",
      "        2, 2, 2, 0, 2, 0, 0, 0, 0, 1, 0, 2, 2, 1, 0, 1, 1, 1, 1, 0, 0, 0, 2, 1,\n",
      "        0, 0, 1, 0, 2, 2, 0, 0, 0, 1, 0, 2, 0, 0, 2, 2])\n",
      "Iteration 31 ... time: 0.0010955333709716797 [s]\n",
      "    Labels: tensor([2, 2, 2, 2, 2, 0, 0, 2, 1, 1, 1, 0, 2, 1, 2, 0, 2, 0, 0, 2, 2, 2, 1, 0,\n",
      "        1, 0, 1, 1, 1, 1, 0, 1, 1, 0, 2, 0, 2, 1, 0, 1, 1, 1, 2, 1, 1, 2, 2, 0,\n",
      "        2, 2, 1, 0, 0, 2, 0, 0, 1, 1, 2, 0, 2, 1, 2, 1])\n"
     ]
    },
    {
     "name": "stdout",
     "output_type": "stream",
     "text": [
      "Iteration 32 ... time: 0.41889142990112305 [s]\n",
      "    Labels: tensor([1, 0, 2, 2, 0, 2, 2, 2, 1, 0, 1, 1, 2, 0, 2, 0, 2, 2, 0, 2, 1, 0, 0, 0,\n",
      "        2, 0, 2, 0, 1, 1, 0, 0, 2, 0, 1, 1, 2, 2, 0, 2, 1, 0, 1, 2, 0, 1, 0, 1,\n",
      "        2, 0, 2, 0, 2, 2, 2, 2, 1, 1, 1, 0, 0, 1, 2, 2])\n",
      "Iteration 33 ... time: 0.0012061595916748047 [s]\n",
      "    Labels: tensor([1, 2, 0, 2, 0, 2, 0, 0, 0, 2, 0, 2, 1, 1, 1, 1, 1, 0, 2, 0, 1, 0, 2, 1,\n",
      "        2, 0, 0, 1, 0, 1, 1, 0, 0, 1, 1, 0, 2, 1, 0, 2, 2, 1, 2, 2, 2, 0, 0, 2,\n",
      "        1, 2, 1, 1, 0, 1, 1, 0, 2, 2, 2, 1, 2, 0, 2, 2])\n",
      "Iteration 34 ... time: 0.163360595703125 [s]\n",
      "    Labels: tensor([2, 0, 0, 2, 1, 1, 1, 1, 0, 0, 0, 2, 2, 1, 1, 0, 1, 0, 2, 2, 0, 2, 0, 0,\n",
      "        1, 1, 2, 2, 0, 2, 1, 0, 1, 1, 1, 1, 0, 2, 2, 2, 1, 1, 0, 2, 1, 0, 2, 2,\n",
      "        2, 2, 1, 1, 1, 0, 2, 1, 0, 2, 0, 2, 0, 1, 1, 0])\n",
      "Iteration 35 ... time: 0.0011146068572998047 [s]\n",
      "    Labels: tensor([0, 0, 1, 1, 2, 1, 2, 2, 2, 1, 2, 0, 1, 1, 2, 0, 2, 0, 1, 0, 2, 2, 0, 2,\n",
      "        2, 2, 2, 1, 0, 1, 0, 0, 2, 0, 1, 1, 1, 0, 1, 2, 0, 2, 0, 0, 1, 1, 2, 0,\n",
      "        1, 0, 2, 2, 1, 0, 0, 2, 0, 1, 0, 2, 1, 0, 0, 1])\n",
      "Iteration 36 ... time: 0.3196907043457031 [s]\n",
      "    Labels: tensor([2, 1, 1, 2, 2, 0, 2, 1, 1, 2, 2, 1, 0, 1, 2, 2, 2, 0, 0, 2, 2, 1, 2, 1,\n",
      "        1, 2, 1, 0, 1, 0, 0, 0, 2, 2, 1, 2, 0, 1, 1, 0, 0, 0, 2, 0, 1, 1, 0, 1,\n",
      "        0, 0, 0, 2, 1, 1, 2, 0, 1, 1, 2, 0, 1, 1, 0, 1])\n",
      "Iteration 37 ... time: 0.02590489387512207 [s]\n",
      "    Labels: tensor([0, 0, 1, 1, 2, 0, 2, 0, 1, 0, 0, 1, 0, 0, 2, 2, 2, 2, 1, 2, 0, 1, 1, 0,\n",
      "        0, 0, 1, 1, 2, 0, 2, 0, 2, 0, 0, 1, 0, 0, 1, 1, 1, 2, 0, 2, 0, 1, 2, 0,\n",
      "        1, 0, 1, 0, 1, 1, 2, 0, 0, 0, 0, 1, 2, 1, 0, 2])\n",
      "Iteration 38 ... time: 0.2144784927368164 [s]\n",
      "    Labels: tensor([0, 1, 2, 1, 2, 1, 2, 2, 0, 0, 2, 1, 0, 0, 0, 2, 0, 2, 1, 1, 2, 0, 1, 0,\n",
      "        2, 0, 0, 1, 1, 1, 0, 1, 0, 1, 2, 1, 2, 2, 2, 2, 1, 1, 1, 0, 1, 2, 0, 1,\n",
      "        2, 2, 0, 2, 0, 1, 1, 0, 1, 0, 1, 0, 0, 1, 0, 0])\n",
      "Iteration 39 ... time: 0.0010309219360351562 [s]\n",
      "    Labels: tensor([1, 0, 0, 1, 0, 0, 1, 2, 0, 0, 2, 1, 2, 0, 0, 1, 0, 1, 1, 0, 0, 2, 0, 1,\n",
      "        1, 1, 0, 2, 2, 2, 1, 0, 2, 2, 0, 2, 1, 1, 1, 1, 1, 2, 0, 2, 0, 2, 1, 2,\n",
      "        0, 0, 2, 2, 0, 1, 0, 2, 2, 1, 1, 2, 0, 2, 2, 2])\n"
     ]
    },
    {
     "data": {
      "text/plain": [
       "array([0.20412874, 0.01046062, 0.00393605, 0.00336862, 0.09187555,\n",
       "       0.01175356, 0.00504851, 0.01516247, 0.32082868, 0.11931729,\n",
       "       0.08567071, 0.0716846 , 0.27127194, 0.14610839, 0.10246444,\n",
       "       0.0827117 , 0.22062683, 0.14255643, 0.0987196 , 0.06843686,\n",
       "       0.3336718 , 0.09008861, 0.12509727, 0.00574827, 0.41052294,\n",
       "       0.02113104, 0.1723299 , 0.00358796, 0.37073302, 0.0037961 ,\n",
       "       0.15171957, 0.00362253, 0.42152548, 0.00372553, 0.16579151,\n",
       "       0.00366282, 0.32248926, 0.028234  , 0.21674299, 0.00299406],\n",
       "      dtype=float32)"
      ]
     },
     "execution_count": 37,
     "metadata": {},
     "output_type": "execute_result"
    }
   ],
   "source": [
    "loop_over_set(train_iter, 40)"
   ]
  },
  {
   "cell_type": "markdown",
   "metadata": {},
   "source": [
    "Ok - way faster - this it's going to remove the bottleneck of data access during training - especially that we are going to be looping over the dataset many times. In general we want to avoid:\n",
    "   * Network transfers during training\n",
    "   * Spinning media if possible"
   ]
  },
  {
   "cell_type": "markdown",
   "metadata": {},
   "source": [
    "As a rule of thumb we wouldn't want to compute the gradient with respect to our data. The returned tensors have `requires_grad` set to `False`. This means that even though these tensors will be leaf nodes in any computational graph we will create, when we call `backward` on the final output the gradients with respect to our data tensors will not be calculated."
   ]
  },
  {
   "cell_type": "code",
   "execution_count": 38,
   "metadata": {},
   "outputs": [],
   "source": [
    "next_batch=next(iter(train_iter))"
   ]
  },
  {
   "cell_type": "code",
   "execution_count": 39,
   "metadata": {},
   "outputs": [
    {
     "data": {
      "text/plain": [
       "False"
      ]
     },
     "execution_count": 39,
     "metadata": {},
     "output_type": "execute_result"
    }
   ],
   "source": [
    "next_batch[0].requires_grad"
   ]
  },
  {
   "cell_type": "markdown",
   "metadata": {},
   "source": [
    "Now please shut down this kernel: `Kernel` $\\rightarrow$ `Shutdown`"
   ]
  }
 ],
 "metadata": {
  "kernelspec": {
   "display_name": "Python 3",
   "language": "python",
   "name": "python3"
  },
  "language_info": {
   "codemirror_mode": {
    "name": "ipython",
    "version": 3
   },
   "file_extension": ".py",
   "mimetype": "text/x-python",
   "name": "python",
   "nbconvert_exporter": "python",
   "pygments_lexer": "ipython3",
   "version": "3.6.5"
  }
 },
 "nbformat": 4,
 "nbformat_minor": 2
}
