{
 "cells": [
  {
   "cell_type": "markdown",
   "metadata": {},
   "source": [
    "# TRISEP ML Tutorial Part 1: Project overview and data visualization and streaming tutorial\n"
   ]
  },
  {
   "cell_type": "markdown",
   "metadata": {},
   "source": [
    "## Project Overview\n",
    "I will assume everybody here is roughly familiar with physics of neutrinos and Water Cherenkov detectors.\n",
    "In this project we will tackle the task of classification of neutrino type ($\\nu_e$ or $\\nu_\\mu$) or rather the charged leptons resulting from the nuclear scatter ($e$ and  $\\mu$) as well as an irreducible background from neutral current $\\gamma$ production. The dataset comes from simulated Water Cherenkov detector called NuPRISM. NuPRISM is a proposed 'intermediate' detector for the Hyper-Kamiokande project. The detector has a cylindrical geometry and can be lowered and raised in a shaft to sample different energy distribution of incoming neutrinos! ![NUPRISM](../img/NUPRISM_diag.png)"
   ]
  },
  {
   "cell_type": "markdown",
   "metadata": {},
   "source": [
    "The cylinder wall or 'barrel' and end-caps are lined with 'multi-PMT' or 'mPMT' modules arranged in a rectangular grid. Each mPMT is a dome with 19 PMTs arranged in two rings and one at the center:![mPMT](../img/mPMT.png)"
   ]
  },
  {
   "cell_type": "markdown",
   "metadata": {},
   "source": [
    "Here is an event display where the barrel was 'unrolled':\n",
    "![eventdisp](../img/ev_disp.png) - you can clearly see a Cherenkov ring appearing\n",
    "The 'brightness' corresponds to charge collected by each PMT. Each PMT also tells us the arrival time of the signal."
   ]
  },
  {
   "cell_type": "markdown",
   "metadata": {},
   "source": [
    "In this part of the we will take a look at the data and how to organize streaming it in batches so that we can feed it to our neural model"
   ]
  },
  {
   "cell_type": "markdown",
   "metadata": {},
   "source": [
    "Ok! now that you are back lets see if we can see the dataset:"
   ]
  },
  {
   "cell_type": "code",
   "execution_count": 1,
   "metadata": {},
   "outputs": [
    {
     "name": "stdout",
     "output_type": "stream",
     "text": [
      "-rw-r--r-- 1 wfedorko wfedorko 82G Jul 23 17:30 /data/TRISEP_data/NUPRISM.h5\r\n"
     ]
    }
   ],
   "source": [
    "!ls /data/TRISEP_data/NUPRISM.h5 -lh"
   ]
  },
  {
   "cell_type": "markdown",
   "metadata": {},
   "source": [
    "Let's quickly look what's inside... - import h5py, numpy etc and open for reading"
   ]
  },
  {
   "cell_type": "code",
   "execution_count": 2,
   "metadata": {},
   "outputs": [],
   "source": [
    "import numpy as np\n",
    "import os, time\n",
    "import h5py"
   ]
  },
  {
   "cell_type": "code",
   "execution_count": 3,
   "metadata": {},
   "outputs": [],
   "source": [
    "f=h5py.File(\"/data/TRISEP_data/NUPRISM.h5\",\"r\")"
   ]
  },
  {
   "cell_type": "markdown",
   "metadata": {},
   "source": [
    "`keys()` will give us all the hdf5 datasets stored in the file"
   ]
  },
  {
   "cell_type": "code",
   "execution_count": 4,
   "metadata": {},
   "outputs": [
    {
     "data": {
      "text/plain": [
       "<KeysViewHDF5 ['energies', 'event_data', 'labels']>"
      ]
     },
     "execution_count": 4,
     "metadata": {},
     "output_type": "execute_result"
    }
   ],
   "source": [
    "f.keys()"
   ]
  },
  {
   "cell_type": "markdown",
   "metadata": {},
   "source": [
    "Let's look at the shapes of the data:"
   ]
  },
  {
   "cell_type": "code",
   "execution_count": 5,
   "metadata": {},
   "outputs": [
    {
     "data": {
      "text/plain": [
       "(900000,)"
      ]
     },
     "execution_count": 5,
     "metadata": {},
     "output_type": "execute_result"
    }
   ],
   "source": [
    "f['labels'].shape"
   ]
  },
  {
   "cell_type": "code",
   "execution_count": 6,
   "metadata": {},
   "outputs": [
    {
     "data": {
      "text/plain": [
       "(900000, 16, 40, 38)"
      ]
     },
     "execution_count": 6,
     "metadata": {},
     "output_type": "execute_result"
    }
   ],
   "source": [
    "f['event_data'].shape"
   ]
  },
  {
   "cell_type": "markdown",
   "metadata": {},
   "source": [
    "We have 900k simulated scattering events here! labels are 0, 1, 2 for $\\gamma$,$e$ and $\\mu$ respectively. The 'event_data' contains only the barrel portion of the tank which has been 'unrolled'. The first dimension (900k) enumerates over the events, the second two dimensions (16,40) enumerate over the row and column in the module 'grid'. Finally last two dimensions enumerate over the PMT within the module (again there are 19 in each mPMT module) first 19 entries correspond to charge collected on a given PMT and last 19 correspond to the time.\n",
    "\n"
   ]
  },
  {
   "cell_type": "markdown",
   "metadata": {},
   "source": [
    "Note that the object returned by the subscript looks like an array - we can subscript it and even do fancy indexing:"
   ]
  },
  {
   "cell_type": "code",
   "execution_count": 7,
   "metadata": {},
   "outputs": [
    {
     "data": {
      "text/plain": [
       "array([[[[0.0000000e+00, 0.0000000e+00, 0.0000000e+00, ...,\n",
       "          0.0000000e+00, 0.0000000e+00, 0.0000000e+00],\n",
       "         [0.0000000e+00, 0.0000000e+00, 0.0000000e+00, ...,\n",
       "          0.0000000e+00, 0.0000000e+00, 0.0000000e+00],\n",
       "         [1.0128782e+00, 0.0000000e+00, 7.9039353e-01, ...,\n",
       "          0.0000000e+00, 0.0000000e+00, 0.0000000e+00],\n",
       "         ...,\n",
       "         [8.0274928e-01, 0.0000000e+00, 0.0000000e+00, ...,\n",
       "          9.8659998e+02, 0.0000000e+00, 0.0000000e+00],\n",
       "         [0.0000000e+00, 0.0000000e+00, 0.0000000e+00, ...,\n",
       "          0.0000000e+00, 0.0000000e+00, 0.0000000e+00],\n",
       "         [0.0000000e+00, 0.0000000e+00, 0.0000000e+00, ...,\n",
       "          0.0000000e+00, 9.8229999e+02, 0.0000000e+00]],\n",
       "\n",
       "        [[0.0000000e+00, 0.0000000e+00, 0.0000000e+00, ...,\n",
       "          0.0000000e+00, 1.0651000e+03, 0.0000000e+00],\n",
       "         [4.4163281e-01, 0.0000000e+00, 0.0000000e+00, ...,\n",
       "          0.0000000e+00, 0.0000000e+00, 0.0000000e+00],\n",
       "         [0.0000000e+00, 0.0000000e+00, 0.0000000e+00, ...,\n",
       "          0.0000000e+00, 0.0000000e+00, 0.0000000e+00],\n",
       "         ...,\n",
       "         [0.0000000e+00, 0.0000000e+00, 0.0000000e+00, ...,\n",
       "          0.0000000e+00, 0.0000000e+00, 0.0000000e+00],\n",
       "         [3.7118652e-01, 0.0000000e+00, 0.0000000e+00, ...,\n",
       "          9.8529999e+02, 0.0000000e+00, 0.0000000e+00],\n",
       "         [0.0000000e+00, 0.0000000e+00, 0.0000000e+00, ...,\n",
       "          0.0000000e+00, 0.0000000e+00, 9.6490002e+02]],\n",
       "\n",
       "        [[0.0000000e+00, 0.0000000e+00, 0.0000000e+00, ...,\n",
       "          9.6340002e+02, 0.0000000e+00, 9.6709998e+02],\n",
       "         [0.0000000e+00, 0.0000000e+00, 0.0000000e+00, ...,\n",
       "          0.0000000e+00, 0.0000000e+00, 9.9220001e+02],\n",
       "         [0.0000000e+00, 0.0000000e+00, 1.5310415e+00, ...,\n",
       "          0.0000000e+00, 0.0000000e+00, 0.0000000e+00],\n",
       "         ...,\n",
       "         [0.0000000e+00, 0.0000000e+00, 0.0000000e+00, ...,\n",
       "          0.0000000e+00, 0.0000000e+00, 0.0000000e+00],\n",
       "         [0.0000000e+00, 0.0000000e+00, 0.0000000e+00, ...,\n",
       "          0.0000000e+00, 0.0000000e+00, 0.0000000e+00],\n",
       "         [0.0000000e+00, 0.0000000e+00, 0.0000000e+00, ...,\n",
       "          0.0000000e+00, 0.0000000e+00, 0.0000000e+00]],\n",
       "\n",
       "        ...,\n",
       "\n",
       "        [[0.0000000e+00, 0.0000000e+00, 0.0000000e+00, ...,\n",
       "          0.0000000e+00, 0.0000000e+00, 0.0000000e+00],\n",
       "         [1.0919875e+00, 0.0000000e+00, 0.0000000e+00, ...,\n",
       "          0.0000000e+00, 0.0000000e+00, 0.0000000e+00],\n",
       "         [0.0000000e+00, 0.0000000e+00, 0.0000000e+00, ...,\n",
       "          0.0000000e+00, 0.0000000e+00, 0.0000000e+00],\n",
       "         ...,\n",
       "         [0.0000000e+00, 0.0000000e+00, 0.0000000e+00, ...,\n",
       "          0.0000000e+00, 0.0000000e+00, 0.0000000e+00],\n",
       "         [0.0000000e+00, 0.0000000e+00, 0.0000000e+00, ...,\n",
       "          0.0000000e+00, 0.0000000e+00, 0.0000000e+00],\n",
       "         [0.0000000e+00, 1.3688321e+00, 1.3129321e+00, ...,\n",
       "          0.0000000e+00, 0.0000000e+00, 0.0000000e+00]],\n",
       "\n",
       "        [[6.6636193e-01, 0.0000000e+00, 2.3644729e+00, ...,\n",
       "          0.0000000e+00, 9.9150000e+02, 9.6659998e+02],\n",
       "         [1.2039759e+00, 1.0671629e+00, 0.0000000e+00, ...,\n",
       "          0.0000000e+00, 0.0000000e+00, 0.0000000e+00],\n",
       "         [0.0000000e+00, 0.0000000e+00, 0.0000000e+00, ...,\n",
       "          0.0000000e+00, 0.0000000e+00, 0.0000000e+00],\n",
       "         ...,\n",
       "         [0.0000000e+00, 0.0000000e+00, 0.0000000e+00, ...,\n",
       "          0.0000000e+00, 0.0000000e+00, 0.0000000e+00],\n",
       "         [0.0000000e+00, 0.0000000e+00, 0.0000000e+00, ...,\n",
       "          0.0000000e+00, 0.0000000e+00, 0.0000000e+00],\n",
       "         [0.0000000e+00, 0.0000000e+00, 0.0000000e+00, ...,\n",
       "          0.0000000e+00, 0.0000000e+00, 0.0000000e+00]],\n",
       "\n",
       "        [[1.1869018e+00, 0.0000000e+00, 0.0000000e+00, ...,\n",
       "          0.0000000e+00, 0.0000000e+00, 0.0000000e+00],\n",
       "         [1.4877930e+00, 0.0000000e+00, 0.0000000e+00, ...,\n",
       "          0.0000000e+00, 0.0000000e+00, 0.0000000e+00],\n",
       "         [0.0000000e+00, 0.0000000e+00, 0.0000000e+00, ...,\n",
       "          0.0000000e+00, 0.0000000e+00, 0.0000000e+00],\n",
       "         ...,\n",
       "         [0.0000000e+00, 0.0000000e+00, 0.0000000e+00, ...,\n",
       "          0.0000000e+00, 0.0000000e+00, 0.0000000e+00],\n",
       "         [0.0000000e+00, 0.0000000e+00, 1.1192518e+00, ...,\n",
       "          0.0000000e+00, 0.0000000e+00, 0.0000000e+00],\n",
       "         [4.1829556e-01, 0.0000000e+00, 0.0000000e+00, ...,\n",
       "          0.0000000e+00, 0.0000000e+00, 0.0000000e+00]]],\n",
       "\n",
       "\n",
       "       [[[0.0000000e+00, 0.0000000e+00, 0.0000000e+00, ...,\n",
       "          0.0000000e+00, 0.0000000e+00, 0.0000000e+00],\n",
       "         [0.0000000e+00, 0.0000000e+00, 0.0000000e+00, ...,\n",
       "          0.0000000e+00, 0.0000000e+00, 0.0000000e+00],\n",
       "         [0.0000000e+00, 0.0000000e+00, 0.0000000e+00, ...,\n",
       "          0.0000000e+00, 0.0000000e+00, 0.0000000e+00],\n",
       "         ...,\n",
       "         [0.0000000e+00, 0.0000000e+00, 0.0000000e+00, ...,\n",
       "          0.0000000e+00, 0.0000000e+00, 0.0000000e+00],\n",
       "         [0.0000000e+00, 0.0000000e+00, 0.0000000e+00, ...,\n",
       "          0.0000000e+00, 0.0000000e+00, 0.0000000e+00],\n",
       "         [0.0000000e+00, 0.0000000e+00, 0.0000000e+00, ...,\n",
       "          0.0000000e+00, 0.0000000e+00, 0.0000000e+00]],\n",
       "\n",
       "        [[0.0000000e+00, 0.0000000e+00, 0.0000000e+00, ...,\n",
       "          0.0000000e+00, 0.0000000e+00, 0.0000000e+00],\n",
       "         [0.0000000e+00, 0.0000000e+00, 0.0000000e+00, ...,\n",
       "          0.0000000e+00, 0.0000000e+00, 0.0000000e+00],\n",
       "         [0.0000000e+00, 0.0000000e+00, 0.0000000e+00, ...,\n",
       "          0.0000000e+00, 0.0000000e+00, 0.0000000e+00],\n",
       "         ...,\n",
       "         [0.0000000e+00, 0.0000000e+00, 0.0000000e+00, ...,\n",
       "          0.0000000e+00, 0.0000000e+00, 9.5970001e+02],\n",
       "         [0.0000000e+00, 0.0000000e+00, 0.0000000e+00, ...,\n",
       "          0.0000000e+00, 0.0000000e+00, 9.5959998e+02],\n",
       "         [0.0000000e+00, 0.0000000e+00, 0.0000000e+00, ...,\n",
       "          0.0000000e+00, 0.0000000e+00, 0.0000000e+00]],\n",
       "\n",
       "        [[0.0000000e+00, 0.0000000e+00, 0.0000000e+00, ...,\n",
       "          0.0000000e+00, 0.0000000e+00, 0.0000000e+00],\n",
       "         [0.0000000e+00, 0.0000000e+00, 0.0000000e+00, ...,\n",
       "          0.0000000e+00, 0.0000000e+00, 0.0000000e+00],\n",
       "         [0.0000000e+00, 0.0000000e+00, 0.0000000e+00, ...,\n",
       "          0.0000000e+00, 0.0000000e+00, 0.0000000e+00],\n",
       "         ...,\n",
       "         [0.0000000e+00, 0.0000000e+00, 0.0000000e+00, ...,\n",
       "          0.0000000e+00, 0.0000000e+00, 0.0000000e+00],\n",
       "         [0.0000000e+00, 0.0000000e+00, 0.0000000e+00, ...,\n",
       "          0.0000000e+00, 0.0000000e+00, 0.0000000e+00],\n",
       "         [0.0000000e+00, 0.0000000e+00, 0.0000000e+00, ...,\n",
       "          0.0000000e+00, 0.0000000e+00, 0.0000000e+00]],\n",
       "\n",
       "        ...,\n",
       "\n",
       "        [[0.0000000e+00, 0.0000000e+00, 0.0000000e+00, ...,\n",
       "          0.0000000e+00, 0.0000000e+00, 0.0000000e+00],\n",
       "         [0.0000000e+00, 0.0000000e+00, 0.0000000e+00, ...,\n",
       "          0.0000000e+00, 0.0000000e+00, 0.0000000e+00],\n",
       "         [0.0000000e+00, 0.0000000e+00, 0.0000000e+00, ...,\n",
       "          0.0000000e+00, 0.0000000e+00, 0.0000000e+00],\n",
       "         ...,\n",
       "         [0.0000000e+00, 0.0000000e+00, 0.0000000e+00, ...,\n",
       "          0.0000000e+00, 0.0000000e+00, 0.0000000e+00],\n",
       "         [0.0000000e+00, 0.0000000e+00, 0.0000000e+00, ...,\n",
       "          0.0000000e+00, 0.0000000e+00, 0.0000000e+00],\n",
       "         [0.0000000e+00, 0.0000000e+00, 0.0000000e+00, ...,\n",
       "          0.0000000e+00, 0.0000000e+00, 0.0000000e+00]],\n",
       "\n",
       "        [[0.0000000e+00, 0.0000000e+00, 0.0000000e+00, ...,\n",
       "          0.0000000e+00, 0.0000000e+00, 0.0000000e+00],\n",
       "         [0.0000000e+00, 0.0000000e+00, 0.0000000e+00, ...,\n",
       "          0.0000000e+00, 0.0000000e+00, 0.0000000e+00],\n",
       "         [0.0000000e+00, 0.0000000e+00, 0.0000000e+00, ...,\n",
       "          0.0000000e+00, 0.0000000e+00, 0.0000000e+00],\n",
       "         ...,\n",
       "         [0.0000000e+00, 0.0000000e+00, 0.0000000e+00, ...,\n",
       "          0.0000000e+00, 0.0000000e+00, 0.0000000e+00],\n",
       "         [0.0000000e+00, 0.0000000e+00, 0.0000000e+00, ...,\n",
       "          0.0000000e+00, 0.0000000e+00, 0.0000000e+00],\n",
       "         [0.0000000e+00, 0.0000000e+00, 0.0000000e+00, ...,\n",
       "          0.0000000e+00, 0.0000000e+00, 0.0000000e+00]],\n",
       "\n",
       "        [[0.0000000e+00, 0.0000000e+00, 0.0000000e+00, ...,\n",
       "          0.0000000e+00, 0.0000000e+00, 0.0000000e+00],\n",
       "         [0.0000000e+00, 0.0000000e+00, 0.0000000e+00, ...,\n",
       "          0.0000000e+00, 0.0000000e+00, 0.0000000e+00],\n",
       "         [0.0000000e+00, 0.0000000e+00, 0.0000000e+00, ...,\n",
       "          0.0000000e+00, 0.0000000e+00, 0.0000000e+00],\n",
       "         ...,\n",
       "         [0.0000000e+00, 0.0000000e+00, 0.0000000e+00, ...,\n",
       "          0.0000000e+00, 0.0000000e+00, 0.0000000e+00],\n",
       "         [0.0000000e+00, 0.0000000e+00, 0.0000000e+00, ...,\n",
       "          0.0000000e+00, 0.0000000e+00, 0.0000000e+00],\n",
       "         [0.0000000e+00, 0.0000000e+00, 0.0000000e+00, ...,\n",
       "          0.0000000e+00, 0.0000000e+00, 0.0000000e+00]]]], dtype=float32)"
      ]
     },
     "execution_count": 7,
     "metadata": {},
     "output_type": "execute_result"
    }
   ],
   "source": [
    "f['event_data'][[42,1984],:,:,:]"
   ]
  },
  {
   "cell_type": "markdown",
   "metadata": {},
   "source": [
    " In fact the object is not a numpy array -it is a hdf5 `Dataset` object - the data itself lives on disk until we request it"
   ]
  },
  {
   "cell_type": "code",
   "execution_count": 8,
   "metadata": {},
   "outputs": [
    {
     "data": {
      "text/plain": [
       "h5py._hl.dataset.Dataset"
      ]
     },
     "execution_count": 8,
     "metadata": {},
     "output_type": "execute_result"
    }
   ],
   "source": [
    "type(f['event_data'])"
   ]
  },
  {
   "cell_type": "markdown",
   "metadata": {},
   "source": [
    "The size of the dataset will make it difficult to load all at once into memory on many systems"
   ]
  },
  {
   "cell_type": "code",
   "execution_count": 9,
   "metadata": {},
   "outputs": [
    {
     "name": "stdout",
     "output_type": "stream",
     "text": [
      "Size of the bulk of the data is 81.5 GB\n"
     ]
    }
   ],
   "source": [
    "print(\"Size of the bulk of the data is {:.1f} GB\".format( (f['event_data'].size * 4 / (1024**3)) ))"
   ]
  },
  {
   "cell_type": "markdown",
   "metadata": {},
   "source": [
    "One important feature of the dataset it is uncompressed and contiguous or 'unchunked':"
   ]
  },
  {
   "cell_type": "code",
   "execution_count": 10,
   "metadata": {},
   "outputs": [
    {
     "name": "stdout",
     "output_type": "stream",
     "text": [
      "dataset chunks: None compression: None\n"
     ]
    }
   ],
   "source": [
    "print(\"dataset chunks: {} compression: {}\".format(f['event_data'].chunks,f['event_data'].compression))"
   ]
  },
  {
   "cell_type": "markdown",
   "metadata": {},
   "source": [
    "The dataset has been prepared as contiguous and uncompressed so that we are not obliged to load it all in memory but we can access it very fast. BUT it will take more spave on disk. In the next section we will see an example of how to deal with datasets with these sizes."
   ]
  },
  {
   "cell_type": "markdown",
   "metadata": {},
   "source": [
    "## Pytorch Dataset object"
   ]
  },
  {
   "cell_type": "markdown",
   "metadata": {},
   "source": [
    "Let's import and create a Dataset object - you are welcome to look at the [source](/edit/utils/data_handling.py)"
   ]
  },
  {
   "cell_type": "markdown",
   "metadata": {},
   "source": [
    "First we need to include the sources in the python search path"
   ]
  },
  {
   "cell_type": "code",
   "execution_count": 11,
   "metadata": {},
   "outputs": [],
   "source": [
    "import os,sys\n",
    "currentdir = os.getcwd()\n",
    "parentdir = os.path.dirname(currentdir)\n",
    "sys.path.insert(0,parentdir) "
   ]
  },
  {
   "cell_type": "code",
   "execution_count": 12,
   "metadata": {},
   "outputs": [],
   "source": [
    "from utils.data_handling import WCH5Dataset"
   ]
  },
  {
   "cell_type": "markdown",
   "metadata": {},
   "source": [
    "The class derives from the torch Dataset object. The two heavy lifters are the __init__ function and __getitem__ function.\n",
    "Let's look at what init does:  \n",
    "       \n",
    "```python\n",
    "        self.f=h5py.File(path,'r')\n",
    "        hdf5_event_data = self.f[\"event_data\"]\n",
    "        hdf5_labels=self.f[\"labels\"]\n",
    "        hdf5_energies=self.f[\"energies\"]\n",
    "\n",
    "        event_data_shape = hdf5_event_data.shape\n",
    "        event_data_offset = hdf5_event_data.id.get_offset()\n",
    "        event_data_dtype = hdf5_event_data.dtype         \n",
    "```\n",
    "      \n",
    "-here we opened the file and got the offsets, shapes, and data types of the datasets. Why are we doing this? This is because the hdf5 file is uncompressed and the datasets within are contiguous - this allows us to do memory mapping of the file. This is important with large datasets like this - where we are most like not going to be able to load everything into memory. Withh memory map we can only load what we need, when we need it\n"
   ]
  },
  {
   "cell_type": "markdown",
   "metadata": {},
   "source": [
    "The memory map itself happens here:\n",
    "\n",
    "```python\n",
    "        self.event_data = np.memmap(path, mode='r', \n",
    "                                    shape=event_data_shape, \n",
    "                                    offset=event_data_offset, \n",
    "                                    dtype=event_data_dtype) \n",
    "```\n",
    "We will just load the labels and energies into memory - this is only several MB\n",
    "```python\n",
    "        self.labels = np.array(hdf5_labels)\n",
    "        self.energies = np.array(hdf5_energies)\n",
    "```"
   ]
  },
  {
   "cell_type": "markdown",
   "metadata": {},
   "source": [
    "The rest of __init__ function computes indices for training, validation and testing sets, based on a random (but consistent) shuffle of events - this will be useful later when trainnig our model. We also provide a facility to only use a subset of the dataset. Why may we want to access the records in the file in randomized order. This really depends on how the dataset was created - for instance here we just concatenated a bunch of simulation files in order - so the examples are in blocks:"
   ]
  },
  {
   "cell_type": "code",
   "execution_count": 13,
   "metadata": {},
   "outputs": [
    {
     "data": {
      "text/plain": [
       "array([0, 0, 0, 0, 0, 0, 0, 0, 0, 0, 0, 0, 0, 0, 0, 0, 0, 0, 0, 0, 0, 0,\n",
       "       0, 0, 0, 0, 0, 0, 0, 0, 0, 0, 0, 0, 0, 0, 0, 0, 0, 0, 0, 0, 0, 0,\n",
       "       0, 0, 0, 0, 0, 0, 0, 0, 0, 0, 0, 0, 0, 0, 0, 0, 0, 0, 0, 0, 0, 0,\n",
       "       0, 0, 0, 0, 0, 0, 0, 0, 0, 0, 0, 0, 0, 0, 0, 0, 0, 0, 0, 0, 0, 0,\n",
       "       0, 0, 0, 0, 0, 0, 0, 0, 0, 0, 0, 0, 0, 0, 0, 0, 0, 0, 0, 0, 0, 0,\n",
       "       0, 0, 0, 0, 0, 0, 0, 0, 0, 0, 0, 0, 0, 0, 0, 0, 0, 0, 0, 0, 0, 0,\n",
       "       0, 0, 0, 0, 0, 0, 0, 0, 0, 0, 0, 0, 0, 0, 0, 0, 0, 0, 0, 0, 0, 0,\n",
       "       0, 0, 0, 0, 0, 0, 0, 0, 0, 0, 0, 0, 0, 0, 0, 0, 0, 0, 0, 0, 0, 0,\n",
       "       0, 0, 0, 0, 0, 0, 0, 0, 0, 0, 0, 0, 0, 0, 0, 0, 0, 0, 0, 0, 0, 0,\n",
       "       0, 0, 0, 0, 0, 0, 0, 0, 0, 0, 0, 0, 0, 0, 0, 0, 0, 0, 0, 0, 0, 0,\n",
       "       0, 0, 0, 0, 0, 0, 0, 0, 0, 0, 0, 0, 0, 0, 0, 0, 0, 0, 0, 0, 0, 0,\n",
       "       0, 0, 0, 0, 0, 0, 0, 0, 0, 0, 0, 0, 0, 0, 0, 0, 0, 0, 0, 0, 0, 0,\n",
       "       0, 0, 0, 0, 0, 0, 0, 0, 0, 0, 0, 0, 0, 0, 0, 0, 0, 0, 0, 0, 0, 0,\n",
       "       0, 0, 0, 0, 0, 0, 0, 0, 0, 0, 0, 0, 0, 0, 1, 1, 1, 1, 1, 1, 1, 1,\n",
       "       1, 1, 1, 1, 1, 1, 1, 1, 1, 1, 1, 1, 1, 1, 1, 1, 1, 1, 1, 1, 1, 1,\n",
       "       1, 1, 1, 1, 1, 1, 1, 1, 1, 1, 1, 1, 1, 1, 1, 1, 1, 1, 1, 1, 1, 1,\n",
       "       1, 1, 1, 1, 1, 1, 1, 1, 1, 1, 1, 1, 1, 1, 1, 1, 1, 1, 1, 1, 1, 1,\n",
       "       1, 1, 1, 1, 1, 1, 1, 1, 1, 1, 1, 1, 1, 1, 1, 1, 1, 1, 1, 1, 1, 1,\n",
       "       1, 1, 1, 1, 1, 1, 1, 1, 1, 1, 1, 1, 1, 1, 1, 1, 1, 1, 1, 1, 1, 1,\n",
       "       1, 1, 1, 1, 1, 1, 1, 1, 1, 1, 1, 1, 1, 1, 1, 1, 1, 1, 1, 1, 1, 1,\n",
       "       1, 1, 1, 1, 1, 1, 1, 1, 1, 1, 1, 1, 1, 1, 1, 1, 1, 1, 1, 1, 1, 1,\n",
       "       1, 1, 1, 1, 1, 1, 1, 1, 1, 1, 1, 1, 1, 1, 1, 1, 1, 1, 1, 1, 1, 1,\n",
       "       1, 1, 1, 1, 1, 1, 1, 1, 1, 1, 1, 1, 1, 1, 1, 1, 1, 1, 1, 1, 1, 1,\n",
       "       1, 1, 1, 1, 1, 1, 1, 1, 1, 1, 1, 1, 1, 1, 1, 1, 1, 1, 1, 1, 1, 1,\n",
       "       1, 1, 1, 1, 1, 1, 1, 1, 1, 1, 1, 1, 1, 1, 1, 1, 1, 1, 1, 1, 1, 1,\n",
       "       1, 1, 1, 1, 1, 1, 1, 1, 1, 1, 1, 1, 1, 1, 1, 1, 1, 1, 1, 1, 1, 1,\n",
       "       1, 1, 1, 1, 1, 1, 1, 1, 1, 1, 1, 1, 1, 1, 1, 1, 1, 1, 1, 1, 1, 1,\n",
       "       1, 1, 1, 1, 1, 1, 2, 2, 2, 2, 2, 2, 2, 2, 2, 2, 2, 2, 2, 2, 2, 2,\n",
       "       2, 2, 2, 2, 2, 2, 2, 2, 2, 2, 2, 2, 2, 2, 2, 2, 2, 2, 2, 2, 2, 2,\n",
       "       2, 2, 2, 2, 2, 2, 2, 2, 2, 2, 2, 2, 2, 2, 2, 2, 2, 2, 2, 2, 2, 2,\n",
       "       2, 2, 2, 2, 2, 2, 2, 2, 2, 2, 2, 2, 2, 2, 2, 2, 2, 2, 2, 2, 2, 2,\n",
       "       2, 2, 2, 2, 2, 2, 2, 2, 2, 2, 2, 2, 2, 2, 2, 2, 2, 2, 2, 2, 2, 2,\n",
       "       2, 2, 2, 2, 2, 2, 2, 2, 2, 2, 2, 2, 2, 2, 2, 2, 2, 2, 2, 2, 2, 2,\n",
       "       2, 2, 2, 2, 2, 2, 2, 2, 2, 2, 2, 2, 2, 2, 2, 2, 2, 2, 2, 2, 2, 2,\n",
       "       2, 2, 2, 2, 2, 2, 2, 2, 2, 2, 2, 2, 2, 2, 2, 2, 2, 2, 2, 2, 2, 2,\n",
       "       2, 2, 2, 2, 2, 2, 2, 2, 2, 2, 2, 2, 2, 2, 2, 2, 2, 2, 2, 2, 2, 2,\n",
       "       2, 2, 2, 2, 2, 2, 2, 2, 2, 2, 2, 2, 2, 2, 2, 2, 2, 2, 2, 2, 2, 2,\n",
       "       2, 2, 2, 2, 2, 2, 2, 2, 2, 2, 2, 2, 2, 2, 2, 2, 2, 2, 2, 2, 2, 2,\n",
       "       2, 2, 2, 2, 2, 2, 2, 2, 2, 2, 2, 2, 2, 2, 2, 2, 2, 2, 2, 2, 2, 2,\n",
       "       2, 2, 2, 2, 2, 2, 2, 2, 2, 2, 2, 2, 2, 2, 2, 2, 2, 2, 2, 2, 2, 2,\n",
       "       2, 2, 2, 2, 2, 2, 2, 2, 2, 2, 2, 2, 2, 2, 2, 2, 2, 2, 2, 2])"
      ]
     },
     "execution_count": 13,
     "metadata": {},
     "output_type": "execute_result"
    }
   ],
   "source": [
    "f['labels'][0::1000]"
   ]
  },
  {
   "cell_type": "markdown",
   "metadata": {},
   "source": [
    "We will definitelly want to avoid showing the model only photons then only electrons and then only muons - hence the index \n",
    "shuffling:\n",
    "```python\n",
    "    np.random.shuffle(indices)\n",
    "\n",
    "    self.train_indices = indices[:-n_val-n_test]\n",
    "    self.val_indices = indices[-n_test-n_val:-n_test]\n",
    "    self.test_indices = indices[-n_test:]\n",
    "````"
   ]
  },
  {
   "cell_type": "markdown",
   "metadata": {},
   "source": [
    "Finally we have the __getitem__ method - this provides functionality for the subscript [] operator. Only here we actually load the event_data that was requested:  \n",
    "```python\n",
    "        return np.array(self.event_data[index,:]),  self.labels[index], self.energies[index][0]       \n",
    "```\n",
    "-we return a tuple with three elements - first is the event 'image', second is the label, and third is the 'true' energy of the generated particle. If you look at the code you will notice that there is also a provision for providing a transform. This is very useful if you want to do data augmentation on-the-fly. E.g. we could flip the images to 'populate' the dataset to reflect the variability we expect in the dataset we will want to apply the model. We could also use it to pre-process the data on-the fly as well.\n"
   ]
  },
  {
   "cell_type": "markdown",
   "metadata": {},
   "source": [
    "finally we need the len method - this just needs to return how many exmples we have in the dataset"
   ]
  },
  {
   "cell_type": "markdown",
   "metadata": {},
   "source": [
    "Ok let's instantiate the dataset and ask it for a few examples:"
   ]
  },
  {
   "cell_type": "code",
   "execution_count": 14,
   "metadata": {},
   "outputs": [],
   "source": [
    "dset=WCH5Dataset(\"/data/TRISEP_data/NUPRISM.h5\",val_split=0.1,test_split=0.1)"
   ]
  },
  {
   "cell_type": "code",
   "execution_count": 15,
   "metadata": {},
   "outputs": [
    {
     "data": {
      "text/plain": [
       "900000"
      ]
     },
     "execution_count": 15,
     "metadata": {},
     "output_type": "execute_result"
    }
   ],
   "source": [
    "len(dset)"
   ]
  },
  {
   "cell_type": "markdown",
   "metadata": {},
   "source": [
    "Let's import matplotlib and tell it to plot inline in the jupyter notebook"
   ]
  },
  {
   "cell_type": "code",
   "execution_count": 16,
   "metadata": {},
   "outputs": [],
   "source": [
    "import matplotlib.pyplot as plt\n",
    "%matplotlib inline"
   ]
  },
  {
   "cell_type": "markdown",
   "metadata": {},
   "source": [
    "Let's get some random event and label from the training dataset:"
   ]
  },
  {
   "cell_type": "code",
   "execution_count": 20,
   "metadata": {},
   "outputs": [],
   "source": [
    "event, label, energy=dset[dset.train_indices[1984]]"
   ]
  },
  {
   "cell_type": "code",
   "execution_count": 21,
   "metadata": {},
   "outputs": [
    {
     "name": "stdout",
     "output_type": "stream",
     "text": [
      "Label 0 and energy: 483.4703063964844 (MeV) \n"
     ]
    }
   ],
   "source": [
    "print(\"Label {} and energy: {} (MeV) \".format(label,energy))"
   ]
  },
  {
   "cell_type": "code",
   "execution_count": 24,
   "metadata": {},
   "outputs": [
    {
     "data": {
      "text/plain": [
       "'/data/TRISEP_data/NUPRISM.h5'"
      ]
     },
     "execution_count": 24,
     "metadata": {},
     "output_type": "execute_result"
    }
   ],
   "source": [
    "f.filename"
   ]
  },
  {
   "cell_type": "markdown",
   "metadata": {},
   "source": [
    "We are going to plot only the PMT charge for the 'center' PMT in mPMT modules - i believe this is at channel 18"
   ]
  },
  {
   "cell_type": "code",
   "execution_count": 28,
   "metadata": {},
   "outputs": [
    {
     "name": "stdout",
     "output_type": "stream",
     "text": [
      "class is 0\n"
     ]
    },
    {
     "data": {
      "image/png": "[encoded data removed]",
      "text/plain": [
       "<Figure size 1152x576 with 1 Axes>"
      ]
     },
     "metadata": {},
     "output_type": "display_data"
    }
   ],
   "source": [
    "fig, ax = plt.subplots(figsize=(16,8),facecolor='w')\n",
    "plt.imshow(event[:,:,18],cmap='jet',origin='lower')\n",
    "ax.set_title('Event Data, center PMT',fontsize=20,fontweight='bold')\n",
    "print('class is {}'.format(label))\n",
    "plt.show()"
   ]
  },
  {
   "cell_type": "markdown",
   "metadata": {},
   "source": [
    "We can also display the sum charge in the PMT"
   ]
  },
  {
   "cell_type": "code",
   "execution_count": 29,
   "metadata": {
    "scrolled": true
   },
   "outputs": [
    {
     "name": "stdout",
     "output_type": "stream",
     "text": [
      "class is 0\n"
     ]
    },
    {
     "data": {
      "image/png": "[encoded data removed]",
      "text/plain": [
       "<Figure size 1152x576 with 1 Axes>"
      ]
     },
     "metadata": {},
     "output_type": "display_data"
    }
   ],
   "source": [
    "fig, ax = plt.subplots(figsize=(16,8),facecolor='w')\n",
    "plt.imshow(np.sum(event[:,:,0:18],axis=-1),cmap='jet',origin='lower')\n",
    "ax.set_title('Event Data, charge sum in mPMT',fontsize=20,fontweight='bold')\n",
    "print('class is {}'.format(label))\n",
    "plt.show()"
   ]
  },
  {
   "cell_type": "markdown",
   "metadata": {},
   "source": [
    "## DataLoader objects and streaming the data"
   ]
  },
  {
   "cell_type": "markdown",
   "metadata": {},
   "source": [
    "Now lets actually create DataLoader objects - one for each training, validation and testing set - but each DataLoader uses the same dataset -that way we keep only one open file (this is the 'standard' pytorch way)"
   ]
  },
  {
   "cell_type": "code",
   "execution_count": 15,
   "metadata": {},
   "outputs": [],
   "source": [
    "from torch.utils.data import DataLoader\n",
    "from torch.utils.data.sampler import SubsetRandomSampler\n",
    "train_iter=DataLoader(dset,batch_size=64,shuffle=False,sampler=SubsetRandomSampler(dset.train_indices),num_workers=4)\n",
    "val_iter=DataLoader(dset,batch_size=64,shuffle=False,sampler=SubsetRandomSampler(dset.val_indices),num_workers=4)\n",
    "test_iter=DataLoader(dset,batch_size=64,shuffle=False,sampler=SubsetRandomSampler(dset.test_indices),num_workers=4)"
   ]
  },
  {
   "cell_type": "markdown",
   "metadata": {},
   "source": [
    "You see the parameters - like batch_size and sampler - the sampler uses the indices we computed for the training, validation and testing set - if you use a sampler shuffle has to be False. On each iteration the DataLoader object will ask the dataset for a bunch of indices (calling the __getitem__ function we coded earlier) and then collate the data into a batch tensor. The collating can also be customized by providing collate_fn - but for now we will leave it with a default behavior. Did you notice the `num_workers` argument? if >0 this will enable multiprocessing - several processes will be reading examples (if supplied applying the augmentation transformation) and putting the data on queue that would be than 'consumed' by your training/evaluation process. We requested 4 CPUs for the job so we will use that. We are beating on the same storage with all threads - so if we aren't doing much preprocessing it doesn't make sense to make this too high..."
   ]
  },
  {
   "cell_type": "markdown",
   "metadata": {},
   "source": [
    "Here is how you would iterate over several batches:"
   ]
  },
  {
   "cell_type": "code",
   "execution_count": 16,
   "metadata": {},
   "outputs": [],
   "source": [
    "def loop_over_set(loader,loop_limit=3):\n",
    "\n",
    "    # Let's measure time that takes in each loop\n",
    "    trecord = np.zeros([loop_limit],dtype=np.float32)\n",
    "    t = time.time()\n",
    "    for iteration, batch in enumerate(loader):\n",
    "\n",
    "        data,label = batch\n",
    "\n",
    "        # Print out some content info\n",
    "        print('Iteration',iteration,'... time:',time.time()-t,'[s]')\n",
    "        print('    Labels:',label)\n",
    "\n",
    "        trecord[iteration] = time.time() - t\n",
    "        t = time.time()\n",
    "\n",
    "        # break when reaching the loop limit\n",
    "        if (iteration+1) == loop_limit:\n",
    "            break\n",
    "    return trecord"
   ]
  },
  {
   "cell_type": "markdown",
   "metadata": {},
   "source": [
    "Convince yourself that the `data` and `label` are already tensors - which we could plug into our (future) model. Now let's iterate over first 40 batches"
   ]
  },
  {
   "cell_type": "code",
   "execution_count": 17,
   "metadata": {},
   "outputs": [
    {
     "name": "stdout",
     "output_type": "stream",
     "text": [
      "Iteration 0 ... time: 32.570629358291626 [s]\n",
      "    Labels: tensor([0., 2., 0., 2., 1., 2., 0., 0., 2., 0., 2., 1., 1., 0., 2., 2., 1., 0.,\n",
      "        1., 0., 1., 2., 1., 0., 1., 0., 2., 1., 1., 0., 0., 2., 0., 1., 1., 2.,\n",
      "        2., 0., 0., 0., 2., 2., 2., 2., 0., 2., 0., 0., 2., 2., 2., 1., 0., 0.,\n",
      "        0., 1., 0., 0., 1., 0., 1., 2., 1., 0.])\n",
      "Iteration 1 ... time: 2.3585901260375977 [s]\n",
      "    Labels: tensor([0., 2., 2., 1., 2., 2., 2., 0., 2., 2., 0., 1., 1., 0., 0., 1., 0., 1.,\n",
      "        2., 2., 1., 0., 2., 1., 1., 2., 2., 1., 0., 0., 0., 1., 0., 0., 0., 2.,\n",
      "        0., 0., 1., 1., 1., 2., 1., 1., 1., 0., 1., 2., 1., 0., 2., 2., 0., 0.,\n",
      "        2., 0., 2., 0., 1., 0., 1., 2., 0., 1.])\n",
      "Iteration 2 ... time: 0.002050638198852539 [s]\n",
      "    Labels: tensor([0., 1., 2., 2., 0., 1., 0., 0., 1., 1., 0., 1., 0., 1., 1., 1., 0., 1.,\n",
      "        0., 1., 2., 1., 2., 2., 2., 1., 1., 0., 1., 2., 0., 1., 1., 0., 1., 2.,\n",
      "        0., 2., 0., 0., 2., 0., 1., 0., 2., 2., 2., 1., 0., 0., 0., 2., 1., 0.,\n",
      "        1., 0., 0., 2., 0., 0., 0., 0., 0., 0.])\n",
      "Iteration 3 ... time: 0.0019123554229736328 [s]\n",
      "    Labels: tensor([1., 0., 1., 1., 1., 0., 1., 0., 0., 1., 2., 2., 1., 2., 2., 1., 2., 2.,\n",
      "        1., 0., 0., 2., 2., 0., 1., 0., 0., 2., 0., 2., 1., 1., 0., 0., 1., 0.,\n",
      "        2., 0., 1., 1., 1., 0., 2., 0., 1., 0., 0., 1., 0., 1., 0., 2., 0., 1.,\n",
      "        1., 0., 0., 1., 2., 1., 0., 1., 2., 2.])\n",
      "Iteration 4 ... time: 20.503448963165283 [s]\n",
      "    Labels: tensor([2., 0., 0., 2., 0., 1., 1., 2., 2., 2., 2., 1., 2., 1., 1., 2., 0., 2.,\n",
      "        0., 1., 1., 0., 2., 0., 1., 0., 1., 1., 0., 0., 2., 0., 0., 2., 2., 0.,\n",
      "        1., 2., 2., 1., 0., 2., 2., 1., 2., 0., 1., 1., 2., 1., 0., 0., 0., 0.,\n",
      "        1., 2., 1., 0., 2., 1., 2., 2., 1., 1.])\n",
      "Iteration 5 ... time: 0.7916288375854492 [s]\n",
      "    Labels: tensor([2., 0., 2., 1., 0., 1., 1., 0., 1., 1., 2., 2., 0., 1., 1., 2., 2., 2.,\n",
      "        2., 1., 0., 2., 2., 1., 2., 1., 2., 0., 0., 1., 1., 1., 0., 2., 1., 2.,\n",
      "        0., 0., 0., 2., 2., 2., 1., 2., 0., 0., 1., 0., 1., 0., 2., 2., 0., 2.,\n",
      "        1., 2., 0., 1., 2., 2., 0., 2., 0., 0.])\n",
      "Iteration 6 ... time: 0.0018990039825439453 [s]\n",
      "    Labels: tensor([1., 1., 0., 0., 2., 2., 2., 1., 2., 2., 2., 0., 1., 2., 2., 0., 1., 0.,\n",
      "        2., 0., 1., 0., 2., 2., 0., 2., 0., 0., 2., 1., 1., 1., 2., 0., 0., 1.,\n",
      "        0., 0., 0., 2., 2., 0., 1., 1., 2., 2., 2., 0., 0., 0., 2., 0., 2., 1.,\n",
      "        0., 0., 0., 2., 1., 0., 0., 0., 0., 0.])\n",
      "Iteration 7 ... time: 0.0018854141235351562 [s]\n",
      "    Labels: tensor([1., 0., 2., 1., 0., 1., 2., 0., 1., 1., 2., 2., 2., 2., 2., 0., 1., 0.,\n",
      "        1., 1., 2., 0., 2., 1., 2., 1., 0., 1., 1., 2., 0., 1., 2., 2., 0., 2.,\n",
      "        1., 1., 0., 2., 1., 2., 1., 1., 1., 2., 2., 0., 1., 0., 1., 0., 2., 0.,\n",
      "        0., 1., 1., 1., 2., 1., 0., 0., 0., 0.])\n",
      "Iteration 8 ... time: 25.043397665023804 [s]\n",
      "    Labels: tensor([2., 1., 2., 0., 1., 1., 1., 2., 0., 1., 0., 1., 1., 2., 2., 0., 2., 0.,\n",
      "        0., 0., 2., 0., 1., 0., 0., 2., 1., 0., 2., 2., 1., 2., 1., 2., 1., 2.,\n",
      "        0., 0., 0., 2., 2., 2., 2., 0., 2., 0., 2., 1., 1., 0., 0., 0., 1., 0.,\n",
      "        0., 0., 1., 1., 1., 2., 1., 0., 0., 2.])\n",
      "Iteration 9 ... time: 0.0020456314086914062 [s]\n",
      "    Labels: tensor([2., 0., 0., 0., 1., 0., 1., 1., 1., 1., 0., 0., 1., 0., 0., 0., 0., 0.,\n",
      "        1., 1., 2., 2., 1., 1., 0., 2., 1., 2., 2., 2., 0., 0., 0., 0., 1., 2.,\n",
      "        1., 2., 2., 1., 1., 2., 1., 1., 0., 1., 2., 2., 0., 1., 0., 2., 1., 0.,\n",
      "        0., 0., 1., 0., 2., 2., 1., 1., 2., 2.])\n",
      "Iteration 10 ... time: 0.0019102096557617188 [s]\n",
      "    Labels: tensor([2., 2., 1., 2., 2., 2., 0., 2., 2., 2., 0., 2., 2., 2., 1., 2., 2., 1.,\n",
      "        2., 1., 1., 1., 2., 1., 2., 2., 2., 2., 2., 0., 2., 1., 0., 0., 1., 0.,\n",
      "        2., 0., 0., 2., 1., 2., 0., 1., 0., 2., 2., 0., 0., 0., 1., 2., 2., 1.,\n",
      "        2., 2., 0., 2., 0., 1., 0., 0., 0., 2.])\n",
      "Iteration 11 ... time: 0.0018177032470703125 [s]\n",
      "    Labels: tensor([0., 1., 0., 2., 0., 0., 2., 1., 0., 2., 2., 0., 0., 1., 2., 0., 1., 2.,\n",
      "        1., 2., 1., 2., 2., 0., 1., 1., 2., 0., 2., 2., 2., 2., 2., 1., 1., 1.,\n",
      "        0., 1., 1., 2., 1., 1., 0., 0., 0., 1., 0., 0., 2., 0., 1., 0., 0., 2.,\n",
      "        1., 0., 2., 2., 0., 0., 1., 1., 0., 1.])\n"
     ]
    },
    {
     "ename": "KeyboardInterrupt",
     "evalue": "",
     "output_type": "error",
     "traceback": [
      "\u001b[0;31m---------------------------------------------------------------------------\u001b[0m",
      "\u001b[0;31mKeyboardInterrupt\u001b[0m                         Traceback (most recent call last)",
      "\u001b[0;32m<ipython-input-17-ecc93cf70987>\u001b[0m in \u001b[0;36m<module>\u001b[0;34m\u001b[0m\n\u001b[0;32m----> 1\u001b[0;31m \u001b[0mloop_over_set\u001b[0m\u001b[0;34m(\u001b[0m\u001b[0mtrain_iter\u001b[0m\u001b[0;34m,\u001b[0m \u001b[0;36m40\u001b[0m\u001b[0;34m)\u001b[0m\u001b[0;34m\u001b[0m\u001b[0;34m\u001b[0m\u001b[0m\n\u001b[0m",
      "\u001b[0;32m<ipython-input-16-ac91a9992a3f>\u001b[0m in \u001b[0;36mloop_over_set\u001b[0;34m(loader, loop_limit)\u001b[0m\n\u001b[1;32m      4\u001b[0m     \u001b[0mtrecord\u001b[0m \u001b[0;34m=\u001b[0m \u001b[0mnp\u001b[0m\u001b[0;34m.\u001b[0m\u001b[0mzeros\u001b[0m\u001b[0;34m(\u001b[0m\u001b[0;34m[\u001b[0m\u001b[0mloop_limit\u001b[0m\u001b[0;34m]\u001b[0m\u001b[0;34m,\u001b[0m\u001b[0mdtype\u001b[0m\u001b[0;34m=\u001b[0m\u001b[0mnp\u001b[0m\u001b[0;34m.\u001b[0m\u001b[0mfloat32\u001b[0m\u001b[0;34m)\u001b[0m\u001b[0;34m\u001b[0m\u001b[0;34m\u001b[0m\u001b[0m\n\u001b[1;32m      5\u001b[0m     \u001b[0mt\u001b[0m \u001b[0;34m=\u001b[0m \u001b[0mtime\u001b[0m\u001b[0;34m.\u001b[0m\u001b[0mtime\u001b[0m\u001b[0;34m(\u001b[0m\u001b[0;34m)\u001b[0m\u001b[0;34m\u001b[0m\u001b[0;34m\u001b[0m\u001b[0m\n\u001b[0;32m----> 6\u001b[0;31m     \u001b[0;32mfor\u001b[0m \u001b[0miteration\u001b[0m\u001b[0;34m,\u001b[0m \u001b[0mbatch\u001b[0m \u001b[0;32min\u001b[0m \u001b[0menumerate\u001b[0m\u001b[0;34m(\u001b[0m\u001b[0mloader\u001b[0m\u001b[0;34m)\u001b[0m\u001b[0;34m:\u001b[0m\u001b[0;34m\u001b[0m\u001b[0;34m\u001b[0m\u001b[0m\n\u001b[0m\u001b[1;32m      7\u001b[0m \u001b[0;34m\u001b[0m\u001b[0m\n\u001b[1;32m      8\u001b[0m         \u001b[0mdata\u001b[0m\u001b[0;34m,\u001b[0m\u001b[0mlabel\u001b[0m \u001b[0;34m=\u001b[0m \u001b[0mbatch\u001b[0m\u001b[0;34m\u001b[0m\u001b[0;34m\u001b[0m\u001b[0m\n",
      "\u001b[0;32m/opt/conda/lib/python3.6/site-packages/torch/utils/data/dataloader.py\u001b[0m in \u001b[0;36m__next__\u001b[0;34m(self)\u001b[0m\n\u001b[1;32m    543\u001b[0m         \u001b[0;32mwhile\u001b[0m \u001b[0;32mTrue\u001b[0m\u001b[0;34m:\u001b[0m\u001b[0;34m\u001b[0m\u001b[0;34m\u001b[0m\u001b[0m\n\u001b[1;32m    544\u001b[0m             \u001b[0;32massert\u001b[0m \u001b[0;34m(\u001b[0m\u001b[0;32mnot\u001b[0m \u001b[0mself\u001b[0m\u001b[0;34m.\u001b[0m\u001b[0mshutdown\u001b[0m \u001b[0;32mand\u001b[0m \u001b[0mself\u001b[0m\u001b[0;34m.\u001b[0m\u001b[0mbatches_outstanding\u001b[0m \u001b[0;34m>\u001b[0m \u001b[0;36m0\u001b[0m\u001b[0;34m)\u001b[0m\u001b[0;34m\u001b[0m\u001b[0;34m\u001b[0m\u001b[0m\n\u001b[0;32m--> 545\u001b[0;31m             \u001b[0midx\u001b[0m\u001b[0;34m,\u001b[0m \u001b[0mbatch\u001b[0m \u001b[0;34m=\u001b[0m \u001b[0mself\u001b[0m\u001b[0;34m.\u001b[0m\u001b[0m_get_batch\u001b[0m\u001b[0;34m(\u001b[0m\u001b[0;34m)\u001b[0m\u001b[0;34m\u001b[0m\u001b[0;34m\u001b[0m\u001b[0m\n\u001b[0m\u001b[1;32m    546\u001b[0m             \u001b[0mself\u001b[0m\u001b[0;34m.\u001b[0m\u001b[0mbatches_outstanding\u001b[0m \u001b[0;34m-=\u001b[0m \u001b[0;36m1\u001b[0m\u001b[0;34m\u001b[0m\u001b[0;34m\u001b[0m\u001b[0m\n\u001b[1;32m    547\u001b[0m             \u001b[0;32mif\u001b[0m \u001b[0midx\u001b[0m \u001b[0;34m!=\u001b[0m \u001b[0mself\u001b[0m\u001b[0;34m.\u001b[0m\u001b[0mrcvd_idx\u001b[0m\u001b[0;34m:\u001b[0m\u001b[0;34m\u001b[0m\u001b[0;34m\u001b[0m\u001b[0m\n",
      "\u001b[0;32m/opt/conda/lib/python3.6/site-packages/torch/utils/data/dataloader.py\u001b[0m in \u001b[0;36m_get_batch\u001b[0;34m(self)\u001b[0m\n\u001b[1;32m    520\u001b[0m         \u001b[0;32melse\u001b[0m\u001b[0;34m:\u001b[0m\u001b[0;34m\u001b[0m\u001b[0;34m\u001b[0m\u001b[0m\n\u001b[1;32m    521\u001b[0m             \u001b[0;32mwhile\u001b[0m \u001b[0;32mTrue\u001b[0m\u001b[0;34m:\u001b[0m\u001b[0;34m\u001b[0m\u001b[0;34m\u001b[0m\u001b[0m\n\u001b[0;32m--> 522\u001b[0;31m                 \u001b[0msuccess\u001b[0m\u001b[0;34m,\u001b[0m \u001b[0mdata\u001b[0m \u001b[0;34m=\u001b[0m \u001b[0mself\u001b[0m\u001b[0;34m.\u001b[0m\u001b[0m_try_get_batch\u001b[0m\u001b[0;34m(\u001b[0m\u001b[0;34m)\u001b[0m\u001b[0;34m\u001b[0m\u001b[0;34m\u001b[0m\u001b[0m\n\u001b[0m\u001b[1;32m    523\u001b[0m                 \u001b[0;32mif\u001b[0m \u001b[0msuccess\u001b[0m\u001b[0;34m:\u001b[0m\u001b[0;34m\u001b[0m\u001b[0;34m\u001b[0m\u001b[0m\n\u001b[1;32m    524\u001b[0m                     \u001b[0;32mreturn\u001b[0m \u001b[0mdata\u001b[0m\u001b[0;34m\u001b[0m\u001b[0;34m\u001b[0m\u001b[0m\n",
      "\u001b[0;32m/opt/conda/lib/python3.6/site-packages/torch/utils/data/dataloader.py\u001b[0m in \u001b[0;36m_try_get_batch\u001b[0;34m(self, timeout)\u001b[0m\n\u001b[1;32m    478\u001b[0m         \u001b[0;31m#   (bool: whether successfully get data, any: data if successful else None)\u001b[0m\u001b[0;34m\u001b[0m\u001b[0;34m\u001b[0m\u001b[0;34m\u001b[0m\u001b[0m\n\u001b[1;32m    479\u001b[0m         \u001b[0;32mtry\u001b[0m\u001b[0;34m:\u001b[0m\u001b[0;34m\u001b[0m\u001b[0;34m\u001b[0m\u001b[0m\n\u001b[0;32m--> 480\u001b[0;31m             \u001b[0mdata\u001b[0m \u001b[0;34m=\u001b[0m \u001b[0mself\u001b[0m\u001b[0;34m.\u001b[0m\u001b[0mdata_queue\u001b[0m\u001b[0;34m.\u001b[0m\u001b[0mget\u001b[0m\u001b[0;34m(\u001b[0m\u001b[0mtimeout\u001b[0m\u001b[0;34m=\u001b[0m\u001b[0mtimeout\u001b[0m\u001b[0;34m)\u001b[0m\u001b[0;34m\u001b[0m\u001b[0;34m\u001b[0m\u001b[0m\n\u001b[0m\u001b[1;32m    481\u001b[0m             \u001b[0;32mreturn\u001b[0m \u001b[0;34m(\u001b[0m\u001b[0;32mTrue\u001b[0m\u001b[0;34m,\u001b[0m \u001b[0mdata\u001b[0m\u001b[0;34m)\u001b[0m\u001b[0;34m\u001b[0m\u001b[0;34m\u001b[0m\u001b[0m\n\u001b[1;32m    482\u001b[0m         \u001b[0;32mexcept\u001b[0m \u001b[0mException\u001b[0m \u001b[0;32mas\u001b[0m \u001b[0me\u001b[0m\u001b[0;34m:\u001b[0m\u001b[0;34m\u001b[0m\u001b[0;34m\u001b[0m\u001b[0m\n",
      "\u001b[0;32m/opt/conda/lib/python3.6/multiprocessing/queues.py\u001b[0m in \u001b[0;36mget\u001b[0;34m(self, block, timeout)\u001b[0m\n\u001b[1;32m    102\u001b[0m                 \u001b[0;32mif\u001b[0m \u001b[0mblock\u001b[0m\u001b[0;34m:\u001b[0m\u001b[0;34m\u001b[0m\u001b[0;34m\u001b[0m\u001b[0m\n\u001b[1;32m    103\u001b[0m                     \u001b[0mtimeout\u001b[0m \u001b[0;34m=\u001b[0m \u001b[0mdeadline\u001b[0m \u001b[0;34m-\u001b[0m \u001b[0mtime\u001b[0m\u001b[0;34m.\u001b[0m\u001b[0mmonotonic\u001b[0m\u001b[0;34m(\u001b[0m\u001b[0;34m)\u001b[0m\u001b[0;34m\u001b[0m\u001b[0;34m\u001b[0m\u001b[0m\n\u001b[0;32m--> 104\u001b[0;31m                     \u001b[0;32mif\u001b[0m \u001b[0;32mnot\u001b[0m \u001b[0mself\u001b[0m\u001b[0;34m.\u001b[0m\u001b[0m_poll\u001b[0m\u001b[0;34m(\u001b[0m\u001b[0mtimeout\u001b[0m\u001b[0;34m)\u001b[0m\u001b[0;34m:\u001b[0m\u001b[0;34m\u001b[0m\u001b[0;34m\u001b[0m\u001b[0m\n\u001b[0m\u001b[1;32m    105\u001b[0m                         \u001b[0;32mraise\u001b[0m \u001b[0mEmpty\u001b[0m\u001b[0;34m\u001b[0m\u001b[0;34m\u001b[0m\u001b[0m\n\u001b[1;32m    106\u001b[0m                 \u001b[0;32melif\u001b[0m \u001b[0;32mnot\u001b[0m \u001b[0mself\u001b[0m\u001b[0;34m.\u001b[0m\u001b[0m_poll\u001b[0m\u001b[0;34m(\u001b[0m\u001b[0;34m)\u001b[0m\u001b[0;34m:\u001b[0m\u001b[0;34m\u001b[0m\u001b[0;34m\u001b[0m\u001b[0m\n",
      "\u001b[0;32m/opt/conda/lib/python3.6/multiprocessing/connection.py\u001b[0m in \u001b[0;36mpoll\u001b[0;34m(self, timeout)\u001b[0m\n\u001b[1;32m    255\u001b[0m         \u001b[0mself\u001b[0m\u001b[0;34m.\u001b[0m\u001b[0m_check_closed\u001b[0m\u001b[0;34m(\u001b[0m\u001b[0;34m)\u001b[0m\u001b[0;34m\u001b[0m\u001b[0;34m\u001b[0m\u001b[0m\n\u001b[1;32m    256\u001b[0m         \u001b[0mself\u001b[0m\u001b[0;34m.\u001b[0m\u001b[0m_check_readable\u001b[0m\u001b[0;34m(\u001b[0m\u001b[0;34m)\u001b[0m\u001b[0;34m\u001b[0m\u001b[0;34m\u001b[0m\u001b[0m\n\u001b[0;32m--> 257\u001b[0;31m         \u001b[0;32mreturn\u001b[0m \u001b[0mself\u001b[0m\u001b[0;34m.\u001b[0m\u001b[0m_poll\u001b[0m\u001b[0;34m(\u001b[0m\u001b[0mtimeout\u001b[0m\u001b[0;34m)\u001b[0m\u001b[0;34m\u001b[0m\u001b[0;34m\u001b[0m\u001b[0m\n\u001b[0m\u001b[1;32m    258\u001b[0m \u001b[0;34m\u001b[0m\u001b[0m\n\u001b[1;32m    259\u001b[0m     \u001b[0;32mdef\u001b[0m \u001b[0m__enter__\u001b[0m\u001b[0;34m(\u001b[0m\u001b[0mself\u001b[0m\u001b[0;34m)\u001b[0m\u001b[0;34m:\u001b[0m\u001b[0;34m\u001b[0m\u001b[0;34m\u001b[0m\u001b[0m\n",
      "\u001b[0;32m/opt/conda/lib/python3.6/multiprocessing/connection.py\u001b[0m in \u001b[0;36m_poll\u001b[0;34m(self, timeout)\u001b[0m\n\u001b[1;32m    412\u001b[0m \u001b[0;34m\u001b[0m\u001b[0m\n\u001b[1;32m    413\u001b[0m     \u001b[0;32mdef\u001b[0m \u001b[0m_poll\u001b[0m\u001b[0;34m(\u001b[0m\u001b[0mself\u001b[0m\u001b[0;34m,\u001b[0m \u001b[0mtimeout\u001b[0m\u001b[0;34m)\u001b[0m\u001b[0;34m:\u001b[0m\u001b[0;34m\u001b[0m\u001b[0;34m\u001b[0m\u001b[0m\n\u001b[0;32m--> 414\u001b[0;31m         \u001b[0mr\u001b[0m \u001b[0;34m=\u001b[0m \u001b[0mwait\u001b[0m\u001b[0;34m(\u001b[0m\u001b[0;34m[\u001b[0m\u001b[0mself\u001b[0m\u001b[0;34m]\u001b[0m\u001b[0;34m,\u001b[0m \u001b[0mtimeout\u001b[0m\u001b[0;34m)\u001b[0m\u001b[0;34m\u001b[0m\u001b[0;34m\u001b[0m\u001b[0m\n\u001b[0m\u001b[1;32m    415\u001b[0m         \u001b[0;32mreturn\u001b[0m \u001b[0mbool\u001b[0m\u001b[0;34m(\u001b[0m\u001b[0mr\u001b[0m\u001b[0;34m)\u001b[0m\u001b[0;34m\u001b[0m\u001b[0;34m\u001b[0m\u001b[0m\n\u001b[1;32m    416\u001b[0m \u001b[0;34m\u001b[0m\u001b[0m\n",
      "\u001b[0;32m/opt/conda/lib/python3.6/multiprocessing/connection.py\u001b[0m in \u001b[0;36mwait\u001b[0;34m(object_list, timeout)\u001b[0m\n\u001b[1;32m    909\u001b[0m \u001b[0;34m\u001b[0m\u001b[0m\n\u001b[1;32m    910\u001b[0m             \u001b[0;32mwhile\u001b[0m \u001b[0;32mTrue\u001b[0m\u001b[0;34m:\u001b[0m\u001b[0;34m\u001b[0m\u001b[0;34m\u001b[0m\u001b[0m\n\u001b[0;32m--> 911\u001b[0;31m                 \u001b[0mready\u001b[0m \u001b[0;34m=\u001b[0m \u001b[0mselector\u001b[0m\u001b[0;34m.\u001b[0m\u001b[0mselect\u001b[0m\u001b[0;34m(\u001b[0m\u001b[0mtimeout\u001b[0m\u001b[0;34m)\u001b[0m\u001b[0;34m\u001b[0m\u001b[0;34m\u001b[0m\u001b[0m\n\u001b[0m\u001b[1;32m    912\u001b[0m                 \u001b[0;32mif\u001b[0m \u001b[0mready\u001b[0m\u001b[0;34m:\u001b[0m\u001b[0;34m\u001b[0m\u001b[0;34m\u001b[0m\u001b[0m\n\u001b[1;32m    913\u001b[0m                     \u001b[0;32mreturn\u001b[0m \u001b[0;34m[\u001b[0m\u001b[0mkey\u001b[0m\u001b[0;34m.\u001b[0m\u001b[0mfileobj\u001b[0m \u001b[0;32mfor\u001b[0m \u001b[0;34m(\u001b[0m\u001b[0mkey\u001b[0m\u001b[0;34m,\u001b[0m \u001b[0mevents\u001b[0m\u001b[0;34m)\u001b[0m \u001b[0;32min\u001b[0m \u001b[0mready\u001b[0m\u001b[0;34m]\u001b[0m\u001b[0;34m\u001b[0m\u001b[0;34m\u001b[0m\u001b[0m\n",
      "\u001b[0;32m/opt/conda/lib/python3.6/selectors.py\u001b[0m in \u001b[0;36mselect\u001b[0;34m(self, timeout)\u001b[0m\n\u001b[1;32m    374\u001b[0m             \u001b[0mready\u001b[0m \u001b[0;34m=\u001b[0m \u001b[0;34m[\u001b[0m\u001b[0;34m]\u001b[0m\u001b[0;34m\u001b[0m\u001b[0;34m\u001b[0m\u001b[0m\n\u001b[1;32m    375\u001b[0m             \u001b[0;32mtry\u001b[0m\u001b[0;34m:\u001b[0m\u001b[0;34m\u001b[0m\u001b[0;34m\u001b[0m\u001b[0m\n\u001b[0;32m--> 376\u001b[0;31m                 \u001b[0mfd_event_list\u001b[0m \u001b[0;34m=\u001b[0m \u001b[0mself\u001b[0m\u001b[0;34m.\u001b[0m\u001b[0m_poll\u001b[0m\u001b[0;34m.\u001b[0m\u001b[0mpoll\u001b[0m\u001b[0;34m(\u001b[0m\u001b[0mtimeout\u001b[0m\u001b[0;34m)\u001b[0m\u001b[0;34m\u001b[0m\u001b[0;34m\u001b[0m\u001b[0m\n\u001b[0m\u001b[1;32m    377\u001b[0m             \u001b[0;32mexcept\u001b[0m \u001b[0mInterruptedError\u001b[0m\u001b[0;34m:\u001b[0m\u001b[0;34m\u001b[0m\u001b[0;34m\u001b[0m\u001b[0m\n\u001b[1;32m    378\u001b[0m                 \u001b[0;32mreturn\u001b[0m \u001b[0mready\u001b[0m\u001b[0;34m\u001b[0m\u001b[0;34m\u001b[0m\u001b[0m\n",
      "\u001b[0;31mKeyboardInterrupt\u001b[0m: "
     ]
    }
   ],
   "source": [
    "loop_over_set(train_iter, 40)"
   ]
  },
  {
   "cell_type": "markdown",
   "metadata": {},
   "source": [
    "OMG that was slow... and we aren't even oing anything with the data- do you notice that roughly every 4th iteration the time it takes to give a batch is huge? Why?"
   ]
  },
  {
   "cell_type": "markdown",
   "metadata": {},
   "source": [
    "The batch manager (`SLURM` on Compute Canada) gives us a location of fast storage we are supposed to use for accessing repeatedly a dataset with low latency. Any system ought to have a local fast scratch for purposes like this. Different batch managers may or may not give you a specific location for your data"
   ]
  },
  {
   "cell_type": "code",
   "execution_count": 18,
   "metadata": {},
   "outputs": [
    {
     "name": "stdout",
     "output_type": "stream",
     "text": [
      "/localscratch/wfedorko.22473141.0\n"
     ]
    }
   ],
   "source": [
    "print(os.environ['SLURM_TMPDIR'])"
   ]
  },
  {
   "cell_type": "markdown",
   "metadata": {},
   "source": [
    "Let's copy the dataset there and repeat the exercise"
   ]
  },
  {
   "cell_type": "code",
   "execution_count": null,
   "metadata": {},
   "outputs": [],
   "source": [
    "t=time.time()\n",
    "!cp /scratch/wfedorko/TRIUMF_DS_NUPRISM/merged_IWCDmPMT_varyE.h5 ${SLURM_TMPDIR}/ -v\n",
    "tdiff=time.time()-t\n",
    "print(\"that took {} seconds\".format(tdiff))"
   ]
  },
  {
   "cell_type": "code",
   "execution_count": 19,
   "metadata": {},
   "outputs": [],
   "source": [
    "dset=WCH5Dataset(os.environ['SLURM_TMPDIR']+\"/merged_IWCDmPMT_varyE.h5\",val_split=0.1,test_split=0.1)"
   ]
  },
  {
   "cell_type": "code",
   "execution_count": 20,
   "metadata": {},
   "outputs": [],
   "source": [
    "train_iter=DataLoader(dset,batch_size=64,shuffle=False,sampler=SubsetRandomSampler(dset.train_indices),num_workers=4)\n",
    "val_iter=DataLoader(dset,batch_size=64,shuffle=False,sampler=SubsetRandomSampler(dset.val_indices),num_workers=4)\n",
    "test_iter=DataLoader(dset,batch_size=64,shuffle=False,sampler=SubsetRandomSampler(dset.test_indices),num_workers=4)"
   ]
  },
  {
   "cell_type": "code",
   "execution_count": 21,
   "metadata": {},
   "outputs": [
    {
     "name": "stdout",
     "output_type": "stream",
     "text": [
      "Iteration 0 ... time: 0.39338254928588867 [s]\n",
      "    Labels: tensor([1., 1., 1., 2., 2., 1., 0., 1., 1., 0., 2., 0., 0., 1., 0., 0., 2., 1.,\n",
      "        0., 2., 1., 2., 0., 2., 0., 1., 0., 0., 1., 0., 0., 2., 0., 1., 2., 0.,\n",
      "        2., 1., 2., 0., 2., 2., 1., 0., 1., 0., 0., 0., 2., 1., 1., 1., 1., 0.,\n",
      "        1., 0., 1., 2., 2., 0., 2., 2., 0., 1.])\n",
      "Iteration 1 ... time: 0.006192922592163086 [s]\n",
      "    Labels: tensor([0., 2., 2., 2., 2., 1., 1., 1., 1., 1., 0., 2., 0., 0., 2., 1., 2., 2.,\n",
      "        1., 1., 2., 2., 0., 1., 1., 0., 2., 2., 0., 1., 0., 1., 1., 2., 1., 0.,\n",
      "        2., 0., 0., 1., 2., 2., 0., 0., 0., 0., 2., 1., 2., 2., 2., 0., 1., 1.,\n",
      "        1., 0., 0., 2., 2., 1., 2., 2., 2., 1.])\n",
      "Iteration 2 ... time: 0.0015833377838134766 [s]\n",
      "    Labels: tensor([2., 1., 0., 2., 1., 2., 1., 1., 2., 0., 2., 1., 2., 0., 1., 2., 0., 2.,\n",
      "        1., 1., 2., 1., 2., 2., 1., 1., 2., 1., 0., 2., 1., 0., 0., 2., 0., 2.,\n",
      "        0., 1., 0., 0., 1., 0., 0., 2., 2., 1., 0., 2., 2., 1., 1., 1., 0., 1.,\n",
      "        1., 0., 0., 0., 2., 1., 2., 1., 2., 2.])\n",
      "Iteration 3 ... time: 0.0015835762023925781 [s]\n",
      "    Labels: tensor([1., 2., 1., 0., 2., 1., 2., 1., 2., 2., 1., 0., 1., 2., 1., 2., 0., 1.,\n",
      "        1., 0., 2., 1., 0., 2., 2., 2., 0., 2., 2., 1., 1., 2., 0., 1., 1., 2.,\n",
      "        2., 1., 2., 1., 0., 1., 2., 0., 2., 1., 2., 1., 1., 2., 2., 1., 0., 2.,\n",
      "        2., 2., 1., 2., 1., 2., 2., 0., 0., 2.])\n",
      "Iteration 4 ... time: 0.12232828140258789 [s]\n",
      "    Labels: tensor([0., 2., 0., 1., 1., 0., 0., 0., 0., 1., 2., 1., 1., 0., 1., 2., 1., 1.,\n",
      "        2., 1., 2., 2., 0., 0., 1., 2., 2., 0., 1., 1., 2., 2., 2., 0., 1., 1.,\n",
      "        1., 0., 2., 1., 2., 1., 0., 0., 1., 0., 2., 1., 0., 1., 1., 1., 0., 0.,\n",
      "        2., 0., 1., 2., 0., 0., 0., 1., 2., 2.])\n",
      "Iteration 5 ... time: 0.0015425682067871094 [s]\n",
      "    Labels: tensor([2., 2., 2., 2., 0., 0., 1., 0., 1., 1., 2., 2., 1., 1., 1., 1., 0., 0.,\n",
      "        0., 0., 0., 0., 0., 2., 2., 2., 1., 2., 0., 1., 2., 2., 2., 2., 2., 0.,\n",
      "        1., 0., 2., 1., 1., 2., 0., 1., 0., 1., 0., 0., 0., 0., 0., 1., 1., 2.,\n",
      "        0., 2., 1., 2., 0., 0., 0., 2., 0., 1.])\n",
      "Iteration 6 ... time: 0.003675699234008789 [s]\n",
      "    Labels: tensor([1., 0., 2., 0., 1., 0., 1., 2., 1., 2., 1., 2., 0., 2., 0., 0., 1., 1.,\n",
      "        1., 2., 2., 2., 2., 0., 2., 0., 0., 2., 0., 2., 2., 0., 1., 2., 1., 1.,\n",
      "        1., 2., 1., 0., 0., 0., 1., 1., 2., 2., 0., 0., 2., 0., 0., 2., 1., 0.,\n",
      "        0., 0., 0., 1., 1., 1., 0., 1., 1., 1.])\n",
      "Iteration 7 ... time: 0.0015604496002197266 [s]\n",
      "    Labels: tensor([2., 2., 0., 0., 2., 1., 0., 1., 0., 2., 0., 1., 0., 2., 1., 1., 0., 2.,\n",
      "        1., 2., 0., 2., 2., 0., 0., 1., 0., 0., 1., 1., 0., 2., 2., 2., 1., 2.,\n",
      "        1., 0., 0., 1., 1., 0., 0., 2., 2., 1., 0., 1., 2., 2., 1., 2., 2., 1.,\n",
      "        1., 1., 2., 2., 1., 0., 2., 2., 0., 2.])\n",
      "Iteration 8 ... time: 0.11562776565551758 [s]\n",
      "    Labels: tensor([1., 0., 1., 0., 1., 2., 1., 0., 1., 2., 2., 0., 0., 0., 0., 1., 1., 0.,\n",
      "        0., 0., 1., 1., 0., 0., 0., 0., 2., 2., 1., 2., 1., 0., 1., 1., 2., 0.,\n",
      "        2., 1., 2., 1., 0., 1., 2., 2., 1., 2., 1., 1., 2., 2., 2., 2., 1., 0.,\n",
      "        2., 2., 1., 1., 1., 2., 0., 2., 1., 1.])\n",
      "Iteration 9 ... time: 0.007471799850463867 [s]\n",
      "    Labels: tensor([2., 0., 2., 2., 2., 1., 2., 0., 1., 2., 0., 1., 2., 0., 0., 2., 0., 2.,\n",
      "        0., 1., 0., 0., 1., 2., 1., 0., 2., 0., 2., 1., 2., 1., 2., 1., 1., 1.,\n",
      "        2., 0., 2., 0., 1., 1., 2., 1., 0., 1., 0., 1., 1., 1., 0., 0., 2., 0.,\n",
      "        1., 2., 2., 2., 1., 1., 2., 2., 2., 1.])\n",
      "Iteration 10 ... time: 0.004614114761352539 [s]\n",
      "    Labels: tensor([2., 2., 0., 2., 0., 2., 2., 2., 0., 2., 2., 0., 2., 1., 0., 0., 2., 0.,\n",
      "        0., 1., 2., 2., 0., 2., 2., 1., 0., 1., 2., 1., 1., 0., 0., 0., 2., 0.,\n",
      "        1., 0., 2., 2., 2., 0., 2., 1., 1., 1., 1., 2., 0., 1., 2., 0., 1., 2.,\n",
      "        1., 0., 2., 0., 2., 0., 2., 0., 1., 1.])\n",
      "Iteration 11 ... time: 0.0015728473663330078 [s]\n",
      "    Labels: tensor([0., 1., 1., 2., 1., 1., 1., 1., 1., 2., 2., 1., 2., 2., 2., 1., 1., 1.,\n",
      "        1., 0., 2., 2., 2., 0., 1., 0., 1., 2., 0., 1., 2., 0., 0., 0., 1., 0.,\n",
      "        1., 2., 0., 1., 2., 0., 1., 2., 2., 2., 0., 0., 2., 0., 2., 2., 2., 0.,\n",
      "        0., 0., 2., 0., 2., 1., 1., 1., 2., 1.])\n",
      "Iteration 12 ... time: 0.12614107131958008 [s]\n",
      "    Labels: tensor([1., 0., 1., 0., 0., 2., 0., 2., 0., 0., 2., 0., 1., 0., 0., 1., 0., 2.,\n",
      "        2., 1., 1., 0., 2., 0., 1., 1., 0., 2., 1., 1., 0., 0., 0., 2., 2., 1.,\n",
      "        0., 1., 2., 1., 1., 0., 0., 1., 0., 0., 1., 1., 2., 2., 1., 2., 2., 2.,\n",
      "        1., 2., 1., 1., 1., 2., 0., 0., 2., 1.])\n",
      "Iteration 13 ... time: 0.02040410041809082 [s]\n",
      "    Labels: tensor([2., 1., 0., 2., 1., 2., 1., 1., 1., 2., 0., 2., 1., 0., 2., 2., 1., 0.,\n",
      "        1., 1., 1., 2., 2., 2., 0., 1., 1., 2., 0., 1., 0., 2., 1., 0., 0., 1.,\n",
      "        2., 1., 0., 2., 0., 2., 2., 0., 1., 0., 0., 1., 1., 0., 0., 0., 0., 0.,\n",
      "        0., 0., 1., 2., 1., 0., 0., 0., 0., 0.])\n",
      "Iteration 14 ... time: 0.004637241363525391 [s]\n",
      "    Labels: tensor([0., 2., 1., 1., 0., 1., 0., 0., 0., 2., 0., 2., 1., 2., 0., 2., 1., 0.,\n",
      "        1., 1., 2., 1., 2., 0., 2., 1., 2., 0., 1., 2., 1., 0., 2., 1., 2., 2.,\n",
      "        1., 1., 2., 2., 0., 1., 1., 0., 2., 1., 2., 1., 0., 0., 2., 2., 2., 2.,\n",
      "        0., 1., 1., 2., 0., 2., 2., 0., 0., 2.])\n",
      "Iteration 15 ... time: 0.0015654563903808594 [s]\n",
      "    Labels: tensor([2., 0., 0., 1., 0., 1., 1., 2., 2., 1., 0., 0., 1., 2., 0., 1., 2., 2.,\n",
      "        2., 2., 2., 1., 1., 1., 1., 0., 2., 2., 1., 0., 1., 1., 1., 0., 2., 1.,\n",
      "        1., 1., 2., 0., 1., 1., 2., 2., 2., 2., 0., 1., 2., 1., 0., 1., 1., 1.,\n",
      "        1., 1., 1., 0., 1., 1., 2., 0., 2., 1.])\n",
      "Iteration 16 ... time: 0.10747361183166504 [s]\n",
      "    Labels: tensor([0., 0., 0., 0., 0., 2., 0., 1., 0., 2., 1., 0., 1., 1., 1., 0., 0., 2.,\n",
      "        1., 0., 1., 1., 0., 0., 2., 1., 1., 1., 0., 2., 1., 0., 2., 0., 1., 2.,\n",
      "        2., 2., 2., 0., 0., 0., 0., 2., 1., 1., 0., 0., 0., 0., 2., 1., 2., 1.,\n",
      "        0., 2., 2., 1., 2., 1., 2., 0., 2., 2.])\n",
      "Iteration 17 ... time: 0.026961326599121094 [s]\n",
      "    Labels: tensor([0., 2., 1., 0., 2., 2., 2., 2., 0., 0., 2., 0., 0., 1., 2., 2., 0., 2.,\n",
      "        0., 1., 1., 0., 0., 1., 2., 1., 1., 0., 0., 1., 1., 0., 2., 1., 2., 1.,\n",
      "        2., 2., 0., 2., 1., 1., 2., 1., 1., 2., 1., 1., 0., 0., 1., 2., 2., 2.,\n",
      "        1., 1., 1., 0., 1., 1., 0., 1., 1., 1.])\n",
      "Iteration 18 ... time: 0.002665281295776367 [s]\n",
      "    Labels: tensor([1., 0., 1., 0., 2., 0., 0., 2., 1., 1., 2., 2., 1., 0., 2., 2., 0., 1.,\n",
      "        2., 0., 2., 0., 1., 1., 2., 2., 0., 2., 0., 2., 0., 1., 1., 1., 0., 2.,\n",
      "        2., 0., 0., 0., 1., 0., 1., 1., 2., 2., 2., 2., 0., 2., 2., 0., 0., 1.,\n",
      "        1., 2., 2., 0., 0., 2., 0., 0., 0., 2.])\n",
      "Iteration 19 ... time: 0.0013341903686523438 [s]\n",
      "    Labels: tensor([1., 0., 0., 2., 0., 0., 2., 0., 0., 1., 1., 0., 2., 1., 1., 0., 1., 1.,\n",
      "        0., 0., 1., 2., 2., 0., 2., 2., 2., 1., 1., 2., 2., 2., 1., 0., 1., 2.,\n",
      "        1., 2., 1., 2., 0., 1., 1., 1., 2., 2., 1., 2., 2., 1., 1., 1., 1., 1.,\n",
      "        0., 2., 2., 0., 2., 0., 1., 2., 2., 2.])\n",
      "Iteration 20 ... time: 0.10456180572509766 [s]\n",
      "    Labels: tensor([2., 1., 2., 0., 1., 1., 2., 2., 0., 2., 2., 2., 1., 0., 2., 1., 0., 2.,\n",
      "        1., 1., 1., 2., 2., 0., 2., 2., 2., 1., 2., 1., 0., 0., 2., 1., 0., 1.,\n",
      "        2., 1., 0., 0., 1., 2., 1., 1., 0., 0., 2., 0., 2., 0., 2., 2., 0., 2.,\n",
      "        2., 1., 2., 2., 2., 0., 1., 2., 2., 1.])\n",
      "Iteration 21 ... time: 0.029560565948486328 [s]\n",
      "    Labels: tensor([0., 0., 1., 1., 2., 2., 0., 2., 0., 1., 1., 2., 2., 2., 2., 2., 2., 1.,\n",
      "        1., 0., 2., 1., 1., 1., 1., 2., 1., 2., 1., 0., 0., 0., 1., 1., 1., 1.,\n",
      "        0., 1., 0., 0., 0., 1., 2., 2., 1., 2., 0., 2., 1., 0., 1., 1., 0., 0.,\n",
      "        2., 0., 0., 0., 1., 2., 2., 2., 2., 0.])\n",
      "Iteration 22 ... time: 0.00418543815612793 [s]\n",
      "    Labels: tensor([1., 1., 0., 0., 1., 0., 0., 1., 1., 2., 2., 1., 1., 2., 1., 1., 2., 1.,\n",
      "        1., 2., 2., 0., 2., 0., 1., 1., 1., 1., 0., 1., 1., 2., 1., 0., 2., 1.,\n",
      "        1., 2., 2., 0., 1., 0., 0., 2., 0., 1., 0., 1., 1., 1., 0., 2., 0., 2.,\n",
      "        1., 1., 0., 1., 1., 1., 0., 0., 1., 2.])\n",
      "Iteration 23 ... time: 0.0015497207641601562 [s]\n",
      "    Labels: tensor([0., 0., 0., 0., 1., 2., 1., 1., 2., 0., 1., 2., 0., 2., 2., 2., 0., 0.,\n",
      "        1., 2., 1., 1., 0., 1., 1., 2., 2., 0., 0., 1., 1., 0., 0., 2., 1., 0.,\n",
      "        0., 0., 2., 1., 0., 0., 1., 0., 2., 1., 2., 0., 1., 0., 2., 0., 0., 0.,\n",
      "        1., 2., 1., 1., 1., 2., 0., 0., 0., 0.])\n"
     ]
    },
    {
     "name": "stdout",
     "output_type": "stream",
     "text": [
      "Iteration 24 ... time: 0.10514974594116211 [s]\n",
      "    Labels: tensor([2., 0., 0., 2., 0., 1., 2., 2., 1., 2., 0., 1., 1., 2., 0., 0., 2., 0.,\n",
      "        2., 0., 0., 0., 1., 2., 1., 2., 2., 1., 1., 1., 2., 0., 2., 1., 0., 2.,\n",
      "        1., 0., 2., 1., 1., 2., 0., 1., 2., 1., 1., 2., 0., 2., 2., 1., 2., 0.,\n",
      "        2., 1., 0., 2., 1., 1., 1., 1., 0., 0.])\n",
      "Iteration 25 ... time: 0.031655311584472656 [s]\n",
      "    Labels: tensor([2., 2., 1., 1., 2., 0., 0., 0., 0., 2., 2., 1., 2., 0., 1., 0., 2., 2.,\n",
      "        0., 0., 2., 2., 0., 2., 1., 1., 1., 2., 0., 0., 0., 2., 2., 2., 2., 2.,\n",
      "        2., 1., 0., 2., 1., 1., 0., 1., 2., 1., 0., 2., 0., 0., 2., 1., 0., 0.,\n",
      "        1., 0., 1., 2., 1., 2., 1., 2., 0., 0.])\n",
      "Iteration 26 ... time: 0.0014500617980957031 [s]\n",
      "    Labels: tensor([2., 2., 0., 2., 0., 0., 2., 2., 0., 2., 1., 2., 1., 1., 2., 2., 0., 0.,\n",
      "        0., 0., 1., 1., 1., 0., 2., 2., 2., 0., 1., 1., 0., 1., 1., 0., 1., 2.,\n",
      "        2., 2., 1., 1., 2., 1., 1., 2., 0., 0., 1., 2., 0., 0., 1., 0., 1., 2.,\n",
      "        1., 0., 0., 0., 0., 0., 1., 2., 0., 2.])\n",
      "Iteration 27 ... time: 0.0015132427215576172 [s]\n",
      "    Labels: tensor([2., 1., 1., 2., 0., 1., 2., 0., 0., 0., 1., 0., 1., 2., 2., 0., 0., 2.,\n",
      "        0., 1., 1., 0., 1., 0., 1., 0., 0., 0., 1., 0., 1., 0., 2., 2., 0., 1.,\n",
      "        2., 0., 1., 1., 2., 2., 0., 2., 2., 0., 0., 0., 0., 0., 0., 2., 2., 2.,\n",
      "        1., 1., 2., 0., 1., 0., 1., 2., 1., 2.])\n",
      "Iteration 28 ... time: 0.10300135612487793 [s]\n",
      "    Labels: tensor([2., 2., 0., 1., 2., 2., 0., 0., 2., 1., 2., 2., 0., 0., 1., 0., 0., 1.,\n",
      "        2., 0., 1., 0., 1., 2., 1., 2., 2., 2., 0., 1., 2., 1., 2., 1., 0., 1.,\n",
      "        2., 2., 1., 1., 2., 1., 1., 1., 0., 2., 1., 2., 0., 1., 2., 1., 0., 0.,\n",
      "        1., 2., 2., 0., 1., 2., 2., 1., 0., 1.])\n",
      "Iteration 29 ... time: 0.03930544853210449 [s]\n",
      "    Labels: tensor([2., 2., 2., 2., 1., 1., 0., 1., 1., 0., 1., 0., 0., 2., 0., 1., 2., 2.,\n",
      "        2., 1., 0., 0., 2., 0., 2., 0., 1., 0., 0., 2., 1., 2., 1., 0., 1., 1.,\n",
      "        0., 0., 0., 1., 0., 0., 2., 0., 2., 1., 0., 1., 2., 2., 1., 2., 2., 2.,\n",
      "        0., 0., 1., 2., 0., 0., 1., 2., 1., 1.])\n",
      "Iteration 30 ... time: 0.0014123916625976562 [s]\n",
      "    Labels: tensor([0., 0., 2., 2., 2., 2., 2., 2., 2., 0., 2., 1., 0., 0., 0., 0., 2., 0.,\n",
      "        2., 2., 2., 1., 1., 2., 0., 2., 2., 0., 0., 0., 2., 0., 0., 1., 0., 2.,\n",
      "        1., 0., 2., 1., 1., 0., 1., 0., 2., 1., 2., 1., 0., 1., 1., 2., 0., 0.,\n",
      "        0., 0., 2., 0., 0., 2., 2., 1., 0., 0.])\n",
      "Iteration 31 ... time: 0.0015625953674316406 [s]\n",
      "    Labels: tensor([0., 2., 2., 2., 0., 0., 2., 0., 0., 0., 1., 0., 1., 1., 2., 1., 0., 1.,\n",
      "        2., 2., 1., 2., 1., 2., 2., 1., 1., 0., 1., 2., 2., 1., 2., 0., 1., 1.,\n",
      "        1., 0., 0., 2., 0., 1., 1., 2., 1., 2., 1., 1., 0., 0., 1., 0., 0., 2.,\n",
      "        1., 2., 1., 2., 1., 1., 1., 0., 0., 0.])\n",
      "Iteration 32 ... time: 0.10083794593811035 [s]\n",
      "    Labels: tensor([2., 1., 0., 2., 1., 2., 1., 1., 0., 2., 2., 1., 1., 1., 1., 2., 2., 2.,\n",
      "        2., 0., 0., 0., 2., 1., 0., 1., 0., 2., 2., 1., 1., 2., 0., 2., 2., 2.,\n",
      "        1., 2., 2., 1., 2., 1., 1., 1., 1., 2., 2., 1., 1., 1., 1., 2., 2., 0.,\n",
      "        0., 0., 2., 1., 1., 0., 1., 0., 0., 2.])\n",
      "Iteration 33 ... time: 0.027446269989013672 [s]\n",
      "    Labels: tensor([2., 2., 2., 0., 0., 2., 0., 2., 0., 2., 1., 2., 0., 0., 0., 1., 1., 2.,\n",
      "        0., 0., 1., 0., 2., 0., 1., 2., 0., 1., 0., 1., 0., 2., 0., 1., 2., 0.,\n",
      "        0., 0., 0., 2., 2., 0., 0., 2., 1., 0., 2., 1., 0., 2., 2., 1., 1., 2.,\n",
      "        2., 1., 0., 1., 1., 1., 1., 0., 2., 2.])\n",
      "Iteration 34 ... time: 0.0017421245574951172 [s]\n",
      "    Labels: tensor([2., 1., 2., 2., 1., 0., 0., 1., 1., 0., 0., 2., 0., 1., 2., 1., 1., 0.,\n",
      "        2., 0., 2., 1., 1., 1., 2., 2., 2., 2., 0., 1., 1., 1., 2., 0., 2., 1.,\n",
      "        0., 0., 1., 1., 0., 2., 0., 2., 2., 0., 0., 1., 2., 0., 1., 1., 2., 2.,\n",
      "        0., 2., 2., 0., 2., 2., 0., 0., 1., 0.])\n",
      "Iteration 35 ... time: 0.0014324188232421875 [s]\n",
      "    Labels: tensor([1., 0., 1., 0., 2., 0., 1., 1., 0., 1., 0., 2., 0., 1., 0., 0., 0., 0.,\n",
      "        0., 2., 0., 0., 2., 2., 1., 0., 0., 2., 2., 2., 0., 0., 0., 1., 0., 2.,\n",
      "        0., 0., 0., 0., 2., 2., 0., 0., 1., 0., 0., 0., 0., 2., 2., 0., 0., 0.,\n",
      "        1., 1., 2., 1., 0., 0., 0., 0., 1., 2.])\n",
      "Iteration 36 ... time: 0.09908771514892578 [s]\n",
      "    Labels: tensor([1., 1., 0., 0., 0., 0., 0., 1., 1., 1., 1., 2., 1., 2., 2., 2., 1., 0.,\n",
      "        2., 2., 0., 2., 1., 1., 0., 0., 1., 0., 0., 2., 2., 2., 0., 2., 1., 0.,\n",
      "        0., 0., 0., 2., 1., 2., 1., 1., 1., 2., 0., 0., 0., 1., 2., 1., 1., 1.,\n",
      "        2., 2., 2., 2., 2., 1., 0., 2., 2., 0.])\n",
      "Iteration 37 ... time: 0.03413891792297363 [s]\n",
      "    Labels: tensor([2., 2., 2., 2., 1., 0., 1., 0., 1., 0., 0., 2., 2., 1., 0., 2., 1., 1.,\n",
      "        2., 2., 2., 0., 1., 0., 0., 2., 1., 1., 2., 0., 0., 2., 1., 1., 0., 1.,\n",
      "        2., 0., 0., 0., 1., 2., 0., 2., 0., 0., 0., 2., 2., 0., 1., 0., 2., 1.,\n",
      "        2., 0., 2., 0., 1., 0., 2., 2., 1., 1.])\n",
      "Iteration 38 ... time: 0.0014564990997314453 [s]\n",
      "    Labels: tensor([2., 2., 2., 2., 0., 0., 2., 2., 0., 0., 0., 1., 0., 1., 2., 0., 2., 0.,\n",
      "        2., 1., 2., 0., 0., 0., 2., 1., 2., 0., 1., 1., 0., 2., 2., 0., 0., 2.,\n",
      "        0., 2., 0., 1., 0., 2., 0., 2., 1., 2., 0., 1., 2., 0., 2., 0., 1., 0.,\n",
      "        1., 2., 2., 2., 0., 0., 1., 2., 1., 2.])\n",
      "Iteration 39 ... time: 0.0016117095947265625 [s]\n",
      "    Labels: tensor([1., 1., 0., 2., 1., 1., 0., 1., 2., 1., 2., 1., 1., 1., 1., 2., 1., 0.,\n",
      "        2., 0., 1., 2., 0., 1., 2., 1., 0., 1., 1., 1., 2., 2., 1., 2., 1., 1.,\n",
      "        2., 0., 2., 2., 0., 0., 1., 2., 0., 0., 2., 1., 2., 1., 0., 0., 0., 0.,\n",
      "        2., 2., 0., 0., 2., 1., 1., 1., 0., 1.])\n"
     ]
    },
    {
     "data": {
      "text/plain": [
       "array([0.3971002 , 0.00924706, 0.00454521, 0.00485611, 0.1251483 ,\n",
       "       0.00410581, 0.00636053, 0.00424099, 0.11881042, 0.0102489 ,\n",
       "       0.00733089, 0.0042491 , 0.12887645, 0.02322483, 0.00766492,\n",
       "       0.00466919, 0.11041856, 0.03000998, 0.00548697, 0.00416946,\n",
       "       0.10714102, 0.03271365, 0.00690269, 0.00406194, 0.10816264,\n",
       "       0.03446817, 0.00417995, 0.0039587 , 0.10596228, 0.04212618,\n",
       "       0.00401545, 0.00505567, 0.10406089, 0.03024292, 0.00436854,\n",
       "       0.00369549, 0.10205698, 0.03704715, 0.00408864, 0.0042901 ],\n",
       "      dtype=float32)"
      ]
     },
     "execution_count": 21,
     "metadata": {},
     "output_type": "execute_result"
    }
   ],
   "source": [
    "loop_over_set(train_iter, 40)"
   ]
  },
  {
   "cell_type": "markdown",
   "metadata": {},
   "source": [
    "Ok - way faster - even though it took a long time initially to copy the dataset - it's going to remove the bottleneck of data access during training - especially that we are going to be looping over the dataset many times"
   ]
  },
  {
   "cell_type": "markdown",
   "metadata": {},
   "source": [
    "Now try to get familiar with the data. Plot different event in different classes. Energy sums and histograms. Time histograms etc. Can you 'spot' the differences between classes 'by eye'."
   ]
  },
  {
   "cell_type": "markdown",
   "metadata": {},
   "source": [
    "## And remember to clean up!!!"
   ]
  },
  {
   "cell_type": "code",
   "execution_count": 20,
   "metadata": {},
   "outputs": [
    {
     "name": "stdout",
     "output_type": "stream",
     "text": [
      "removed '/localscratch/wfedorko.22473141.0/merged_IWCDmPMT_varyE.h5'\r\n"
     ]
    }
   ],
   "source": [
    "!rm -v ${SLURM_TMPDIR}/*"
   ]
  },
  {
   "cell_type": "code",
   "execution_count": null,
   "metadata": {},
   "outputs": [],
   "source": []
  }
 ],
 "metadata": {
  "kernelspec": {
   "display_name": "Python 3",
   "language": "python",
   "name": "python3"
  },
  "language_info": {
   "codemirror_mode": {
    "name": "ipython",
    "version": 3
   },
   "file_extension": ".py",
   "mimetype": "text/x-python",
   "name": "python",
   "nbconvert_exporter": "python",
   "pygments_lexer": "ipython3",
   "version": "3.6.8"
  }
 },
 "nbformat": 4,
 "nbformat_minor": 2
}
